{
 "cells": [
  {
   "cell_type": "code",
   "execution_count": 1,
   "metadata": {},
   "outputs": [
    {
     "data": {
      "text/html": [
       "Current session configs: <tt>{'conf': {'spark.app.name': 'dslab-group_final'}, 'kind': 'pyspark'}</tt><br>"
      ],
      "text/plain": [
       "<IPython.core.display.HTML object>"
      ]
     },
     "metadata": {},
     "output_type": "display_data"
    },
    {
     "data": {
      "text/html": [
       "<table>\n",
       "<tr><th>ID</th><th>YARN Application ID</th><th>Kind</th><th>State</th><th>Spark UI</th><th>Driver log</th><th>Current session?</th></tr><tr><td>4762</td><td>application_1587988164357_1397</td><td>pyspark</td><td>idle</td><td><a target=\"_blank\" href=\"http://iccluster044.iccluster.epfl.ch:8088/proxy/application_1587988164357_1397/\">Link</a></td><td><a target=\"_blank\" href=\"http://iccluster072.iccluster.epfl.ch:8042/node/containerlogs/container_e05_1587988164357_1397_01_000001/ebouille\">Link</a></td><td></td></tr><tr><td>4763</td><td>application_1587988164357_1398</td><td>pyspark</td><td>idle</td><td><a target=\"_blank\" href=\"http://iccluster044.iccluster.epfl.ch:8088/proxy/application_1587988164357_1398/\">Link</a></td><td><a target=\"_blank\" href=\"http://iccluster067.iccluster.epfl.ch:8042/node/containerlogs/container_e05_1587988164357_1398_01_000001/ebouille\">Link</a></td><td></td></tr><tr><td>4765</td><td>application_1587988164357_1400</td><td>pyspark</td><td>idle</td><td><a target=\"_blank\" href=\"http://iccluster044.iccluster.epfl.ch:8088/proxy/application_1587988164357_1400/\">Link</a></td><td><a target=\"_blank\" href=\"http://iccluster069.iccluster.epfl.ch:8042/node/containerlogs/container_e05_1587988164357_1400_01_000001/ebouille\">Link</a></td><td></td></tr><tr><td>4766</td><td>application_1587988164357_1401</td><td>pyspark</td><td>idle</td><td><a target=\"_blank\" href=\"http://iccluster044.iccluster.epfl.ch:8088/proxy/application_1587988164357_1401/\">Link</a></td><td><a target=\"_blank\" href=\"http://iccluster070.iccluster.epfl.ch:8042/node/containerlogs/container_e05_1587988164357_1401_01_000001/ebouille\">Link</a></td><td></td></tr><tr><td>4767</td><td>application_1587988164357_1402</td><td>pyspark</td><td>idle</td><td><a target=\"_blank\" href=\"http://iccluster044.iccluster.epfl.ch:8088/proxy/application_1587988164357_1402/\">Link</a></td><td><a target=\"_blank\" href=\"http://iccluster067.iccluster.epfl.ch:8042/node/containerlogs/container_e05_1587988164357_1402_01_000001/ebouille\">Link</a></td><td></td></tr><tr><td>4769</td><td>application_1587988164357_1404</td><td>pyspark</td><td>idle</td><td><a target=\"_blank\" href=\"http://iccluster044.iccluster.epfl.ch:8088/proxy/application_1587988164357_1404/\">Link</a></td><td><a target=\"_blank\" href=\"http://iccluster068.iccluster.epfl.ch:8042/node/containerlogs/container_e05_1587988164357_1404_01_000001/ebouille\">Link</a></td><td></td></tr><tr><td>4771</td><td>application_1587988164357_1406</td><td>pyspark</td><td>idle</td><td><a target=\"_blank\" href=\"http://iccluster044.iccluster.epfl.ch:8088/proxy/application_1587988164357_1406/\">Link</a></td><td><a target=\"_blank\" href=\"http://iccluster067.iccluster.epfl.ch:8042/node/containerlogs/container_e05_1587988164357_1406_01_000001/ebouille\">Link</a></td><td></td></tr><tr><td>4773</td><td>application_1587988164357_1408</td><td>pyspark</td><td>busy</td><td><a target=\"_blank\" href=\"http://iccluster044.iccluster.epfl.ch:8088/proxy/application_1587988164357_1408/\">Link</a></td><td><a target=\"_blank\" href=\"http://iccluster066.iccluster.epfl.ch:8042/node/containerlogs/container_e05_1587988164357_1408_01_000001/ebouille\">Link</a></td><td></td></tr><tr><td>4775</td><td>application_1587988164357_1410</td><td>pyspark</td><td>idle</td><td><a target=\"_blank\" href=\"http://iccluster044.iccluster.epfl.ch:8088/proxy/application_1587988164357_1410/\">Link</a></td><td><a target=\"_blank\" href=\"http://iccluster068.iccluster.epfl.ch:8042/node/containerlogs/container_e05_1587988164357_1410_01_000001/ebouille\">Link</a></td><td></td></tr><tr><td>4776</td><td>application_1587988164357_1411</td><td>pyspark</td><td>busy</td><td><a target=\"_blank\" href=\"http://iccluster044.iccluster.epfl.ch:8088/proxy/application_1587988164357_1411/\">Link</a></td><td><a target=\"_blank\" href=\"http://iccluster066.iccluster.epfl.ch:8042/node/containerlogs/container_e05_1587988164357_1411_01_000001/ebouille\">Link</a></td><td></td></tr><tr><td>4777</td><td>application_1587988164357_1412</td><td>pyspark</td><td>starting</td><td></td><td></td><td></td></tr></table>"
      ],
      "text/plain": [
       "<IPython.core.display.HTML object>"
      ]
     },
     "metadata": {},
     "output_type": "display_data"
    }
   ],
   "source": [
    "%%configure\n",
    "{\"conf\": {\n",
    "    \"spark.app.name\": \"dslab-group_final\"\n",
    "}}"
   ]
  },
  {
   "cell_type": "code",
   "execution_count": 2,
   "metadata": {},
   "outputs": [
    {
     "name": "stdout",
     "output_type": "stream",
     "text": [
      "Starting Spark application\n"
     ]
    },
    {
     "data": {
      "text/html": [
       "<table>\n",
       "<tr><th>ID</th><th>YARN Application ID</th><th>Kind</th><th>State</th><th>Spark UI</th><th>Driver log</th><th>Current session?</th></tr><tr><td>4778</td><td>application_1587988164357_1413</td><td>pyspark</td><td>idle</td><td><a target=\"_blank\" href=\"http://iccluster044.iccluster.epfl.ch:8088/proxy/application_1587988164357_1413/\">Link</a></td><td><a target=\"_blank\" href=\"http://iccluster067.iccluster.epfl.ch:8042/node/containerlogs/container_e05_1587988164357_1413_01_000001/ebouille\">Link</a></td><td>✔</td></tr></table>"
      ],
      "text/plain": [
       "<IPython.core.display.HTML object>"
      ]
     },
     "metadata": {},
     "output_type": "display_data"
    },
    {
     "data": {
      "application/vnd.jupyter.widget-view+json": {
       "model_id": "e64dac077d8b41c7b3772ddb4b6f998f",
       "version_major": 2,
       "version_minor": 0
      },
      "text/plain": [
       "FloatProgress(value=0.0, bar_style='info', description='Progress:', layout=Layout(height='25px', width='50%'),…"
      ]
     },
     "metadata": {},
     "output_type": "display_data"
    },
    {
     "name": "stdout",
     "output_type": "stream",
     "text": [
      "SparkSession available as 'spark'.\n"
     ]
    },
    {
     "data": {
      "application/vnd.jupyter.widget-view+json": {
       "model_id": "3cd531e8bcfb48c69dac75ba37a8cf2a",
       "version_major": 2,
       "version_minor": 0
      },
      "text/plain": [
       "FloatProgress(value=0.0, bar_style='info', description='Progress:', layout=Layout(height='25px', width='50%'),…"
      ]
     },
     "metadata": {},
     "output_type": "display_data"
    }
   ],
   "source": [
    "\n",
    "import networkx as nx\n",
    "from geopy.distance import distance as geo_distance\n",
    "from pyspark.sql import Row\n",
    "from pyspark.sql.functions import *\n",
    "from pyspark.sql.types import FloatType"
   ]
  },
  {
   "cell_type": "code",
   "execution_count": null,
   "metadata": {},
   "outputs": [],
   "source": [
    "days_dict = {0: 'monday', 1: 'tuesday', 2: 'wednesday', 3: 'thursday', 4: 'friday'}\n",
    "\n",
    "def day_trips(*day_ids):\n",
    "    days = [days_dict[day_id] for day_id in day_ids]\n",
    "    where_clause = \" and \".join(days)\n",
    "\n",
    "    day_services = calendar.where(where_clause).select('service_id')\n",
    "    day_services.show()\n",
    "    print(day_services.count())\n",
    "    day_services.join(trips, on='service_id').show()\n",
    "    return day_services.join(trips, on='service_id').select('trip_id')\n",
    "\n",
    "# Example for stop_times filtered on wednesday\n",
    "trips_wed = day_trips(2)\n",
    "trips_wed.show()"
   ]
  },
  {
   "cell_type": "code",
   "execution_count": null,
   "metadata": {},
   "outputs": [],
   "source": [
    "stop_times_wed = trips_wed.join(stop_times, on='trip_id')\n",
    "print('Full stop times have', stop_times.count(), 'entries, filtered has', stop_times_wed.count())"
   ]
  },
  {
   "cell_type": "code",
   "execution_count": 3,
   "metadata": {},
   "outputs": [
    {
     "data": {
      "application/vnd.jupyter.widget-view+json": {
       "model_id": "",
       "version_major": 2,
       "version_minor": 0
      },
      "text/plain": [
       "FloatProgress(value=0.0, bar_style='info', description='Progress:', layout=Layout(height='25px', width='50%'),…"
      ]
     },
     "metadata": {},
     "output_type": "display_data"
    }
   ],
   "source": [
    "# Loading data, these are snapshots of the all available data\n",
    "# Calendar and trips are useful to filter the other dataframe according to the day\n",
    "stop_times = spark.read.format('orc').load('/data/sbb/timetables/orc/stop_times/000000_0')\n",
    "stops = spark.read.format('orc').load('/data/sbb/timetables/orc/stops/000000_0')\n",
    "trips = spark.read.format('orc').load('/data/sbb/timetables/orc/trips/000000_0')\n",
    "calendar = spark.read.format('orc').load('/data/sbb/timetables/orc/calendar/000000_0')"
   ]
  },
  {
   "cell_type": "code",
   "execution_count": 5,
   "metadata": {},
   "outputs": [
    {
     "data": {
      "application/vnd.jupyter.widget-view+json": {
       "model_id": "",
       "version_major": 2,
       "version_minor": 0
      },
      "text/plain": [
       "FloatProgress(value=0.0, bar_style='info', description='Progress:', layout=Layout(height='25px', width='50%'),…"
      ]
     },
     "metadata": {},
     "output_type": "display_data"
    },
    {
     "name": "stdout",
     "output_type": "stream",
     "text": [
      "+--------------------+------------+--------------+-----------+-------------+-----------+-------------+\n",
      "|             trip_id|arrival_time|departure_time|    stop_id|stop_sequence|pickup_type|drop_off_type|\n",
      "+--------------------+------------+--------------+-----------+-------------+-----------+-------------+\n",
      "|1.TA.1-1-B-j19-1.1.R|    04:20:00|      04:20:00|8500010:0:3|            1|          0|            0|\n",
      "|1.TA.1-1-B-j19-1.1.R|    04:24:00|      04:24:00|8500020:0:3|            2|          0|            0|\n",
      "|1.TA.1-1-B-j19-1.1.R|    04:28:00|      04:28:00|8500021:0:5|            3|          0|            0|\n",
      "|1.TA.1-1-B-j19-1.1.R|    04:30:00|      04:30:00|8517131:0:2|            4|          0|            0|\n",
      "|1.TA.1-1-B-j19-1.1.R|    04:32:00|      04:32:00|8500300:0:5|            5|          0|            0|\n",
      "|1.TA.1-1-B-j19-1.1.R|    04:35:00|      04:35:00|8500313:0:2|            6|          0|            0|\n",
      "|1.TA.1-1-B-j19-1.1.R|    04:37:00|      04:38:00|8500301:0:3|            7|          0|            0|\n",
      "|1.TA.1-1-B-j19-1.1.R|    04:40:00|      04:41:00|8500302:0:3|            8|          0|            0|\n",
      "|1.TA.1-1-B-j19-1.1.R|    04:45:00|      04:45:00|8500303:0:2|            9|          0|            0|\n",
      "|1.TA.1-1-B-j19-1.1.R|    04:48:00|      04:49:00|8500320:0:3|           10|          0|            0|\n",
      "|1.TA.1-1-B-j19-1.1.R|    04:52:00|      04:52:00|8500304:0:2|           11|          0|            0|\n",
      "|1.TA.1-1-B-j19-1.1.R|    04:56:00|      04:56:00|8500305:0:1|           12|          0|            0|\n",
      "|25.TA.1-1-B-j19-1...|    05:50:00|      05:50:00|8500010:0:3|            1|          0|            0|\n",
      "|25.TA.1-1-B-j19-1...|    05:54:00|      05:54:00|8500020:0:3|            2|          0|            0|\n",
      "|25.TA.1-1-B-j19-1...|    05:58:00|      05:58:00|8500021:0:5|            3|          0|            0|\n",
      "|25.TA.1-1-B-j19-1...|    06:00:00|      06:00:00|8517131:0:2|            4|          0|            0|\n",
      "|25.TA.1-1-B-j19-1...|    06:02:00|      06:02:00|8500300:0:5|            5|          0|            0|\n",
      "|25.TA.1-1-B-j19-1...|    06:05:00|      06:05:00|8500313:0:2|            6|          0|            0|\n",
      "|25.TA.1-1-B-j19-1...|    06:07:00|      06:08:00|8500301:0:3|            7|          0|            0|\n",
      "|25.TA.1-1-B-j19-1...|    06:10:00|      06:11:00|8500302:0:3|            8|          0|            0|\n",
      "+--------------------+------------+--------------+-----------+-------------+-----------+-------------+\n",
      "only showing top 20 rows"
     ]
    }
   ],
   "source": [
    "stop_times.show(3)\n",
    "stops.show(3)\n",
    "trips.show(3)\n",
    "calendar.show(3)"
   ]
  },
  {
   "cell_type": "code",
   "execution_count": 5,
   "metadata": {},
   "outputs": [
    {
     "data": {
      "application/vnd.jupyter.widget-view+json": {
       "model_id": "",
       "version_major": 2,
       "version_minor": 0
      },
      "text/plain": [
       "FloatProgress(value=0.0, bar_style='info', description='Progress:', layout=Layout(height='25px', width='50%'),…"
      ]
     },
     "metadata": {},
     "output_type": "display_data"
    },
    {
     "name": "stdout",
     "output_type": "stream",
     "text": [
      "('Number of stations around Zurich:', 1880)\n",
      "+-----------+------------------+--------------------+----------------+----------------+-------------+--------------+\n",
      "|    stop_id|   zurich_distance|           stop_name|        stop_lat|        stop_lon|location_type|parent_station|\n",
      "+-----------+------------------+--------------------+----------------+----------------+-------------+--------------+\n",
      "|    8500926|11.510766966884365|Oetwil a.d.L., Sc...|47.4236270123012| 8.4031825286317|         null|          null|\n",
      "|    8502186|10.798985488832079|Dietikon Stoffelbach|47.3934058321612|8.39894248049007|         null|      8502186P|\n",
      "|8502186:0:1|10.800041577194426|Dietikon Stoffelbach|47.3934666445388|8.39894248049007|         null|      8502186P|\n",
      "|8502186:0:2|10.801101793198619|Dietikon Stoffelbach|47.3935274568464|8.39894248049007|         null|      8502186P|\n",
      "|   8502186P|10.798985488832079|Dietikon Stoffelbach|47.3934058321612|8.39894248049007|            1|          null|\n",
      "|    8502187|12.409213630136994|Rudolfstetten Hof...|47.3646945560768|8.37709545277724|         null|      8502187P|\n",
      "|8502187:0:1|12.408391334825147|Rudolfstetten Hof...|47.3647554015789|8.37709545277724|         null|      8502187P|\n",
      "|8502187:0:2|12.407572674086833|Rudolfstetten Hof...|47.3648162470108|8.37709545277724|         null|      8502187P|\n",
      "|   8502187P|12.409213630136994|Rudolfstetten Hof...|47.3646945560768|8.37709545277724|            1|          null|\n",
      "|    8502188|14.227431292063317|   Zufikon Hammergut|47.3558347019549|8.35472740219955|         null|      8502188P|\n",
      "|8502188:0:1|14.226243718914208|   Zufikon Hammergut|47.3558955576756|8.35472740219955|         null|      8502188P|\n",
      "|8502188:0:2| 14.22505926595959|   Zufikon Hammergut|47.3559564133261|8.35472740219955|         null|      8502188P|\n",
      "|   8502188P|14.227431292063317|   Zufikon Hammergut|47.3558347019549|8.35472740219955|            1|          null|\n",
      "|    8502208|13.797193968894737|     Horgen Oberdorf|47.2587475534877|8.58979854578067|         null|      8502208P|\n",
      "|8502208:0:2|13.777624555384257|     Horgen Oberdorf|47.2589304560815|8.58979854578067|         null|      8502208P|\n",
      "|8502208:0:3|13.790670577681448|     Horgen Oberdorf|47.2588085210892|8.58979854578067|         null|      8502208P|\n",
      "|8502208:0:4|13.784147439735152|     Horgen Oberdorf|47.2588694886204|8.58979854578067|         null|      8502208P|\n",
      "|   8502208P|13.797193968894737|     Horgen Oberdorf|47.2587475534877|8.58979854578067|            1|          null|\n",
      "|    8502209|11.628857061881249|     Oberrieden Dorf|47.2767238569466|  8.577635356832|         null|      8502209P|\n",
      "|8502209:0:1| 11.61571253543463|     Oberrieden Dorf|47.2768457506749|  8.577635356832|         null|      8502209P|\n",
      "+-----------+------------------+--------------------+----------------+----------------+-------------+--------------+\n",
      "only showing top 20 rows"
     ]
    }
   ],
   "source": [
    "zurich_pos = stops.where(column('stop_id')=='8503000').select('stop_lat', 'stop_lon').collect()\n",
    "zurich_pos = (zurich_pos[0][0], zurich_pos[0][1])\n",
    "\n",
    "def zurich_distance(x, y):\n",
    "    return geo_distance(zurich_pos, (x,y)).km\n",
    "\n",
    "stops_distance = stops.rdd.map(lambda x: (x['stop_id'], zurich_distance(x['stop_lat'], x['stop_lon'])))\n",
    "stops_distance = spark.createDataFrame(stops_distance.map(lambda r: Row(stop_id=r[0], zurich_distance=r[1])))\n",
    "stops_distance = stops_distance.filter(column('zurich_distance') <= 15)\n",
    "stops_zurich = stops_distance.join(stops, on='stop_id')\n",
    "print('Number of stations around Zurich:', stops_zurich.count())\n",
    "stops_zurich.show()"
   ]
  },
  {
   "cell_type": "code",
   "execution_count": 6,
   "metadata": {},
   "outputs": [
    {
     "data": {
      "application/vnd.jupyter.widget-view+json": {
       "model_id": "",
       "version_major": 2,
       "version_minor": 0
      },
      "text/plain": [
       "FloatProgress(value=0.0, bar_style='info', description='Progress:', layout=Layout(height='25px', width='50%'),…"
      ]
     },
     "metadata": {},
     "output_type": "display_data"
    },
    {
     "name": "stdout",
     "output_type": "stream",
     "text": [
      "(u'8503000', {'lat': 47.3781762039461, 'lon': 8.54019357578468, 'name': 'Z\\xc3\\xbcrich HB'})"
     ]
    }
   ],
   "source": [
    "for r in stops_zurich.collect():\n",
    "    if r['stop_id'] == '8503000':\n",
    "        print((r['stop_id'], {'name': r['stop_name'].encode('utf-8'), 'lat': r['stop_lat'], 'lon': r['stop_lon']}))\n",
    "        break"
   ]
  },
  {
   "cell_type": "code",
   "execution_count": 7,
   "metadata": {},
   "outputs": [
    {
     "data": {
      "application/vnd.jupyter.widget-view+json": {
       "model_id": "",
       "version_major": 2,
       "version_minor": 0
      },
      "text/plain": [
       "FloatProgress(value=0.0, bar_style='info', description='Progress:', layout=Layout(height='25px', width='50%'),…"
      ]
     },
     "metadata": {},
     "output_type": "display_data"
    }
   ],
   "source": [
    "graph = nx.MultiDiGraph()\n",
    "nodes = stops_zurich.rdd.map(lambda r: (r[0], {'name': r['stop_name'],\n",
    "                                              'lat': r['stop_lat'],\n",
    "                                              'lon': r['stop_lon']})).collect()\n",
    "graph.add_nodes_from(nodes)"
   ]
  },
  {
   "cell_type": "code",
   "execution_count": 8,
   "metadata": {},
   "outputs": [
    {
     "data": {
      "application/vnd.jupyter.widget-view+json": {
       "model_id": "b7956fbe098b4195bfead07f676b1422",
       "version_major": 2,
       "version_minor": 0
      },
      "text/plain": [
       "FloatProgress(value=0.0, bar_style='info', description='Progress:', layout=Layout(height='25px', width='50%'),…"
      ]
     },
     "metadata": {},
     "output_type": "display_data"
    },
    {
     "name": "stderr",
     "output_type": "stream",
     "text": [
      "An error was encountered:\n",
      "Invalid status code '400' from http://iccluster044.iccluster.epfl.ch:8998/sessions/4566/statements/7 with error payload: \"requirement failed: Session isn't active.\"\n"
     ]
    }
   ],
   "source": [
    "@udf\n",
    "def convertToMinute(s):\n",
    "    h, m, _ = s.split(':')\n",
    "    h,m = int(h), int(m)\n",
    "    \n",
    "    return h*60+m\n",
    "\n",
    "# Need to have one day only or filter on days (trip_id unique in a day)\n",
    "nodes_list = list(graph.nodes())\n",
    "stop_times_zurich = stop_times.filter(column('stop_id').isin(nodes_list))\n",
    "stop_times_zurich = stop_times_zurich.filter(column('stop_id').isin(list(graph.nodes())))\n",
    "stop_times_zurich = stop_times_zurich.withColumn('arrival_minute', convertToMinute(column('arrival_time')))\n",
    "stop_times_zurich = stop_times_zurich.withColumn('departure_minute', convertToMinute(column('departure_time')))\n",
    "stop_times_zurich_2 = (stop_times_zurich.withColumn('stop_sequence_prev', column('stop_sequence')-1)\n",
    "                .select('trip_id',\n",
    "                        column('stop_id').alias('next_stop'),\n",
    "                        column('stop_sequence_prev').alias('stop_sequence'),\n",
    "                        column('arrival_minute').alias('next_arrival_minute')))\n",
    "edges_df = stop_times_zurich.join(stop_times_zurich_2, on=['trip_id', 'stop_sequence']).orderBy('trip_id', 'stop_sequence')\n",
    "edges_df = edges_df.withColumn('trip_duration', column('next_arrival_minute')-column('departure_minute'))\n",
    "edges_df = edges_df.select('stop_id', 'arrival_minute', 'departure_minute', 'next_stop', 'trip_duration')\n",
    "edges_df.show()\n",
    "\n",
    "edges = edges_df.rdd.map(lambda r: (r['stop_id'], r['next_stop'], {'duration': r['trip_duration'],\n",
    "                                                          'time': r['departure_minute']})).collect()\n",
    "print('Number of edges:', len(edges))\n",
    "graph.add_edges_from(edges)"
   ]
  }
 ],
 "metadata": {
  "kernelspec": {
   "display_name": "PySpark",
   "language": "",
   "name": "pysparkkernel"
  },
  "language_info": {
   "codemirror_mode": {
    "name": "python",
    "version": 3
   },
   "mimetype": "text/x-python",
   "name": "pyspark",
   "pygments_lexer": "python3"
  }
 },
 "nbformat": 4,
 "nbformat_minor": 4
}
