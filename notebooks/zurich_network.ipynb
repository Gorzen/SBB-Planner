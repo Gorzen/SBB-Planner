{
 "cells": [
  {
   "cell_type": "markdown",
   "metadata": {},
   "source": [
    "# Should reorder a bit notebook and clean it, and write basis of pipeline\n",
    "\n",
    "1. Construct `stop_times_zurich` (now it uses the graph to get nodes, but unecessary), cache it\n",
    "2. Planner, when user asks journey:\n",
    "    1. Create graph (2 hours before arrival)\n",
    "    2. Create 2nd graph with only stations and edges reachable from Zürich\n",
    "    3. Compute paths\n",
    "    4. Find shortest path"
   ]
  },
  {
   "cell_type": "markdown",
   "metadata": {},
   "source": [
    "## 1. Setup:\n",
    "\n",
    "First we setup our spark application and load the necessary data containing information about specific transit information:  \n",
    "- `stop_times.txt` : arrival and departure times at stops\n",
    "- `stops.txt` : information about stops \n",
    "- `trips.txt` : information about journeys\n",
    "- `calendar.txt` : information about which servcies are active on which dates"
   ]
  },
  {
   "cell_type": "markdown",
   "metadata": {},
   "source": [
    "#### Set up spark:"
   ]
  },
  {
   "cell_type": "code",
   "execution_count": 2,
   "metadata": {},
   "outputs": [
    {
     "name": "stderr",
     "output_type": "stream",
     "text": [
      "A session has already been started. If you intend to recreate the session with new configurations, please include the -f argument.\n"
     ]
    }
   ],
   "source": [
    "%%configure\n",
    "{\"conf\": {\n",
    "    \"spark.app.name\": \"dslab-group_final\"\n",
    "}}"
   ]
  },
  {
   "cell_type": "markdown",
   "metadata": {},
   "source": [
    "#### Imports:"
   ]
  },
  {
   "cell_type": "code",
   "execution_count": 3,
   "metadata": {},
   "outputs": [
    {
     "data": {
      "application/vnd.jupyter.widget-view+json": {
       "model_id": "",
       "version_major": 2,
       "version_minor": 0
      },
      "text/plain": [
       "FloatProgress(value=0.0, bar_style='info', description='Progress:', layout=Layout(height='25px', width='50%'),…"
      ]
     },
     "metadata": {},
     "output_type": "display_data"
    }
   ],
   "source": [
    "import networkx as nx\n",
    "from geopy.distance import distance as geo_distance\n",
    "from pyspark.sql import Row\n",
    "from pyspark.sql.functions import *\n",
    "from pyspark.sql.types import FloatType\n",
    "from networkx.algorithms.shortest_paths.weighted import dijkstra_path"
   ]
  },
  {
   "cell_type": "markdown",
   "metadata": {},
   "source": [
    "#### Load data:"
   ]
  },
  {
   "cell_type": "code",
   "execution_count": 7,
   "metadata": {},
   "outputs": [
    {
     "data": {
      "application/vnd.jupyter.widget-view+json": {
       "model_id": "",
       "version_major": 2,
       "version_minor": 0
      },
      "text/plain": [
       "FloatProgress(value=0.0, bar_style='info', description='Progress:', layout=Layout(height='25px', width='50%'),…"
      ]
     },
     "metadata": {},
     "output_type": "display_data"
    }
   ],
   "source": [
    "# Loading data, these are snapshots of the all available data\n",
    "# Calendar and trips are useful to filter the other dataframe according to the day\n",
    "\n",
    "stop_times = spark.read.format('orc').load('/data/sbb/timetables/orc/stop_times/000000_0')\n",
    "stops = spark.read.format('orc').load('/data/sbb/timetables/orc/stops/000000_0')\n",
    "trips = spark.read.format('orc').load('/data/sbb/timetables/orc/trips/000000_0')\n",
    "calendar = spark.read.format('orc').load('/data/sbb/timetables/orc/calendar/000000_0')"
   ]
  },
  {
   "cell_type": "markdown",
   "metadata": {},
   "source": [
    "## 2. Pre-processing: \n",
    "\n",
    "Here, we pre-process the data to correspond to the following criteria:\n",
    "- only consider journeys at reasonable hours of the day, and on a typical business day, and assuming the schedule of May 13-17, 2019\n",
    "- allow short (max 500m \"As the Crows Flies\") walking distances for transfers between two stations, and assume a walking speed of 50m/1min on a straight line, regardless of obstacles, human-built or natural, such as building, highways, rivers, or lakes\n",
    "- only consider journeys that start and end on known station coordinates (train station, bus stops, etc.), never from a random location\n",
    "- only consider stations in a 15km radius of Zürich's train station, Zürich HB (8503000), (lat, lon) = (47.378177, 8.540192)\n",
    "- only consider stations in the 15km radius that are reachable from Zürich HB, either directly, or via transfers through other stations within the area\n",
    "- assume that the timetables remain unchanged throughout the 2018 - 2019 period\n",
    "\n",
    "Filtering criteria for later use (e.g. probability intervals and planner):\n",
    "- assuming that delays or travel times on the public transport network are uncorrelated with one another\n",
    "- once a route is computed, a traveller is expected to follow the planned routes to the end, or until it fails (i.e. miss a connection)\n",
    "- planner will not need to mitigate the traveller's inconvenience if a plan fails"
   ]
  },
  {
   "cell_type": "markdown",
   "metadata": {},
   "source": [
    "### Stop times during rush-hour: \n",
    "\n",
    "Only consider journeys at reasonable hours of the day, thus we take only stop times that are in the window of rush-hour (e.g. from 8 a.m. to 8 p.m.). "
   ]
  },
  {
   "cell_type": "code",
   "execution_count": 8,
   "metadata": {},
   "outputs": [
    {
     "data": {
      "application/vnd.jupyter.widget-view+json": {
       "model_id": "",
       "version_major": 2,
       "version_minor": 0
      },
      "text/plain": [
       "FloatProgress(value=0.0, bar_style='info', description='Progress:', layout=Layout(height='25px', width='50%'),…"
      ]
     },
     "metadata": {},
     "output_type": "display_data"
    }
   ],
   "source": [
    "# Filter stop_times to be only in 08:00-19:59:\n",
    "stop_times = stop_times.where((col('departure_time') >= '08:00:00') \n",
    "                              & (col('departure_time') <= '19:59:59'))"
   ]
  },
  {
   "cell_type": "markdown",
   "metadata": {},
   "source": [
    "### Stations around Zürich HB:\n",
    "\n",
    "Only consider stations in a 15km radius of Zürich's train station (Zürich HB). "
   ]
  },
  {
   "cell_type": "markdown",
   "metadata": {},
   "source": [
    "First we get the geolocation of Zürich Hauptbahnhof to be able to calculate the distance of the other stations to the Hauptbahnhof. "
   ]
  },
  {
   "cell_type": "code",
   "execution_count": 14,
   "metadata": {},
   "outputs": [
    {
     "data": {
      "application/vnd.jupyter.widget-view+json": {
       "model_id": "",
       "version_major": 2,
       "version_minor": 0
      },
      "text/plain": [
       "FloatProgress(value=0.0, bar_style='info', description='Progress:', layout=Layout(height='25px', width='50%'),…"
      ]
     },
     "metadata": {},
     "output_type": "display_data"
    },
    {
     "name": "stdout",
     "output_type": "stream",
     "text": [
      "Location of Zürich Hauptbahnhof (lat, lon) :(47.3781762039461, 8.54019357578468)"
     ]
    }
   ],
   "source": [
    "zurich_pos = stops.where(column('stop_name') == 'Zürich HB').select('stop_lat', 'stop_lon').collect()\n",
    "zurich_pos = (zurich_pos[0][0], zurich_pos[0][1])\n",
    "print('Location of Zürich Hauptbahnhof (lat, lon) :'+str(zurich_pos))"
   ]
  },
  {
   "cell_type": "code",
   "execution_count": 15,
   "metadata": {},
   "outputs": [
    {
     "data": {
      "application/vnd.jupyter.widget-view+json": {
       "model_id": "",
       "version_major": 2,
       "version_minor": 0
      },
      "text/plain": [
       "FloatProgress(value=0.0, bar_style='info', description='Progress:', layout=Layout(height='25px', width='50%'),…"
      ]
     },
     "metadata": {},
     "output_type": "display_data"
    }
   ],
   "source": [
    "def zurich_distance(x, y):\n",
    "    \"\"\"zurich_distance: returns the distance of a station to Zurich HB\n",
    "    @input: (lat,lon) of a station\n",
    "    @output: distance in km to Zurich HB\n",
    "    \"\"\"\n",
    "    return geo_distance(zurich_pos, (x,y)).km"
   ]
  },
  {
   "cell_type": "markdown",
   "metadata": {},
   "source": [
    "Then we create a dataframe `stops_zurich` of the stations where we add a column for the distance to Zurich HB. In that dataframe, we keep only those that are in a radisu of 15km to the HB. The same filter is applied to the `stop_times` df mentioned above. "
   ]
  },
  {
   "cell_type": "code",
   "execution_count": 22,
   "metadata": {},
   "outputs": [
    {
     "data": {
      "application/vnd.jupyter.widget-view+json": {
       "model_id": "",
       "version_major": 2,
       "version_minor": 0
      },
      "text/plain": [
       "FloatProgress(value=0.0, bar_style='info', description='Progress:', layout=Layout(height='25px', width='50%'),…"
      ]
     },
     "metadata": {},
     "output_type": "display_data"
    }
   ],
   "source": [
    "# filter stops:\n",
    "stops_distance = stops.rdd.map(lambda x: (x['stop_id'], zurich_distance(x['stop_lat'], x['stop_lon'])))\n",
    "stops_distance = spark.createDataFrame(stops_distance.map(lambda r: Row(stop_id=r[0], zurich_distance=r[1])))\n",
    "\n",
    "stops_distance = stops_distance.filter(column('zurich_distance') <= 15)\n",
    "\n",
    "# add distance to HB to stops info and keep only in radius of 15km\n",
    "stops_zurich = stops_distance.join(stops, on='stop_id')\n",
    "\n",
    "# keep onl stops in raidus of 15km\n",
    "stop_times = stop_times.join(stops_distance.select('stop_id'), on='stop_id')"
   ]
  },
  {
   "cell_type": "code",
   "execution_count": 23,
   "metadata": {},
   "outputs": [
    {
     "data": {
      "application/vnd.jupyter.widget-view+json": {
       "model_id": "",
       "version_major": 2,
       "version_minor": 0
      },
      "text/plain": [
       "FloatProgress(value=0.0, bar_style='info', description='Progress:', layout=Layout(height='25px', width='50%'),…"
      ]
     },
     "metadata": {},
     "output_type": "display_data"
    },
    {
     "name": "stdout",
     "output_type": "stream",
     "text": [
      "DataFrame[stop_id: string, trip_id: string, arrival_time: string, departure_time: string, stop_sequence: smallint, pickup_type: tinyint, drop_off_type: tinyint]"
     ]
    }
   ],
   "source": [
    "# Cache it to save time:\n",
    "stop_times.cache()"
   ]
  },
  {
   "cell_type": "markdown",
   "metadata": {},
   "source": [
    "### Have a look at the data we have so far: "
   ]
  },
  {
   "cell_type": "markdown",
   "metadata": {},
   "source": [
    "#### Stop times: "
   ]
  },
  {
   "cell_type": "code",
   "execution_count": 24,
   "metadata": {},
   "outputs": [
    {
     "data": {
      "application/vnd.jupyter.widget-view+json": {
       "model_id": "",
       "version_major": 2,
       "version_minor": 0
      },
      "text/plain": [
       "FloatProgress(value=0.0, bar_style='info', description='Progress:', layout=Layout(height='25px', width='50%'),…"
      ]
     },
     "metadata": {},
     "output_type": "display_data"
    },
    {
     "name": "stdout",
     "output_type": "stream",
     "text": [
      "+-------+--------------------+------------+--------------+-------------+-----------+-------------+\n",
      "|stop_id|             trip_id|arrival_time|departure_time|stop_sequence|pickup_type|drop_off_type|\n",
      "+-------+--------------------+------------+--------------+-------------+-----------+-------------+\n",
      "|8500926|127.TA.26-301-j19...|    15:11:00|      15:11:00|            9|          0|            0|\n",
      "|8500926|124.TA.26-301-j19...|    12:41:00|      12:41:00|            9|          0|            0|\n",
      "|8500926|120.TA.26-301-j19...|    18:11:00|      18:11:00|            9|          0|            0|\n",
      "+-------+--------------------+------------+--------------+-------------+-----------+-------------+\n",
      "only showing top 3 rows"
     ]
    }
   ],
   "source": [
    "stop_times.show(3)"
   ]
  },
  {
   "cell_type": "markdown",
   "metadata": {},
   "source": [
    "#### Trips:"
   ]
  },
  {
   "cell_type": "code",
   "execution_count": 25,
   "metadata": {},
   "outputs": [
    {
     "data": {
      "application/vnd.jupyter.widget-view+json": {
       "model_id": "",
       "version_major": 2,
       "version_minor": 0
      },
      "text/plain": [
       "FloatProgress(value=0.0, bar_style='info', description='Progress:', layout=Layout(height='25px', width='50%'),…"
      ]
     },
     "metadata": {},
     "output_type": "display_data"
    },
    {
     "name": "stdout",
     "output_type": "stream",
     "text": [
      "+-----------+----------+--------------------+------------------+---------------+------------+\n",
      "|   route_id|service_id|             trip_id|     trip_headsign|trip_short_name|direction_id|\n",
      "+-----------+----------+--------------------+------------------+---------------+------------+\n",
      "|1-1-C-j19-1|  TA+b0001|5.TA.1-1-C-j19-1.3.R|Zofingen, Altachen|            108|           1|\n",
      "|1-1-C-j19-1|  TA+b0001|7.TA.1-1-C-j19-1.3.R|Zofingen, Altachen|            112|           1|\n",
      "|1-1-C-j19-1|  TA+b0001|9.TA.1-1-C-j19-1.3.R|Zofingen, Altachen|            116|           1|\n",
      "+-----------+----------+--------------------+------------------+---------------+------------+\n",
      "only showing top 3 rows"
     ]
    }
   ],
   "source": [
    "trips.show(3)"
   ]
  },
  {
   "cell_type": "markdown",
   "metadata": {},
   "source": [
    "#### Stops:"
   ]
  },
  {
   "cell_type": "code",
   "execution_count": 26,
   "metadata": {},
   "outputs": [
    {
     "data": {
      "application/vnd.jupyter.widget-view+json": {
       "model_id": "",
       "version_major": 2,
       "version_minor": 0
      },
      "text/plain": [
       "FloatProgress(value=0.0, bar_style='info', description='Progress:', layout=Layout(height='25px', width='50%'),…"
      ]
     },
     "metadata": {},
     "output_type": "display_data"
    },
    {
     "name": "stdout",
     "output_type": "stream",
     "text": [
      "+-------+------------+----------------+----------------+-------------+--------------+\n",
      "|stop_id|   stop_name|        stop_lat|        stop_lon|location_type|parent_station|\n",
      "+-------+------------+----------------+----------------+-------------+--------------+\n",
      "|1322000|    Altoggio|46.1672513851495|  8.345807131427|             |              |\n",
      "|1322001|Antronapiana| 46.060121674738|8.11361957990831|             |              |\n",
      "|1322002|      Anzola|45.9898698225697|8.34571729989858|             |              |\n",
      "+-------+------------+----------------+----------------+-------------+--------------+\n",
      "only showing top 3 rows"
     ]
    }
   ],
   "source": [
    "stops.show(3)"
   ]
  },
  {
   "cell_type": "markdown",
   "metadata": {},
   "source": [
    "#### Calendar:"
   ]
  },
  {
   "cell_type": "code",
   "execution_count": 27,
   "metadata": {},
   "outputs": [
    {
     "data": {
      "application/vnd.jupyter.widget-view+json": {
       "model_id": "",
       "version_major": 2,
       "version_minor": 0
      },
      "text/plain": [
       "FloatProgress(value=0.0, bar_style='info', description='Progress:', layout=Layout(height='25px', width='50%'),…"
      ]
     },
     "metadata": {},
     "output_type": "display_data"
    },
    {
     "name": "stdout",
     "output_type": "stream",
     "text": [
      "+----------+------+-------+---------+--------+------+--------+------+\n",
      "|service_id|monday|tuesday|wednesday|thursday|friday|saturday|sunday|\n",
      "+----------+------+-------+---------+--------+------+--------+------+\n",
      "|  TA+b0nx9|  true|   true|     true|    true|  true|   false| false|\n",
      "|  TA+b03bf|  true|   true|     true|    true|  true|   false| false|\n",
      "|  TA+b0008|  true|   true|     true|    true|  true|   false| false|\n",
      "+----------+------+-------+---------+--------+------+--------+------+\n",
      "only showing top 3 rows"
     ]
    }
   ],
   "source": [
    "calendar.show(3)"
   ]
  },
  {
   "cell_type": "markdown",
   "metadata": {},
   "source": [
    "## 3. Create a network:"
   ]
  },
  {
   "cell_type": "code",
   "execution_count": 8,
   "metadata": {},
   "outputs": [
    {
     "data": {
      "application/vnd.jupyter.widget-view+json": {
       "model_id": "",
       "version_major": 2,
       "version_minor": 0
      },
      "text/plain": [
       "FloatProgress(value=0.0, bar_style='info', description='Progress:', layout=Layout(height='25px', width='50%'),…"
      ]
     },
     "metadata": {},
     "output_type": "display_data"
    }
   ],
   "source": [
    "days_dict = {0: 'monday', 1: 'tuesday', 2: 'wednesday', 3: 'thursday', 4: 'friday'}\n",
    "\n",
    "def day_trips(*day_ids):\n",
    "    days = [days_dict[day_id] for day_id in day_ids]\n",
    "    where_clause = \" and \".join(days)\n",
    "\n",
    "    day_services = calendar.where(where_clause).select('service_id')\n",
    "    return day_services.join(trips, on='service_id').select('trip_id')"
   ]
  },
  {
   "cell_type": "code",
   "execution_count": 9,
   "metadata": {},
   "outputs": [
    {
     "data": {
      "application/vnd.jupyter.widget-view+json": {
       "model_id": "",
       "version_major": 2,
       "version_minor": 0
      },
      "text/plain": [
       "FloatProgress(value=0.0, bar_style='info', description='Progress:', layout=Layout(height='25px', width='50%'),…"
      ]
     },
     "metadata": {},
     "output_type": "display_data"
    }
   ],
   "source": [
    "graph = nx.MultiDiGraph()\n",
    "nodes = stops_zurich.rdd.map(lambda r: (r[0], {'name': r['stop_name'],\n",
    "                                              'lat': r['stop_lat'],\n",
    "                                              'lon': r['stop_lon']})).collect()\n",
    "graph.add_nodes_from(nodes)"
   ]
  },
  {
   "cell_type": "code",
   "execution_count": 10,
   "metadata": {},
   "outputs": [
    {
     "data": {
      "application/vnd.jupyter.widget-view+json": {
       "model_id": "",
       "version_major": 2,
       "version_minor": 0
      },
      "text/plain": [
       "FloatProgress(value=0.0, bar_style='info', description='Progress:', layout=Layout(height='25px', width='50%'),…"
      ]
     },
     "metadata": {},
     "output_type": "display_data"
    },
    {
     "name": "stdout",
     "output_type": "stream",
     "text": [
      "('Number of stop times around zurich:', 1453316)\n",
      "DataFrame[trip_id: string, stop_id: string, arrival_time: string, departure_time: string, next_stop: string, trip_duration: double]"
     ]
    }
   ],
   "source": [
    "@udf\n",
    "def convertToMinute(s):\n",
    "    h, m, _ = s.split(':')\n",
    "    h,m = int(h), int(m)\n",
    "    \n",
    "    return h*60+m\n",
    "\n",
    "# Keep only travels around zurich\n",
    "nodes_list = list(graph.nodes())\n",
    "stop_times_zurich = stop_times.filter(column('stop_id').isin(nodes_list))\n",
    "print('Number of stop times around zurich:', stop_times_zurich.count())\n",
    "# Convert time information to minutes elapsed since 0am\n",
    "stop_times_zurich = stop_times_zurich.withColumn('arrival_time', convertToMinute(column('arrival_time')))\n",
    "stop_times_zurich = stop_times_zurich.withColumn('departure_time', convertToMinute(column('departure_time')))\n",
    "# Add next stop to dataframe\n",
    "stop_times_zurich_2 = (stop_times_zurich.withColumn('stop_sequence_prev', column('stop_sequence')-1)\n",
    "                       .select('trip_id',\n",
    "                               column('stop_id').alias('next_stop'),\n",
    "                               column('stop_sequence_prev').alias('stop_sequence'),\n",
    "                               column('arrival_time').alias('next_arrival_time')))\n",
    "# Add trip duration\n",
    "stop_times_zurich = stop_times_zurich.join(stop_times_zurich_2, on=['trip_id', 'stop_sequence']).orderBy('trip_id', 'stop_sequence')\n",
    "stop_times_zurich = stop_times_zurich.withColumn('trip_duration', column('next_arrival_time')-column('departure_time'))\n",
    "stop_times_zurich = stop_times_zurich.select('trip_id', 'stop_id', 'arrival_time', 'departure_time', 'next_stop', 'trip_duration')\n",
    "stop_times_zurich.cache()"
   ]
  },
  {
   "cell_type": "code",
   "execution_count": 11,
   "metadata": {},
   "outputs": [
    {
     "data": {
      "application/vnd.jupyter.widget-view+json": {
       "model_id": "",
       "version_major": 2,
       "version_minor": 0
      },
      "text/plain": [
       "FloatProgress(value=0.0, bar_style='info', description='Progress:', layout=Layout(height='25px', width='50%'),…"
      ]
     },
     "metadata": {},
     "output_type": "display_data"
    },
    {
     "name": "stdout",
     "output_type": "stream",
     "text": [
      "('Number of edges:', 104449)"
     ]
    }
   ],
   "source": [
    "max_trip_duration = 2 #duration in hour \n",
    "def filter_edge_on_time(edges_df, day_id, hour, minute):\n",
    "    edges_df = edges_df.join(day_trips(day_id), on='trip_id')\n",
    "    arrival_minute = hour*60+minute\n",
    "    min_dep_time = arrival_minute - 60*60*max_trip_duration\n",
    "    edges_df = edges_df.filter((col('departure_time') > min_dep_time) & \n",
    "                                            (col('arrival_time') <= arrival_minute))\n",
    "\n",
    "    return edges_df\n",
    "\n",
    "# Example of graph construction: Wednesday arrival at 11:30:00\n",
    "edges = (filter_edge_on_time(stop_times_zurich, 2, 11, 30)\n",
    "         .rdd.map(lambda r: (r['stop_id'], r['next_stop'], {'duration': r['trip_duration'],\n",
    "                                                          'time': float(r['departure_time'])})).collect())\n",
    "print('Number of edges:', len(edges))"
   ]
  },
  {
   "cell_type": "code",
   "execution_count": 12,
   "metadata": {},
   "outputs": [
    {
     "data": {
      "application/vnd.jupyter.widget-view+json": {
       "model_id": "",
       "version_major": 2,
       "version_minor": 0
      },
      "text/plain": [
       "FloatProgress(value=0.0, bar_style='info', description='Progress:', layout=Layout(height='25px', width='50%'),…"
      ]
     },
     "metadata": {},
     "output_type": "display_data"
    }
   ],
   "source": [
    "_ = graph.add_edges_from(edges)"
   ]
  },
  {
   "cell_type": "code",
   "execution_count": 13,
   "metadata": {},
   "outputs": [
    {
     "data": {
      "application/vnd.jupyter.widget-view+json": {
       "model_id": "",
       "version_major": 2,
       "version_minor": 0
      },
      "text/plain": [
       "FloatProgress(value=0.0, bar_style='info', description='Progress:', layout=Layout(height='25px', width='50%'),…"
      ]
     },
     "metadata": {},
     "output_type": "display_data"
    },
    {
     "name": "stdout",
     "output_type": "stream",
     "text": [
      "[u'8503000', u'8503000:0:10', u'8503000:0:11', u'8503000:0:12', u'8503000:0:13', u'8503000:0:14', u'8503000:0:15', u'8503000:0:16', u'8503000:0:17', u'8503000:0:18', u'8503000:0:3', u'8503000:0:31', u'8503000:0:32', u'8503000:0:33', u'8503000:0:34', u'8503000:0:4', u'8503000:0:41/42', u'8503000:0:43/44', u'8503000:0:5', u'8503000:0:6', u'8503000:0:7', u'8503000:0:8', u'8503000:0:9', u'8503000P']"
     ]
    }
   ],
   "source": [
    "stop_ids_zurich = stops_zurich.where(col('stop_name') == 'Zürich HB').select('stop_id').rdd.flatMap(lambda x: x).collect()\n",
    "stop_ids_zurich"
   ]
  },
  {
   "cell_type": "code",
   "execution_count": 14,
   "metadata": {},
   "outputs": [
    {
     "data": {
      "application/vnd.jupyter.widget-view+json": {
       "model_id": "",
       "version_major": 2,
       "version_minor": 0
      },
      "text/plain": [
       "FloatProgress(value=0.0, bar_style='info', description='Progress:', layout=Layout(height='25px', width='50%'),…"
      ]
     },
     "metadata": {},
     "output_type": "display_data"
    }
   ],
   "source": [
    "nodes_reachable_from_zurich = set(stop_ids_zurich)\n",
    "\n",
    "for id_ in stop_ids_zurich:\n",
    "    nodes_reachable_from_zurich = nodes_reachable_from_zurich.union(nx.descendants(graph, id_))\n",
    "    \n",
    "new_edges = [e for e in graph.edges(data=True) if e[0] in nodes_reachable_from_zurich and e[1] in nodes_reachable_from_zurich]"
   ]
  },
  {
   "cell_type": "code",
   "execution_count": 15,
   "metadata": {},
   "outputs": [
    {
     "data": {
      "application/vnd.jupyter.widget-view+json": {
       "model_id": "",
       "version_major": 2,
       "version_minor": 0
      },
      "text/plain": [
       "FloatProgress(value=0.0, bar_style='info', description='Progress:', layout=Layout(height='25px', width='50%'),…"
      ]
     },
     "metadata": {},
     "output_type": "display_data"
    }
   ],
   "source": [
    "graph_zurich = nx.MultiDiGraph()\n",
    "graph_zurich.add_nodes_from(nodes_reachable_from_zurich)\n",
    "_ = graph_zurich.add_edges_from(new_edges)"
   ]
  },
  {
   "cell_type": "code",
   "execution_count": 16,
   "metadata": {},
   "outputs": [
    {
     "data": {
      "application/vnd.jupyter.widget-view+json": {
       "model_id": "",
       "version_major": 2,
       "version_minor": 0
      },
      "text/plain": [
       "FloatProgress(value=0.0, bar_style='info', description='Progress:', layout=Layout(height='25px', width='50%'),…"
      ]
     },
     "metadata": {},
     "output_type": "display_data"
    },
    {
     "name": "stdout",
     "output_type": "stream",
     "text": [
      "set([u'8503509:0:4', u'8503011:0:1', u'8503312:0:3', u'8503312:0:2', u'8503310:0:3', u'8503310:0:2', u'8503102:0:2', u'8503102:0:3', u'8503009:0:4', u'8503129:0:3', u'8503508:0:3', u'8503129:0:4', u'8503000:0:34', u'8503000:0:33', u'8503000:0:32', u'8503000:0:31', u'8503104:0:2', u'8503104:0:3', u'8503340:0:1', u'8502209:0:2', u'8503509:0:3', u'8503307:0:2', u'8503147:0:1', u'8503141:0:1', u'8503007:0:3', u'8503126:0:1', u'8503126:0:2', u'8503141:0:2', u'8503311:0:4', u'8503311:0:3', u'8502221:0:2', u'8503313:0:5', u'8503003:0:2', u'8503003:0:3', u'8503003:0:1', u'8503000:0:14', u'8503000:0:16', u'8503000:0:11', u'8503000:0:13', u'8503000:0:12', u'8503147:0:2', u'8503203:0:2', u'8503125:0:3', u'8503125:0:2', u'8503308:0:4', u'8502222:0:3', u'8503103:0:3', u'8503103:0:2', u'8503202:0:3', u'8503340:0:2', u'8503004:0:1', u'8503004:0:2', u'8503306:0:1', u'8503306:0:2', u'8503306:0:3', u'8503007:0:2', u'8503204:0:4', u'8503101:0:3', u'8503101:0:4', u'8503305:0:6', u'8503305:0:5', u'8503305:0:2', u'8503305:0:1', u'8503528:0:1', u'8502229:0:1', u'8503000:0:41/42', u'8503128:0:3', u'8503128:0:4', u'8502224:0:2', u'8502224:0:3', u'8503316:0:1', u'8502224:0:1', u'8503201:0:1', u'8502223:0:1', u'8503127:0:3', u'8503127:0:2', u'8503000:0:9', u'8503000:0:43/44', u'8503000:0:5', u'8503000:0:4', u'8503000:0:7', u'8503000:0:6', u'8503308:0:3', u'8503309:0:1', u'8503526:0:3', u'8503526:0:4', u'8503202:0:4', u'8503008:0:1', u'8503008:0:2', u'8503303:0:1', u'8503527:0:1', u'8502223:0:2', u'8503015:0:2', u'8503508:0:6', u'8503508:0:1', u'8503010:0:1', u'8503314:0:1', u'8502222:0:2', u'8503100:0:2', u'8503100:0:3', u'8503001:0:2', u'8503001:0:3', u'8503001:0:4', u'8503001:0:6', u'8503001:0:7', u'8503000:0:18', u'8502220:0:2', u'8502220:0:1', u'8503512:0:1', u'8502221:0:1', u'8503512:0:2', u'8503006:0:7', u'8503006:0:6', u'8503006:0:5', u'8503006:0:4', u'8503006:0:3', u'8503006:0:2', u'8503006:0:1', u'8502208:0:3', u'8503304:0:2', u'8502229:0:2', u'8503006:0:8', u'8503200:0:1', u'8503315:0:2', u'8503111:0:2', u'8503111:0:1', u'8503016:0:1', u'8503016:0:2', u'8503016:0:3', u'8503020:0:4', u'8503020:0:3', u'8503020:0:2', u'8503020:0:1', u'8503525:0:1', u'8503315:0:3'])"
     ]
    }
   ],
   "source": [
    "nx.descendants(graph_zurich, '8503000:0:10')"
   ]
  },
  {
   "cell_type": "code",
   "execution_count": 17,
   "metadata": {},
   "outputs": [
    {
     "data": {
      "application/vnd.jupyter.widget-view+json": {
       "model_id": "",
       "version_major": 2,
       "version_minor": 0
      },
      "text/plain": [
       "FloatProgress(value=0.0, bar_style='info', description='Progress:', layout=Layout(height='25px', width='50%'),…"
      ]
     },
     "metadata": {},
     "output_type": "display_data"
    },
    {
     "name": "stdout",
     "output_type": "stream",
     "text": [
      "['8503000:0:10', u'8503016:0:2', u'8503006:0:4', u'8503000:0:31', u'8503011:0:1', u'8503010:0:1', u'8503009:0:4', u'8503200:0:1', u'8503201:0:1', u'8503202:0:4', u'8502209:0:2', u'8502208:0:3']"
     ]
    }
   ],
   "source": [
    "dijkstra_path(graph_zurich, '8503000:0:10', '8502208:0:3', weight='duration')"
   ]
  },
  {
   "cell_type": "code",
   "execution_count": 18,
   "metadata": {},
   "outputs": [
    {
     "data": {
      "application/vnd.jupyter.widget-view+json": {
       "model_id": "",
       "version_major": 2,
       "version_minor": 0
      },
      "text/plain": [
       "FloatProgress(value=0.0, bar_style='info', description='Progress:', layout=Layout(height='25px', width='50%'),…"
      ]
     },
     "metadata": {},
     "output_type": "display_data"
    },
    {
     "name": "stderr",
     "output_type": "stream",
     "text": [
      "An error was encountered:\n",
      "invalid syntax (<stdin>, line 4)\n",
      "  File \"<stdin>\", line 4\n",
      "    print(path, flush=True)\n",
      "                     ^\n",
      "SyntaxError: invalid syntax\n",
      "\n"
     ]
    }
   ],
   "source": [
    "gen = nx.all_simple_paths(graph_zurich, '8503000:0:10', '8502208:0:3')\n",
    "\n",
    "for path in gen:\n",
    "    print(path, flush=True)"
   ]
  },
  {
   "cell_type": "code",
   "execution_count": 19,
   "metadata": {},
   "outputs": [
    {
     "data": {
      "application/vnd.jupyter.widget-view+json": {
       "model_id": "",
       "version_major": 2,
       "version_minor": 0
      },
      "text/plain": [
       "FloatProgress(value=0.0, bar_style='info', description='Progress:', layout=Layout(height='25px', width='50%'),…"
      ]
     },
     "metadata": {},
     "output_type": "display_data"
    },
    {
     "name": "stdout",
     "output_type": "stream",
     "text": [
      "OutMultiEdgeDataView([('8503000:0:10', u'8503006:0:6', {'duration': 6.0, 'time': 665.0}), ('8503000:0:10', u'8503006:0:6', {'duration': 6.0, 'time': 489.0}), ('8503000:0:10', u'8503016:0:2', {'duration': 9.0, 'time': 575.0})])"
     ]
    }
   ],
   "source": [
    "graph.out_edges('8503000:0:10', data=True)"
   ]
  },
  {
   "cell_type": "code",
   "execution_count": 34,
   "metadata": {},
   "outputs": [
    {
     "data": {
      "application/vnd.jupyter.widget-view+json": {
       "model_id": "",
       "version_major": 2,
       "version_minor": 0
      },
      "text/plain": [
       "FloatProgress(value=0.0, bar_style='info', description='Progress:', layout=Layout(height='25px', width='50%'),…"
      ]
     },
     "metadata": {},
     "output_type": "display_data"
    }
   ],
   "source": [
    "def filter_edges(edges, time):\n",
    "    edges = [edge for edge in edges if edge[2]['time'] >= time]\n",
    "    \n",
    "    destinations = set([edge[1] for edge in edges])\n",
    "    earliest_edges = []\n",
    "    \n",
    "    for destination in destinations:\n",
    "        edges_to_dest = [edge for edge in edges if edge[1] == destination]\n",
    "        earliest_edge = sorted(edges_to_dest, key=lambda edge: edge[2]['time'] + edge[2]['duration'])[0]\n",
    "        earliest_edges.append(earliest_edge)\n",
    "    \n",
    "    return earliest_edges"
   ]
  },
  {
   "cell_type": "code",
   "execution_count": 49,
   "metadata": {},
   "outputs": [
    {
     "data": {
      "application/vnd.jupyter.widget-view+json": {
       "model_id": "",
       "version_major": 2,
       "version_minor": 0
      },
      "text/plain": [
       "FloatProgress(value=0.0, bar_style='info', description='Progress:', layout=Layout(height='25px', width='50%'),…"
      ]
     },
     "metadata": {},
     "output_type": "display_data"
    }
   ],
   "source": [
    "def get_paths(graph, source, target, time, prev_path=[], num_hops=0, max_num_hops=4):\n",
    "    if source == target:\n",
    "        return [prev_path]\n",
    "    elif num_hops >= max_num_hops:\n",
    "        return None\n",
    "    else:\n",
    "        out_edges = graph.out_edges(source, data=True)\n",
    "        out_edges = filter_edges(out_edges, time)\n",
    "        # Should manually check\n",
    "        print(time)\n",
    "        print(out_edges)\n",
    "        paths = []\n",
    "        \n",
    "        for out_edge in out_edges:\n",
    "            new_paths = get_paths(graph, out_edge[1], target, time=out_edge[2]['time']+out_edge[2]['duration'], prev_path=prev_path+[source], num_hops=num_hops+1)\n",
    "            if new_paths is not None:\n",
    "                paths = paths + new_paths\n",
    "                    \n",
    "        return paths"
   ]
  },
  {
   "cell_type": "code",
   "execution_count": 37,
   "metadata": {},
   "outputs": [
    {
     "data": {
      "application/vnd.jupyter.widget-view+json": {
       "model_id": "",
       "version_major": 2,
       "version_minor": 0
      },
      "text/plain": [
       "FloatProgress(value=0.0, bar_style='info', description='Progress:', layout=Layout(height='25px', width='50%'),…"
      ]
     },
     "metadata": {},
     "output_type": "display_data"
    }
   ],
   "source": [
    "out_edges = graph.out_edges('8503006:0:6', data=True)\n",
    "out_edges = [edge for edge in out_edges]"
   ]
  },
  {
   "cell_type": "code",
   "execution_count": 40,
   "metadata": {},
   "outputs": [
    {
     "data": {
      "application/vnd.jupyter.widget-view+json": {
       "model_id": "",
       "version_major": 2,
       "version_minor": 0
      },
      "text/plain": [
       "FloatProgress(value=0.0, bar_style='info', description='Progress:', layout=Layout(height='25px', width='50%'),…"
      ]
     },
     "metadata": {},
     "output_type": "display_data"
    },
    {
     "name": "stdout",
     "output_type": "stream",
     "text": [
      "('8503006:0:6', u'8503016:0:1', {'duration': 5.0, 'time': u'586'})"
     ]
    }
   ],
   "source": [
    "out_edges[0]"
   ]
  },
  {
   "cell_type": "code",
   "execution_count": 55,
   "metadata": {},
   "outputs": [
    {
     "data": {
      "application/vnd.jupyter.widget-view+json": {
       "model_id": "",
       "version_major": 2,
       "version_minor": 0
      },
      "text/plain": [
       "FloatProgress(value=0.0, bar_style='info', description='Progress:', layout=Layout(height='25px', width='50%'),…"
      ]
     },
     "metadata": {},
     "output_type": "display_data"
    },
    {
     "name": "stdout",
     "output_type": "stream",
     "text": [
      "['8503000:0:10', u'8503016:0:2', u'8503006:0:4', u'8503000:0:5', u'8503011:0:1']"
     ]
    }
   ],
   "source": [
    "dijkstra_path(graph_zurich, '8503000:0:10', '8503011:0:1')"
   ]
  },
  {
   "cell_type": "code",
   "execution_count": 52,
   "metadata": {},
   "outputs": [
    {
     "data": {
      "application/vnd.jupyter.widget-view+json": {
       "model_id": "",
       "version_major": 2,
       "version_minor": 0
      },
      "text/plain": [
       "FloatProgress(value=0.0, bar_style='info', description='Progress:', layout=Layout(height='25px', width='50%'),…"
      ]
     },
     "metadata": {},
     "output_type": "display_data"
    },
    {
     "name": "stdout",
     "output_type": "stream",
     "text": [
      "set([u'8503509:0:4', u'8503011:0:1', u'8503312:0:3', u'8503312:0:2', u'8503310:0:3', u'8503310:0:2', u'8503102:0:2', u'8503102:0:3', u'8503009:0:4', u'8503129:0:3', u'8503508:0:3', u'8503129:0:4', u'8503000:0:34', u'8503000:0:33', u'8503000:0:32', u'8503000:0:31', u'8503104:0:2', u'8503104:0:3', u'8503340:0:1', u'8502209:0:2', u'8503509:0:3', u'8503307:0:2', u'8503147:0:1', u'8503141:0:1', u'8503007:0:3', u'8503126:0:1', u'8503126:0:2', u'8503141:0:2', u'8503311:0:4', u'8503311:0:3', u'8502221:0:2', u'8503313:0:5', u'8503003:0:2', u'8503003:0:3', u'8503003:0:1', u'8503000:0:14', u'8503000:0:16', u'8503000:0:11', u'8503000:0:13', u'8503000:0:12', u'8503147:0:2', u'8503203:0:2', u'8503125:0:3', u'8503125:0:2', u'8503308:0:4', u'8502222:0:3', u'8503103:0:3', u'8503103:0:2', u'8503202:0:3', u'8503340:0:2', u'8503004:0:1', u'8503004:0:2', u'8503306:0:1', u'8503306:0:2', u'8503306:0:3', u'8503007:0:2', u'8503204:0:4', u'8503101:0:3', u'8503101:0:4', u'8503305:0:6', u'8503305:0:5', u'8503305:0:2', u'8503305:0:1', u'8503528:0:1', u'8502229:0:1', u'8503000:0:41/42', u'8503128:0:3', u'8503128:0:4', u'8502224:0:2', u'8502224:0:3', u'8503316:0:1', u'8502224:0:1', u'8503201:0:1', u'8502223:0:1', u'8503127:0:3', u'8503127:0:2', u'8503000:0:9', u'8503000:0:43/44', u'8503000:0:5', u'8503000:0:4', u'8503000:0:7', u'8503000:0:6', u'8503308:0:3', u'8503309:0:1', u'8503526:0:3', u'8503526:0:4', u'8503202:0:4', u'8503008:0:1', u'8503008:0:2', u'8503303:0:1', u'8503527:0:1', u'8502223:0:2', u'8503015:0:2', u'8503508:0:6', u'8503508:0:1', u'8503010:0:1', u'8503314:0:1', u'8502222:0:2', u'8503100:0:2', u'8503100:0:3', u'8503001:0:2', u'8503001:0:3', u'8503001:0:4', u'8503001:0:6', u'8503001:0:7', u'8503000:0:18', u'8502220:0:2', u'8502220:0:1', u'8503512:0:1', u'8502221:0:1', u'8503512:0:2', u'8503006:0:7', u'8503006:0:6', u'8503006:0:5', u'8503006:0:4', u'8503006:0:3', u'8503006:0:2', u'8503006:0:1', u'8502208:0:3', u'8503304:0:2', u'8502229:0:2', u'8503006:0:8', u'8503200:0:1', u'8503315:0:2', u'8503111:0:2', u'8503111:0:1', u'8503016:0:1', u'8503016:0:2', u'8503016:0:3', u'8503020:0:4', u'8503020:0:3', u'8503020:0:2', u'8503020:0:1', u'8503525:0:1', u'8503315:0:3'])"
     ]
    }
   ],
   "source": [
    "nx.descendants(graph_zurich, '8503000:0:10')"
   ]
  },
  {
   "cell_type": "code",
   "execution_count": 50,
   "metadata": {},
   "outputs": [
    {
     "data": {
      "application/vnd.jupyter.widget-view+json": {
       "model_id": "",
       "version_major": 2,
       "version_minor": 0
      },
      "text/plain": [
       "FloatProgress(value=0.0, bar_style='info', description='Progress:', layout=Layout(height='25px', width='50%'),…"
      ]
     },
     "metadata": {},
     "output_type": "display_data"
    },
    {
     "name": "stdout",
     "output_type": "stream",
     "text": [
      "570\n",
      "[('8503000:0:10', u'8503006:0:6', {'duration': 6.0, 'time': 665.0}), ('8503000:0:10', u'8503016:0:2', {'duration': 9.0, 'time': 575.0})]\n",
      "671.0\n",
      "[(u'8503006:0:6', u'8503016:0:1', {'duration': 5.0, 'time': 676.0}), (u'8503006:0:6', u'8503016:0:2', {'duration': 4.0, 'time': 682.0}), (u'8503006:0:6', u'8503020:0:2', {'duration': 4.0, 'time': 690.0})]\n",
      "681.0\n",
      "[]\n",
      "686.0\n",
      "[(u'8503016:0:2', u'8503307:0:2', {'duration': 4.0, 'time': 687.0})]\n",
      "691.0\n",
      "[]\n",
      "694.0\n",
      "[]\n",
      "584.0\n",
      "[(u'8503016:0:2', u'8503307:0:2', {'duration': 4.0, 'time': 597.0})]\n",
      "601.0\n",
      "[(u'8503307:0:2', u'8503305:0:2', {'duration': 5.0, 'time': 601.0})]\n",
      "606.0\n",
      "[(u'8503305:0:2', u'8503304:0:2', {'duration': 3.0, 'time': 617.0})]\n",
      "[]"
     ]
    }
   ],
   "source": [
    "get_paths(graph_zurich, '8503000:0:10', '8503202:0:4', 570, max_num_hops=6)"
   ]
  },
  {
   "cell_type": "code",
   "execution_count": null,
   "metadata": {},
   "outputs": [],
   "source": []
  },
  {
   "cell_type": "code",
   "execution_count": null,
   "metadata": {},
   "outputs": [],
   "source": []
  },
  {
   "cell_type": "code",
   "execution_count": null,
   "metadata": {},
   "outputs": [],
   "source": []
  },
  {
   "cell_type": "code",
   "execution_count": null,
   "metadata": {},
   "outputs": [],
   "source": []
  },
  {
   "cell_type": "code",
   "execution_count": null,
   "metadata": {},
   "outputs": [],
   "source": []
  },
  {
   "cell_type": "code",
   "execution_count": null,
   "metadata": {},
   "outputs": [],
   "source": []
  },
  {
   "cell_type": "code",
   "execution_count": null,
   "metadata": {},
   "outputs": [],
   "source": []
  },
  {
   "cell_type": "code",
   "execution_count": null,
   "metadata": {},
   "outputs": [],
   "source": []
  },
  {
   "cell_type": "code",
   "execution_count": null,
   "metadata": {},
   "outputs": [],
   "source": []
  },
  {
   "cell_type": "code",
   "execution_count": null,
   "metadata": {},
   "outputs": [],
   "source": []
  },
  {
   "cell_type": "code",
   "execution_count": null,
   "metadata": {},
   "outputs": [],
   "source": []
  },
  {
   "cell_type": "code",
   "execution_count": null,
   "metadata": {},
   "outputs": [],
   "source": []
  },
  {
   "cell_type": "code",
   "execution_count": 23,
   "metadata": {},
   "outputs": [
    {
     "data": {
      "application/vnd.jupyter.widget-view+json": {
       "model_id": "",
       "version_major": 2,
       "version_minor": 0
      },
      "text/plain": [
       "FloatProgress(value=0.0, bar_style='info', description='Progress:', layout=Layout(height='25px', width='50%'),…"
      ]
     },
     "metadata": {},
     "output_type": "display_data"
    },
    {
     "name": "stdout",
     "output_type": "stream",
     "text": [
      "404950"
     ]
    }
   ],
   "source": [
    "# Example for stop_times filtered on wednesday\n",
    "stop_times_wed = day_trips(2).join(stop_times, on='trip_id')\n",
    "stop_times_wed.show(5)\n",
    "\n",
    "stop_times_wed.count()"
   ]
  },
  {
   "cell_type": "code",
   "execution_count": 6,
   "metadata": {},
   "outputs": [
    {
     "data": {
      "application/vnd.jupyter.widget-view+json": {
       "model_id": "",
       "version_major": 2,
       "version_minor": 0
      },
      "text/plain": [
       "FloatProgress(value=0.0, bar_style='info', description='Progress:', layout=Layout(height='25px', width='50%'),…"
      ]
     },
     "metadata": {},
     "output_type": "display_data"
    }
   ],
   "source": [
    "# Can't run, the count makes it timeout. I asked Tao why\n",
    "#print('Full stop times have', stop_times.count(), 'entries, filtered has', stop_times_wed.count())"
   ]
  },
  {
   "cell_type": "code",
   "execution_count": 8,
   "metadata": {},
   "outputs": [
    {
     "data": {
      "application/vnd.jupyter.widget-view+json": {
       "model_id": "",
       "version_major": 2,
       "version_minor": 0
      },
      "text/plain": [
       "FloatProgress(value=0.0, bar_style='info', description='Progress:', layout=Layout(height='25px', width='50%'),…"
      ]
     },
     "metadata": {},
     "output_type": "display_data"
    },
    {
     "name": "stdout",
     "output_type": "stream",
     "text": [
      "(u'8503000', {'lat': 47.3781762039461, 'lon': 8.54019357578468, 'name': 'Z\\xc3\\xbcrich HB'})"
     ]
    }
   ],
   "source": [
    "#for r in stops_zurich.collect():\n",
    "#    if r['stop_id'] == '8503000':\n",
    "#        print((r['stop_id'], {'name': r['stop_name'].encode('utf-8'), 'lat': r['stop_lat'], 'lon': r['stop_lon']}))\n",
    "#        break"
   ]
  }
 ],
 "metadata": {
  "kernelspec": {
   "display_name": "PySpark",
   "language": "",
   "name": "pysparkkernel"
  },
  "language_info": {
   "codemirror_mode": {
    "name": "python",
    "version": 3
   },
   "mimetype": "text/x-python",
   "name": "pyspark",
   "pygments_lexer": "python3"
  }
 },
 "nbformat": 4,
 "nbformat_minor": 4
}
