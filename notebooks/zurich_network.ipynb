{
 "cells": [
  {
   "cell_type": "code",
   "execution_count": 1,
   "metadata": {},
   "outputs": [
    {
     "data": {
      "text/html": [
       "Current session configs: <tt>{'conf': {'spark.app.name': 'dslab-group_final'}, 'kind': 'pyspark'}</tt><br>"
      ],
      "text/plain": [
       "<IPython.core.display.HTML object>"
      ]
     },
     "metadata": {},
     "output_type": "display_data"
    },
    {
     "data": {
      "text/html": [
       "<table>\n",
       "<tr><th>ID</th><th>YARN Application ID</th><th>Kind</th><th>State</th><th>Spark UI</th><th>Driver log</th><th>Current session?</th></tr><tr><td>4557</td><td>application_1587988164357_1185</td><td>pyspark</td><td>idle</td><td><a target=\"_blank\" href=\"http://iccluster044.iccluster.epfl.ch:8088/proxy/application_1587988164357_1185/\">Link</a></td><td><a target=\"_blank\" href=\"http://iccluster066.iccluster.epfl.ch:8042/node/containerlogs/container_e05_1587988164357_1185_01_000001/ebouille\">Link</a></td><td></td></tr><tr><td>4558</td><td>application_1587988164357_1186</td><td>pyspark</td><td>idle</td><td><a target=\"_blank\" href=\"http://iccluster044.iccluster.epfl.ch:8088/proxy/application_1587988164357_1186/\">Link</a></td><td><a target=\"_blank\" href=\"http://iccluster072.iccluster.epfl.ch:8042/node/containerlogs/container_e05_1587988164357_1186_01_000001/ebouille\">Link</a></td><td></td></tr><tr><td>4561</td><td>application_1587988164357_1189</td><td>pyspark</td><td>idle</td><td><a target=\"_blank\" href=\"http://iccluster044.iccluster.epfl.ch:8088/proxy/application_1587988164357_1189/\">Link</a></td><td><a target=\"_blank\" href=\"http://iccluster068.iccluster.epfl.ch:8042/node/containerlogs/container_e05_1587988164357_1189_01_000001/ebouille\">Link</a></td><td></td></tr><tr><td>4562</td><td>application_1587988164357_1190</td><td>pyspark</td><td>idle</td><td><a target=\"_blank\" href=\"http://iccluster044.iccluster.epfl.ch:8088/proxy/application_1587988164357_1190/\">Link</a></td><td><a target=\"_blank\" href=\"http://iccluster068.iccluster.epfl.ch:8042/node/containerlogs/container_e05_1587988164357_1190_01_000001/ebouille\">Link</a></td><td></td></tr><tr><td>4564</td><td>application_1587988164357_1192</td><td>pyspark</td><td>idle</td><td><a target=\"_blank\" href=\"http://iccluster044.iccluster.epfl.ch:8088/proxy/application_1587988164357_1192/\">Link</a></td><td><a target=\"_blank\" href=\"http://iccluster068.iccluster.epfl.ch:8042/node/containerlogs/container_e05_1587988164357_1192_01_000001/ebouille\">Link</a></td><td></td></tr><tr><td>4565</td><td>application_1587988164357_1193</td><td>pyspark</td><td>busy</td><td><a target=\"_blank\" href=\"http://iccluster044.iccluster.epfl.ch:8088/proxy/application_1587988164357_1193/\">Link</a></td><td><a target=\"_blank\" href=\"http://iccluster072.iccluster.epfl.ch:8042/node/containerlogs/container_e05_1587988164357_1193_01_000001/ebouille\">Link</a></td><td></td></tr></table>"
      ],
      "text/plain": [
       "<IPython.core.display.HTML object>"
      ]
     },
     "metadata": {},
     "output_type": "display_data"
    }
   ],
   "source": [
    "%%configure\n",
    "{\"conf\": {\n",
    "    \"spark.app.name\": \"dslab-group_final\"\n",
    "}}"
   ]
  },
  {
   "cell_type": "code",
   "execution_count": 2,
   "metadata": {},
   "outputs": [
    {
     "name": "stdout",
     "output_type": "stream",
     "text": [
      "Starting Spark application\n"
     ]
    },
    {
     "data": {
      "text/html": [
       "<table>\n",
       "<tr><th>ID</th><th>YARN Application ID</th><th>Kind</th><th>State</th><th>Spark UI</th><th>Driver log</th><th>Current session?</th></tr><tr><td>4566</td><td>application_1587988164357_1194</td><td>pyspark</td><td>idle</td><td><a target=\"_blank\" href=\"http://iccluster044.iccluster.epfl.ch:8088/proxy/application_1587988164357_1194/\">Link</a></td><td><a target=\"_blank\" href=\"http://iccluster070.iccluster.epfl.ch:8042/node/containerlogs/container_e05_1587988164357_1194_01_000001/ebouille\">Link</a></td><td>✔</td></tr></table>"
      ],
      "text/plain": [
       "<IPython.core.display.HTML object>"
      ]
     },
     "metadata": {},
     "output_type": "display_data"
    },
    {
     "data": {
      "application/vnd.jupyter.widget-view+json": {
       "model_id": "",
       "version_major": 2,
       "version_minor": 0
      },
      "text/plain": [
       "FloatProgress(value=0.0, bar_style='info', description='Progress:', layout=Layout(height='25px', width='50%'),…"
      ]
     },
     "metadata": {},
     "output_type": "display_data"
    },
    {
     "name": "stdout",
     "output_type": "stream",
     "text": [
      "SparkSession available as 'spark'.\n"
     ]
    },
    {
     "data": {
      "application/vnd.jupyter.widget-view+json": {
       "model_id": "",
       "version_major": 2,
       "version_minor": 0
      },
      "text/plain": [
       "FloatProgress(value=0.0, bar_style='info', description='Progress:', layout=Layout(height='25px', width='50%'),…"
      ]
     },
     "metadata": {},
     "output_type": "display_data"
    }
   ],
   "source": [
    "from pyspark.sql.functions import *"
   ]
  },
  {
   "cell_type": "code",
   "execution_count": 6,
   "metadata": {},
   "outputs": [
    {
     "data": {
      "application/vnd.jupyter.widget-view+json": {
       "model_id": "",
       "version_major": 2,
       "version_minor": 0
      },
      "text/plain": [
       "FloatProgress(value=0.0, bar_style='info', description='Progress:', layout=Layout(height='25px', width='50%'),…"
      ]
     },
     "metadata": {},
     "output_type": "display_data"
    },
    {
     "name": "stderr",
     "output_type": "stream",
     "text": [
      "An error was encountered:\n",
      "u'Path does not exist: hdfs://iccluster044.iccluster.epfl.ch:8020/data/sbb/timetables/csv/stop_times/2019/05/13/stop_times.txt;'\n",
      "Traceback (most recent call last):\n",
      "  File \"/hdata/sdf/hadoop/yarn/local/usercache/ebouille/appcache/application_1587988164357_1176/container_e05_1587988164357_1176_01_000001/pyspark.zip/pyspark/sql/readwriter.py\", line 166, in load\n",
      "    return self._df(self._jreader.load(path))\n",
      "  File \"/hdata/sdf/hadoop/yarn/local/usercache/ebouille/appcache/application_1587988164357_1176/container_e05_1587988164357_1176_01_000001/py4j-0.10.7-src.zip/py4j/java_gateway.py\", line 1257, in __call__\n",
      "    answer, self.gateway_client, self.target_id, self.name)\n",
      "  File \"/hdata/sdf/hadoop/yarn/local/usercache/ebouille/appcache/application_1587988164357_1176/container_e05_1587988164357_1176_01_000001/pyspark.zip/pyspark/sql/utils.py\", line 69, in deco\n",
      "    raise AnalysisException(s.split(': ', 1)[1], stackTrace)\n",
      "AnalysisException: u'Path does not exist: hdfs://iccluster044.iccluster.epfl.ch:8020/data/sbb/timetables/csv/stop_times/2019/05/13/stop_times.txt;'\n",
      "\n"
     ]
    }
   ],
   "source": [
    "# Load each day of typical week into spark dataframe\n",
    "days_dict = {0: 'Monday', 1: 'Tuesday', 2: 'Wednesday', 3: 'Thursday', 4: 'Friday'}\n",
    "d = 13\n",
    "stop_times = (spark.read.format('csv').options(header='true', inferSchema='true')\n",
    "              .load(\"/data/sbb/timetables/csv/stop_times/2019/05/%s/stop_times.txt\" % d))\n",
    "stops = (spark.read.format('csv').options(header='true', inferSchema='true')\n",
    "         .load(\"/data/sbb/timetables/csv/stop_times/2019/05/%s/stops.txt\" % d))\n",
    "for d in range(14, 18):\n",
    "    stop_times_d = (spark.read.format('csv').options(header='true', inferSchema='true')\n",
    "                    .load(\"/data/sbb/timetables/csv/stop_times/2019/05/%s/stop_times.txt\" % d))\n",
    "    stop_times_d = stop_times_d.withColumn(\"day\", lit(d))\n",
    "    stop_times = stop_times.union(stop_times_d)\n",
    "    \n",
    "    stops_d = (spark.read.format('csv').options(header='true', inferSchema='true')\n",
    "               .load(\"/data/sbb/timetables/csv/stop_times/2019/05/%s/stops.txt\" % d))\n",
    "    stop = stops.withColumn(withColumn(\"day\", lit(d)))"
   ]
  },
  {
   "cell_type": "code",
   "execution_count": 3,
   "metadata": {},
   "outputs": [
    {
     "data": {
      "application/vnd.jupyter.widget-view+json": {
       "model_id": "",
       "version_major": 2,
       "version_minor": 0
      },
      "text/plain": [
       "FloatProgress(value=0.0, bar_style='info', description='Progress:', layout=Layout(height='25px', width='50%'),…"
      ]
     },
     "metadata": {},
     "output_type": "display_data"
    }
   ],
   "source": [
    "stop_times = (spark.read.format('csv').options(header='true', inferSchema='true')\n",
    "              .load(\"/data/sbb/timetables/csv/stop_times/2019/05/14/stop_times.txt\"))\n",
    "stops = (spark.read.format('csv').options(header='true', inferSchema='true')\n",
    "         .load(\"/data/sbb/timetables/csv/stops/2019/05/14/stops.txt\"))"
   ]
  },
  {
   "cell_type": "code",
   "execution_count": 4,
   "metadata": {},
   "outputs": [
    {
     "data": {
      "application/vnd.jupyter.widget-view+json": {
       "model_id": "",
       "version_major": 2,
       "version_minor": 0
      },
      "text/plain": [
       "FloatProgress(value=0.0, bar_style='info', description='Progress:', layout=Layout(height='25px', width='50%'),…"
      ]
     },
     "metadata": {},
     "output_type": "display_data"
    },
    {
     "name": "stdout",
     "output_type": "stream",
     "text": [
      "+-------+--------------------+----------------+-----------------+-------------+--------------+\n",
      "|stop_id|           stop_name|        stop_lat|         stop_lon|location_type|parent_station|\n",
      "+-------+--------------------+----------------+-----------------+-------------+--------------+\n",
      "|1322000|            Altoggio|46.1672513851495|   8.345807131427|         null|          null|\n",
      "|1322001|        Antronapiana| 46.060121674738| 8.11361957990831|         null|          null|\n",
      "|1322002|              Anzola|45.9898698225697| 8.34571729989858|         null|          null|\n",
      "|1322003|              Baceno|46.2614983591677| 8.31925293162473|         null|          null|\n",
      "|1322004|Beura Cardezza, c...|46.0790618438814| 8.29927439970313|         null|          null|\n",
      "|1322005|Bognanco, T. Vill...|46.1222963432243| 8.21077237789936|         null|          null|\n",
      "|1322006|           Boschetto|46.0656504576122| 8.26113193273411|         null|          null|\n",
      "|1322007|            Cadarese|46.2978807772998|  8.3626325767009|         null|          null|\n",
      "|1322010|            Campioli|45.9695691829797| 8.04585965801774|         null|          null|\n",
      "|1322011|    Cascate del Toce|46.4091810825782|  8.4117524564434|         null|          null|\n",
      "|1322012|         Castiglione|46.0205875326422|  8.2148866619012|         null|          null|\n",
      "|1322013|       Ceppo Morelli|45.9710364221151| 8.06992552448265|         null|          null|\n",
      "|1322014|Chiesa (Val Forma...|46.3530849443472| 8.42787721579558|         null|          null|\n",
      "|1322015| Cosasca di Trontano|46.0967496675661| 8.31182386422403|         null|          null|\n",
      "|1322016|              Cresti|46.0664046229574|  8.2328978833503|         null|          null|\n",
      "|1322017|      Crevoladossola|46.1562758593614| 8.30343359946918|         null|          null|\n",
      "|1322018|        Crodo, Bagni|46.2141837457637| 8.32131905677849|         null|          null|\n",
      "|1322019|        Crodo, paese| 46.224016613202|  8.3235648449891|         null|          null|\n",
      "|1322021|  Croppo di Trontano|46.1103590121829| 8.31194064521098|         null|          null|\n",
      "|1322022|          Crusinallo|45.6945937446539|0.595870494345107|         null|          null|\n",
      "+-------+--------------------+----------------+-----------------+-------------+--------------+\n",
      "only showing top 20 rows"
     ]
    }
   ],
   "source": [
    "stops.show()"
   ]
  },
  {
   "cell_type": "code",
   "execution_count": 5,
   "metadata": {},
   "outputs": [
    {
     "data": {
      "application/vnd.jupyter.widget-view+json": {
       "model_id": "",
       "version_major": 2,
       "version_minor": 0
      },
      "text/plain": [
       "FloatProgress(value=0.0, bar_style='info', description='Progress:', layout=Layout(height='25px', width='50%'),…"
      ]
     },
     "metadata": {},
     "output_type": "display_data"
    },
    {
     "name": "stdout",
     "output_type": "stream",
     "text": [
      "+--------------------+------------+--------------+-----------+-------------+-----------+-------------+\n",
      "|             trip_id|arrival_time|departure_time|    stop_id|stop_sequence|pickup_type|drop_off_type|\n",
      "+--------------------+------------+--------------+-----------+-------------+-----------+-------------+\n",
      "|1.TA.1-1-B-j19-1.1.R|    04:20:00|      04:20:00|8500010:0:3|            1|          0|            0|\n",
      "|1.TA.1-1-B-j19-1.1.R|    04:24:00|      04:24:00|8500020:0:3|            2|          0|            0|\n",
      "|1.TA.1-1-B-j19-1.1.R|    04:28:00|      04:28:00|8500021:0:5|            3|          0|            0|\n",
      "|1.TA.1-1-B-j19-1.1.R|    04:30:00|      04:30:00|8517131:0:2|            4|          0|            0|\n",
      "|1.TA.1-1-B-j19-1.1.R|    04:32:00|      04:32:00|8500300:0:5|            5|          0|            0|\n",
      "|1.TA.1-1-B-j19-1.1.R|    04:35:00|      04:35:00|8500313:0:2|            6|          0|            0|\n",
      "|1.TA.1-1-B-j19-1.1.R|    04:37:00|      04:38:00|8500301:0:3|            7|          0|            0|\n",
      "|1.TA.1-1-B-j19-1.1.R|    04:40:00|      04:41:00|8500302:0:3|            8|          0|            0|\n",
      "|1.TA.1-1-B-j19-1.1.R|    04:45:00|      04:45:00|8500303:0:2|            9|          0|            0|\n",
      "|1.TA.1-1-B-j19-1.1.R|    04:48:00|      04:49:00|8500320:0:3|           10|          0|            0|\n",
      "|1.TA.1-1-B-j19-1.1.R|    04:52:00|      04:52:00|8500304:0:2|           11|          0|            0|\n",
      "|1.TA.1-1-B-j19-1.1.R|    04:56:00|      04:56:00|8500305:0:1|           12|          0|            0|\n",
      "|25.TA.1-1-B-j19-1...|    05:50:00|      05:50:00|8500010:0:3|            1|          0|            0|\n",
      "|25.TA.1-1-B-j19-1...|    05:54:00|      05:54:00|8500020:0:3|            2|          0|            0|\n",
      "|25.TA.1-1-B-j19-1...|    05:58:00|      05:58:00|8500021:0:5|            3|          0|            0|\n",
      "|25.TA.1-1-B-j19-1...|    06:00:00|      06:00:00|8517131:0:2|            4|          0|            0|\n",
      "|25.TA.1-1-B-j19-1...|    06:02:00|      06:02:00|8500300:0:5|            5|          0|            0|\n",
      "|25.TA.1-1-B-j19-1...|    06:05:00|      06:05:00|8500313:0:2|            6|          0|            0|\n",
      "|25.TA.1-1-B-j19-1...|    06:07:00|      06:08:00|8500301:0:3|            7|          0|            0|\n",
      "|25.TA.1-1-B-j19-1...|    06:10:00|      06:11:00|8500302:0:3|            8|          0|            0|\n",
      "+--------------------+------------+--------------+-----------+-------------+-----------+-------------+\n",
      "only showing top 20 rows"
     ]
    }
   ],
   "source": [
    "stop_times.show()"
   ]
  },
  {
   "cell_type": "code",
   "execution_count": 4,
   "metadata": {},
   "outputs": [
    {
     "data": {
      "application/vnd.jupyter.widget-view+json": {
       "model_id": "",
       "version_major": 2,
       "version_minor": 0
      },
      "text/plain": [
       "FloatProgress(value=0.0, bar_style='info', description='Progress:', layout=Layout(height='25px', width='50%'),…"
      ]
     },
     "metadata": {},
     "output_type": "display_data"
    }
   ],
   "source": [
    "import networkx as nx\n",
    "from geopy.distance import distance as geo_distance\n",
    "from pyspark.sql.types import FloatType\n",
    "from pyspark.sql import Row"
   ]
  },
  {
   "cell_type": "code",
   "execution_count": 5,
   "metadata": {},
   "outputs": [
    {
     "data": {
      "application/vnd.jupyter.widget-view+json": {
       "model_id": "",
       "version_major": 2,
       "version_minor": 0
      },
      "text/plain": [
       "FloatProgress(value=0.0, bar_style='info', description='Progress:', layout=Layout(height='25px', width='50%'),…"
      ]
     },
     "metadata": {},
     "output_type": "display_data"
    },
    {
     "name": "stdout",
     "output_type": "stream",
     "text": [
      "('Number of stations around Zurich:', 1880)\n",
      "+-----------+------------------+--------------------+----------------+----------------+-------------+--------------+\n",
      "|    stop_id|   zurich_distance|           stop_name|        stop_lat|        stop_lon|location_type|parent_station|\n",
      "+-----------+------------------+--------------------+----------------+----------------+-------------+--------------+\n",
      "|    8500926|11.510766966884365|Oetwil a.d.L., Sc...|47.4236270123012| 8.4031825286317|         null|          null|\n",
      "|    8502186|10.798985488832079|Dietikon Stoffelbach|47.3934058321612|8.39894248049007|         null|      8502186P|\n",
      "|8502186:0:1|10.800041577194426|Dietikon Stoffelbach|47.3934666445388|8.39894248049007|         null|      8502186P|\n",
      "|8502186:0:2|10.801101793198619|Dietikon Stoffelbach|47.3935274568464|8.39894248049007|         null|      8502186P|\n",
      "|   8502186P|10.798985488832079|Dietikon Stoffelbach|47.3934058321612|8.39894248049007|            1|          null|\n",
      "|    8502187|12.409213630136994|Rudolfstetten Hof...|47.3646945560768|8.37709545277724|         null|      8502187P|\n",
      "|8502187:0:1|12.408391334825147|Rudolfstetten Hof...|47.3647554015789|8.37709545277724|         null|      8502187P|\n",
      "|8502187:0:2|12.407572674086833|Rudolfstetten Hof...|47.3648162470108|8.37709545277724|         null|      8502187P|\n",
      "|   8502187P|12.409213630136994|Rudolfstetten Hof...|47.3646945560768|8.37709545277724|            1|          null|\n",
      "|    8502188|14.227431292063317|   Zufikon Hammergut|47.3558347019549|8.35472740219955|         null|      8502188P|\n",
      "|8502188:0:1|14.226243718914208|   Zufikon Hammergut|47.3558955576756|8.35472740219955|         null|      8502188P|\n",
      "|8502188:0:2| 14.22505926595959|   Zufikon Hammergut|47.3559564133261|8.35472740219955|         null|      8502188P|\n",
      "|   8502188P|14.227431292063317|   Zufikon Hammergut|47.3558347019549|8.35472740219955|            1|          null|\n",
      "|    8502208|13.797193968894737|     Horgen Oberdorf|47.2587475534877|8.58979854578067|         null|      8502208P|\n",
      "|8502208:0:2|13.777624555384257|     Horgen Oberdorf|47.2589304560815|8.58979854578067|         null|      8502208P|\n",
      "|8502208:0:3|13.790670577681448|     Horgen Oberdorf|47.2588085210892|8.58979854578067|         null|      8502208P|\n",
      "|8502208:0:4|13.784147439735152|     Horgen Oberdorf|47.2588694886204|8.58979854578067|         null|      8502208P|\n",
      "|   8502208P|13.797193968894737|     Horgen Oberdorf|47.2587475534877|8.58979854578067|            1|          null|\n",
      "|    8502209|11.628857061881249|     Oberrieden Dorf|47.2767238569466|  8.577635356832|         null|      8502209P|\n",
      "|8502209:0:1| 11.61571253543463|     Oberrieden Dorf|47.2768457506749|  8.577635356832|         null|      8502209P|\n",
      "+-----------+------------------+--------------------+----------------+----------------+-------------+--------------+\n",
      "only showing top 20 rows"
     ]
    }
   ],
   "source": [
    "zurich_pos = stops.where(column('stop_id')=='8503000').select('stop_lat', 'stop_lon').collect()\n",
    "zurich_pos = (zurich_pos[0][0], zurich_pos[0][1])\n",
    "\n",
    "def zurich_distance(x, y):\n",
    "    return geo_distance(zurich_pos, (x,y)).km\n",
    "\n",
    "stops_distance = stops.rdd.map(lambda x: (x['stop_id'], zurich_distance(x['stop_lat'], x['stop_lon'])))\n",
    "stops_distance = spark.createDataFrame(stops_distance.map(lambda r: Row(stop_id=r[0], zurich_distance=r[1])))\n",
    "stops_distance = stops_distance.filter(column('zurich_distance') <= 15)\n",
    "stops_zurich = stops_distance.join(stops, on='stop_id')\n",
    "print('Number of stations around Zurich:', stops_zurich.count())\n",
    "stops_zurich.show()"
   ]
  },
  {
   "cell_type": "code",
   "execution_count": 6,
   "metadata": {},
   "outputs": [
    {
     "data": {
      "application/vnd.jupyter.widget-view+json": {
       "model_id": "",
       "version_major": 2,
       "version_minor": 0
      },
      "text/plain": [
       "FloatProgress(value=0.0, bar_style='info', description='Progress:', layout=Layout(height='25px', width='50%'),…"
      ]
     },
     "metadata": {},
     "output_type": "display_data"
    },
    {
     "name": "stdout",
     "output_type": "stream",
     "text": [
      "(u'8503000', {'lat': 47.3781762039461, 'lon': 8.54019357578468, 'name': 'Z\\xc3\\xbcrich HB'})"
     ]
    }
   ],
   "source": [
    "for r in stops_zurich.collect():\n",
    "    if r['stop_id'] == '8503000':\n",
    "        print((r['stop_id'], {'name': r['stop_name'].encode('utf-8'), 'lat': r['stop_lat'], 'lon': r['stop_lon']}))\n",
    "        break"
   ]
  },
  {
   "cell_type": "code",
   "execution_count": 7,
   "metadata": {},
   "outputs": [
    {
     "data": {
      "application/vnd.jupyter.widget-view+json": {
       "model_id": "",
       "version_major": 2,
       "version_minor": 0
      },
      "text/plain": [
       "FloatProgress(value=0.0, bar_style='info', description='Progress:', layout=Layout(height='25px', width='50%'),…"
      ]
     },
     "metadata": {},
     "output_type": "display_data"
    }
   ],
   "source": [
    "graph = nx.MultiDiGraph()\n",
    "nodes = stops_zurich.rdd.map(lambda r: (r[0], {'name': r['stop_name'],\n",
    "                                              'lat': r['stop_lat'],\n",
    "                                              'lon': r['stop_lon']})).collect()\n",
    "graph.add_nodes_from(nodes)"
   ]
  },
  {
   "cell_type": "code",
   "execution_count": 8,
   "metadata": {},
   "outputs": [
    {
     "data": {
      "application/vnd.jupyter.widget-view+json": {
       "model_id": "b7956fbe098b4195bfead07f676b1422",
       "version_major": 2,
       "version_minor": 0
      },
      "text/plain": [
       "FloatProgress(value=0.0, bar_style='info', description='Progress:', layout=Layout(height='25px', width='50%'),…"
      ]
     },
     "metadata": {},
     "output_type": "display_data"
    },
    {
     "name": "stderr",
     "output_type": "stream",
     "text": [
      "An error was encountered:\n",
      "Invalid status code '400' from http://iccluster044.iccluster.epfl.ch:8998/sessions/4566/statements/7 with error payload: \"requirement failed: Session isn't active.\"\n"
     ]
    }
   ],
   "source": [
    "@udf\n",
    "def convertToMinute(s):\n",
    "    h, m, _ = s.split(':')\n",
    "    h,m = int(h), int(m)\n",
    "    \n",
    "    return h*60+m\n",
    "\n",
    "# Need to have one day only or filter on days (trip_id unique in a day)\n",
    "nodes_list = list(graph.nodes())\n",
    "stop_times_zurich = stop_times.filter(column('stop_id').isin(nodes_list))\n",
    "stop_times_zurich = stop_times_zurich.filter(column('stop_id').isin(list(graph.nodes())))\n",
    "stop_times_zurich = stop_times_zurich.withColumn('arrival_minute', convertToMinute(column('arrival_time')))\n",
    "stop_times_zurich = stop_times_zurich.withColumn('departure_minute', convertToMinute(column('departure_time')))\n",
    "stop_times_zurich_2 = (stop_times_zurich.withColumn('stop_sequence_prev', column('stop_sequence')-1)\n",
    "                .select('trip_id',\n",
    "                        column('stop_id').alias('next_stop'),\n",
    "                        column('stop_sequence_prev').alias('stop_sequence'),\n",
    "                        column('arrival_minute').alias('next_arrival_minute')))\n",
    "edges_df = stop_times_zurich.join(stop_times_zurich_2, on=['trip_id', 'stop_sequence']).orderBy('trip_id', 'stop_sequence')\n",
    "edges_df = edges_df.withColumn('trip_duration', column('next_arrival_minute')-column('departure_minute'))\n",
    "edges_df = edges_df.select('stop_id', 'arrival_minute', 'departure_minute', 'next_stop', 'trip_duration')\n",
    "edges_df.show()\n",
    "\n",
    "edges = edges_df.rdd.map(lambda r: (r['stop_id'], r['next_stop'], {'duration': r['trip_duration'],\n",
    "                                                          'time': r['departure_minute']})).collect()\n",
    "print('Number of edges:', len(edges))\n",
    "graph.add_edges_from(edges)"
   ]
  }
 ],
 "metadata": {
  "kernelspec": {
   "display_name": "PySpark",
   "language": "",
   "name": "pysparkkernel"
  },
  "language_info": {
   "codemirror_mode": {
    "name": "python",
    "version": 3
   },
   "mimetype": "text/x-python",
   "name": "pyspark",
   "pygments_lexer": "python3"
  }
 },
 "nbformat": 4,
 "nbformat_minor": 4
}
