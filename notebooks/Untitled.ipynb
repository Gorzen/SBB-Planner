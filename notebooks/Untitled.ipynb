{
 "cells": [
  {
   "cell_type": "code",
   "execution_count": 9,
   "metadata": {},
   "outputs": [
    {
     "name": "stdout",
     "output_type": "stream",
     "text": [
      "-rw-r--r--   3 gottraux hdfs      13816 2020-05-22 12:26 /tmp/dslab-group-dir/dijkstra_algorithms.py\n",
      "drwxr-xr-x   - gottraux hdfs          0 2020-05-22 12:26 /tmp/dslab-group-dir/durations_for_confidence_.json\n",
      "drwxr-xr-x   - gottraux hdfs          0 2020-05-22 12:26 /tmp/dslab-group-dir/edges.orc\n",
      "drwxr-xr-x   - gottraux hdfs          0 2020-05-22 12:26 /tmp/dslab-group-dir/edges_with_mean_and_std_sec.orc\n",
      "drwxr-xr-x   - gottraux hdfs          0 2020-05-22 12:26 /tmp/dslab-group-dir/nodes.orc\n"
     ]
    }
   ],
   "source": [
    "hdfs dfs -ls -R /tmp/dslab-group-dir/"
   ]
  },
  {
   "cell_type": "code",
   "execution_count": 12,
   "metadata": {},
   "outputs": [],
   "source": [
    "hdfs dfs -cp  /tmp/dslab-group-dir/durations_for_confidence_.json /user/marvande/"
   ]
  },
  {
   "cell_type": "code",
   "execution_count": 21,
   "metadata": {},
   "outputs": [],
   "source": [
    "hdfs dfs -copyToLocal -f /user/marvande/durations_for_confidence_.json ."
   ]
  },
  {
   "cell_type": "code",
   "execution_count": 28,
   "metadata": {},
   "outputs": [],
   "source": [
    "hdfs dfs -rm /user/${JUPYTERHUB_USER}/dijkstra_algorithms.py 2>/dev/null"
   ]
  },
  {
   "cell_type": "code",
   "execution_count": 29,
   "metadata": {},
   "outputs": [],
   "source": [
    "hdfs dfs -copyFromLocal dijkstra_algorithms.py /user/${JUPYTERHUB_USER}/"
   ]
  },
  {
   "cell_type": "code",
   "execution_count": null,
   "metadata": {},
   "outputs": [],
   "source": []
  }
 ],
 "metadata": {
  "kernelspec": {
   "display_name": "Bash",
   "language": "bash",
   "name": "bash"
  },
  "language_info": {
   "codemirror_mode": "shell",
   "file_extension": ".sh",
   "mimetype": "text/x-sh",
   "name": "bash"
  }
 },
 "nbformat": 4,
 "nbformat_minor": 4
}
