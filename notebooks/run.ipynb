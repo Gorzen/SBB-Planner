{
 "cells": [
  {
   "cell_type": "code",
   "execution_count": 1,
   "metadata": {},
   "outputs": [
    {
     "data": {
      "text/html": [
       "Current session configs: <tt>{'conf': {'spark.app.name': 'dslab-group_final'}, 'kind': 'pyspark'}</tt><br>"
      ],
      "text/plain": [
       "<IPython.core.display.HTML object>"
      ]
     },
     "metadata": {},
     "output_type": "display_data"
    },
    {
     "data": {
      "text/html": [
       "<table>\n",
       "<tr><th>ID</th><th>YARN Application ID</th><th>Kind</th><th>State</th><th>Spark UI</th><th>Driver log</th><th>Current session?</th></tr><tr><td>6577</td><td>application_1589299642358_1066</td><td>pyspark</td><td>idle</td><td><a target=\"_blank\" href=\"http://iccluster044.iccluster.epfl.ch:8088/proxy/application_1589299642358_1066/\">Link</a></td><td><a target=\"_blank\" href=\"http://iccluster070.iccluster.epfl.ch:8042/node/containerlogs/container_e06_1589299642358_1066_01_000001/ebouille\">Link</a></td><td></td></tr><tr><td>6582</td><td>application_1589299642358_1071</td><td>pyspark</td><td>idle</td><td><a target=\"_blank\" href=\"http://iccluster044.iccluster.epfl.ch:8088/proxy/application_1589299642358_1071/\">Link</a></td><td><a target=\"_blank\" href=\"http://iccluster071.iccluster.epfl.ch:8042/node/containerlogs/container_e06_1589299642358_1071_01_000001/ebouille\">Link</a></td><td></td></tr><tr><td>6598</td><td>application_1589299642358_1087</td><td>pyspark</td><td>busy</td><td><a target=\"_blank\" href=\"http://iccluster044.iccluster.epfl.ch:8088/proxy/application_1589299642358_1087/\">Link</a></td><td><a target=\"_blank\" href=\"http://iccluster067.iccluster.epfl.ch:8042/node/containerlogs/container_e06_1589299642358_1087_01_000001/ebouille\">Link</a></td><td></td></tr><tr><td>6600</td><td>application_1589299642358_1089</td><td>pyspark</td><td>idle</td><td><a target=\"_blank\" href=\"http://iccluster044.iccluster.epfl.ch:8088/proxy/application_1589299642358_1089/\">Link</a></td><td><a target=\"_blank\" href=\"http://iccluster070.iccluster.epfl.ch:8042/node/containerlogs/container_e06_1589299642358_1089_01_000001/ebouille\">Link</a></td><td></td></tr><tr><td>6601</td><td>application_1589299642358_1090</td><td>pyspark</td><td>busy</td><td><a target=\"_blank\" href=\"http://iccluster044.iccluster.epfl.ch:8088/proxy/application_1589299642358_1090/\">Link</a></td><td><a target=\"_blank\" href=\"http://iccluster070.iccluster.epfl.ch:8042/node/containerlogs/container_e06_1589299642358_1090_01_000001/ebouille\">Link</a></td><td></td></tr><tr><td>6602</td><td>application_1589299642358_1091</td><td>pyspark</td><td>idle</td><td><a target=\"_blank\" href=\"http://iccluster044.iccluster.epfl.ch:8088/proxy/application_1589299642358_1091/\">Link</a></td><td><a target=\"_blank\" href=\"http://iccluster071.iccluster.epfl.ch:8042/node/containerlogs/container_e06_1589299642358_1091_01_000001/ebouille\">Link</a></td><td></td></tr><tr><td>6603</td><td>application_1589299642358_1092</td><td>pyspark</td><td>busy</td><td><a target=\"_blank\" href=\"http://iccluster044.iccluster.epfl.ch:8088/proxy/application_1589299642358_1092/\">Link</a></td><td><a target=\"_blank\" href=\"http://iccluster067.iccluster.epfl.ch:8042/node/containerlogs/container_e06_1589299642358_1092_01_000001/ebouille\">Link</a></td><td></td></tr><tr><td>6604</td><td>application_1589299642358_1093</td><td>pyspark</td><td>idle</td><td><a target=\"_blank\" href=\"http://iccluster044.iccluster.epfl.ch:8088/proxy/application_1589299642358_1093/\">Link</a></td><td><a target=\"_blank\" href=\"http://iccluster069.iccluster.epfl.ch:8042/node/containerlogs/container_e06_1589299642358_1093_01_000001/ebouille\">Link</a></td><td></td></tr><tr><td>6606</td><td>application_1589299642358_1095</td><td>pyspark</td><td>idle</td><td><a target=\"_blank\" href=\"http://iccluster044.iccluster.epfl.ch:8088/proxy/application_1589299642358_1095/\">Link</a></td><td><a target=\"_blank\" href=\"http://iccluster069.iccluster.epfl.ch:8042/node/containerlogs/container_e06_1589299642358_1095_01_000001/ebouille\">Link</a></td><td></td></tr><tr><td>6609</td><td>application_1589299642358_1098</td><td>pyspark</td><td>idle</td><td><a target=\"_blank\" href=\"http://iccluster044.iccluster.epfl.ch:8088/proxy/application_1589299642358_1098/\">Link</a></td><td><a target=\"_blank\" href=\"http://iccluster066.iccluster.epfl.ch:8042/node/containerlogs/container_e06_1589299642358_1098_01_000001/ebouille\">Link</a></td><td></td></tr></table>"
      ],
      "text/plain": [
       "<IPython.core.display.HTML object>"
      ]
     },
     "metadata": {},
     "output_type": "display_data"
    }
   ],
   "source": [
    "%%configure\n",
    "{\"conf\": {\n",
    "    \"spark.app.name\": \"dslab-group_final\"\n",
    "}}"
   ]
  },
  {
   "cell_type": "markdown",
   "metadata": {},
   "source": [
    "## Imports and helper functions"
   ]
  },
  {
   "cell_type": "code",
   "execution_count": 2,
   "metadata": {},
   "outputs": [
    {
     "name": "stdout",
     "output_type": "stream",
     "text": [
      "Starting Spark application\n"
     ]
    },
    {
     "data": {
      "text/html": [
       "<table>\n",
       "<tr><th>ID</th><th>YARN Application ID</th><th>Kind</th><th>State</th><th>Spark UI</th><th>Driver log</th><th>Current session?</th></tr><tr><td>6610</td><td>application_1589299642358_1099</td><td>pyspark</td><td>idle</td><td><a target=\"_blank\" href=\"http://iccluster044.iccluster.epfl.ch:8088/proxy/application_1589299642358_1099/\">Link</a></td><td><a target=\"_blank\" href=\"http://iccluster070.iccluster.epfl.ch:8042/node/containerlogs/container_e06_1589299642358_1099_01_000001/ebouille\">Link</a></td><td>✔</td></tr></table>"
      ],
      "text/plain": [
       "<IPython.core.display.HTML object>"
      ]
     },
     "metadata": {},
     "output_type": "display_data"
    },
    {
     "data": {
      "application/vnd.jupyter.widget-view+json": {
       "model_id": "",
       "version_major": 2,
       "version_minor": 0
      },
      "text/plain": [
       "FloatProgress(value=0.0, bar_style='info', description='Progress:', layout=Layout(height='25px', width='50%'),…"
      ]
     },
     "metadata": {},
     "output_type": "display_data"
    },
    {
     "name": "stdout",
     "output_type": "stream",
     "text": [
      "SparkSession available as 'spark'.\n"
     ]
    },
    {
     "data": {
      "application/vnd.jupyter.widget-view+json": {
       "model_id": "",
       "version_major": 2,
       "version_minor": 0
      },
      "text/plain": [
       "FloatProgress(value=0.0, bar_style='info', description='Progress:', layout=Layout(height='25px', width='50%'),…"
      ]
     },
     "metadata": {},
     "output_type": "display_data"
    }
   ],
   "source": [
    "import networkx as nx\n",
    "from heapq import heappush, heappop\n",
    "from itertools import count\n",
    "from pyspark.sql.functions import col\n",
    "\n",
    "days_dict = {0: 'monday', 1: 'tuesday', 2: 'wednesday', 3: 'thursday', 4: 'friday'}\n",
    "def day_trips(*day_ids):\n",
    "    \"\"\"\n",
    "    day_trips: gives the trip_ids that operate on certain days\n",
    "    input: a variable number of day ids\n",
    "    output:s spark dataframe with trip_ids\n",
    "    \n",
    "    \"\"\"\n",
    "    days = [days_dict[day_id] for day_id in day_ids]\n",
    "    where_clause = \" and \".join(days)\n",
    "\n",
    "    day_services = calendar.where(where_clause).select('service_id')\n",
    "    return day_services.join(trips, on='service_id').select('trip_id')\n",
    "\n",
    "def minute_to_string(m):\n",
    "    hour, minute = m // 60, m - 60*(m//60)\n",
    "    time_string = '{:02}:{:02}'.format(int(hour), int(minute))\n",
    "    \n",
    "    return time_string\n",
    "\n",
    "def string_to_minute(s):\n",
    "    h, m, _ = s.split(':')\n",
    "    h,m = int(h), int(m)\n",
    "    \n",
    "    return h*60+m\n",
    "\n",
    "def get_time(graph, source, target, j):\n",
    "    attr = graph.edges[(source, target, j)]\n",
    "    return attr['time']\n",
    "\n",
    "def get_weight(graph, source, target, j):\n",
    "    attr = graph.edges[(source, target, j)]\n",
    "    return attr['duration']\n",
    "\n",
    "def normal_dijkstra(G, first_source, paths=None, cutoff=None, last_target=None):\n",
    "    \n",
    "    G_succ = G.succ if G.is_directed() else G.adj\n",
    "    paths = {first_source: [first_source]}\n",
    "\n",
    "    push = heappush\n",
    "    pop = heappop\n",
    "    dist = {}  # dictionary of final distances\n",
    "    \n",
    "    # dictionnary of wthether it's the first time a node is visited\n",
    "    seen = {first_source: 0}\n",
    "\n",
    "    c = count()\n",
    "    fringe = []  # use heapq with (distance,label) tuples\n",
    "    push(fringe, (0, next(c), first_source))\n",
    "    \n",
    "    while fringe:\n",
    "        #take the node to look at: \n",
    "        (d, _, source) = pop(fringe)\n",
    "        \n",
    "        # check if node has already been looked at: \n",
    "        if source in dist:\n",
    "            continue  # already searched this node.\n",
    "        \n",
    "        # update the distance of the node\n",
    "        dist[source] = d\n",
    "        \n",
    "        #stop if the node we look at is the target obviously\n",
    "        if source == last_target:\n",
    "            break\n",
    "            \n",
    "        # Look at all direct descendents from the source node: \n",
    "        for target, edges in G_succ[source].items():\n",
    "            # Because it's a multigraph, need to look at all edges between two nodes:\n",
    "            for edge_id in edges:\n",
    "                \n",
    "                # Get the duration between two nodes:\n",
    "                cost = get_weight_custom(G, source, target, edge_id)\n",
    "                \n",
    "                if cost is None:\n",
    "                        continue\n",
    "                \n",
    "                # Add the weight to the current distance of a node\n",
    "                current_dist = dist[source] + get_weight_custom(G, source, target, edge_id)\n",
    "                \n",
    "                # if target has already been visited once and has a final distance:\n",
    "                if target in dist:\n",
    "                        # if we find a distance smaller than the actual distance in dic\n",
    "                        # raise error because dic distances contains only final distances\n",
    "                        if current_dist < dist[target]:\n",
    "                            raise ValueError('Contradictory paths found:',\n",
    "                                             'negative weights?')\n",
    "                # either node node been seen before or the current distance is smaller than the \n",
    "                # proposed distance in seen[target]:\n",
    "                elif target not in seen or current_dist < seen[target]:\n",
    "                    # update the seen distance\n",
    "                    seen[target] = current_dist\n",
    "                    # push it onto the heap so that we will look at its descendants later\n",
    "                    push(fringe, (current_dist, next(c), target))\n",
    "                    \n",
    "                    # update the paths till target:\n",
    "                    if paths is not None:\n",
    "                        paths[target] = paths[source] + [target]\n",
    "    if paths is not None:\n",
    "        return (dist, paths)\n",
    "    return dist\n",
    "\n",
    "def dijkstra_with_time(G, first_source, INPUT_TIME, paths=None, last_target=None):\n",
    "    \n",
    "    G_succ = G.succ if G.is_directed() else G.adj\n",
    "    \n",
    "    paths = {first_source: [first_source]}\n",
    "    e_paths = {first_source: []}\n",
    "\n",
    "    push = heappush\n",
    "    pop = heappop\n",
    "    dist = {}  # dictionary of final distances\n",
    "    \n",
    "    # dictionnary of wthether it's the first time a node is visited\n",
    "    seen = {first_source: INPUT_TIME}\n",
    "    \n",
    "    \n",
    "    c = count()\n",
    "    fringe = []  # use heapq with (distance,label) tuples\n",
    "    \n",
    "    #push(fringe, (0, next(c), first_source))\n",
    "    push(fringe, (INPUT_TIME, next(c), first_source))\n",
    "    \n",
    "    while fringe:\n",
    "        #take the node to look at: \n",
    "        (d, _, source) = pop(fringe)\n",
    "        #print('Looking at node: '+source)\n",
    "        \n",
    "        # check if node has already been looked at: \n",
    "        if source in dist:\n",
    "            continue  # already searched this node.\n",
    "        \n",
    "        # update the distance of the node\n",
    "        dist[source] = d\n",
    "        \n",
    "        #stop if the node we look at is the target obviously\n",
    "        if source == last_target:\n",
    "            break\n",
    "        \n",
    "        # Look at all direct descendents from the source node: \n",
    "        for target, edges in G_succ[source].items():\n",
    "            # Because it's a multigraph, need to look at all edges between two nodes:\n",
    "            for edge_id in edges:\n",
    "                dep_time_edge = get_time(G, source, target, edge_id)\n",
    "                if dep_time_edge == -1:\n",
    "                    dep_time_edge = d\n",
    "                \n",
    "                # Note: checker si chgt de ligne faire +2min\n",
    "                if dep_time_edge >= dist[source]:\n",
    "                    # Get the duration between two nodes:\n",
    "                    duration_cost = get_weight(G, source, target, edge_id)\n",
    "\n",
    "                    if duration_cost is None:\n",
    "                            continue\n",
    "\n",
    "                    # Add the weight to the current distance of a node\n",
    "                    current_dist = dep_time_edge + duration_cost\n",
    "\n",
    "                    # if target has already been visited once and has a final distance:\n",
    "                    if target in dist:\n",
    "                            # if we find a distance smaller than the actual distance in dic\n",
    "                            # raise error because dic distances contains only final distances\n",
    "                            if current_dist < dist[target]:\n",
    "                                raise ValueError('Contradictory paths found:',\n",
    "                                                 'negative weights?')\n",
    "\n",
    "                    # either node node been seen before or the current distance is smaller than the \n",
    "                    # proposed distance in seen[target]:\n",
    "                    elif target not in seen or current_dist < seen[target]:\n",
    "                        # update the seen distance\n",
    "                        seen[target] = current_dist\n",
    "                        # push it onto the heap so that we will look at its descendants later\n",
    "                        push(fringe, (current_dist, next(c), target))\n",
    "\n",
    "                        # update the paths till target:\n",
    "                        if paths is not None:\n",
    "                            #paths[target] = paths[source] + [target]\n",
    "                            e_paths[target] = e_paths[source] + [(source, target, {'departure_time':dep_time_edge, 'duration':duration_cost})]\n",
    "                            \n",
    "    if  last_target not in e_paths:\n",
    "        print('Error: No paths to the source')\n",
    "        return (0, [])\n",
    "        #raise ValueError('No paths exist to the source') \n",
    "    \n",
    "    if paths is not None:\n",
    "        #return (dist, paths, e_paths)\n",
    "        #return (dist, e_paths)<\n",
    "        \n",
    "        #for _ in range(100):\n",
    "            #Validate path\n",
    "            #for e in path:\n",
    "                #sample_gaussian\n",
    "                #check if miss connection\n",
    "            #If > 0 connection missed, path missed\n",
    "        # if 95% must have missed < 5 path\n",
    "        # if path not validated -> starts with smaller threshold \n",
    "        \n",
    "        arrival_string = minute_to_string(dist[last_target])\n",
    "        best_path = e_paths[last_target]\n",
    "        departure_string = minute_to_string(best_path[0][2]['departure_time'])\n",
    "        stations_id = map(lambda x: x[0], best_path)\n",
    "        \n",
    "        nodes_data = graph.nodes(data=True)\n",
    "        print('Going from {} ({}) to {} ({}), arrival at {}'.format(nodes_data[first_source]['name'],\n",
    "                                                                   first_source,\n",
    "                                                                   nodes_data[last_target]['name'],\n",
    "                                                                   last_target, 'planned_arrival'))\n",
    "        for s, t, info in best_path:\n",
    "            print('\\t{} ({}) -> {} ({}), {:.2f}\\' departure at {}'.format(nodes_data[s]['name'], s,\n",
    "                                                                          nodes_data[t]['name'], t,\n",
    "                                                                          info['duration'],\n",
    "                                                                          minute_to_string(info['departure_time'])))\n",
    "        \n",
    "        return (dist[last_target], e_paths[last_target])\n",
    "    return dist"
   ]
  },
  {
   "cell_type": "code",
   "execution_count": 3,
   "metadata": {},
   "outputs": [],
   "source": [
    "%%local\n",
    "import os\n",
    "username = os.environ['JUPYTERHUB_USER']"
   ]
  },
  {
   "cell_type": "code",
   "execution_count": 4,
   "metadata": {},
   "outputs": [
    {
     "data": {
      "application/vnd.jupyter.widget-view+json": {
       "model_id": "",
       "version_major": 2,
       "version_minor": 0
      },
      "text/plain": [
       "FloatProgress(value=0.0, bar_style='info', description='Progress:', layout=Layout(height='25px', width='50%'),…"
      ]
     },
     "metadata": {},
     "output_type": "display_data"
    },
    {
     "name": "stdout",
     "output_type": "stream",
     "text": [
      "Successfully passed 'username' as 'username' to Spark kernel"
     ]
    }
   ],
   "source": [
    "%%send_to_spark -i username -t str -n username"
   ]
  },
  {
   "cell_type": "markdown",
   "metadata": {},
   "source": [
    "## Choose time of arrival"
   ]
  },
  {
   "cell_type": "code",
   "execution_count": 5,
   "metadata": {},
   "outputs": [
    {
     "data": {
      "application/vnd.jupyter.widget-view+json": {
       "model_id": "",
       "version_major": 2,
       "version_minor": 0
      },
      "text/plain": [
       "FloatProgress(value=0.0, bar_style='info', description='Progress:', layout=Layout(height='25px', width='50%'),…"
      ]
     },
     "metadata": {},
     "output_type": "display_data"
    }
   ],
   "source": [
    "# format: day_id, \"hour:minute:00\"\n",
    "day_id, hour, minute = 4, 12, 5"
   ]
  },
  {
   "cell_type": "markdown",
   "metadata": {},
   "source": [
    "## Create graph"
   ]
  },
  {
   "cell_type": "code",
   "execution_count": 6,
   "metadata": {},
   "outputs": [
    {
     "data": {
      "application/vnd.jupyter.widget-view+json": {
       "model_id": "",
       "version_major": 2,
       "version_minor": 0
      },
      "text/plain": [
       "FloatProgress(value=0.0, bar_style='info', description='Progress:', layout=Layout(height='25px', width='50%'),…"
      ]
     },
     "metadata": {},
     "output_type": "display_data"
    }
   ],
   "source": [
    "trips = spark.read.format('orc').load('/data/sbb/timetables/orc/trips/000000_0')\n",
    "calendar = spark.read.format('orc').load('/data/sbb/timetables/orc/calendar/000000_0')\n",
    "\n",
    "nodes_df = spark.read.orc(\"/user/{}/nodes.orc\".format(username))\n",
    "edges_df = spark.read.orc(\"/user/{}/edges.orc\".format(username))"
   ]
  },
  {
   "cell_type": "code",
   "execution_count": 7,
   "metadata": {},
   "outputs": [
    {
     "data": {
      "application/vnd.jupyter.widget-view+json": {
       "model_id": "",
       "version_major": 2,
       "version_minor": 0
      },
      "text/plain": [
       "FloatProgress(value=0.0, bar_style='info', description='Progress:', layout=Layout(height='25px', width='50%'),…"
      ]
     },
     "metadata": {},
     "output_type": "display_data"
    }
   ],
   "source": [
    "graph = nx.MultiDiGraph()\n",
    "\n",
    "nodes = nodes_df.rdd.map(lambda r: (r[0], {'name': r['stop_name'],\n",
    "                                              'lat': r['stop_lat'],\n",
    "                                              'lon': r['stop_lon']})).collect()\n",
    "\n",
    "# TODO filtrer les nodes pour que ce soit reachable\n",
    "\n",
    "graph.add_nodes_from(nodes)"
   ]
  },
  {
   "cell_type": "code",
   "execution_count": 8,
   "metadata": {},
   "outputs": [
    {
     "data": {
      "application/vnd.jupyter.widget-view+json": {
       "model_id": "",
       "version_major": 2,
       "version_minor": 0
      },
      "text/plain": [
       "FloatProgress(value=0.0, bar_style='info', description='Progress:', layout=Layout(height='25px', width='50%'),…"
      ]
     },
     "metadata": {},
     "output_type": "display_data"
    }
   ],
   "source": [
    "# Temp for problem of encoding\n",
    "nodes_data = graph.nodes(data=True)\n",
    "for n in graph.nodes:\n",
    "    nodes_data[n]['name'] = nodes_data[n]['name'].replace(u'\\xfc', 'u')"
   ]
  },
  {
   "cell_type": "code",
   "execution_count": 9,
   "metadata": {},
   "outputs": [],
   "source": [
    "%%local\n",
    "import pandas as pd\n",
    "walking_times = pd.read_pickle('walking_edges.pickle')"
   ]
  },
  {
   "cell_type": "code",
   "execution_count": 10,
   "metadata": {},
   "outputs": [
    {
     "data": {
      "application/vnd.jupyter.widget-view+json": {
       "model_id": "",
       "version_major": 2,
       "version_minor": 0
      },
      "text/plain": [
       "FloatProgress(value=0.0, bar_style='info', description='Progress:', layout=Layout(height='25px', width='50%'),…"
      ]
     },
     "metadata": {},
     "output_type": "display_data"
    },
    {
     "name": "stdout",
     "output_type": "stream",
     "text": [
      "Successfully passed 'walking_times' as 'walking_times' to Spark kernel"
     ]
    }
   ],
   "source": [
    "%%send_to_spark -i walking_times -t df -m 20000"
   ]
  },
  {
   "cell_type": "code",
   "execution_count": 16,
   "metadata": {},
   "outputs": [
    {
     "data": {
      "application/vnd.jupyter.widget-view+json": {
       "model_id": "",
       "version_major": 2,
       "version_minor": 0
      },
      "text/plain": [
       "FloatProgress(value=0.0, bar_style='info', description='Progress:', layout=Layout(height='25px', width='50%'),…"
      ]
     },
     "metadata": {},
     "output_type": "display_data"
    }
   ],
   "source": [
    "edges_walking = walking_times.toPandas()\n",
    "edges_walking['attrs'] = edges_walking.apply(lambda x: {'time': -1, 'duration': x['walk_duration']+2}, axis=1)\n",
    "edges_walking = list(edges_walking[['source', 'target', 'attrs']].to_numpy())"
   ]
  },
  {
   "cell_type": "code",
   "execution_count": 17,
   "metadata": {},
   "outputs": [
    {
     "data": {
      "application/vnd.jupyter.widget-view+json": {
       "model_id": "",
       "version_major": 2,
       "version_minor": 0
      },
      "text/plain": [
       "FloatProgress(value=0.0, bar_style='info', description='Progress:', layout=Layout(height='25px', width='50%'),…"
      ]
     },
     "metadata": {},
     "output_type": "display_data"
    }
   ],
   "source": [
    "MAX_TRIP_DURATION = 2 #duration in hour \n",
    "\n",
    "def create_edges_for_trip(edges_df, day_id, hour, minute):\n",
    "    \"\"\"\n",
    "    create_edges_for_trip: constructs edges (and thus trips) that exist in a window of two hours before a given input time\n",
    "    @input:\n",
    "    - edges_df: df from which we construct the edges\n",
    "    - day_id: id of week-day (e.g. wednesday is day id 2, see dictionnary above)\n",
    "    - hour, minute: time at which we want to arrive somewhere (e.g. 11:30)\n",
    "    @output: data frame of selected edges\n",
    "    \"\"\"\n",
    "    #select only the trips that occur on that day:\n",
    "    edges_df= edges_df.join(day_trips(day_id), on='trip_id')\n",
    "    \n",
    "    arrival_minute = hour*60+minute\n",
    "    min_dep_time = arrival_minute - 60*60*MAX_TRIP_DURATION\n",
    "    \n",
    "    #keep only those in a window of two hours:\n",
    "    edges_df = edges_df.filter((col('departure_time') > min_dep_time) & \n",
    "                                            (col('arrival_time') <= arrival_minute))\n",
    "\n",
    "    edges = edges_df.rdd.map(lambda r: (r['stop_id'], r['next_stop'], {'duration': r['trip_duration'],\n",
    "                                                                       'time': float(r['departure_time'])})).collect()\n",
    "    \n",
    "    return edges + edges_walking"
   ]
  },
  {
   "cell_type": "code",
   "execution_count": 18,
   "metadata": {},
   "outputs": [
    {
     "data": {
      "application/vnd.jupyter.widget-view+json": {
       "model_id": "",
       "version_major": 2,
       "version_minor": 0
      },
      "text/plain": [
       "FloatProgress(value=0.0, bar_style='info', description='Progress:', layout=Layout(height='25px', width='50%'),…"
      ]
     },
     "metadata": {},
     "output_type": "display_data"
    }
   ],
   "source": [
    "edges = create_edges_for_trip(edges_df, day_id, hour, minute)"
   ]
  },
  {
   "cell_type": "code",
   "execution_count": 19,
   "metadata": {},
   "outputs": [
    {
     "data": {
      "application/vnd.jupyter.widget-view+json": {
       "model_id": "",
       "version_major": 2,
       "version_minor": 0
      },
      "text/plain": [
       "FloatProgress(value=0.0, bar_style='info', description='Progress:', layout=Layout(height='25px', width='50%'),…"
      ]
     },
     "metadata": {},
     "output_type": "display_data"
    }
   ],
   "source": [
    "_ = graph.add_edges_from(edges)"
   ]
  },
  {
   "cell_type": "markdown",
   "metadata": {},
   "source": [
    "## Run algorithm"
   ]
  },
  {
   "cell_type": "code",
   "execution_count": 20,
   "metadata": {},
   "outputs": [
    {
     "data": {
      "application/vnd.jupyter.widget-view+json": {
       "model_id": "",
       "version_major": 2,
       "version_minor": 0
      },
      "text/plain": [
       "FloatProgress(value=0.0, bar_style='info', description='Progress:', layout=Layout(height='25px', width='50%'),…"
      ]
     },
     "metadata": {},
     "output_type": "display_data"
    },
    {
     "name": "stdout",
     "output_type": "stream",
     "text": [
      "Going from Zurich HB (8503000) to Zurich, Auzelg (8591049), arrival at planned_arrival\n",
      "\tZurich HB (8503000) -> Zurich HB (8503000:0:41/42), 2.14' departure at 12:05\n",
      "\tZurich HB (8503000:0:41/42) -> Zurich Hardbrucke (8503020:0:4), 2.00' departure at 12:09\n",
      "\tZurich Hardbrucke (8503020:0:4) -> Zurich, Schiffbau (8594239), 8.24' departure at 12:11\n",
      "\tZurich, Schiffbau (8594239) -> Zurich, Escher-Wyss-Platz (8580522), 10.44' departure at 12:19\n",
      "\tZurich, Escher-Wyss-Platz (8580522) -> Zurich, Rosengartenstrasse (8591323), 11.12' departure at 12:29\n",
      "\tZurich, Rosengartenstrasse (8591323) -> Zurich, Weihersteig (8591425), 10.97' departure at 12:40\n",
      "\tZurich, Weihersteig (8591425) -> Zurich, Bucheggplatz (8591101), 9.33' departure at 12:51\n",
      "\tZurich, Bucheggplatz (8591101) -> Zurich, Radiostudio (8591307), 10.44' departure at 13:01\n",
      "\tZurich, Radiostudio (8591307) -> Zurich, Bad Allenmoos (8591053), 11.55' departure at 13:11\n",
      "\tZurich, Bad Allenmoos (8591053) -> Zurich, Regensbergbrucke (8591314), 8.89' departure at 13:23\n",
      "\tZurich, Regensbergbrucke (8591314) -> Zurich Oerlikon (8503006:0:6), 11.99' departure at 13:31\n",
      "\tZurich Oerlikon (8503006:0:6) -> Zurich Oerlikon, Bahnhof Ost (8591063), 6.14' departure at 13:43\n",
      "\tZurich Oerlikon, Bahnhof Ost (8591063) -> Zurich, Leutschenbach (8591256), 10.74' departure at 13:50\n",
      "\tZurich, Leutschenbach (8591256) -> Zurich, Hagenholz (8591172), 8.39' departure at 14:00\n",
      "\tZurich, Hagenholz (8591172) -> Zurich, Riedbach (8591318), 6.02' departure at 14:09\n",
      "\tZurich, Riedbach (8591318) -> Zurich, Genossenschaftsstrasse (8591225), 8.52' departure at 14:15\n",
      "\tZurich, Genossenschaftsstrasse (8591225) -> Zurich, Auzelg (8591049), 11.27' departure at 14:23"
     ]
    }
   ],
   "source": [
    "time, path = dijkstra_with_time(G=graph, first_source='8503000', last_target='8591049', INPUT_TIME=hour*60+minute)"
   ]
  }
 ],
 "metadata": {
  "kernelspec": {
   "display_name": "PySpark",
   "language": "",
   "name": "pysparkkernel"
  },
  "language_info": {
   "codemirror_mode": {
    "name": "python",
    "version": 3
   },
   "mimetype": "text/x-python",
   "name": "pyspark",
   "pygments_lexer": "python3"
  }
 },
 "nbformat": 4,
 "nbformat_minor": 4
}
