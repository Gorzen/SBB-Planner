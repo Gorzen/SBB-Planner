{
 "cells": [
  {
   "cell_type": "markdown",
   "metadata": {},
   "source": [
    "# Find train type correspondance"
   ]
  },
  {
   "cell_type": "markdown",
   "metadata": {},
   "source": [
    "# Type of trains"
   ]
  },
  {
   "cell_type": "code",
   "execution_count": 167,
   "metadata": {},
   "outputs": [
    {
     "name": "stderr",
     "output_type": "stream",
     "text": [
      "A session has already been started. If you intend to recreate the session with new configurations, please include the -f argument.\n"
     ]
    }
   ],
   "source": [
    "%%configure\n",
    "{\"conf\": {\n",
    "    \"spark.app.name\": \"dslab-group_final\"\n",
    "}}"
   ]
  },
  {
   "cell_type": "markdown",
   "metadata": {},
   "source": [
    "#### Imports:"
   ]
  },
  {
   "cell_type": "code",
   "execution_count": 2,
   "metadata": {},
   "outputs": [
    {
     "name": "stdout",
     "output_type": "stream",
     "text": [
      "Starting Spark application\n"
     ]
    },
    {
     "data": {
      "text/html": [
       "<table>\n",
       "<tr><th>ID</th><th>YARN Application ID</th><th>Kind</th><th>State</th><th>Spark UI</th><th>Driver log</th><th>Current session?</th></tr><tr><td>6485</td><td>application_1589299642358_0974</td><td>pyspark</td><td>idle</td><td><a target=\"_blank\" href=\"http://iccluster044.iccluster.epfl.ch:8088/proxy/application_1589299642358_0974/\">Link</a></td><td><a target=\"_blank\" href=\"http://iccluster068.iccluster.epfl.ch:8042/node/containerlogs/container_e06_1589299642358_0974_01_000001/ebouille\">Link</a></td><td>✔</td></tr></table>"
      ],
      "text/plain": [
       "<IPython.core.display.HTML object>"
      ]
     },
     "metadata": {},
     "output_type": "display_data"
    },
    {
     "data": {
      "application/vnd.jupyter.widget-view+json": {
       "model_id": "",
       "version_major": 2,
       "version_minor": 0
      },
      "text/plain": [
       "FloatProgress(value=0.0, bar_style='info', description='Progress:', layout=Layout(height='25px', width='50%'),…"
      ]
     },
     "metadata": {},
     "output_type": "display_data"
    },
    {
     "name": "stdout",
     "output_type": "stream",
     "text": [
      "SparkSession available as 'spark'.\n"
     ]
    },
    {
     "data": {
      "application/vnd.jupyter.widget-view+json": {
       "model_id": "",
       "version_major": 2,
       "version_minor": 0
      },
      "text/plain": [
       "FloatProgress(value=0.0, bar_style='info', description='Progress:', layout=Layout(height='25px', width='50%'),…"
      ]
     },
     "metadata": {},
     "output_type": "display_data"
    }
   ],
   "source": [
    "import networkx as nx\n",
    "from geopy.distance import distance as geo_distance\n",
    "from pyspark.sql import Row\n",
    "import pyspark.sql.functions as f\n",
    "from pyspark.sql.functions import *\n",
    "from pyspark.sql.types import FloatType\n",
    "from networkx.algorithms.shortest_paths.weighted import dijkstra_path"
   ]
  },
  {
   "cell_type": "code",
   "execution_count": 3,
   "metadata": {},
   "outputs": [
    {
     "data": {
      "application/vnd.jupyter.widget-view+json": {
       "model_id": "",
       "version_major": 2,
       "version_minor": 0
      },
      "text/plain": [
       "FloatProgress(value=0.0, bar_style='info', description='Progress:', layout=Layout(height='25px', width='50%'),…"
      ]
     },
     "metadata": {},
     "output_type": "display_data"
    }
   ],
   "source": [
    "routes = spark.read.format('orc').load('/data/sbb/timetables/orc/routes')\n",
    "stop_times = spark.read.format('orc').load('/data/sbb/timetables/orc/stop_times/000000_0')\n",
    "stops = spark.read.format('orc').load('/data/sbb/timetables/orc/stops/000000_0')\n",
    "trips = spark.read.format('orc').load('/data/sbb/timetables/orc/trips/000000_0')\n",
    "actual = spark.read.format('orc').load('/data/sbb/orc/istdaten/')"
   ]
  },
  {
   "cell_type": "code",
   "execution_count": 4,
   "metadata": {},
   "outputs": [],
   "source": [
    "%%local\n",
    "import pandas as pd\n",
    "mean_std_df = pd.read_pickle('pickle_delay_distribution')"
   ]
  },
  {
   "cell_type": "code",
   "execution_count": 5,
   "metadata": {},
   "outputs": [
    {
     "data": {
      "application/vnd.jupyter.widget-view+json": {
       "model_id": "",
       "version_major": 2,
       "version_minor": 0
      },
      "text/plain": [
       "FloatProgress(value=0.0, bar_style='info', description='Progress:', layout=Layout(height='25px', width='50%'),…"
      ]
     },
     "metadata": {},
     "output_type": "display_data"
    },
    {
     "name": "stdout",
     "output_type": "stream",
     "text": [
      "Successfully passed 'mean_std_df' as 'mean_std_df' to Spark kernel"
     ]
    }
   ],
   "source": [
    "%%send_to_spark -i mean_std_df -t df"
   ]
  },
  {
   "cell_type": "code",
   "execution_count": 6,
   "metadata": {},
   "outputs": [
    {
     "data": {
      "application/vnd.jupyter.widget-view+json": {
       "model_id": "",
       "version_major": 2,
       "version_minor": 0
      },
      "text/plain": [
       "FloatProgress(value=0.0, bar_style='info', description='Progress:', layout=Layout(height='25px', width='50%'),…"
      ]
     },
     "metadata": {},
     "output_type": "display_data"
    },
    {
     "name": "stdout",
     "output_type": "stream",
     "text": [
      "+-------------+\n",
      "|   route_desc|\n",
      "+-------------+\n",
      "|          TGV|\n",
      "|     Eurocity|\n",
      "|Standseilbahn|\n",
      "|  Regionalzug|\n",
      "| RegioExpress|\n",
      "|       S-Bahn|\n",
      "| Luftseilbahn|\n",
      "|   Sesselbahn|\n",
      "|         Taxi|\n",
      "|        Fähre|\n",
      "|         Tram|\n",
      "|          ICE|\n",
      "|          Bus|\n",
      "|   Gondelbahn|\n",
      "|    Nacht-Zug|\n",
      "|  Auoreisezug|\n",
      "|     Eurostar|\n",
      "|       Schiff|\n",
      "|   Schnellzug|\n",
      "|    Intercity|\n",
      "|   InterRegio|\n",
      "|     Extrazug|\n",
      "|        Metro|\n",
      "+-------------+"
     ]
    }
   ],
   "source": [
    "routes.select(col('route_desc')).distinct().show(100)"
   ]
  },
  {
   "cell_type": "code",
   "execution_count": 8,
   "metadata": {},
   "outputs": [
    {
     "data": {
      "application/vnd.jupyter.widget-view+json": {
       "model_id": "",
       "version_major": 2,
       "version_minor": 0
      },
      "text/plain": [
       "FloatProgress(value=0.0, bar_style='info', description='Progress:', layout=Layout(height='25px', width='50%'),…"
      ]
     },
     "metadata": {},
     "output_type": "display_data"
    }
   ],
   "source": [
    "translate_route_desc = {\n",
    "    'TGV': 'TGV',\n",
    "    'Eurocity': 'EC',\n",
    "    'tandseilbahn': 'AT',\n",
    "    'Regionalzug': 'R',\n",
    "    'RegioExpress': 'RE',\n",
    "    'S-Bahn': 'S',\n",
    "    'Luftseilbahn': '',\n",
    "    'Sesselbahn': '',\n",
    "    'Taxi': '',\n",
    "    'Fähre': '',\n",
    "    'Tram': 'Tram',\n",
    "    'ICE': 'ICE',\n",
    "    'Bus': 'Bus',\n",
    "    'Gondelbahn': '',\n",
    "    'Nacht-Zug': '',\n",
    "    'Standseilbahn': 'AT',\n",
    "    'Auoreisezug': 'ARZ',\n",
    "    'Eurostar': 'EC',\n",
    "    'Schiff': '',\n",
    "    'Schnellzug': 'TGV',\n",
    "    'Intercity': 'IC',\n",
    "    'InterRegio': 'IR',\n",
    "    'Extrazug': 'EXT',\n",
    "    'Metro': 'Metro'\n",
    "}"
   ]
  },
  {
   "cell_type": "markdown",
   "metadata": {},
   "source": [
    "## Check T"
   ]
  },
  {
   "cell_type": "code",
   "execution_count": 43,
   "metadata": {},
   "outputs": [
    {
     "data": {
      "application/vnd.jupyter.widget-view+json": {
       "model_id": "",
       "version_major": 2,
       "version_minor": 0
      },
      "text/plain": [
       "FloatProgress(value=0.0, bar_style='info', description='Progress:', layout=Layout(height='25px', width='50%'),…"
      ]
     },
     "metadata": {},
     "output_type": "display_data"
    },
    {
     "name": "stdout",
     "output_type": "stream",
     "text": [
      "[Row(fahrt_bezeichner=u'85:3849:113276-32002-1'), Row(fahrt_bezeichner=u'85:3849:134333-32002-1')]"
     ]
    }
   ],
   "source": [
    "actual.where(col('verkehrsmittel_text') == 'T').where(col('haltestellen_name') == 'Zürich, Bachmattstrasse').select(col('fahrt_bezeichner')).limit(2).collect()"
   ]
  },
  {
   "cell_type": "code",
   "execution_count": 53,
   "metadata": {},
   "outputs": [
    {
     "data": {
      "application/vnd.jupyter.widget-view+json": {
       "model_id": "",
       "version_major": 2,
       "version_minor": 0
      },
      "text/plain": [
       "FloatProgress(value=0.0, bar_style='info', description='Progress:', layout=Layout(height='25px', width='50%'),…"
      ]
     },
     "metadata": {},
     "output_type": "display_data"
    },
    {
     "name": "stdout",
     "output_type": "stream",
     "text": [
      "+------------------------------+----------------+-------------------+\n",
      "|haltestellen_name             |ankunftszeit    |verkehrsmittel_text|\n",
      "+------------------------------+----------------+-------------------+\n",
      "|Schlieren, Zentrum/Bahnhof    |28.12.2019 00:48|T                  |\n",
      "|Schlieren, Wagonsfabrik       |28.12.2019 00:49|T                  |\n",
      "|Schlieren, Gasometerbrücke    |28.12.2019 00:50|T                  |\n",
      "|Schlieren, Mülligen           |28.12.2019 00:51|T                  |\n",
      "|Zürich, Micafil               |28.12.2019 00:52|T                  |\n",
      "|Zürich, Farbhof               |28.12.2019 00:53|T                  |\n",
      "|Zürich, Bachmattstrasse       |28.12.2019 00:54|T                  |\n",
      "|Zürich, Lindenplatz           |28.12.2019 00:55|T                  |\n",
      "|Zürich, Grimselstrasse        |28.12.2019 00:56|T                  |\n",
      "|Zürich, Kappeli               |28.12.2019 00:58|T                  |\n",
      "|Zürich, Freihofstrasse        |28.12.2019 00:59|T                  |\n",
      "|Zürich, Letzigrund            |28.12.2019 01:00|T                  |\n",
      "|Zürich, Albisriederplatz      |28.12.2019 01:01|T                  |\n",
      "|Zürich, Zypressenstrasse      |28.12.2019 01:02|T                  |\n",
      "|Zürich, Lochergut             |28.12.2019 01:03|T                  |\n",
      "|Zürich,Kalkbreite/Bhf.Wiedikon|28.12.2019 01:05|T                  |\n",
      "+------------------------------+----------------+-------------------+"
     ]
    }
   ],
   "source": [
    "actual.where(col('verkehrsmittel_text') == 'T').where(col('fahrt_bezeichner') == '85:3849:113276-32002-1')\\\n",
    "        .select(col('haltestellen_name'), col('ankunftszeit'), col('verkehrsmittel_text'))\\\n",
    "        .where(col('ankunftszeit') >= '23.09.2019 07:00').sort('ankunftszeit').show(20, False)"
   ]
  },
  {
   "cell_type": "markdown",
   "metadata": {},
   "source": [
    "#### From sbb.ch -> T is Tram"
   ]
  },
  {
   "cell_type": "markdown",
   "metadata": {},
   "source": [
    "## Check B"
   ]
  },
  {
   "cell_type": "code",
   "execution_count": 37,
   "metadata": {},
   "outputs": [
    {
     "data": {
      "application/vnd.jupyter.widget-view+json": {
       "model_id": "",
       "version_major": 2,
       "version_minor": 0
      },
      "text/plain": [
       "FloatProgress(value=0.0, bar_style='info', description='Progress:', layout=Layout(height='25px', width='50%'),…"
      ]
     },
     "metadata": {},
     "output_type": "display_data"
    },
    {
     "name": "stdout",
     "output_type": "stream",
     "text": [
      "[Row(fahrt_bezeichner=u'85:827:280700-02132-1'), Row(fahrt_bezeichner=u'85:827:280700-02132-1')]"
     ]
    }
   ],
   "source": [
    "actual.where(col('verkehrsmittel_text') == 'B').select(col('fahrt_bezeichner')).limit(2).collect()"
   ]
  },
  {
   "cell_type": "code",
   "execution_count": 52,
   "metadata": {},
   "outputs": [
    {
     "data": {
      "application/vnd.jupyter.widget-view+json": {
       "model_id": "",
       "version_major": 2,
       "version_minor": 0
      },
      "text/plain": [
       "FloatProgress(value=0.0, bar_style='info', description='Progress:', layout=Layout(height='25px', width='50%'),…"
      ]
     },
     "metadata": {},
     "output_type": "display_data"
    },
    {
     "name": "stdout",
     "output_type": "stream",
     "text": [
      "+---------------------+----------------+-------------------+\n",
      "|haltestellen_name    |ankunftszeit    |verkehrsmittel_text|\n",
      "+---------------------+----------------+-------------------+\n",
      "|Bern Bahnhof         |25.10.2019 05:15|B                  |\n",
      "|Bundesplatz          |25.10.2019 05:17|B                  |\n",
      "|Zytglogge            |25.10.2019 05:19|B                  |\n",
      "|Viktoriaplatz        |25.10.2019 05:20|B                  |\n",
      "|Salem                |25.10.2019 05:21|B                  |\n",
      "|Schönburg            |25.10.2019 05:22|B                  |\n",
      "|Rosengarten          |25.10.2019 05:23|B                  |\n",
      "|Galgenfeld           |25.10.2019 05:24|B                  |\n",
      "|Waldeck              |25.10.2019 05:26|B                  |\n",
      "|Schosshaldenfriedhof |25.10.2019 05:26|B                  |\n",
      "|Ostermundigen Bahnhof|25.10.2019 05:27|B                  |\n",
      "|Zollgasse            |25.10.2019 05:29|B                  |\n",
      "|Wegmühlegässli       |25.10.2019 05:30|B                  |\n",
      "|Sportplatzweg        |25.10.2019 05:31|B                  |\n",
      "|Oberfeld             |25.10.2019 05:32|B                  |\n",
      "|Ostermundigen Rüti   |25.10.2019 05:33|B                  |\n",
      "+---------------------+----------------+-------------------+"
     ]
    }
   ],
   "source": [
    "actual.where(col('verkehrsmittel_text') == 'B').where(col('fahrt_bezeichner') == '85:827:280700-02132-1')\\\n",
    "        .select(col('haltestellen_name'), col('ankunftszeit'), col('verkehrsmittel_text'))\\\n",
    "        .where(col('ankunftszeit') >= '23.09.2019 07:00').sort('ankunftszeit').show(20, False)"
   ]
  },
  {
   "cell_type": "markdown",
   "metadata": {},
   "source": [
    "#### From sbb.ch -> B is Bus"
   ]
  },
  {
   "cell_type": "markdown",
   "metadata": {},
   "source": [
    "## Check NFB"
   ]
  },
  {
   "cell_type": "code",
   "execution_count": 47,
   "metadata": {},
   "outputs": [
    {
     "data": {
      "application/vnd.jupyter.widget-view+json": {
       "model_id": "",
       "version_major": 2,
       "version_minor": 0
      },
      "text/plain": [
       "FloatProgress(value=0.0, bar_style='info', description='Progress:', layout=Layout(height='25px', width='50%'),…"
      ]
     },
     "metadata": {},
     "output_type": "display_data"
    },
    {
     "name": "stdout",
     "output_type": "stream",
     "text": [
      "[Row(fahrt_bezeichner=u'85:870:51001'), Row(fahrt_bezeichner=u'85:870:51001')]"
     ]
    }
   ],
   "source": [
    "actual.where(col('verkehrsmittel_text') == 'NFB').select(col('fahrt_bezeichner')).limit(2).collect()"
   ]
  },
  {
   "cell_type": "code",
   "execution_count": 51,
   "metadata": {},
   "outputs": [
    {
     "data": {
      "application/vnd.jupyter.widget-view+json": {
       "model_id": "",
       "version_major": 2,
       "version_minor": 0
      },
      "text/plain": [
       "FloatProgress(value=0.0, bar_style='info', description='Progress:', layout=Layout(height='25px', width='50%'),…"
      ]
     },
     "metadata": {},
     "output_type": "display_data"
    },
    {
     "name": "stdout",
     "output_type": "stream",
     "text": [
      "+------------------------------+----------------+-------------------+\n",
      "|haltestellen_name             |ankunftszeit    |verkehrsmittel_text|\n",
      "+------------------------------+----------------+-------------------+\n",
      "|Wangenried, Linde             |23.10.2018 05:30|NFB                |\n",
      "|Wangenried, Unterdorf         |23.10.2018 05:31|NFB                |\n",
      "|Wangen a.d. Aare, Unterführung|23.10.2018 05:32|NFB                |\n",
      "|Wangen a.A., Bahnhof          |23.10.2018 05:34|NFB                |\n",
      "|Wangen a.d.Aare, Zytglogge    |23.10.2018 05:35|NFB                |\n",
      "|Herzogenbuchsee, Jurablick    |23.10.2019 05:21|NFB                |\n",
      "|Wanzwil, Post                 |23.10.2019 05:22|NFB                |\n",
      "|Röthenbach, Chrump            |23.10.2019 05:23|NFB                |\n",
      "|Röthenbach b. H., Post        |23.10.2019 05:24|NFB                |\n",
      "|Röthenbach, Schützenhaus      |23.10.2019 05:25|NFB                |\n",
      "|Wangenried, Sägerei           |23.10.2019 05:27|NFB                |\n",
      "|Wangenried, Schule            |23.10.2019 05:28|NFB                |\n",
      "|Wangenried, Linde             |23.10.2019 05:29|NFB                |\n",
      "|Wangenried, Unterdorf         |23.10.2019 05:30|NFB                |\n",
      "|Wangen a.d. Aare, Unterführung|23.10.2019 05:31|NFB                |\n",
      "|Wangen a.A., Bahnhof          |23.10.2019 05:33|NFB                |\n",
      "|Wangen a.d.Aare, Zytglogge    |23.10.2019 05:34|NFB                |\n",
      "|Wangenried, Linde             |23.11.2018 05:30|NFB                |\n",
      "|Wangenried, Unterdorf         |23.11.2018 05:31|NFB                |\n",
      "|Wangen a.d. Aare, Unterführung|23.11.2018 05:32|NFB                |\n",
      "+------------------------------+----------------+-------------------+\n",
      "only showing top 20 rows"
     ]
    }
   ],
   "source": [
    "actual.where(col('verkehrsmittel_text') == 'NFB').where(col('fahrt_bezeichner') == '85:870:51001')\\\n",
    "        .select(col('haltestellen_name'), col('ankunftszeit'), col('verkehrsmittel_text'))\\\n",
    "        .where(col('ankunftszeit') >= '23.09.2019 07:00').sort('ankunftszeit').show(20, False)"
   ]
  },
  {
   "cell_type": "markdown",
   "metadata": {},
   "source": [
    "#### From sbb.ch -> NFB is Bus, NF actually means 'NiederFlurzüge' meaning the bus can be used by disabled"
   ]
  },
  {
   "cell_type": "markdown",
   "metadata": {},
   "source": [
    "## Check R"
   ]
  },
  {
   "cell_type": "code",
   "execution_count": 66,
   "metadata": {},
   "outputs": [
    {
     "data": {
      "application/vnd.jupyter.widget-view+json": {
       "model_id": "",
       "version_major": 2,
       "version_minor": 0
      },
      "text/plain": [
       "FloatProgress(value=0.0, bar_style='info', description='Progress:', layout=Layout(height='25px', width='50%'),…"
      ]
     },
     "metadata": {},
     "output_type": "display_data"
    },
    {
     "name": "stdout",
     "output_type": "stream",
     "text": [
      "[Row(fahrt_bezeichner=u'81:817000:5702:002'), Row(fahrt_bezeichner=u'81:817000:5703:001'), Row(fahrt_bezeichner=u'81:817000:5704:001'), Row(fahrt_bezeichner=u'81:817000:5706:001'), Row(fahrt_bezeichner=u'81:817000:5707:001'), Row(fahrt_bezeichner=u'81:817000:5708:001'), Row(fahrt_bezeichner=u'81:817000:5710:001'), Row(fahrt_bezeichner=u'81:817000:5715:001'), Row(fahrt_bezeichner=u'81:817000:5721:001'), Row(fahrt_bezeichner=u'81:817000:5722:001'), Row(fahrt_bezeichner=u'81:817000:5723:001'), Row(fahrt_bezeichner=u'81:817000:5725:001'), Row(fahrt_bezeichner=u'81:817000:5727:001'), Row(fahrt_bezeichner=u'81:817000:5729:001'), Row(fahrt_bezeichner=u'83:3270__:28318:000'), Row(fahrt_bezeichner=u'83:3270__:28318:000'), Row(fahrt_bezeichner=u'83:3270__:28318:000'), Row(fahrt_bezeichner=u'83:3270__:28318:000'), Row(fahrt_bezeichner=u'83:3270__:28330:000'), Row(fahrt_bezeichner=u'83:3270__:28330:000')]"
     ]
    }
   ],
   "source": [
    "actual.where(col('verkehrsmittel_text') == 'R').select(col('fahrt_bezeichner')).limit(20).collect()"
   ]
  },
  {
   "cell_type": "code",
   "execution_count": 69,
   "metadata": {},
   "outputs": [
    {
     "data": {
      "application/vnd.jupyter.widget-view+json": {
       "model_id": "",
       "version_major": 2,
       "version_minor": 0
      },
      "text/plain": [
       "FloatProgress(value=0.0, bar_style='info', description='Progress:', layout=Layout(height='25px', width='50%'),…"
      ]
     },
     "metadata": {},
     "output_type": "display_data"
    },
    {
     "name": "stdout",
     "output_type": "stream",
     "text": [
      "+-----------------+----------------+-------------------+\n",
      "|haltestellen_name|ankunftszeit    |verkehrsmittel_text|\n",
      "+-----------------+----------------+-------------------+\n",
      "|Stabio           |01.09.2018 08:22|R                  |\n",
      "|Mendrisio        |01.09.2018 08:27|R                  |\n",
      "|Balerna          |01.09.2018 08:36|R                  |\n",
      "|Chiasso          |01.09.2018 08:40|R                  |\n",
      "|Stabio           |02.09.2018 08:22|R                  |\n",
      "|Mendrisio        |02.09.2018 08:27|R                  |\n",
      "|Balerna          |02.09.2018 08:36|R                  |\n",
      "|Chiasso          |02.09.2018 08:40|R                  |\n",
      "|Stabio           |03.09.2018 08:22|R                  |\n",
      "|Mendrisio        |03.09.2018 08:27|R                  |\n",
      "|Balerna          |03.09.2018 08:36|R                  |\n",
      "|Chiasso          |03.09.2018 08:40|R                  |\n",
      "|Stabio           |04.09.2018 08:22|R                  |\n",
      "|Mendrisio        |04.09.2018 08:27|R                  |\n",
      "|Balerna          |04.09.2018 08:36|R                  |\n",
      "|Chiasso          |04.09.2018 08:40|R                  |\n",
      "|Stabio           |05.09.2018 08:22|R                  |\n",
      "|Mendrisio        |05.09.2018 08:27|R                  |\n",
      "|Balerna          |05.09.2018 08:36|R                  |\n",
      "|Chiasso          |05.09.2018 08:40|R                  |\n",
      "+-----------------+----------------+-------------------+\n",
      "only showing top 20 rows"
     ]
    }
   ],
   "source": [
    "actual.where(col('verkehrsmittel_text') == 'R').where(col('fahrt_bezeichner') == '83:3270__:28318:000')\\\n",
    "        .select(col('haltestellen_name'), col('ankunftszeit'), col('verkehrsmittel_text'))\\\n",
    "        .sort('ankunftszeit').show(20, False)"
   ]
  },
  {
   "cell_type": "markdown",
   "metadata": {},
   "source": [
    "#### From sbb.ch -> R is regional train"
   ]
  },
  {
   "cell_type": "markdown",
   "metadata": {},
   "source": [
    "## Check M"
   ]
  },
  {
   "cell_type": "code",
   "execution_count": 71,
   "metadata": {},
   "outputs": [
    {
     "data": {
      "application/vnd.jupyter.widget-view+json": {
       "model_id": "",
       "version_major": 2,
       "version_minor": 0
      },
      "text/plain": [
       "FloatProgress(value=0.0, bar_style='info', description='Progress:', layout=Layout(height='25px', width='50%'),…"
      ]
     },
     "metadata": {},
     "output_type": "display_data"
    },
    {
     "name": "stdout",
     "output_type": "stream",
     "text": [
      "[Row(fahrt_bezeichner=u'85:151:TL070-4506262507106362'), Row(fahrt_bezeichner=u'85:151:TL070-4506262507106362')]"
     ]
    }
   ],
   "source": [
    "actual.where(col('verkehrsmittel_text') == 'M').select(col('fahrt_bezeichner')).limit(2).collect()"
   ]
  },
  {
   "cell_type": "code",
   "execution_count": 72,
   "metadata": {},
   "outputs": [
    {
     "data": {
      "application/vnd.jupyter.widget-view+json": {
       "model_id": "",
       "version_major": 2,
       "version_minor": 0
      },
      "text/plain": [
       "FloatProgress(value=0.0, bar_style='info', description='Progress:', layout=Layout(height='25px', width='50%'),…"
      ]
     },
     "metadata": {},
     "output_type": "display_data"
    },
    {
     "name": "stdout",
     "output_type": "stream",
     "text": [
      "+------------------------------+----------------+-------------------+\n",
      "|haltestellen_name             |ankunftszeit    |verkehrsmittel_text|\n",
      "+------------------------------+----------------+-------------------+\n",
      "|Lausanne, Vigie               |23.10.2019 05:31|M                  |\n",
      "|Lausanne, Montelly            |23.10.2019 05:33|M                  |\n",
      "|Lausanne, Provence            |23.10.2019 05:34|M                  |\n",
      "|Lausanne, Malley              |23.10.2019 05:35|M                  |\n",
      "|Lausanne, Bourdonnette        |23.10.2019 05:38|M                  |\n",
      "|Chavannes-R., UNIL-Chamberonne|23.10.2019 05:39|M                  |\n",
      "|Chavannes-R., UNIL-Mouline    |23.10.2019 05:40|M                  |\n",
      "|Ecublens VD, UNIL-Sorge       |23.10.2019 05:41|M                  |\n",
      "|Ecublens VD, EPFL             |23.10.2019 05:43|M                  |\n",
      "|Ecublens VD, Bassenges        |23.10.2019 05:44|M                  |\n",
      "|Ecublens VD, Cerisaie         |23.10.2019 05:45|M                  |\n",
      "|Chavannes-R., Crochy          |23.10.2019 05:46|M                  |\n",
      "|Ecublens VD, Epenex           |23.10.2019 05:47|M                  |\n",
      "|Renens VD, gare               |23.10.2019 05:49|M                  |\n",
      "|Lausanne, Vigie               |23.12.2019 05:31|M                  |\n",
      "|Lausanne, Montelly            |23.12.2019 05:33|M                  |\n",
      "|Lausanne, Provence            |23.12.2019 05:34|M                  |\n",
      "|Lausanne, Malley              |23.12.2019 05:35|M                  |\n",
      "|Lausanne, Bourdonnette        |23.12.2019 05:38|M                  |\n",
      "|Chavannes-R., UNIL-Chamberonne|23.12.2019 05:39|M                  |\n",
      "+------------------------------+----------------+-------------------+\n",
      "only showing top 20 rows"
     ]
    }
   ],
   "source": [
    "actual.where(col('verkehrsmittel_text') == 'M').where(col('fahrt_bezeichner') == '85:151:TL070-4506262507106362')\\\n",
    "        .select(col('haltestellen_name'), col('ankunftszeit'), col('verkehrsmittel_text'))\\\n",
    "        .where(col('ankunftszeit') >= '23.09.2019 07:00').sort('ankunftszeit').show(20, False)"
   ]
  },
  {
   "cell_type": "markdown",
   "metadata": {},
   "source": [
    "#### From sbb.ch -> M is Metro"
   ]
  },
  {
   "cell_type": "markdown",
   "metadata": {},
   "source": [
    "## Check BN"
   ]
  },
  {
   "cell_type": "code",
   "execution_count": 74,
   "metadata": {},
   "outputs": [
    {
     "data": {
      "application/vnd.jupyter.widget-view+json": {
       "model_id": "",
       "version_major": 2,
       "version_minor": 0
      },
      "text/plain": [
       "FloatProgress(value=0.0, bar_style='info', description='Progress:', layout=Layout(height='25px', width='50%'),…"
      ]
     },
     "metadata": {},
     "output_type": "display_data"
    },
    {
     "name": "stdout",
     "output_type": "stream",
     "text": [
      "[Row(fahrt_bezeichner=u'85:773:9232-01353-1'), Row(fahrt_bezeichner=u'85:773:9232-01353-1')]"
     ]
    }
   ],
   "source": [
    "actual.where(col('verkehrsmittel_text') == 'BN').select(col('fahrt_bezeichner')).limit(2).collect()"
   ]
  },
  {
   "cell_type": "code",
   "execution_count": 80,
   "metadata": {},
   "outputs": [
    {
     "data": {
      "application/vnd.jupyter.widget-view+json": {
       "model_id": "",
       "version_major": 2,
       "version_minor": 0
      },
      "text/plain": [
       "FloatProgress(value=0.0, bar_style='info', description='Progress:', layout=Layout(height='25px', width='50%'),…"
      ]
     },
     "metadata": {},
     "output_type": "display_data"
    },
    {
     "name": "stdout",
     "output_type": "stream",
     "text": [
      "+-----------------------------+----------------+-------------------+\n",
      "|haltestellen_name            |ankunftszeit    |verkehrsmittel_text|\n",
      "+-----------------------------+----------------+-------------------+\n",
      "|Watt, Geerenweg              |23.11.2019 01:27|BN                 |\n",
      "|Watt, Schulhaus              |23.11.2019 01:28|BN                 |\n",
      "|Watt                         |23.11.2019 01:28|BN                 |\n",
      "|Adlikon b. R., Pächterried   |23.11.2019 01:29|BN                 |\n",
      "|Adlikon bei Regensdorf       |23.11.2019 01:30|BN                 |\n",
      "|Adlikon b. R., Sonnhalde     |23.11.2019 01:32|BN                 |\n",
      "|Adlikon b. R., Sonnhalde West|23.11.2019 01:32|BN                 |\n",
      "|Buchs ZH, Petermoos          |23.11.2019 01:34|BN                 |\n",
      "|Buchs ZH, Linde              |23.11.2019 01:35|BN                 |\n",
      "|Buchs ZH, Post               |23.11.2019 01:36|BN                 |\n",
      "|Buchs-Dällikon, Bahnhof      |23.11.2019 01:37|BN                 |\n",
      "|Buchs ZH, Industrie          |23.11.2019 01:38|BN                 |\n",
      "|Dällikon, Industrie          |23.11.2019 01:39|BN                 |\n",
      "|Dällikon                     |23.11.2019 01:41|BN                 |\n",
      "|Dänikon                      |23.11.2019 01:44|BN                 |\n",
      "|Dänikon, Rotflue             |23.11.2019 01:46|BN                 |\n",
      "|Hüttikon                     |23.11.2019 01:47|BN                 |\n",
      "|Otelfingen, Bahnhof          |23.11.2019 01:49|BN                 |\n",
      "|Otelfingen, Landstrasse      |23.11.2019 01:50|BN                 |\n",
      "|Otelfingen, Post             |23.11.2019 01:51|BN                 |\n",
      "+-----------------------------+----------------+-------------------+\n",
      "only showing top 20 rows"
     ]
    }
   ],
   "source": [
    "actual.where(col('verkehrsmittel_text') == 'BN').where(col('fahrt_bezeichner') == '85:773:9232-01353-1')\\\n",
    "        .select(col('haltestellen_name'), col('ankunftszeit'), col('verkehrsmittel_text'))\\\n",
    "        .where(col('ankunftszeit') >= '23.09.2019 07:00').sort('ankunftszeit').show(20, False)"
   ]
  },
  {
   "cell_type": "markdown",
   "metadata": {},
   "source": [
    "#### From sbb.ch -> These are night weekend buses, so we don't want to count them. We only look at reasonable hours"
   ]
  },
  {
   "cell_type": "markdown",
   "metadata": {},
   "source": [
    "## Check TN"
   ]
  },
  {
   "cell_type": "code",
   "execution_count": 78,
   "metadata": {},
   "outputs": [
    {
     "data": {
      "application/vnd.jupyter.widget-view+json": {
       "model_id": "",
       "version_major": 2,
       "version_minor": 0
      },
      "text/plain": [
       "FloatProgress(value=0.0, bar_style='info', description='Progress:', layout=Layout(height='25px', width='50%'),…"
      ]
     },
     "metadata": {},
     "output_type": "display_data"
    },
    {
     "name": "stdout",
     "output_type": "stream",
     "text": [
      "[Row(fahrt_bezeichner=u'85:37:13059-00607-1'), Row(fahrt_bezeichner=u'85:37:13059-00607-1')]"
     ]
    }
   ],
   "source": [
    "actual.where(col('verkehrsmittel_text') == 'TN').select(col('fahrt_bezeichner')).limit(2).collect()"
   ]
  },
  {
   "cell_type": "code",
   "execution_count": 79,
   "metadata": {},
   "outputs": [
    {
     "data": {
      "application/vnd.jupyter.widget-view+json": {
       "model_id": "",
       "version_major": 2,
       "version_minor": 0
      },
      "text/plain": [
       "FloatProgress(value=0.0, bar_style='info', description='Progress:', layout=Layout(height='25px', width='50%'),…"
      ]
     },
     "metadata": {},
     "output_type": "display_data"
    },
    {
     "name": "stdout",
     "output_type": "stream",
     "text": [
      "+------------------+----------------+-------------------+\n",
      "|haltestellen_name |ankunftszeit    |verkehrsmittel_text|\n",
      "+------------------+----------------+-------------------+\n",
      "|Heuwaage          |28.12.2019 01:31|TN                 |\n",
      "|Zoo               |28.12.2019 01:33|TN                 |\n",
      "|Dorenbach         |28.12.2019 01:34|TN                 |\n",
      "|Binningen Oberdorf|28.12.2019 01:35|TN                 |\n",
      "|Binningen Schloss |28.12.2019 01:36|TN                 |\n",
      "|Bottmingermühle   |28.12.2019 01:38|TN                 |\n",
      "|Batteriestrasse   |28.12.2019 01:39|TN                 |\n",
      "|Bottmingen Schloss|28.12.2019 01:40|TN                 |\n",
      "|Stallen           |28.12.2019 01:42|TN                 |\n",
      "|Oberwil Zentrum   |28.12.2019 01:43|TN                 |\n",
      "|Hüslimatt         |28.12.2019 01:45|TN                 |\n",
      "|Therwil Zentrum   |28.12.2019 01:47|TN                 |\n",
      "|Känelmatt         |28.12.2019 01:48|TN                 |\n",
      "|Ettingen Bahnhof  |28.12.2019 01:51|TN                 |\n",
      "+------------------+----------------+-------------------+"
     ]
    }
   ],
   "source": [
    "actual.where(col('verkehrsmittel_text') == 'TN').where(col('fahrt_bezeichner') == '85:37:13059-00607-1')\\\n",
    "        .select(col('haltestellen_name'), col('ankunftszeit'), col('verkehrsmittel_text'))\\\n",
    "        .where(col('ankunftszeit') >= '23.11.2019 00:00').sort('ankunftszeit').show(20, False)"
   ]
  },
  {
   "cell_type": "markdown",
   "metadata": {},
   "source": [
    "#### From sbb.ch -> These are night weekend trams, so we don't want to count them. We only look at reasonable hours"
   ]
  },
  {
   "cell_type": "markdown",
   "metadata": {},
   "source": [
    "## Check KB"
   ]
  },
  {
   "cell_type": "code",
   "execution_count": 84,
   "metadata": {},
   "outputs": [
    {
     "data": {
      "application/vnd.jupyter.widget-view+json": {
       "model_id": "",
       "version_major": 2,
       "version_minor": 0
      },
      "text/plain": [
       "FloatProgress(value=0.0, bar_style='info', description='Progress:', layout=Layout(height='25px', width='50%'),…"
      ]
     },
     "metadata": {},
     "output_type": "display_data"
    },
    {
     "name": "stdout",
     "output_type": "stream",
     "text": [
      "[Row(fahrt_bezeichner=u'85:870:51009'), Row(fahrt_bezeichner=u'85:870:51009'), Row(fahrt_bezeichner=u'85:870:51009'), Row(fahrt_bezeichner=u'85:870:51009'), Row(fahrt_bezeichner=u'85:870:51009'), Row(fahrt_bezeichner=u'85:870:51009'), Row(fahrt_bezeichner=u'85:870:51013'), Row(fahrt_bezeichner=u'85:870:51013'), Row(fahrt_bezeichner=u'85:870:51013'), Row(fahrt_bezeichner=u'85:870:51013'), Row(fahrt_bezeichner=u'85:870:51013'), Row(fahrt_bezeichner=u'85:870:51013'), Row(fahrt_bezeichner=u'85:870:51013'), Row(fahrt_bezeichner=u'85:870:51013'), Row(fahrt_bezeichner=u'85:870:51013'), Row(fahrt_bezeichner=u'85:870:51018'), Row(fahrt_bezeichner=u'85:870:51018'), Row(fahrt_bezeichner=u'85:870:51018'), Row(fahrt_bezeichner=u'85:870:51018'), Row(fahrt_bezeichner=u'85:870:51018')]"
     ]
    }
   ],
   "source": [
    "actual.where(col('verkehrsmittel_text') == 'KB').select(col('fahrt_bezeichner')).limit(20).collect()"
   ]
  },
  {
   "cell_type": "code",
   "execution_count": 85,
   "metadata": {},
   "outputs": [
    {
     "data": {
      "application/vnd.jupyter.widget-view+json": {
       "model_id": "",
       "version_major": 2,
       "version_minor": 0
      },
      "text/plain": [
       "FloatProgress(value=0.0, bar_style='info', description='Progress:', layout=Layout(height='25px', width='50%'),…"
      ]
     },
     "metadata": {},
     "output_type": "display_data"
    },
    {
     "name": "stdout",
     "output_type": "stream",
     "text": [
      "+------------------------------+----------------+-------------------+\n",
      "|haltestellen_name             |ankunftszeit    |verkehrsmittel_text|\n",
      "+------------------------------+----------------+-------------------+\n",
      "|Inkwil, Dorf                  |24.01.2018 06:23|KB                 |\n",
      "|Wangenried, Sägerei           |24.01.2018 06:25|KB                 |\n",
      "|Wangenried, Schule            |24.01.2018 06:26|KB                 |\n",
      "|Wangenried, Linde             |24.01.2018 06:27|KB                 |\n",
      "|Wangenried, Unterdorf         |24.01.2018 06:28|KB                 |\n",
      "|Wangen a.d. Aare, Unterführung|24.01.2018 06:29|KB                 |\n",
      "|Wangen a.A., Bahnhof          |24.01.2018 06:31|KB                 |\n",
      "|Wangen a.d.Aare, Zytglogge    |24.01.2018 06:32|KB                 |\n",
      "|Inkwil, Dorf                  |24.01.2019 06:23|KB                 |\n",
      "|Wangenried, Sägerei           |24.01.2019 06:25|KB                 |\n",
      "|Wangenried, Schule            |24.01.2019 06:26|KB                 |\n",
      "|Wangenried, Linde             |24.01.2019 06:27|KB                 |\n",
      "|Wangenried, Unterdorf         |24.01.2019 06:28|KB                 |\n",
      "|Wangen a.d. Aare, Unterführung|24.01.2019 06:29|KB                 |\n",
      "|Wangen a.A., Bahnhof          |24.01.2019 06:31|KB                 |\n",
      "|Wangen a.d.Aare, Zytglogge    |24.01.2019 06:32|KB                 |\n",
      "|Inkwil, Dorf                  |24.04.2018 06:23|KB                 |\n",
      "|Wangenried, Sägerei           |24.04.2018 06:25|KB                 |\n",
      "|Wangenried, Schule            |24.04.2018 06:26|KB                 |\n",
      "|Wangenried, Linde             |24.04.2018 06:27|KB                 |\n",
      "+------------------------------+----------------+-------------------+\n",
      "only showing top 20 rows"
     ]
    }
   ],
   "source": [
    "actual.where(col('verkehrsmittel_text') == 'KB').where(col('fahrt_bezeichner') == '85:870:51013')\\\n",
    "        .select(col('haltestellen_name'), col('ankunftszeit'), col('verkehrsmittel_text'))\\\n",
    "        .where(col('ankunftszeit') >= '23.11.2019 00:00').sort('ankunftszeit').show(20, False)"
   ]
  },
  {
   "cell_type": "markdown",
   "metadata": {},
   "source": [
    "#### From sbb.ch -> Another type of bus"
   ]
  },
  {
   "cell_type": "markdown",
   "metadata": {},
   "source": [
    "## Check SN"
   ]
  },
  {
   "cell_type": "code",
   "execution_count": 87,
   "metadata": {},
   "outputs": [
    {
     "data": {
      "application/vnd.jupyter.widget-view+json": {
       "model_id": "",
       "version_major": 2,
       "version_minor": 0
      },
      "text/plain": [
       "FloatProgress(value=0.0, bar_style='info', description='Progress:', layout=Layout(height='25px', width='50%'),…"
      ]
     },
     "metadata": {},
     "output_type": "display_data"
    },
    {
     "name": "stdout",
     "output_type": "stream",
     "text": [
      "[Row(fahrt_bezeichner=u'85:46:907:000'), Row(fahrt_bezeichner=u'85:46:907:000'), Row(fahrt_bezeichner=u'85:46:907:000'), Row(fahrt_bezeichner=u'85:46:907:000'), Row(fahrt_bezeichner=u'85:46:907:000'), Row(fahrt_bezeichner=u'85:46:907:000'), Row(fahrt_bezeichner=u'85:46:907:000'), Row(fahrt_bezeichner=u'85:46:907:000'), Row(fahrt_bezeichner=u'85:46:907:000'), Row(fahrt_bezeichner=u'85:46:907:000'), Row(fahrt_bezeichner=u'85:46:907:000'), Row(fahrt_bezeichner=u'85:46:907:000'), Row(fahrt_bezeichner=u'85:46:907:000'), Row(fahrt_bezeichner=u'85:46:907:000'), Row(fahrt_bezeichner=u'85:46:907:000'), Row(fahrt_bezeichner=u'85:46:907:000'), Row(fahrt_bezeichner=u'85:46:907:000'), Row(fahrt_bezeichner=u'85:46:907:000'), Row(fahrt_bezeichner=u'85:46:914:000'), Row(fahrt_bezeichner=u'85:46:914:000')]"
     ]
    }
   ],
   "source": [
    "actual.where(col('verkehrsmittel_text') == 'SN').select(col('fahrt_bezeichner')).limit(20).collect()"
   ]
  },
  {
   "cell_type": "code",
   "execution_count": 88,
   "metadata": {},
   "outputs": [
    {
     "data": {
      "application/vnd.jupyter.widget-view+json": {
       "model_id": "",
       "version_major": 2,
       "version_minor": 0
      },
      "text/plain": [
       "FloatProgress(value=0.0, bar_style='info', description='Progress:', layout=Layout(height='25px', width='50%'),…"
      ]
     },
     "metadata": {},
     "output_type": "display_data"
    },
    {
     "name": "stdout",
     "output_type": "stream",
     "text": [
      "+---------------------+----------------+-------------------+\n",
      "|haltestellen_name    |ankunftszeit    |verkehrsmittel_text|\n",
      "+---------------------+----------------+-------------------+\n",
      "|Zürich Kreuzplatz    |23.11.2019 01:06|SN                 |\n",
      "|Zürich Hegibachplatz |23.11.2019 01:08|SN                 |\n",
      "|Zürich, Wetlistrasse |23.11.2019 01:10|SN                 |\n",
      "|Zürich Balgrist      |23.11.2019 01:12|SN                 |\n",
      "|Zürich, Rehalp       |23.11.2019 01:14|SN                 |\n",
      "|Waldburg             |23.11.2019 01:16|SN                 |\n",
      "|Spital Zollikerberg  |23.11.2019 01:17|SN                 |\n",
      "|Zollikerberg         |23.11.2019 01:18|SN                 |\n",
      "|Waltikon             |23.11.2019 01:20|SN                 |\n",
      "|Zumikon              |23.11.2019 01:21|SN                 |\n",
      "|Maiacher             |23.11.2019 01:22|SN                 |\n",
      "|Neue Forch           |23.11.2019 01:23|SN                 |\n",
      "|Forch                |23.11.2019 01:25|SN                 |\n",
      "|Scheuren             |23.11.2019 01:27|SN                 |\n",
      "|Neuhaus bei Hinteregg|23.11.2019 01:29|SN                 |\n",
      "|Hinteregg            |23.11.2019 01:30|SN                 |\n",
      "|Egg                  |23.11.2019 01:35|SN                 |\n",
      "|Zürich Kreuzplatz    |23.12.2018 01:06|SN                 |\n",
      "|Zürich Hegibachplatz |23.12.2018 01:08|SN                 |\n",
      "|Zürich, Wetlistrasse |23.12.2018 01:10|SN                 |\n",
      "+---------------------+----------------+-------------------+\n",
      "only showing top 20 rows"
     ]
    }
   ],
   "source": [
    "actual.where(col('verkehrsmittel_text') == 'SN').where(col('fahrt_bezeichner') == '85:46:907:000')\\\n",
    "        .select(col('haltestellen_name'), col('ankunftszeit'), col('verkehrsmittel_text'))\\\n",
    "        .where(col('ankunftszeit') >= '23.11.2019 00:00').sort('ankunftszeit').show(20, False)"
   ]
  },
  {
   "cell_type": "markdown",
   "metadata": {},
   "source": [
    "#### From sbb.ch -> Night S, so we don't count them"
   ]
  },
  {
   "cell_type": "markdown",
   "metadata": {},
   "source": [
    "## Check VAE"
   ]
  },
  {
   "cell_type": "code",
   "execution_count": 94,
   "metadata": {},
   "outputs": [
    {
     "data": {
      "application/vnd.jupyter.widget-view+json": {
       "model_id": "",
       "version_major": 2,
       "version_minor": 0
      },
      "text/plain": [
       "FloatProgress(value=0.0, bar_style='info', description='Progress:', layout=Layout(height='25px', width='50%'),…"
      ]
     },
     "metadata": {},
     "output_type": "display_data"
    },
    {
     "name": "stdout",
     "output_type": "stream",
     "text": [
      "[Row(fahrt_bezeichner=u'85:82:2570:001'), Row(fahrt_bezeichner=u'85:82:72564:002')]"
     ]
    }
   ],
   "source": [
    "actual.where(col('verkehrsmittel_text') == 'VAE').select(col('fahrt_bezeichner')).distinct().limit(2).collect()"
   ]
  },
  {
   "cell_type": "code",
   "execution_count": 95,
   "metadata": {},
   "outputs": [
    {
     "data": {
      "application/vnd.jupyter.widget-view+json": {
       "model_id": "",
       "version_major": 2,
       "version_minor": 0
      },
      "text/plain": [
       "FloatProgress(value=0.0, bar_style='info', description='Progress:', layout=Layout(height='25px', width='50%'),…"
      ]
     },
     "metadata": {},
     "output_type": "display_data"
    },
    {
     "name": "stdout",
     "output_type": "stream",
     "text": [
      "+-----------------+----------------+-------------------+\n",
      "|haltestellen_name|ankunftszeit    |verkehrsmittel_text|\n",
      "+-----------------+----------------+-------------------+\n",
      "|Herisau          |26.05.2018 07:12|VAE                |\n",
      "|Wattwil          |26.05.2018 07:32|VAE                |\n",
      "|Herisau          |27.05.2018 07:12|VAE                |\n",
      "|Wattwil          |27.05.2018 07:32|VAE                |\n",
      "+-----------------+----------------+-------------------+"
     ]
    }
   ],
   "source": [
    "actual.where(col('verkehrsmittel_text') == 'VAE').where(col('fahrt_bezeichner') == '85:82:72564:002')\\\n",
    "        .select(col('haltestellen_name'), col('ankunftszeit'), col('verkehrsmittel_text'))\\\n",
    "        .where(col('ankunftszeit') >= '23.11.2019 00:00').sort('ankunftszeit').show(20, False)"
   ]
  },
  {
   "cell_type": "markdown",
   "metadata": {},
   "source": [
    "#### From sbb.ch -> VAE is Voralpen-Express so trains in the Alps for tourism. We don't need to count them since we consider stations around Zürich"
   ]
  },
  {
   "cell_type": "markdown",
   "metadata": {},
   "source": [
    "## Check BAT"
   ]
  },
  {
   "cell_type": "code",
   "execution_count": 97,
   "metadata": {},
   "outputs": [
    {
     "data": {
      "application/vnd.jupyter.widget-view+json": {
       "model_id": "",
       "version_major": 2,
       "version_minor": 0
      },
      "text/plain": [
       "FloatProgress(value=0.0, bar_style='info', description='Progress:', layout=Layout(height='25px', width='50%'),…"
      ]
     },
     "metadata": {},
     "output_type": "display_data"
    },
    {
     "name": "stdout",
     "output_type": "stream",
     "text": [
      "[Row(fahrt_bezeichner=u'85:185:827:000'), Row(fahrt_bezeichner=u'85:183:60:000')]"
     ]
    }
   ],
   "source": [
    "actual.where(col('verkehrsmittel_text') == 'BAT').select(col('fahrt_bezeichner')).distinct().limit(2).collect()"
   ]
  },
  {
   "cell_type": "code",
   "execution_count": 99,
   "metadata": {},
   "outputs": [
    {
     "data": {
      "application/vnd.jupyter.widget-view+json": {
       "model_id": "",
       "version_major": 2,
       "version_minor": 0
      },
      "text/plain": [
       "FloatProgress(value=0.0, bar_style='info', description='Progress:', layout=Layout(height='25px', width='50%'),…"
      ]
     },
     "metadata": {},
     "output_type": "display_data"
    },
    {
     "name": "stdout",
     "output_type": "stream",
     "text": [
      "+-----------------------------+----------------+-------------------+\n",
      "|haltestellen_name            |ankunftszeit    |verkehrsmittel_text|\n",
      "+-----------------------------+----------------+-------------------+\n",
      "|Giessbach See                |24.07.2019 10:51|BAT                |\n",
      "|Oberried am Brienzersee (See)|24.07.2019 11:06|BAT                |\n",
      "|Iseltwald (See)              |24.07.2019 11:16|BAT                |\n",
      "|Bönigen                      |24.07.2019 11:35|BAT                |\n",
      "|Interlaken Ost (See)         |24.07.2019 11:53|BAT                |\n",
      "|Giessbach See                |24.08.2018 10:51|BAT                |\n",
      "|Iseltwald (See)              |24.08.2018 11:09|BAT                |\n",
      "|Niederried (See)             |24.08.2018 11:18|BAT                |\n",
      "|Ringgenberg (See)            |24.08.2018 11:27|BAT                |\n",
      "|Bönigen                      |24.08.2018 11:35|BAT                |\n",
      "|Interlaken Ost (See)         |24.08.2018 11:53|BAT                |\n",
      "|Giessbach See                |24.08.2019 10:51|BAT                |\n",
      "|Oberried am Brienzersee (See)|24.08.2019 11:06|BAT                |\n",
      "|Iseltwald (See)              |24.08.2019 11:16|BAT                |\n",
      "|Bönigen                      |24.08.2019 11:35|BAT                |\n",
      "|Interlaken Ost (See)         |24.08.2019 11:53|BAT                |\n",
      "|Giessbach See                |24.09.2018 10:51|BAT                |\n",
      "|Iseltwald (See)              |24.09.2018 11:09|BAT                |\n",
      "|Niederried (See)             |24.09.2018 11:18|BAT                |\n",
      "|Ringgenberg (See)            |24.09.2018 11:27|BAT                |\n",
      "+-----------------------------+----------------+-------------------+\n",
      "only showing top 20 rows"
     ]
    }
   ],
   "source": [
    "actual.where(col('verkehrsmittel_text') == 'BAT').where(col('fahrt_bezeichner') == '85:183:60:000')\\\n",
    "        .select(col('haltestellen_name'), col('ankunftszeit'), col('verkehrsmittel_text'))\\\n",
    "        .where(col('ankunftszeit') >= '23.11.2019 00:00').sort('ankunftszeit').show(20, False)"
   ]
  },
  {
   "cell_type": "markdown",
   "metadata": {},
   "source": [
    "#### From sbb.ch -> Some type of bus"
   ]
  },
  {
   "cell_type": "markdown",
   "metadata": {},
   "source": [
    "## Check D"
   ]
  },
  {
   "cell_type": "markdown",
   "metadata": {},
   "source": [
    "#### From sbb.ch -> D is Direct, like RegioExpress"
   ]
  },
  {
   "cell_type": "markdown",
   "metadata": {},
   "source": [
    "## Check TER"
   ]
  },
  {
   "cell_type": "code",
   "execution_count": 113,
   "metadata": {},
   "outputs": [
    {
     "data": {
      "application/vnd.jupyter.widget-view+json": {
       "model_id": "",
       "version_major": 2,
       "version_minor": 0
      },
      "text/plain": [
       "FloatProgress(value=0.0, bar_style='info', description='Progress:', layout=Layout(height='25px', width='50%'),…"
      ]
     },
     "metadata": {},
     "output_type": "display_data"
    },
    {
     "name": "stdout",
     "output_type": "stream",
     "text": [
      "[Row(fahrt_bezeichner=u'85:11:96558:004'), Row(fahrt_bezeichner=u'85:11:96211:001'), Row(fahrt_bezeichner=u'85:11:96133:002'), Row(fahrt_bezeichner=u'85:11:23437:001'), Row(fahrt_bezeichner=u'85:11:96235:002'), Row(fahrt_bezeichner=u'85:11:37983:002'), Row(fahrt_bezeichner=u'85:11:18156:003'), Row(fahrt_bezeichner=u'85:11:96433:001'), Row(fahrt_bezeichner=u'85:11:18110:001'), Row(fahrt_bezeichner=u'85:11:96670:002'), Row(fahrt_bezeichner=u'85:11:96413:001'), Row(fahrt_bezeichner=u'85:11:96243:002'), Row(fahrt_bezeichner=u'87:87____:96502:000'), Row(fahrt_bezeichner=u'85:11:96121:001'), Row(fahrt_bezeichner=u'85:11:96578:003'), Row(fahrt_bezeichner=u'85:11:96143:003'), Row(fahrt_bezeichner=u'85:11:96112:001'), Row(fahrt_bezeichner=u'85:11:96145:001'), Row(fahrt_bezeichner=u'85:11:96152:001'), Row(fahrt_bezeichner=u'85:11:96501:001')]"
     ]
    }
   ],
   "source": [
    "actual.where(col('verkehrsmittel_text') == 'TER').select(col('fahrt_bezeichner')).distinct().limit(20).collect()"
   ]
  },
  {
   "cell_type": "code",
   "execution_count": 116,
   "metadata": {},
   "outputs": [
    {
     "data": {
      "application/vnd.jupyter.widget-view+json": {
       "model_id": "",
       "version_major": 2,
       "version_minor": 0
      },
      "text/plain": [
       "FloatProgress(value=0.0, bar_style='info', description='Progress:', layout=Layout(height='25px', width='50%'),…"
      ]
     },
     "metadata": {},
     "output_type": "display_data"
    },
    {
     "name": "stdout",
     "output_type": "stream",
     "text": [
      "+-----------------+------------+-------------------+\n",
      "|haltestellen_name|ankunftszeit|verkehrsmittel_text|\n",
      "+-----------------+------------+-------------------+\n",
      "|Basel SBB        |            |TER                |\n",
      "|Basel SBB        |            |TER                |\n",
      "|Basel SBB        |            |TER                |\n",
      "|Basel SBB        |            |TER                |\n",
      "|Basel SBB        |            |TER                |\n",
      "|La Chaux-de-Fonds|            |TER                |\n",
      "|Basel SBB        |            |TER                |\n",
      "|La Chaux-de-Fonds|            |TER                |\n",
      "|Basel SBB        |            |TER                |\n",
      "|La Chaux-de-Fonds|            |TER                |\n",
      "|Basel SBB        |            |TER                |\n",
      "|Basel SBB        |            |TER                |\n",
      "|Basel SBB        |            |TER                |\n",
      "|Basel SBB        |            |TER                |\n",
      "|Basel SBB        |            |TER                |\n",
      "|Basel SBB        |            |TER                |\n",
      "|La Chaux-de-Fonds|            |TER                |\n",
      "|Basel SBB        |            |TER                |\n",
      "|La Chaux-de-Fonds|            |TER                |\n",
      "|Basel SBB        |            |TER                |\n",
      "+-----------------+------------+-------------------+\n",
      "only showing top 20 rows"
     ]
    }
   ],
   "source": [
    "actual.where(col('verkehrsmittel_text') == 'TER')\\\n",
    "        .select(col('haltestellen_name'), col('ankunftszeit'), col('verkehrsmittel_text'))\\\n",
    "        .sort('ankunftszeit').show(20, False)"
   ]
  },
  {
   "cell_type": "markdown",
   "metadata": {},
   "source": [
    "#### From sbb.ch -> TER is a French railway, so we remove it since we look at Zürich"
   ]
  },
  {
   "cell_type": "markdown",
   "metadata": {},
   "source": [
    "## Check EXT"
   ]
  },
  {
   "cell_type": "code",
   "execution_count": 127,
   "metadata": {},
   "outputs": [
    {
     "data": {
      "application/vnd.jupyter.widget-view+json": {
       "model_id": "",
       "version_major": 2,
       "version_minor": 0
      },
      "text/plain": [
       "FloatProgress(value=0.0, bar_style='info', description='Progress:', layout=Layout(height='25px', width='50%'),…"
      ]
     },
     "metadata": {},
     "output_type": "display_data"
    },
    {
     "name": "stdout",
     "output_type": "stream",
     "text": [
      "[Row(fahrt_bezeichner=u'85:86:23460:001'), Row(fahrt_bezeichner=u'85:86:23589:002')]"
     ]
    }
   ],
   "source": [
    "actual.where(col('verkehrsmittel_text') == 'EXT').select(col('fahrt_bezeichner')).distinct().limit(2).collect()"
   ]
  },
  {
   "cell_type": "code",
   "execution_count": 131,
   "metadata": {},
   "outputs": [
    {
     "data": {
      "application/vnd.jupyter.widget-view+json": {
       "model_id": "",
       "version_major": 2,
       "version_minor": 0
      },
      "text/plain": [
       "FloatProgress(value=0.0, bar_style='info', description='Progress:', layout=Layout(height='25px', width='50%'),…"
      ]
     },
     "metadata": {},
     "output_type": "display_data"
    },
    {
     "name": "stdout",
     "output_type": "stream",
     "text": [
      "+-----------------+----------------+-------------------+\n",
      "|haltestellen_name|ankunftszeit    |verkehrsmittel_text|\n",
      "+-----------------+----------------+-------------------+\n",
      "|Untervaz-Trimmis |20.11.2019 00:00|EXT                |\n",
      "|Haldenstein      |20.11.2019 00:06|EXT                |\n",
      "|Chur Wiesental   |20.11.2019 00:08|EXT                |\n",
      "|Chur             |20.11.2019 00:10|EXT                |\n",
      "|Chur             |20.11.2019 00:11|EXT                |\n",
      "|Felsberg         |20.11.2019 00:22|EXT                |\n",
      "|Chur West        |20.11.2019 00:25|EXT                |\n",
      "|Chur             |20.11.2019 00:28|EXT                |\n",
      "|Palézieux        |20.11.2019 07:37|EXT                |\n",
      "|Romont           |20.11.2019 07:49|EXT                |\n",
      "|Fribourg/Freiburg|20.11.2019 08:05|EXT                |\n",
      "|Bern             |20.11.2019 08:28|EXT                |\n",
      "|Genève           |20.11.2019 10:20|EXT                |\n",
      "|Chur West        |20.11.2019 22:01|EXT                |\n",
      "|Felsberg         |20.11.2019 22:04|EXT                |\n",
      "|Domat/Ems        |20.11.2019 22:07|EXT                |\n",
      "|Chur West        |20.11.2019 23:01|EXT                |\n",
      "|Felsberg         |20.11.2019 23:04|EXT                |\n",
      "|Domat/Ems        |20.11.2019 23:06|EXT                |\n",
      "|Chur             |20.11.2019 23:11|EXT                |\n",
      "+-----------------+----------------+-------------------+\n",
      "only showing top 20 rows"
     ]
    }
   ],
   "source": [
    "actual.where(col('verkehrsmittel_text') == 'EXT')\\\n",
    "        .select(col('haltestellen_name'), col('ankunftszeit'), col('verkehrsmittel_text'))\\\n",
    "        .where(col('ankunftszeit') >= '20.11.2019 00:00').sort('ankunftszeit').show(20, False)"
   ]
  },
  {
   "cell_type": "markdown",
   "metadata": {},
   "source": [
    "#### This looks very much like ExtraZug"
   ]
  },
  {
   "cell_type": "markdown",
   "metadata": {},
   "source": [
    "## Check RB"
   ]
  },
  {
   "cell_type": "markdown",
   "metadata": {},
   "source": [
    "#### From sbb.ch -> RB is RegionalBahn"
   ]
  },
  {
   "cell_type": "markdown",
   "metadata": {},
   "source": [
    "## Check BT"
   ]
  },
  {
   "cell_type": "code",
   "execution_count": 153,
   "metadata": {},
   "outputs": [
    {
     "data": {
      "application/vnd.jupyter.widget-view+json": {
       "model_id": "",
       "version_major": 2,
       "version_minor": 0
      },
      "text/plain": [
       "FloatProgress(value=0.0, bar_style='info', description='Progress:', layout=Layout(height='25px', width='50%'),…"
      ]
     },
     "metadata": {},
     "output_type": "display_data"
    },
    {
     "name": "stdout",
     "output_type": "stream",
     "text": [
      "[Row(fahrt_bezeichner=u'85:823:687118-09072-1'), Row(fahrt_bezeichner=u'85:823:689210-09073-1')]"
     ]
    }
   ],
   "source": [
    "actual.where(col('verkehrsmittel_text') == 'BT').select(col('fahrt_bezeichner')).distinct().limit(2).collect()"
   ]
  },
  {
   "cell_type": "code",
   "execution_count": 160,
   "metadata": {},
   "outputs": [
    {
     "data": {
      "application/vnd.jupyter.widget-view+json": {
       "model_id": "",
       "version_major": 2,
       "version_minor": 0
      },
      "text/plain": [
       "FloatProgress(value=0.0, bar_style='info', description='Progress:', layout=Layout(height='25px', width='50%'),…"
      ]
     },
     "metadata": {},
     "output_type": "display_data"
    },
    {
     "name": "stdout",
     "output_type": "stream",
     "text": [
      "+-----------------------+----------------+-------------------+\n",
      "|haltestellen_name      |ankunftszeit    |verkehrsmittel_text|\n",
      "+-----------------------+----------------+-------------------+\n",
      "|Riehen Grenze          |                |BT                 |\n",
      "|Riehen Grenze          |                |BT                 |\n",
      "|Lörracherstrasse       |01.12.2019 02:02|BT                 |\n",
      "|Weilstrasse            |01.12.2019 02:03|BT                 |\n",
      "|Fondation Beyeler      |01.12.2019 02:04|BT                 |\n",
      "|Riehen Dorf            |01.12.2019 02:05|BT                 |\n",
      "|Bettingerstrasse       |01.12.2019 02:06|BT                 |\n",
      "|Pfaffenloh             |01.12.2019 02:07|BT                 |\n",
      "|Burgstrasse            |01.12.2019 02:08|BT                 |\n",
      "|Niederholzboden        |01.12.2019 02:09|BT                 |\n",
      "|Habermatten            |01.12.2019 02:10|BT                 |\n",
      "|Eglisee                |01.12.2019 02:12|BT                 |\n",
      "|Hirzbrunnen/Claraspital|01.12.2019 02:14|BT                 |\n",
      "|Badischer Bahnhof      |01.12.2019 02:16|BT                 |\n",
      "|Gewerbeschule          |01.12.2019 02:17|BT                 |\n",
      "|Messeplatz             |01.12.2019 02:19|BT                 |\n",
      "|Lörracherstrasse       |08.12.2019 02:02|BT                 |\n",
      "|Weilstrasse            |08.12.2019 02:03|BT                 |\n",
      "|Fondation Beyeler      |08.12.2019 02:04|BT                 |\n",
      "|Riehen Dorf            |08.12.2019 02:05|BT                 |\n",
      "+-----------------------+----------------+-------------------+\n",
      "only showing top 20 rows"
     ]
    }
   ],
   "source": [
    "actual.where(col('verkehrsmittel_text') == 'BT').where(col('fahrt_bezeichner') == '85:823:689210-09073-1')\\\n",
    "        .select(col('haltestellen_name'), col('ankunftszeit'), col('verkehrsmittel_text'))\\\n",
    "        .sort('ankunftszeit').show(20, False)"
   ]
  },
  {
   "cell_type": "markdown",
   "metadata": {},
   "source": [
    "#### From sbb.ch -> BT is a night tram, so we ignore it"
   ]
  },
  {
   "cell_type": "markdown",
   "metadata": {},
   "source": [
    "## Check BAV"
   ]
  },
  {
   "cell_type": "code",
   "execution_count": 162,
   "metadata": {},
   "outputs": [
    {
     "data": {
      "application/vnd.jupyter.widget-view+json": {
       "model_id": "",
       "version_major": 2,
       "version_minor": 0
      },
      "text/plain": [
       "FloatProgress(value=0.0, bar_style='info', description='Progress:', layout=Layout(height='25px', width='50%'),…"
      ]
     },
     "metadata": {},
     "output_type": "display_data"
    },
    {
     "name": "stdout",
     "output_type": "stream",
     "text": [
      "[Row(fahrt_bezeichner=u'85:185:18:000'), Row(fahrt_bezeichner=u'85:185:24:000')]"
     ]
    }
   ],
   "source": [
    "actual.where(col('verkehrsmittel_text') == 'BAV').select(col('fahrt_bezeichner')).distinct().limit(2).collect()"
   ]
  },
  {
   "cell_type": "code",
   "execution_count": 163,
   "metadata": {},
   "outputs": [
    {
     "data": {
      "application/vnd.jupyter.widget-view+json": {
       "model_id": "",
       "version_major": 2,
       "version_minor": 0
      },
      "text/plain": [
       "FloatProgress(value=0.0, bar_style='info', description='Progress:', layout=Layout(height='25px', width='50%'),…"
      ]
     },
     "metadata": {},
     "output_type": "display_data"
    },
    {
     "name": "stdout",
     "output_type": "stream",
     "text": [
      "+------------------+----------------+-------------------+\n",
      "|haltestellen_name |ankunftszeit    |verkehrsmittel_text|\n",
      "+------------------+----------------+-------------------+\n",
      "|Flüelen (See)     |                |BAV                |\n",
      "|Flüelen (See)     |                |BAV                |\n",
      "|Flüelen (See)     |                |BAV                |\n",
      "|Flüelen (See)     |                |BAV                |\n",
      "|Sisikon (See)     |06.10.2019 12:24|BAV                |\n",
      "|Brunnen (See)     |06.10.2019 12:47|BAV                |\n",
      "|Treib             |06.10.2019 12:57|BAV                |\n",
      "|Gersau (See)      |06.10.2019 13:14|BAV                |\n",
      "|Beckenried (See)  |06.10.2019 13:31|BAV                |\n",
      "|Vitznau           |06.10.2019 13:48|BAV                |\n",
      "|Weggis            |06.10.2019 14:05|BAV                |\n",
      "|Hertenstein (See) |06.10.2019 14:14|BAV                |\n",
      "|Verkehrshaus-Lido |06.10.2019 14:35|BAV                |\n",
      "|Luzern Bahnhofquai|06.10.2019 14:47|BAV                |\n",
      "|Sisikon (See)     |13.10.2019 12:24|BAV                |\n",
      "|Brunnen (See)     |13.10.2019 12:47|BAV                |\n",
      "|Treib             |13.10.2019 12:57|BAV                |\n",
      "|Gersau (See)      |13.10.2019 13:14|BAV                |\n",
      "|Beckenried (See)  |13.10.2019 13:31|BAV                |\n",
      "|Vitznau           |13.10.2019 13:48|BAV                |\n",
      "+------------------+----------------+-------------------+\n",
      "only showing top 20 rows"
     ]
    }
   ],
   "source": [
    "actual.where(col('verkehrsmittel_text') == 'BAV').where(col('fahrt_bezeichner') == '85:185:18:000')\\\n",
    "        .select(col('haltestellen_name'), col('ankunftszeit'), col('verkehrsmittel_text'))\\\n",
    "        .sort('ankunftszeit').show(20, False)"
   ]
  },
  {
   "cell_type": "markdown",
   "metadata": {},
   "source": [
    "#### From sbb.ch -> BT is a night tram, so we ignore it"
   ]
  },
  {
   "cell_type": "markdown",
   "metadata": {},
   "source": [
    "# Replace value\n",
    "\n",
    "With the above manual checks, [this pdf](https://www.google.com/url?sa=t&rct=j&q=&esrc=s&source=web&cd=1&ved=2ahUKEwiB_sLqlL3pAhVKXhoKHSUUD28QFjAAegQIARAB&url=https%3A%2F%2Fcompany.sbb.ch%2Fcontent%2Fdam%2Finternet%2Fcorporate%2Ffr%2Fsbb-als-geschaeftspartner%2Fflotte-unterhalt%2Fonestopshop%2FLeistungskatalog-2020.pdf.sbbdownload.pdf&usg=AOvVaw1faXmNvW-PypBiC-Hz7c_W) and online research. We can map `verkehrsmittel_text` to correct values to map it to the `route_desc` in `routes.txt`"
   ]
  },
  {
   "cell_type": "code",
   "execution_count": 164,
   "metadata": {},
   "outputs": [
    {
     "data": {
      "application/vnd.jupyter.widget-view+json": {
       "model_id": "",
       "version_major": 2,
       "version_minor": 0
      },
      "text/plain": [
       "FloatProgress(value=0.0, bar_style='info', description='Progress:', layout=Layout(height='25px', width='50%'),…"
      ]
     },
     "metadata": {},
     "output_type": "display_data"
    }
   ],
   "source": [
    "replace_actual = {\n",
    "    'BUS': 'Bus', # Buses\n",
    "    'B': 'Bus',\n",
    "    'NFB': 'Bus',\n",
    "    'KB': 'Bus',\n",
    "    'BAT': 'Bus',\n",
    "    'Trm': 'Tram', # Trams\n",
    "    'T': 'Tram',\n",
    "    'TRAM': 'Tram',\n",
    "    'ATZ': 'ARZ', #AutoZug\n",
    "    'D': 'RE', # Regional\n",
    "    'RB': 'R',\n",
    "    'M': 'Metro', # Metro\n",
    "    'ICE': 'IC', # InterCityExpress, but routes.txt doesn't have that category\n",
    "    'IRE': 'IR', # InterRegioExpress, but routes.txt doesn't have that category\n",
    "    'BN': '', # Night\n",
    "    'TN': '',\n",
    "    'SN': '',\n",
    "    'BT': '',\n",
    "    'VAE': '', # Panorama trains in the Alps\n",
    "    'PE': '',\n",
    "    'TER': '', # France\n",
    "    'TE2': '',\n",
    "    'RJX': '', # International\n",
    "    'null': '' # Other\n",
    "}"
   ]
  },
  {
   "cell_type": "code",
   "execution_count": 165,
   "metadata": {},
   "outputs": [
    {
     "data": {
      "application/vnd.jupyter.widget-view+json": {
       "model_id": "",
       "version_major": 2,
       "version_minor": 0
      },
      "text/plain": [
       "FloatProgress(value=0.0, bar_style='info', description='Progress:', layout=Layout(height='25px', width='50%'),…"
      ]
     },
     "metadata": {},
     "output_type": "display_data"
    }
   ],
   "source": [
    "@udf(\"string\")\n",
    "def replace_verkehrsmittel_text(text):\n",
    "    if text in replace_actual.keys():\n",
    "        return replace_actual[text]\n",
    "    else:\n",
    "        return text"
   ]
  },
  {
   "cell_type": "code",
   "execution_count": 166,
   "metadata": {},
   "outputs": [
    {
     "data": {
      "application/vnd.jupyter.widget-view+json": {
       "model_id": "",
       "version_major": 2,
       "version_minor": 0
      },
      "text/plain": [
       "FloatProgress(value=0.0, bar_style='info', description='Progress:', layout=Layout(height='25px', width='50%'),…"
      ]
     },
     "metadata": {},
     "output_type": "display_data"
    },
    {
     "name": "stdout",
     "output_type": "stream",
     "text": [
      "+-------------------+----------+\n",
      "|verkehrsmittel_text|sum(count)|\n",
      "+-------------------+----------+\n",
      "|                Bus| 338771078|\n",
      "|                   | 322747219|\n",
      "|                  S|  66583644|\n",
      "|               Tram|  66513733|\n",
      "|                  R|  25871287|\n",
      "|                 RE|   6363409|\n",
      "|                 IR|   4036535|\n",
      "|                 IC|   2300761|\n",
      "|              Metro|   1010960|\n",
      "|                 EC|    221206|\n",
      "|                EXT|     75905|\n",
      "|                TGV|     44461|\n",
      "|                ZUG|     31525|\n",
      "|                 NB|     26011|\n",
      "|                EXB|     17817|\n",
      "|                GEX|     16724|\n",
      "|                 NJ|     15180|\n",
      "|                BEX|     14766|\n",
      "|                 RJ|     14702|\n",
      "|                  P|     11240|\n",
      "|                 CC|      7469|\n",
      "|                 AG|       982|\n",
      "|                BAV|       724|\n",
      "|                 NZ|       613|\n",
      "|                 AT|       527|\n",
      "|                ARZ|       274|\n",
      "|                 EN|       109|\n",
      "|                 MP|        37|\n",
      "|               null|         5|\n",
      "|                CIS|         2|\n",
      "|                MAT|         1|\n",
      "+-------------------+----------+"
     ]
    }
   ],
   "source": [
    "counts.select(replace_verkehrsmittel_text(col('verkehrsmittel_text')).alias('verkehrsmittel_text'), col('count'))\\\n",
    "        .groupBy('verkehrsmittel_text').sum()\\\n",
    "        .sort('sum(count)', ascending=False).show(100)"
   ]
  },
  {
   "cell_type": "code",
   "execution_count": 58,
   "metadata": {},
   "outputs": [
    {
     "data": {
      "application/vnd.jupyter.widget-view+json": {
       "model_id": "",
       "version_major": 2,
       "version_minor": 0
      },
      "text/plain": [
       "FloatProgress(value=0.0, bar_style='info', description='Progress:', layout=Layout(height='25px', width='50%'),…"
      ]
     },
     "metadata": {},
     "output_type": "display_data"
    },
    {
     "name": "stdout",
     "output_type": "stream",
     "text": [
      "DataFrame[verkehrsmittel_text: string, count: bigint]"
     ]
    }
   ],
   "source": [
    "counts = actual.groupBy('verkehrsmittel_text').count()\n",
    "counts.cache()"
   ]
  }
 ],
 "metadata": {
  "kernelspec": {
   "display_name": "PySpark",
   "language": "",
   "name": "pysparkkernel"
  },
  "language_info": {
   "codemirror_mode": {
    "name": "python",
    "version": 3
   },
   "mimetype": "text/x-python",
   "name": "pyspark",
   "pygments_lexer": "python3"
  }
 },
 "nbformat": 4,
 "nbformat_minor": 4
}
