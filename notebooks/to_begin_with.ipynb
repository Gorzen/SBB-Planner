{
 "cells": [
  {
   "cell_type": "markdown",
   "metadata": {},
   "source": [
    "# To Begin With...\n",
    "\n",
    "### Name your spark application as `GASPAR_final` or `GROUP_NAME_final`.\n",
    "\n",
    "<div class='alert alert-info'><b>Any application without a proper name would be promptly killed.</b></div>"
   ]
  },
  {
   "cell_type": "code",
   "execution_count": null,
   "metadata": {},
   "outputs": [],
   "source": [
    "%%configure\n",
    "{\"conf\": {\n",
    "    \"spark.app.name\": <--NAME IT WIHT YOUR GASPAR OR GROUP NAME-->\n",
    "}}"
   ]
  },
  {
   "cell_type": "markdown",
   "metadata": {},
   "source": [
    "### Start Spark"
   ]
  },
  {
   "cell_type": "code",
   "execution_count": null,
   "metadata": {},
   "outputs": [],
   "source": [
    "# Initialization"
   ]
  },
  {
   "cell_type": "markdown",
   "metadata": {},
   "source": [
    "### Read the [SBB actual data](https://opentransportdata.swiss/en/dataset/istdaten) in ORC format"
   ]
  },
  {
   "cell_type": "code",
   "execution_count": 3,
   "metadata": {},
   "outputs": [
    {
     "data": {
      "application/vnd.jupyter.widget-view+json": {
       "model_id": "",
       "version_major": 2,
       "version_minor": 0
      },
      "text/plain": [
       "FloatProgress(value=0.0, bar_style='info', description='Progress:', layout=Layout(height='25px', width='50%'),…"
      ]
     },
     "metadata": {},
     "output_type": "display_data"
    }
   ],
   "source": [
    "sbb = spark.read.orc('/data/sbb/orc/istdaten')"
   ]
  },
  {
   "cell_type": "code",
   "execution_count": 4,
   "metadata": {},
   "outputs": [
    {
     "data": {
      "application/vnd.jupyter.widget-view+json": {
       "model_id": "",
       "version_major": 2,
       "version_minor": 0
      },
      "text/plain": [
       "FloatProgress(value=0.0, bar_style='info', description='Progress:', layout=Layout(height='25px', width='50%'),…"
      ]
     },
     "metadata": {},
     "output_type": "display_data"
    },
    {
     "name": "stdout",
     "output_type": "stream",
     "text": [
      "root\n",
      " |-- betriebstag: string (nullable = true)\n",
      " |-- fahrt_bezeichner: string (nullable = true)\n",
      " |-- betreiber_id: string (nullable = true)\n",
      " |-- betreiber_abk: string (nullable = true)\n",
      " |-- betreiber_name: string (nullable = true)\n",
      " |-- produkt_id: string (nullable = true)\n",
      " |-- linien_id: string (nullable = true)\n",
      " |-- linien_text: string (nullable = true)\n",
      " |-- umlauf_id: string (nullable = true)\n",
      " |-- verkehrsmittel_text: string (nullable = true)\n",
      " |-- zusatzfahrt_tf: string (nullable = true)\n",
      " |-- faellt_aus_tf: string (nullable = true)\n",
      " |-- bpuic: string (nullable = true)\n",
      " |-- haltestellen_name: string (nullable = true)\n",
      " |-- ankunftszeit: string (nullable = true)\n",
      " |-- an_prognose: string (nullable = true)\n",
      " |-- an_prognose_status: string (nullable = true)\n",
      " |-- abfahrtszeit: string (nullable = true)\n",
      " |-- ab_prognose: string (nullable = true)\n",
      " |-- ab_prognose_status: string (nullable = true)\n",
      " |-- durchfahrt_tf: string (nullable = true)"
     ]
    }
   ],
   "source": [
    "sbb.printSchema()"
   ]
  },
  {
   "cell_type": "markdown",
   "metadata": {},
   "source": [
    "### Read the station list data [BFKOORD_GEO](https://opentransportdata.swiss/en/cookbook/hafas-rohdaten-format-hrdf/#Abgrenzung)"
   ]
  },
  {
   "cell_type": "code",
   "execution_count": 5,
   "metadata": {},
   "outputs": [
    {
     "data": {
      "application/vnd.jupyter.widget-view+json": {
       "model_id": "",
       "version_major": 2,
       "version_minor": 0
      },
      "text/plain": [
       "FloatProgress(value=0.0, bar_style='info', description='Progress:', layout=Layout(height='25px', width='50%'),…"
      ]
     },
     "metadata": {},
     "output_type": "display_data"
    }
   ],
   "source": [
    "metadata = spark.read.csv('/data/sbb/stations/bfkoordgeo.csv', header=True)"
   ]
  },
  {
   "cell_type": "code",
   "execution_count": 6,
   "metadata": {},
   "outputs": [
    {
     "data": {
      "application/vnd.jupyter.widget-view+json": {
       "model_id": "",
       "version_major": 2,
       "version_minor": 0
      },
      "text/plain": [
       "FloatProgress(value=0.0, bar_style='info', description='Progress:', layout=Layout(height='25px', width='50%'),…"
      ]
     },
     "metadata": {},
     "output_type": "display_data"
    },
    {
     "name": "stdout",
     "output_type": "stream",
     "text": [
      "root\n",
      " |-- StationID: string (nullable = true)\n",
      " |-- Longitude: string (nullable = true)\n",
      " |-- Latitude: string (nullable = true)\n",
      " |-- Height: string (nullable = true)\n",
      " |-- Remark: string (nullable = true)"
     ]
    }
   ],
   "source": [
    "metadata.printSchema()"
   ]
  },
  {
   "cell_type": "code",
   "execution_count": 7,
   "metadata": {},
   "outputs": [
    {
     "data": {
      "application/vnd.jupyter.widget-view+json": {
       "model_id": "",
       "version_major": 2,
       "version_minor": 0
      },
      "text/plain": [
       "FloatProgress(value=0.0, bar_style='info', description='Progress:', layout=Layout(height='25px', width='50%'),…"
      ]
     },
     "metadata": {},
     "output_type": "display_data"
    },
    {
     "name": "stdout",
     "output_type": "stream",
     "text": [
      "+---------+---------+---------+------+----------------+\n",
      "|StationID|Longitude| Latitude|Height|          Remark|\n",
      "+---------+---------+---------+------+----------------+\n",
      "|  0000002|26.074412|44.446770|     0|       Bucuresti|\n",
      "|  0000003| 1.811446|50.901549|     0|          Calais|\n",
      "|  0000004| 1.075329|51.284212|     0|      Canterbury|\n",
      "|  0000005|-3.543547|50.729172|     0|          Exeter|\n",
      "|  0000007| 9.733756|46.922368|   744|Fideris, Bahnhof|\n",
      "+---------+---------+---------+------+----------------+\n",
      "only showing top 5 rows"
     ]
    }
   ],
   "source": [
    "metadata.show(5)"
   ]
  },
  {
   "cell_type": "code",
   "execution_count": null,
   "metadata": {},
   "outputs": [],
   "source": []
  },
  {
   "cell_type": "markdown",
   "metadata": {},
   "source": [
    "# Keep in mind"
   ]
  },
  {
   "cell_type": "markdown",
   "metadata": {},
   "source": [
    "- Max 100MB (including git history -> the whole repo) (Use git-lfs if too much data)"
   ]
  },
  {
   "cell_type": "markdown",
   "metadata": {},
   "source": [
    "# Ideas"
   ]
  },
  {
   "cell_type": "markdown",
   "metadata": {},
   "source": [
    "Compute route from `A` to `B`, with tolerance `p`, with departure time `d`:\n",
    "1. Find all routes from `A` to `B`, with departure time `d`\n",
    "2. Remove all routes that historically were possible less than `p` percent of the time\n",
    "3. From the remaining routes take the fastest one"
   ]
  },
  {
   "cell_type": "markdown",
   "metadata": {},
   "source": [
    "## Schedule\n",
    "\n",
    "### Week 1:\n",
    "- Construct graph\n",
    "- Have some planner\n",
    "\n",
    "Wednesday 13th May:\n",
    "- Try to have already a graph, as complete as possible (if issues ask Tao on Wednesday)\n",
    "- With the graph constructed, clearly state how we'll proceed for each task (and validate with office hours)\n",
    "\n",
    "Friday 15th May:\n",
    "- Dijkstra, find shortest paths\n",
    "\n",
    "### Week 2:\n",
    "- Predictive model\n",
    "- Test and validate\n",
    "- Some visualization...\n",
    "\n",
    "Wednesday 20th May:\n",
    "- Predictive model\n",
    "\n",
    "Friday 22th May:\n",
    "- Test and validate\n",
    "\n",
    "Monday 25th May:\n",
    "- Some visualization..."
   ]
  },
  {
   "cell_type": "markdown",
   "metadata": {},
   "source": [
    "# Todo"
   ]
  },
  {
   "cell_type": "markdown",
   "metadata": {},
   "source": [
    "1. Model the public transport infrastructure for your route planning algorithm using the data provided to you.\n",
    "2. Build a predictive model using the historical arrival/departure time data, and optionally other sources of data.\n",
    "3. Implement a robust route planning algorithm using this predictive model.\n",
    "4. Test and validate your results.\n",
    "5. Implement a simple Jupyter-based visualization to demonstrate your method, using Jupyter dashboard such as Voilà or ipywidgets."
   ]
  },
  {
   "cell_type": "markdown",
   "metadata": {},
   "source": [
    "## 1. Model the public transport infrastructure for your route planning algorithm using the data provided to you."
   ]
  },
  {
   "cell_type": "markdown",
   "metadata": {},
   "source": [
    "Assumptions:\n",
    "- Take May 13-17, 2019 to build schedule (8AM - 8PM). Each day of the week has a different schedule, but different weeks have the same schedules.\n",
    "\n",
    "Concept of network:\n",
    "- Each node represents a station and a time.\n",
    "- Each edge `A -> B` represents a transport departs from station A at the station's time and arrives at station B at station B's time.\n",
    "- Add edges between all stations and all stations `distance/50` minutes later that are <= 500 meters away (reachable by foot).\n",
    "- Add waiting edges between all stations and themselves in the future. Example: (A, 15h00) and (A, 15h02) => Add edge from the first to the second \n",
    "\n",
    "<img src=\"network-example.png\">\n",
    "\n",
    "To build network concretely:\n",
    "- `/data/sbb/timetables/csv/stop_times/2019/05/14/stop_times.txt`\n",
    "- `trip_id | arrival_time | departure_time | stop_id | stop_sequence | pickup_type | drop_off_type`\n",
    "- Load the table in hive\n",
    "- Add locations of stations (from `/somewhere.../stops.txt`)\n",
    "- Remove stations that are more than 15km away from `Zürich HB`\n",
    "- Remove stations that are not reachable from `Zürich HB` (If too hard, can do this later)\n",
    "- Join on `trip_id` (is `trip_id` unique on day?):\n",
    "    - Know the schedule with `stop_sequence`\n",
    "    - `arrival_time` and `departure_time` give the waiting time\n",
    "- Add foot edges (If too hard, can do this later)\n",
    "    - For each station find stations that are <= 500m away\n",
    "    - Add needed edges and nodes\n",
    "- Add waiting edges (Do we limit waiting time?)\n",
    "- `networkx` or just a simple table?"
   ]
  },
  {
   "cell_type": "markdown",
   "metadata": {},
   "source": [
    "## Office hours:\n",
    "Graph generation:\n",
    "- Don't put time in node\n",
    "- Edges are time-varying at some time you have these specific edges, weight = #minutes\n",
    "\n",
    "Algorithms to use:\n",
    "- Dijkstra works\n",
    "\n",
    "Store network:\n",
    "- `networkx` works\n",
    "\n",
    "Can we use spark:\n",
    "- Yes\n",
    "\n",
    "Are `stop_times.txt` and `stops.txt` sufficient?\n",
    "- Need `table_calendars`, see if it's useful\n",
    "- `service_id` when `service_id` is operating\n",
    "\n",
    "Predictive model:\n",
    "- General idea we had is correct -> find all journeys that work -> rank them by time -> check prob. of success\n",
    "- Maybe output list (if we have time...)"
   ]
  },
  {
   "cell_type": "markdown",
   "metadata": {},
   "source": [
    "## 2. Build a predictive model using the historical arrival/departure time data, and optionally other sources of data."
   ]
  },
  {
   "cell_type": "markdown",
   "metadata": {},
   "source": [
    "Later"
   ]
  },
  {
   "cell_type": "markdown",
   "metadata": {},
   "source": [
    "## 3. Implement a robust route planning algorithm using this predictive model."
   ]
  },
  {
   "cell_type": "markdown",
   "metadata": {},
   "source": [
    "Later"
   ]
  },
  {
   "cell_type": "markdown",
   "metadata": {},
   "source": [
    "## 4. Test and validate your results."
   ]
  },
  {
   "cell_type": "markdown",
   "metadata": {},
   "source": [
    "Later"
   ]
  },
  {
   "cell_type": "markdown",
   "metadata": {},
   "source": [
    "## 5. Implement a simple Jupyter-based visualization to demonstrate your method, using Jupyter dashboard such as [Voilà](https://voila.readthedocs.io/en/stable/) or [ipywidgets](https://ipywidgets.readthedocs.io/en/stable/user_guide.html)."
   ]
  },
  {
   "cell_type": "markdown",
   "metadata": {},
   "source": [
    "Later"
   ]
  }
 ],
 "metadata": {
  "kernelspec": {
   "display_name": "PySpark",
   "language": "",
   "name": "pysparkkernel"
  },
  "language_info": {
   "codemirror_mode": {
    "name": "python",
    "version": 3
   },
   "mimetype": "text/x-python",
   "name": "pyspark",
   "pygments_lexer": "python3"
  }
 },
 "nbformat": 4,
 "nbformat_minor": 4
}
