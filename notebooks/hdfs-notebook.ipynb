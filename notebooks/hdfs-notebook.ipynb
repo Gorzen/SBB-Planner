{
 "cells": [
  {
   "cell_type": "code",
   "execution_count": 1,
   "metadata": {},
   "outputs": [
    {
     "name": "stdout",
     "output_type": "stream",
     "text": [
      "Found 6 items\n",
      "drwxr-xr-x   - hdfs hdfs          0 2020-05-05 16:32 /data/sbb/timetables/csv/calendar\n",
      "drwxr-xr-x   - hdfs hdfs          0 2020-05-05 16:32 /data/sbb/timetables/csv/routes\n",
      "drwxr-xr-x   - hdfs hdfs          0 2020-05-05 16:32 /data/sbb/timetables/csv/stop_times\n",
      "drwxr-xr-x   - hdfs hdfs          0 2020-05-05 16:32 /data/sbb/timetables/csv/stops\n",
      "drwxr-xr-x   - hdfs hdfs          0 2020-05-05 16:32 /data/sbb/timetables/csv/transfers\n",
      "drwxr-xr-x   - hdfs hdfs          0 2020-05-05 16:33 /data/sbb/timetables/csv/trips\n"
     ]
    }
   ],
   "source": [
    "hdfs dfs -ls /data/sbb/timetables/csv/"
   ]
  },
  {
   "cell_type": "code",
   "execution_count": 2,
   "metadata": {},
   "outputs": [
    {
     "name": "stdout",
     "output_type": "stream",
     "text": [
      "Found 1 items\n",
      "-rw-rw-rw-   3 hdfs hdfs  794839768 2020-05-05 15:49 /data/sbb/timetables/csv/stop_times/2019/05/14/stop_times.txt\n"
     ]
    }
   ],
   "source": [
    "hdfs dfs -ls /data/sbb/timetables/csv/stop_times/2019/05/14"
   ]
  },
  {
   "cell_type": "code",
   "execution_count": 4,
   "metadata": {},
   "outputs": [
    {
     "name": "stdout",
     "output_type": "stream",
     "text": [
      "﻿trip_id,arrival_time,departure_time,stop_id,stop_sequence,pickup_type,drop_off_type\n",
      "\"1.TA.1-1-B-j19-1.1.R\",\"04:20:00\",\"04:20:00\",\"8500010:0:3\",\"1\",\"0\",\"0\"\n",
      "\"1.TA.1-1-B-j19-1.1.R\",\"04:24:00\",\"04:24:00\",\"8500020:0:3\",\"2\",\"0\",\"0\"\n",
      "\"1.TA.1-1-B-j19-1.1.R\",\"04:28:00\",\"04:28:00\",\"8500021:0:5\",\"3\",\"0\",\"0\"\n",
      "\"1.TA.1-1-B-j19-1.1.R\",\"04:30:00\",\"04:30:00\",\"8517131:0:2\",\"4\",\"0\",\"0\"\n",
      "\"1.TA.1-1-B-j19-1.1.R\",\"04:32:00\",\"04:32:00\",\"8500300:0:5\",\"5\",\"0\",\"0\"\n",
      "\"1.TA.1-1-B-j19-1.1.R\",\"04:35:00\",\"04:35:00\",\"8500313:0:2\",\"6\",\"0\",\"0\"\n",
      "\"1.TA.1-1-B-j19-1.1.R\",\"04:37:00\",\"04:38:00\",\"8500301:0:3\",\"7\",\"0\",\"0\"\n",
      "\"1.TA.1-1-B-j19-1.1.R\",\"04:40:00\",\"04:41:00\",\"8500302:0:3\",\"8\",\"0\",\"0\"\n",
      "\"1.TA.1-1-B-j19-1.1.R\",\"04:45:00\",\"04:45:00\",\"8500303:0:2\",\"9\",\"0\",\"0\"\n",
      "\"1.TA.1-1-B-j19-1.1.R\",\"04:48:00\",\"04:49:00\",\"8500320:0:3\",\"10\",\"0\",\"0\"\n",
      "\"1.TA.1-1-B-j19-1.1.R\",\"04:52:00\",\"04:52:00\",\"8500304:0:2\",\"11\",\"0\",\"0\"\n",
      "\"1.TA.1-1-B-j19-1.1.R\",\"04:56:00\",\"04:56:00\",\"8500305:0:1\",\"12\",\"0\",\"0\"\n",
      "\"25.TA.1-1-B-j19-1.1.R\",\"05:50:00\",\"05:50:00\",\"8500010:0:3\",\"1\",\"0\",\""
     ]
    }
   ],
   "source": [
    "hdfs dfs -head /data/sbb/timetables/csv/stop_times/2019/05/14/stop_times.txt"
   ]
  },
  {
   "cell_type": "code",
   "execution_count": 6,
   "metadata": {},
   "outputs": [
    {
     "name": "stdout",
     "output_type": "stream",
     "text": [
      "-head <file> :\n",
      "  Show the first 1KB of the file.\n"
     ]
    }
   ],
   "source": [
    "hdfs dfs -help head"
   ]
  },
  {
   "cell_type": "code",
   "execution_count": null,
   "metadata": {},
   "outputs": [],
   "source": []
  }
 ],
 "metadata": {
  "kernelspec": {
   "display_name": "Bash",
   "language": "bash",
   "name": "bash"
  },
  "language_info": {
   "codemirror_mode": "shell",
   "file_extension": ".sh",
   "mimetype": "text/x-sh",
   "name": "bash"
  }
 },
 "nbformat": 4,
 "nbformat_minor": 4
}
