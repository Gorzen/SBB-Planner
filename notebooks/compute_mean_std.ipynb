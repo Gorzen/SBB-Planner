{
 "cells": [
  {
   "cell_type": "markdown",
   "metadata": {},
   "source": [
    "# Compute mean and std arrival for train_type, hour and station (~20 minutes runtime)"
   ]
  },
  {
   "cell_type": "code",
   "execution_count": 1,
   "metadata": {},
   "outputs": [
    {
     "data": {
      "text/html": [
       "Current session configs: <tt>{'conf': {'spark.app.name': 'dslab-group_final'}, 'kind': 'pyspark'}</tt><br>"
      ],
      "text/plain": [
       "<IPython.core.display.HTML object>"
      ]
     },
     "metadata": {},
     "output_type": "display_data"
    },
    {
     "data": {
      "text/html": [
       "<table>\n",
       "<tr><th>ID</th><th>YARN Application ID</th><th>Kind</th><th>State</th><th>Spark UI</th><th>Driver log</th><th>Current session?</th></tr><tr><td>6481</td><td>application_1589299642358_0970</td><td>pyspark</td><td>idle</td><td><a target=\"_blank\" href=\"http://iccluster044.iccluster.epfl.ch:8088/proxy/application_1589299642358_0970/\">Link</a></td><td><a target=\"_blank\" href=\"http://iccluster071.iccluster.epfl.ch:8042/node/containerlogs/container_e06_1589299642358_0970_01_000001/ebouille\">Link</a></td><td></td></tr><tr><td>6485</td><td>application_1589299642358_0974</td><td>pyspark</td><td>idle</td><td><a target=\"_blank\" href=\"http://iccluster044.iccluster.epfl.ch:8088/proxy/application_1589299642358_0974/\">Link</a></td><td><a target=\"_blank\" href=\"http://iccluster068.iccluster.epfl.ch:8042/node/containerlogs/container_e06_1589299642358_0974_01_000001/ebouille\">Link</a></td><td></td></tr><tr><td>6487</td><td>application_1589299642358_0976</td><td>pyspark</td><td>idle</td><td><a target=\"_blank\" href=\"http://iccluster044.iccluster.epfl.ch:8088/proxy/application_1589299642358_0976/\">Link</a></td><td><a target=\"_blank\" href=\"http://iccluster066.iccluster.epfl.ch:8042/node/containerlogs/container_e06_1589299642358_0976_01_000001/ebouille\">Link</a></td><td></td></tr><tr><td>6490</td><td>application_1589299642358_0979</td><td>pyspark</td><td>idle</td><td><a target=\"_blank\" href=\"http://iccluster044.iccluster.epfl.ch:8088/proxy/application_1589299642358_0979/\">Link</a></td><td><a target=\"_blank\" href=\"http://iccluster072.iccluster.epfl.ch:8042/node/containerlogs/container_e06_1589299642358_0979_01_000001/ebouille\">Link</a></td><td></td></tr><tr><td>6493</td><td>application_1589299642358_0982</td><td>pyspark</td><td>idle</td><td><a target=\"_blank\" href=\"http://iccluster044.iccluster.epfl.ch:8088/proxy/application_1589299642358_0982/\">Link</a></td><td><a target=\"_blank\" href=\"http://iccluster071.iccluster.epfl.ch:8042/node/containerlogs/container_e06_1589299642358_0982_01_000001/ebouille\">Link</a></td><td></td></tr><tr><td>6500</td><td>application_1589299642358_0989</td><td>pyspark</td><td>idle</td><td><a target=\"_blank\" href=\"http://iccluster044.iccluster.epfl.ch:8088/proxy/application_1589299642358_0989/\">Link</a></td><td><a target=\"_blank\" href=\"http://iccluster066.iccluster.epfl.ch:8042/node/containerlogs/container_e06_1589299642358_0989_01_000001/ebouille\">Link</a></td><td></td></tr><tr><td>6501</td><td>application_1589299642358_0990</td><td>pyspark</td><td>idle</td><td><a target=\"_blank\" href=\"http://iccluster044.iccluster.epfl.ch:8088/proxy/application_1589299642358_0990/\">Link</a></td><td><a target=\"_blank\" href=\"http://iccluster069.iccluster.epfl.ch:8042/node/containerlogs/container_e06_1589299642358_0990_01_000001/ebouille\">Link</a></td><td></td></tr><tr><td>6502</td><td>application_1589299642358_0991</td><td>pyspark</td><td>busy</td><td><a target=\"_blank\" href=\"http://iccluster044.iccluster.epfl.ch:8088/proxy/application_1589299642358_0991/\">Link</a></td><td><a target=\"_blank\" href=\"http://iccluster071.iccluster.epfl.ch:8042/node/containerlogs/container_e06_1589299642358_0991_01_000001/ebouille\">Link</a></td><td></td></tr><tr><td>6503</td><td>application_1589299642358_0992</td><td>pyspark</td><td>idle</td><td><a target=\"_blank\" href=\"http://iccluster044.iccluster.epfl.ch:8088/proxy/application_1589299642358_0992/\">Link</a></td><td><a target=\"_blank\" href=\"http://iccluster068.iccluster.epfl.ch:8042/node/containerlogs/container_e06_1589299642358_0992_01_000001/ebouille\">Link</a></td><td></td></tr></table>"
      ],
      "text/plain": [
       "<IPython.core.display.HTML object>"
      ]
     },
     "metadata": {},
     "output_type": "display_data"
    }
   ],
   "source": [
    "%%configure\n",
    "{\"conf\": {\n",
    "    \"spark.app.name\": \"dslab-group_final\"\n",
    "}}"
   ]
  },
  {
   "cell_type": "markdown",
   "metadata": {},
   "source": [
    "#### Imports:"
   ]
  },
  {
   "cell_type": "code",
   "execution_count": 2,
   "metadata": {},
   "outputs": [
    {
     "name": "stdout",
     "output_type": "stream",
     "text": [
      "Starting Spark application\n"
     ]
    },
    {
     "data": {
      "text/html": [
       "<table>\n",
       "<tr><th>ID</th><th>YARN Application ID</th><th>Kind</th><th>State</th><th>Spark UI</th><th>Driver log</th><th>Current session?</th></tr><tr><td>6504</td><td>application_1589299642358_0993</td><td>pyspark</td><td>idle</td><td><a target=\"_blank\" href=\"http://iccluster044.iccluster.epfl.ch:8088/proxy/application_1589299642358_0993/\">Link</a></td><td><a target=\"_blank\" href=\"http://iccluster070.iccluster.epfl.ch:8042/node/containerlogs/container_e06_1589299642358_0993_01_000001/ebouille\">Link</a></td><td>✔</td></tr></table>"
      ],
      "text/plain": [
       "<IPython.core.display.HTML object>"
      ]
     },
     "metadata": {},
     "output_type": "display_data"
    },
    {
     "data": {
      "application/vnd.jupyter.widget-view+json": {
       "model_id": "",
       "version_major": 2,
       "version_minor": 0
      },
      "text/plain": [
       "FloatProgress(value=0.0, bar_style='info', description='Progress:', layout=Layout(height='25px', width='50%'),…"
      ]
     },
     "metadata": {},
     "output_type": "display_data"
    },
    {
     "name": "stdout",
     "output_type": "stream",
     "text": [
      "SparkSession available as 'spark'.\n"
     ]
    },
    {
     "data": {
      "application/vnd.jupyter.widget-view+json": {
       "model_id": "",
       "version_major": 2,
       "version_minor": 0
      },
      "text/plain": [
       "FloatProgress(value=0.0, bar_style='info', description='Progress:', layout=Layout(height='25px', width='50%'),…"
      ]
     },
     "metadata": {},
     "output_type": "display_data"
    }
   ],
   "source": [
    "import networkx as nx\n",
    "from geopy.distance import distance as geo_distance\n",
    "from pyspark.sql import Row\n",
    "import pyspark.sql.functions as f\n",
    "from pyspark.sql.functions import *\n",
    "from pyspark.sql.types import FloatType\n",
    "from networkx.algorithms.shortest_paths.weighted import dijkstra_path"
   ]
  },
  {
   "cell_type": "markdown",
   "metadata": {},
   "source": [
    "# Compute mean and std arrival delay"
   ]
  },
  {
   "cell_type": "code",
   "execution_count": 9,
   "metadata": {},
   "outputs": [
    {
     "data": {
      "application/vnd.jupyter.widget-view+json": {
       "model_id": "",
       "version_major": 2,
       "version_minor": 0
      },
      "text/plain": [
       "FloatProgress(value=0.0, bar_style='info', description='Progress:', layout=Layout(height='25px', width='50%'),…"
      ]
     },
     "metadata": {},
     "output_type": "display_data"
    }
   ],
   "source": [
    "stops_in_zurich = stops_zurich.select('stop_id').distinct().rdd.flatMap(lambda x:x).collect()"
   ]
  },
  {
   "cell_type": "code",
   "execution_count": 10,
   "metadata": {},
   "outputs": [
    {
     "data": {
      "application/vnd.jupyter.widget-view+json": {
       "model_id": "",
       "version_major": 2,
       "version_minor": 0
      },
      "text/plain": [
       "FloatProgress(value=0.0, bar_style='info', description='Progress:', layout=Layout(height='25px', width='50%'),…"
      ]
     },
     "metadata": {},
     "output_type": "display_data"
    }
   ],
   "source": [
    "# Taken from find_train_type_correspondace.ipynb\n",
    "replace_actual = {\n",
    "    'BUS': 'Bus', # Buses\n",
    "    'B': 'Bus',\n",
    "    'NFB': 'Bus',\n",
    "    'KB': 'Bus',\n",
    "    'BAT': 'Bus',\n",
    "    'Trm': 'Tram', # Trams\n",
    "    'T': 'Tram',\n",
    "    'TRAM': 'Tram',\n",
    "    'ATZ': 'ARZ', #AutoZug\n",
    "    'D': 'RE', # Regional\n",
    "    'RB': 'R',\n",
    "    'M': 'Metro', # Metro\n",
    "    'ICE': 'IC', # InterCityExpress, but routes.txt doesn't have that category\n",
    "    'IRE': 'IR', # InterRegioExpress, but routes.txt doesn't have that category\n",
    "    'BN': '', # Night\n",
    "    'TN': '',\n",
    "    'SN': '',\n",
    "    'BT': '',\n",
    "    'VAE': '', # Panorama trains in the Alps\n",
    "    'PE': '',\n",
    "    'TER': '', # France\n",
    "    'TE2': '',\n",
    "    'RJX': '', # International\n",
    "    'null': '' # Other\n",
    "}"
   ]
  },
  {
   "cell_type": "code",
   "execution_count": 11,
   "metadata": {},
   "outputs": [
    {
     "data": {
      "application/vnd.jupyter.widget-view+json": {
       "model_id": "",
       "version_major": 2,
       "version_minor": 0
      },
      "text/plain": [
       "FloatProgress(value=0.0, bar_style='info', description='Progress:', layout=Layout(height='25px', width='50%'),…"
      ]
     },
     "metadata": {},
     "output_type": "display_data"
    }
   ],
   "source": [
    "@udf(\"string\")\n",
    "def replace_verkehrsmittel_text(text):\n",
    "    if text in replace_actual.keys():\n",
    "        return replace_actual[text]\n",
    "    else:\n",
    "        return text"
   ]
  },
  {
   "cell_type": "code",
   "execution_count": 12,
   "metadata": {},
   "outputs": [
    {
     "data": {
      "application/vnd.jupyter.widget-view+json": {
       "model_id": "",
       "version_major": 2,
       "version_minor": 0
      },
      "text/plain": [
       "FloatProgress(value=0.0, bar_style='info', description='Progress:', layout=Layout(height='25px', width='50%'),…"
      ]
     },
     "metadata": {},
     "output_type": "display_data"
    }
   ],
   "source": [
    "actual = spark.read.format('orc').load('/data/sbb/orc/istdaten/')\\\n",
    "                                 .where(col('bpuic').isin(stops_in_zurich))\\\n",
    "                                 .where((col(\"ankunftszeit\") != \"\") & (col(\"an_prognose\") != \"\") & (col(\"verkehrsmittel_text\") != \"\"))\\\n",
    "                                 .select(col('bpuic').alias('stop_id'),\\\n",
    "                                         replace_verkehrsmittel_text(col('verkehrsmittel_text')).alias('verkehrsmittel_text'),\\\n",
    "                                         from_unixtime(unix_timestamp('ankunftszeit', 'dd.MM.yyy HH:mm')).alias('ankunftszeit'),\\\n",
    "                                         from_unixtime(unix_timestamp('an_prognose', 'dd.MM.yyy HH:mm:ss')).alias('an_prognose'))"
   ]
  },
  {
   "cell_type": "code",
   "execution_count": 13,
   "metadata": {},
   "outputs": [
    {
     "data": {
      "application/vnd.jupyter.widget-view+json": {
       "model_id": "",
       "version_major": 2,
       "version_minor": 0
      },
      "text/plain": [
       "FloatProgress(value=0.0, bar_style='info', description='Progress:', layout=Layout(height='25px', width='50%'),…"
      ]
     },
     "metadata": {},
     "output_type": "display_data"
    },
    {
     "name": "stdout",
     "output_type": "stream",
     "text": [
      "+-------+-------------------+-------------------+-------------------+\n",
      "|stop_id|verkehrsmittel_text|       ankunftszeit|        an_prognose|\n",
      "+-------+-------------------+-------------------+-------------------+\n",
      "|8503000|                 EC|2018-09-03 21:51:00|2018-09-03 21:53:40|\n",
      "|8503000|                 EC|2018-09-03 10:51:00|2018-09-03 10:51:28|\n",
      "|8503000|                 IC|2018-09-03 07:00:00|2018-09-03 07:00:01|\n",
      "|8503000|                 IC|2018-09-03 21:23:00|2018-09-03 21:24:55|\n",
      "|8503000|                 IC|2018-09-03 08:26:00|2018-09-03 08:28:06|\n",
      "|8503000|                 IC|2018-09-03 17:53:00|2018-09-03 17:55:21|\n",
      "|8503000|                 IC|2018-09-03 10:00:00|2018-09-03 09:59:07|\n",
      "|8503000|                 EC|2018-09-03 12:51:00|2018-09-03 12:52:50|\n",
      "|8503000|                 IC|2018-09-03 08:10:00|2018-09-03 08:15:32|\n",
      "|8503000|                 IC|2018-09-03 17:10:00|2018-09-03 17:10:06|\n",
      "|8503000|                 IC|2018-09-03 18:10:00|2018-09-03 18:09:46|\n",
      "|8503000|                 IC|2018-09-03 07:51:00|2018-09-03 07:52:58|\n",
      "|8503000|                 IC|2018-09-03 08:51:00|2018-09-03 08:52:52|\n",
      "|8503000|                 IC|2018-09-03 06:30:00|2018-09-03 06:32:00|\n",
      "|8503000|                 IC|2018-09-03 07:30:00|2018-09-03 07:32:47|\n",
      "|8503000|                 IC|2018-09-03 07:23:00|2018-09-03 07:22:40|\n",
      "|8503000|                 IC|2018-09-03 08:30:00|2018-09-03 08:31:30|\n",
      "|8503000|                 IC|2018-09-03 08:23:00|2018-09-03 08:22:01|\n",
      "|8503000|                 IC|2018-09-03 09:30:00|2018-09-03 09:30:48|\n",
      "|8503000|                 IC|2018-09-03 09:23:00|2018-09-03 09:38:16|\n",
      "+-------+-------------------+-------------------+-------------------+\n",
      "only showing top 20 rows"
     ]
    }
   ],
   "source": [
    "actual.show()"
   ]
  },
  {
   "cell_type": "code",
   "execution_count": 14,
   "metadata": {},
   "outputs": [
    {
     "data": {
      "application/vnd.jupyter.widget-view+json": {
       "model_id": "",
       "version_major": 2,
       "version_minor": 0
      },
      "text/plain": [
       "FloatProgress(value=0.0, bar_style='info', description='Progress:', layout=Layout(height='25px', width='50%'),…"
      ]
     },
     "metadata": {},
     "output_type": "display_data"
    }
   ],
   "source": [
    "actual = actual.withColumn('hour', hour(col('ankunftszeit')))\\\n",
    "               .withColumn('diff', unix_timestamp('an_prognose') - unix_timestamp('ankunftszeit'))\\\n",
    "               .select(col('stop_id'), col('verkehrsmittel_text'), col('hour'), col('diff'))"
   ]
  },
  {
   "cell_type": "code",
   "execution_count": 15,
   "metadata": {},
   "outputs": [
    {
     "data": {
      "application/vnd.jupyter.widget-view+json": {
       "model_id": "",
       "version_major": 2,
       "version_minor": 0
      },
      "text/plain": [
       "FloatProgress(value=0.0, bar_style='info', description='Progress:', layout=Layout(height='25px', width='50%'),…"
      ]
     },
     "metadata": {},
     "output_type": "display_data"
    },
    {
     "name": "stdout",
     "output_type": "stream",
     "text": [
      "+-------+-------------------+----+----+\n",
      "|stop_id|verkehrsmittel_text|hour|diff|\n",
      "+-------+-------------------+----+----+\n",
      "|8503000|                 EC|  21| 160|\n",
      "|8503000|                 EC|  10|  28|\n",
      "|8503000|                 IC|   7|   1|\n",
      "|8503000|                 IC|  21| 115|\n",
      "|8503000|                 IC|   8| 126|\n",
      "|8503000|                 IC|  17| 141|\n",
      "|8503000|                 IC|  10| -53|\n",
      "|8503000|                 EC|  12| 110|\n",
      "|8503000|                 IC|   8| 332|\n",
      "|8503000|                 IC|  17|   6|\n",
      "|8503000|                 IC|  18| -14|\n",
      "|8503000|                 IC|   7| 118|\n",
      "|8503000|                 IC|   8| 112|\n",
      "|8503000|                 IC|   6| 120|\n",
      "|8503000|                 IC|   7| 167|\n",
      "|8503000|                 IC|   7| -20|\n",
      "|8503000|                 IC|   8|  90|\n",
      "|8503000|                 IC|   8| -59|\n",
      "|8503000|                 IC|   9|  48|\n",
      "|8503000|                 IC|   9| 916|\n",
      "+-------+-------------------+----+----+\n",
      "only showing top 20 rows"
     ]
    }
   ],
   "source": [
    "actual.show()"
   ]
  },
  {
   "cell_type": "code",
   "execution_count": 16,
   "metadata": {},
   "outputs": [
    {
     "data": {
      "application/vnd.jupyter.widget-view+json": {
       "model_id": "",
       "version_major": 2,
       "version_minor": 0
      },
      "text/plain": [
       "FloatProgress(value=0.0, bar_style='info', description='Progress:', layout=Layout(height='25px', width='50%'),…"
      ]
     },
     "metadata": {},
     "output_type": "display_data"
    }
   ],
   "source": [
    "actual = actual.groupBy('stop_id', 'verkehrsmittel_text', 'hour').agg(mean(\"diff\").alias(\"mean\"), stddev(\"diff\").alias(\"std\"))"
   ]
  },
  {
   "cell_type": "code",
   "execution_count": 17,
   "metadata": {},
   "outputs": [
    {
     "data": {
      "application/vnd.jupyter.widget-view+json": {
       "model_id": "",
       "version_major": 2,
       "version_minor": 0
      },
      "text/plain": [
       "FloatProgress(value=0.0, bar_style='info', description='Progress:', layout=Layout(height='25px', width='50%'),…"
      ]
     },
     "metadata": {},
     "output_type": "display_data"
    }
   ],
   "source": [
    "actual = actual.na.fill(0)"
   ]
  },
  {
   "cell_type": "code",
   "execution_count": 18,
   "metadata": {},
   "outputs": [
    {
     "data": {
      "application/vnd.jupyter.widget-view+json": {
       "model_id": "",
       "version_major": 2,
       "version_minor": 0
      },
      "text/plain": [
       "FloatProgress(value=0.0, bar_style='info', description='Progress:', layout=Layout(height='25px', width='50%'),…"
      ]
     },
     "metadata": {},
     "output_type": "display_data"
    },
    {
     "name": "stdout",
     "output_type": "stream",
     "text": [
      "DataFrame[stop_id: string, verkehrsmittel_text: string, hour: int, mean: double, std: double]"
     ]
    }
   ],
   "source": [
    "actual.cache()"
   ]
  },
  {
   "cell_type": "code",
   "execution_count": 19,
   "metadata": {},
   "outputs": [
    {
     "data": {
      "application/vnd.jupyter.widget-view+json": {
       "model_id": "",
       "version_major": 2,
       "version_minor": 0
      },
      "text/plain": [
       "FloatProgress(value=0.0, bar_style='info', description='Progress:', layout=Layout(height='25px', width='50%'),…"
      ]
     },
     "metadata": {},
     "output_type": "display_data"
    },
    {
     "name": "stdout",
     "output_type": "stream",
     "text": [
      "+-------+-------------------+----+-------------------+------------------+\n",
      "|stop_id|verkehrsmittel_text|hour|               mean|               std|\n",
      "+-------+-------------------+----+-------------------+------------------+\n",
      "|8503202|                 RE|  10|   96.5210970464135| 89.59750827144028|\n",
      "|8503000|                 RE|  20|  14.40864255519023| 94.10998924475062|\n",
      "|8502277|                 RE|   7|-12.576200417536535| 44.81269640129601|\n",
      "|8502188|                  S|   0|  65.93168880455408| 116.4165437465676|\n",
      "|8591252|               Tram|  15| 46.415761962203455|154.85775842747395|\n",
      "|8591138|               Tram|  19| 41.096322241681264| 115.7428796557576|\n",
      "|8591381|               Tram|  23|  75.40832557139787|113.17642398065263|\n",
      "|8576195|               Tram|  17|   67.1224444690021|197.00756086679405|\n",
      "|8591051|               Tram|  18| 63.364261543499616| 169.9632979451372|\n",
      "|8591236|               Tram|   8|  54.13117152261368| 75.04036210482607|\n",
      "|8503083|               Tram|  11|  59.69697971781305|293.71896218847724|\n",
      "|8591233|               Tram|  16| 106.49294130134805| 334.0888421293165|\n",
      "|8591262|               Tram|  20|  71.79672435822975|152.78007121929704|\n",
      "|8594239|               Tram|  13|   57.6662078458362|174.26619922441327|\n",
      "|8591412|               Tram|  10|  40.89368640017991|115.16378364274806|\n",
      "|8591058|               Tram|  12|  62.60862108922364|201.36487155200422|\n",
      "|8591303|               Tram|   0| 26.220946915351508|    43.19593525836|\n",
      "|8591123|               Tram|  21|  67.22264515091406|134.06722540689046|\n",
      "|8591298|               Tram|   8|  73.03148553367372|141.32491288013253|\n",
      "|8591082|               Tram|   9|  63.81389803565346|109.91509223749141|\n",
      "+-------+-------------------+----+-------------------+------------------+\n",
      "only showing top 20 rows"
     ]
    }
   ],
   "source": [
    "actual.show()"
   ]
  },
  {
   "cell_type": "markdown",
   "metadata": {},
   "source": [
    "## Save to local"
   ]
  },
  {
   "cell_type": "code",
   "execution_count": 20,
   "metadata": {},
   "outputs": [
    {
     "data": {
      "application/vnd.jupyter.widget-view+json": {
       "model_id": "",
       "version_major": 2,
       "version_minor": 0
      },
      "text/plain": [
       "FloatProgress(value=0.0, bar_style='info', description='Progress:', layout=Layout(height='25px', width='50%'),…"
      ]
     },
     "metadata": {},
     "output_type": "display_data"
    },
    {
     "data": {
      "application/vnd.jupyter.widget-view+json": {
       "model_id": "",
       "version_major": 2,
       "version_minor": 0
      },
      "text/plain": [
       "FloatProgress(value=0.0, bar_style='info', description='Progress:', layout=Layout(height='25px', width='50%'),…"
      ]
     },
     "metadata": {},
     "output_type": "display_data"
    }
   ],
   "source": [
    "%%spark -o actual -n 1000000"
   ]
  },
  {
   "cell_type": "code",
   "execution_count": 21,
   "metadata": {},
   "outputs": [],
   "source": [
    "%%local\n",
    "actual.to_pickle('pickle_delay_distribution')"
   ]
  },
  {
   "cell_type": "code",
   "execution_count": 22,
   "metadata": {},
   "outputs": [
    {
     "data": {
      "application/vnd.jupyter.widget-view+json": {
       "model_id": "",
       "version_major": 2,
       "version_minor": 0
      },
      "text/plain": [
       "FloatProgress(value=0.0, bar_style='info', description='Progress:', layout=Layout(height='25px', width='50%'),…"
      ]
     },
     "metadata": {},
     "output_type": "display_data"
    },
    {
     "name": "stdout",
     "output_type": "stream",
     "text": [
      "36950"
     ]
    }
   ],
   "source": [
    "actual.count()"
   ]
  },
  {
   "cell_type": "markdown",
   "metadata": {},
   "source": [
    "## Load from local"
   ]
  },
  {
   "cell_type": "code",
   "execution_count": 23,
   "metadata": {},
   "outputs": [],
   "source": [
    "%%local\n",
    "import pandas as pd\n",
    "actual = pd.read_pickle('pickle_delay_distribution')"
   ]
  },
  {
   "cell_type": "code",
   "execution_count": 24,
   "metadata": {},
   "outputs": [
    {
     "data": {
      "application/vnd.jupyter.widget-view+json": {
       "model_id": "",
       "version_major": 2,
       "version_minor": 0
      },
      "text/plain": [
       "FloatProgress(value=0.0, bar_style='info', description='Progress:', layout=Layout(height='25px', width='50%'),…"
      ]
     },
     "metadata": {},
     "output_type": "display_data"
    },
    {
     "name": "stdout",
     "output_type": "stream",
     "text": [
      "Successfully passed 'test' as 'test' to Spark kernel"
     ]
    }
   ],
   "source": [
    "%%send_to_spark -i actual -t df -m 1000000"
   ]
  },
  {
   "cell_type": "code",
   "execution_count": null,
   "metadata": {},
   "outputs": [],
   "source": []
  },
  {
   "cell_type": "code",
   "execution_count": null,
   "metadata": {},
   "outputs": [],
   "source": []
  },
  {
   "cell_type": "code",
   "execution_count": null,
   "metadata": {},
   "outputs": [],
   "source": []
  },
  {
   "cell_type": "code",
   "execution_count": 25,
   "metadata": {},
   "outputs": [
    {
     "data": {
      "application/vnd.jupyter.widget-view+json": {
       "model_id": "",
       "version_major": 2,
       "version_minor": 0
      },
      "text/plain": [
       "FloatProgress(value=0.0, bar_style='info', description='Progress:', layout=Layout(height='25px', width='50%'),…"
      ]
     },
     "metadata": {},
     "output_type": "display_data"
    },
    {
     "name": "stdout",
     "output_type": "stream",
     "text": [
      "36950"
     ]
    }
   ],
   "source": [
    "actual.count()"
   ]
  },
  {
   "cell_type": "code",
   "execution_count": 27,
   "metadata": {},
   "outputs": [
    {
     "data": {
      "application/vnd.jupyter.widget-view+json": {
       "model_id": "",
       "version_major": 2,
       "version_minor": 0
      },
      "text/plain": [
       "FloatProgress(value=0.0, bar_style='info', description='Progress:', layout=Layout(height='25px', width='50%'),…"
      ]
     },
     "metadata": {},
     "output_type": "display_data"
    },
    {
     "name": "stdout",
     "output_type": "stream",
     "text": [
      "+-------------------+\n",
      "|verkehrsmittel_text|\n",
      "+-------------------+\n",
      "|                 IC|\n",
      "|                ZUG|\n",
      "|                 RE|\n",
      "|                 NJ|\n",
      "|                TGV|\n",
      "|                 EN|\n",
      "|                 IR|\n",
      "|                 EC|\n",
      "|               Tram|\n",
      "|                 AG|\n",
      "|                  S|\n",
      "|                  R|\n",
      "|                Bus|\n",
      "|                EXT|\n",
      "|                  P|\n",
      "|                 RJ|\n",
      "|                   |\n",
      "|                 NB|\n",
      "+-------------------+"
     ]
    }
   ],
   "source": [
    "actual.select(col('verkehrsmittel_text')).distinct().show()"
   ]
  },
  {
   "cell_type": "code",
   "execution_count": null,
   "metadata": {},
   "outputs": [],
   "source": []
  },
  {
   "cell_type": "code",
   "execution_count": null,
   "metadata": {},
   "outputs": [],
   "source": []
  },
  {
   "cell_type": "code",
   "execution_count": null,
   "metadata": {},
   "outputs": [],
   "source": []
  },
  {
   "cell_type": "code",
   "execution_count": null,
   "metadata": {},
   "outputs": [],
   "source": []
  },
  {
   "cell_type": "code",
   "execution_count": null,
   "metadata": {},
   "outputs": [],
   "source": []
  },
  {
   "cell_type": "code",
   "execution_count": null,
   "metadata": {},
   "outputs": [],
   "source": []
  },
  {
   "cell_type": "code",
   "execution_count": null,
   "metadata": {},
   "outputs": [],
   "source": []
  },
  {
   "cell_type": "code",
   "execution_count": null,
   "metadata": {},
   "outputs": [],
   "source": []
  },
  {
   "cell_type": "code",
   "execution_count": null,
   "metadata": {},
   "outputs": [],
   "source": []
  },
  {
   "cell_type": "code",
   "execution_count": null,
   "metadata": {},
   "outputs": [],
   "source": []
  },
  {
   "cell_type": "code",
   "execution_count": null,
   "metadata": {},
   "outputs": [],
   "source": []
  },
  {
   "cell_type": "markdown",
   "metadata": {},
   "source": [
    "# Temp: should pickle stop_times_zurich"
   ]
  },
  {
   "cell_type": "code",
   "execution_count": 3,
   "metadata": {},
   "outputs": [
    {
     "data": {
      "application/vnd.jupyter.widget-view+json": {
       "model_id": "",
       "version_major": 2,
       "version_minor": 0
      },
      "text/plain": [
       "FloatProgress(value=0.0, bar_style='info', description='Progress:', layout=Layout(height='25px', width='50%'),…"
      ]
     },
     "metadata": {},
     "output_type": "display_data"
    }
   ],
   "source": [
    "# Loading data, these are snapshots of the all available data\n",
    "# Calendar and trips are useful to filter the other dataframe according to the day\n",
    "\n",
    "stop_times = spark.read.format('orc').load('/data/sbb/timetables/orc/stop_times/000000_0')\n",
    "stops = spark.read.format('orc').load('/data/sbb/timetables/orc/stops/000000_0')\n",
    "trips = spark.read.format('orc').load('/data/sbb/timetables/orc/trips/000000_0')\n",
    "calendar = spark.read.format('orc').load('/data/sbb/timetables/orc/calendar/000000_0')"
   ]
  },
  {
   "cell_type": "markdown",
   "metadata": {},
   "source": [
    "## 2. Pre-processing: \n",
    "\n",
    "Here, we pre-process the data to correspond to the following criteria:\n",
    "- only consider journeys at reasonable hours of the day, and on a typical business day, and assuming the schedule of May 13-17, 2019\n",
    "- allow short (max 500m \"As the Crows Flies\") walking distances for transfers between two stations, and assume a walking speed of 50m/1min on a straight line, regardless of obstacles, human-built or natural, such as building, highways, rivers, or lakes\n",
    "- only consider journeys that start and end on known station coordinates (train station, bus stops, etc.), never from a random location\n",
    "- only consider stations in a 15km radius of Zürich's train station, Zürich HB (8503000), (lat, lon) = (47.378177, 8.540192)\n",
    "- only consider stations in the 15km radius that are reachable from Zürich HB, either directly, or via transfers through other stations within the area\n",
    "- assume that the timetables remain unchanged throughout the 2018 - 2019 period\n",
    "\n",
    "Filtering criteria for later use (e.g. probability intervals and planner):\n",
    "- assuming that delays or travel times on the public transport network are uncorrelated with one another\n",
    "- once a route is computed, a traveller is expected to follow the planned routes to the end, or until it fails (i.e. miss a connection)\n",
    "- planner will not need to mitigate the traveller's inconvenience if a plan fails"
   ]
  },
  {
   "cell_type": "markdown",
   "metadata": {},
   "source": [
    "### Stop times during rush-hour: \n",
    "\n",
    "Only consider journeys at reasonable hours of the day, thus we take only stop times that are in the window of rush-hour (e.g. from 8 a.m. to 8 p.m.). "
   ]
  },
  {
   "cell_type": "code",
   "execution_count": 4,
   "metadata": {},
   "outputs": [
    {
     "data": {
      "application/vnd.jupyter.widget-view+json": {
       "model_id": "",
       "version_major": 2,
       "version_minor": 0
      },
      "text/plain": [
       "FloatProgress(value=0.0, bar_style='info', description='Progress:', layout=Layout(height='25px', width='50%'),…"
      ]
     },
     "metadata": {},
     "output_type": "display_data"
    }
   ],
   "source": [
    "# Filter stop_times to be only in 08:00-19:59:\n",
    "stop_times = stop_times.where((col('departure_time') >= '08:00:00') \n",
    "                              & (col('departure_time') <= '19:59:59'))"
   ]
  },
  {
   "cell_type": "markdown",
   "metadata": {},
   "source": [
    "### Stations around Zürich HB:\n",
    "\n",
    "Only consider stations in a 15km radius of Zürich's train station (Zürich HB). "
   ]
  },
  {
   "cell_type": "markdown",
   "metadata": {},
   "source": [
    "First we get the geolocation of Zürich Hauptbahnhof to be able to calculate the distance of the other stations to the Hauptbahnhof. "
   ]
  },
  {
   "cell_type": "code",
   "execution_count": 5,
   "metadata": {},
   "outputs": [
    {
     "data": {
      "application/vnd.jupyter.widget-view+json": {
       "model_id": "",
       "version_major": 2,
       "version_minor": 0
      },
      "text/plain": [
       "FloatProgress(value=0.0, bar_style='info', description='Progress:', layout=Layout(height='25px', width='50%'),…"
      ]
     },
     "metadata": {},
     "output_type": "display_data"
    },
    {
     "name": "stdout",
     "output_type": "stream",
     "text": [
      "Location of Zürich Hauptbahnhof (lat, lon) :(47.3781762039461, 8.54019357578468)"
     ]
    }
   ],
   "source": [
    "zurich_pos = stops.where(column('stop_name') == 'Zürich HB').select('stop_lat', 'stop_lon').collect()\n",
    "zurich_pos = (zurich_pos[0][0], zurich_pos[0][1])\n",
    "print('Location of Zürich Hauptbahnhof (lat, lon) :'+str(zurich_pos))"
   ]
  },
  {
   "cell_type": "code",
   "execution_count": 6,
   "metadata": {},
   "outputs": [
    {
     "data": {
      "application/vnd.jupyter.widget-view+json": {
       "model_id": "",
       "version_major": 2,
       "version_minor": 0
      },
      "text/plain": [
       "FloatProgress(value=0.0, bar_style='info', description='Progress:', layout=Layout(height='25px', width='50%'),…"
      ]
     },
     "metadata": {},
     "output_type": "display_data"
    }
   ],
   "source": [
    "@udf(\"float\")\n",
    "def compute_distance(x1, y1, x2, y2):\n",
    "    return geo_distance((x1, y1), (x2,y2)).m"
   ]
  },
  {
   "cell_type": "code",
   "execution_count": 7,
   "metadata": {},
   "outputs": [
    {
     "data": {
      "application/vnd.jupyter.widget-view+json": {
       "model_id": "",
       "version_major": 2,
       "version_minor": 0
      },
      "text/plain": [
       "FloatProgress(value=0.0, bar_style='info', description='Progress:', layout=Layout(height='25px', width='50%'),…"
      ]
     },
     "metadata": {},
     "output_type": "display_data"
    }
   ],
   "source": [
    "def zurich_distance(x, y):\n",
    "    \"\"\"zurich_distance: returns the distance of a station to Zurich HB\n",
    "    @input: (lat,lon) of a station\n",
    "    @output: distance in km to Zurich HB\n",
    "    \"\"\"\n",
    "    return geo_distance(zurich_pos, (x,y)).km"
   ]
  },
  {
   "cell_type": "markdown",
   "metadata": {},
   "source": [
    "Then we create a dataframe `stops_zurich` of the stations where we add a column for the distance to Zurich HB. In that dataframe, we keep only those that are in a radisu of 15km to the HB. The same filter is applied to the `stop_times` df mentioned above. "
   ]
  },
  {
   "cell_type": "code",
   "execution_count": 8,
   "metadata": {},
   "outputs": [
    {
     "data": {
      "application/vnd.jupyter.widget-view+json": {
       "model_id": "",
       "version_major": 2,
       "version_minor": 0
      },
      "text/plain": [
       "FloatProgress(value=0.0, bar_style='info', description='Progress:', layout=Layout(height='25px', width='50%'),…"
      ]
     },
     "metadata": {},
     "output_type": "display_data"
    }
   ],
   "source": [
    "# filter stops:\n",
    "stops_distance = stops.rdd.map(lambda x: (x['stop_id'], zurich_distance(x['stop_lat'], x['stop_lon'])))\n",
    "stops_distance = spark.createDataFrame(stops_distance.map(lambda r: Row(stop_id=r[0], \n",
    "                                                                        zurich_distance=r[1])))\n",
    "\n",
    "stops_distance = stops_distance.filter(column('zurich_distance') <= 15)\n",
    "\n",
    "#print('There are '+str(stops_distance.count())+' stops in a radius of 15km around Zurich HB')\n",
    "\n",
    "# add distance to HB to stops info and keep only in radius of 15km\n",
    "stops_zurich = stops_distance.join(stops, on='stop_id')\n",
    "\n",
    "# keep only stop times in radius of 15km of Zurich\n",
    "stop_times_zurich = stop_times.join(stops_distance.select('stop_id'), on='stop_id')\n",
    "\n",
    "#print('There are '+str(stop_times_zurich.count())+ ' stop times in a radius of 15km around  Zurich HB')"
   ]
  },
  {
   "cell_type": "code",
   "execution_count": null,
   "metadata": {},
   "outputs": [],
   "source": []
  }
 ],
 "metadata": {
  "kernelspec": {
   "display_name": "PySpark",
   "language": "",
   "name": "pysparkkernel"
  },
  "language_info": {
   "codemirror_mode": {
    "name": "python",
    "version": 3
   },
   "mimetype": "text/x-python",
   "name": "pyspark",
   "pygments_lexer": "python3"
  }
 },
 "nbformat": 4,
 "nbformat_minor": 4
}
