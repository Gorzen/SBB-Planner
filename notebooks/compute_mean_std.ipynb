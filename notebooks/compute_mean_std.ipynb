{
 "cells": [
  {
   "cell_type": "markdown",
   "metadata": {},
   "source": [
    "# Statisctical information, mean and std : \n",
    "\n",
    "This notebook computes the mean, std for the arrival time for each train_type, hour and station. Note, this notebook takes approximately 20 minutes to run.  "
   ]
  },
  {
   "cell_type": "markdown",
   "metadata": {},
   "source": [
    "### Set up spark:"
   ]
  },
  {
   "cell_type": "code",
   "execution_count": 1,
   "metadata": {},
   "outputs": [
    {
     "data": {
      "text/html": [
       "Current session configs: <tt>{'conf': {'spark.app.name': 'dslab-group_final'}, 'kind': 'pyspark'}</tt><br>"
      ],
      "text/plain": [
       "<IPython.core.display.HTML object>"
      ]
     },
     "metadata": {},
     "output_type": "display_data"
    },
    {
     "data": {
      "text/html": [
       "<table>\n",
       "<tr><th>ID</th><th>YARN Application ID</th><th>Kind</th><th>State</th><th>Spark UI</th><th>Driver log</th><th>Current session?</th></tr><tr><td>7933</td><td>application_1589299642358_2451</td><td>pyspark</td><td>idle</td><td><a target=\"_blank\" href=\"http://iccluster044.iccluster.epfl.ch:8088/proxy/application_1589299642358_2451/\">Link</a></td><td><a target=\"_blank\" href=\"http://iccluster067.iccluster.epfl.ch:8042/node/containerlogs/container_e06_1589299642358_2451_01_000001/ebouille\">Link</a></td><td></td></tr><tr><td>7965</td><td>application_1589299642358_2485</td><td>pyspark</td><td>idle</td><td><a target=\"_blank\" href=\"http://iccluster044.iccluster.epfl.ch:8088/proxy/application_1589299642358_2485/\">Link</a></td><td><a target=\"_blank\" href=\"http://iccluster069.iccluster.epfl.ch:8042/node/containerlogs/container_e06_1589299642358_2485_01_000001/ebouille\">Link</a></td><td></td></tr><tr><td>7971</td><td>application_1589299642358_2491</td><td>pyspark</td><td>idle</td><td><a target=\"_blank\" href=\"http://iccluster044.iccluster.epfl.ch:8088/proxy/application_1589299642358_2491/\">Link</a></td><td><a target=\"_blank\" href=\"http://iccluster067.iccluster.epfl.ch:8042/node/containerlogs/container_e06_1589299642358_2491_01_000001/ebouille\">Link</a></td><td></td></tr><tr><td>7978</td><td>application_1589299642358_2498</td><td>pyspark</td><td>idle</td><td><a target=\"_blank\" href=\"http://iccluster044.iccluster.epfl.ch:8088/proxy/application_1589299642358_2498/\">Link</a></td><td><a target=\"_blank\" href=\"http://iccluster065.iccluster.epfl.ch:8042/node/containerlogs/container_e06_1589299642358_2498_01_000001/ebouille\">Link</a></td><td></td></tr><tr><td>7984</td><td>application_1589299642358_2505</td><td>pyspark</td><td>idle</td><td><a target=\"_blank\" href=\"http://iccluster044.iccluster.epfl.ch:8088/proxy/application_1589299642358_2505/\">Link</a></td><td><a target=\"_blank\" href=\"http://iccluster065.iccluster.epfl.ch:8042/node/containerlogs/container_e06_1589299642358_2505_01_000001/ebouille\">Link</a></td><td></td></tr><tr><td>7985</td><td>application_1589299642358_2506</td><td>pyspark</td><td>idle</td><td><a target=\"_blank\" href=\"http://iccluster044.iccluster.epfl.ch:8088/proxy/application_1589299642358_2506/\">Link</a></td><td><a target=\"_blank\" href=\"http://iccluster067.iccluster.epfl.ch:8042/node/containerlogs/container_e06_1589299642358_2506_01_000001/ebouille\">Link</a></td><td></td></tr><tr><td>7987</td><td>application_1589299642358_2508</td><td>pyspark</td><td>busy</td><td><a target=\"_blank\" href=\"http://iccluster044.iccluster.epfl.ch:8088/proxy/application_1589299642358_2508/\">Link</a></td><td><a target=\"_blank\" href=\"http://iccluster067.iccluster.epfl.ch:8042/node/containerlogs/container_e06_1589299642358_2508_01_000001/ebouille\">Link</a></td><td></td></tr><tr><td>7988</td><td>application_1589299642358_2509</td><td>pyspark</td><td>idle</td><td><a target=\"_blank\" href=\"http://iccluster044.iccluster.epfl.ch:8088/proxy/application_1589299642358_2509/\">Link</a></td><td><a target=\"_blank\" href=\"http://iccluster071.iccluster.epfl.ch:8042/node/containerlogs/container_e06_1589299642358_2509_01_000001/ebouille\">Link</a></td><td></td></tr><tr><td>7990</td><td>application_1589299642358_2511</td><td>pyspark</td><td>idle</td><td><a target=\"_blank\" href=\"http://iccluster044.iccluster.epfl.ch:8088/proxy/application_1589299642358_2511/\">Link</a></td><td><a target=\"_blank\" href=\"http://iccluster068.iccluster.epfl.ch:8042/node/containerlogs/container_e06_1589299642358_2511_01_000001/ebouille\">Link</a></td><td></td></tr><tr><td>7992</td><td>application_1589299642358_2514</td><td>pyspark</td><td>idle</td><td><a target=\"_blank\" href=\"http://iccluster044.iccluster.epfl.ch:8088/proxy/application_1589299642358_2514/\">Link</a></td><td><a target=\"_blank\" href=\"http://iccluster066.iccluster.epfl.ch:8042/node/containerlogs/container_e06_1589299642358_2514_01_000001/ebouille\">Link</a></td><td></td></tr><tr><td>7993</td><td>application_1589299642358_2516</td><td>pyspark</td><td>idle</td><td><a target=\"_blank\" href=\"http://iccluster044.iccluster.epfl.ch:8088/proxy/application_1589299642358_2516/\">Link</a></td><td><a target=\"_blank\" href=\"http://iccluster071.iccluster.epfl.ch:8042/node/containerlogs/container_e06_1589299642358_2516_01_000001/ebouille\">Link</a></td><td></td></tr><tr><td>7994</td><td>application_1589299642358_2517</td><td>pyspark</td><td>idle</td><td><a target=\"_blank\" href=\"http://iccluster044.iccluster.epfl.ch:8088/proxy/application_1589299642358_2517/\">Link</a></td><td><a target=\"_blank\" href=\"http://iccluster066.iccluster.epfl.ch:8042/node/containerlogs/container_e06_1589299642358_2517_01_000001/ebouille\">Link</a></td><td></td></tr><tr><td>7998</td><td>application_1589299642358_2521</td><td>pyspark</td><td>idle</td><td><a target=\"_blank\" href=\"http://iccluster044.iccluster.epfl.ch:8088/proxy/application_1589299642358_2521/\">Link</a></td><td><a target=\"_blank\" href=\"http://iccluster065.iccluster.epfl.ch:8042/node/containerlogs/container_e06_1589299642358_2521_01_000001/ebouille\">Link</a></td><td></td></tr><tr><td>8001</td><td>application_1589299642358_2524</td><td>pyspark</td><td>idle</td><td><a target=\"_blank\" href=\"http://iccluster044.iccluster.epfl.ch:8088/proxy/application_1589299642358_2524/\">Link</a></td><td><a target=\"_blank\" href=\"http://iccluster068.iccluster.epfl.ch:8042/node/containerlogs/container_e06_1589299642358_2524_01_000001/ebouille\">Link</a></td><td></td></tr><tr><td>8002</td><td>application_1589299642358_2525</td><td>pyspark</td><td>busy</td><td><a target=\"_blank\" href=\"http://iccluster044.iccluster.epfl.ch:8088/proxy/application_1589299642358_2525/\">Link</a></td><td><a target=\"_blank\" href=\"http://iccluster070.iccluster.epfl.ch:8042/node/containerlogs/container_e06_1589299642358_2525_01_000001/ebouille\">Link</a></td><td></td></tr><tr><td>8003</td><td>application_1589299642358_2526</td><td>pyspark</td><td>idle</td><td><a target=\"_blank\" href=\"http://iccluster044.iccluster.epfl.ch:8088/proxy/application_1589299642358_2526/\">Link</a></td><td><a target=\"_blank\" href=\"http://iccluster067.iccluster.epfl.ch:8042/node/containerlogs/container_e06_1589299642358_2526_01_000001/ebouille\">Link</a></td><td></td></tr></table>"
      ],
      "text/plain": [
       "<IPython.core.display.HTML object>"
      ]
     },
     "metadata": {},
     "output_type": "display_data"
    }
   ],
   "source": [
    "%%configure\n",
    "{\"conf\": {\n",
    "    \"spark.app.name\": \"dslab-group_final\"\n",
    "}}"
   ]
  },
  {
   "cell_type": "markdown",
   "metadata": {},
   "source": [
    "#### Imports:"
   ]
  },
  {
   "cell_type": "code",
   "execution_count": 2,
   "metadata": {},
   "outputs": [
    {
     "name": "stdout",
     "output_type": "stream",
     "text": [
      "Starting Spark application\n"
     ]
    },
    {
     "data": {
      "text/html": [
       "<table>\n",
       "<tr><th>ID</th><th>YARN Application ID</th><th>Kind</th><th>State</th><th>Spark UI</th><th>Driver log</th><th>Current session?</th></tr><tr><td>8004</td><td>application_1589299642358_2527</td><td>pyspark</td><td>idle</td><td><a target=\"_blank\" href=\"http://iccluster044.iccluster.epfl.ch:8088/proxy/application_1589299642358_2527/\">Link</a></td><td><a target=\"_blank\" href=\"http://iccluster065.iccluster.epfl.ch:8042/node/containerlogs/container_e06_1589299642358_2527_01_000001/ebouille\">Link</a></td><td>✔</td></tr></table>"
      ],
      "text/plain": [
       "<IPython.core.display.HTML object>"
      ]
     },
     "metadata": {},
     "output_type": "display_data"
    },
    {
     "data": {
      "application/vnd.jupyter.widget-view+json": {
       "model_id": "",
       "version_major": 2,
       "version_minor": 0
      },
      "text/plain": [
       "FloatProgress(value=0.0, bar_style='info', description='Progress:', layout=Layout(height='25px', width='50%'),…"
      ]
     },
     "metadata": {},
     "output_type": "display_data"
    },
    {
     "name": "stdout",
     "output_type": "stream",
     "text": [
      "SparkSession available as 'spark'.\n"
     ]
    },
    {
     "data": {
      "application/vnd.jupyter.widget-view+json": {
       "model_id": "",
       "version_major": 2,
       "version_minor": 0
      },
      "text/plain": [
       "FloatProgress(value=0.0, bar_style='info', description='Progress:', layout=Layout(height='25px', width='50%'),…"
      ]
     },
     "metadata": {},
     "output_type": "display_data"
    }
   ],
   "source": [
    "import networkx as nx\n",
    "from geopy.distance import distance as geo_distance\n",
    "from pyspark.sql import Row\n",
    "import pyspark.sql.functions as f\n",
    "from pyspark.sql.functions import *\n",
    "from pyspark.sql.types import FloatType\n",
    "from networkx.algorithms.shortest_paths.weighted import dijkstra_path"
   ]
  },
  {
   "cell_type": "code",
   "execution_count": 3,
   "metadata": {},
   "outputs": [],
   "source": [
    "%%local\n",
    "import os\n",
    "username = os.environ['JUPYTERHUB_USER']"
   ]
  },
  {
   "cell_type": "code",
   "execution_count": 4,
   "metadata": {},
   "outputs": [
    {
     "data": {
      "application/vnd.jupyter.widget-view+json": {
       "model_id": "",
       "version_major": 2,
       "version_minor": 0
      },
      "text/plain": [
       "FloatProgress(value=0.0, bar_style='info', description='Progress:', layout=Layout(height='25px', width='50%'),…"
      ]
     },
     "metadata": {},
     "output_type": "display_data"
    },
    {
     "name": "stdout",
     "output_type": "stream",
     "text": [
      "Successfully passed 'username' as 'username' to Spark kernel"
     ]
    }
   ],
   "source": [
    "%%send_to_spark -i username -t str -n username"
   ]
  },
  {
   "cell_type": "code",
   "execution_count": 5,
   "metadata": {},
   "outputs": [
    {
     "data": {
      "application/vnd.jupyter.widget-view+json": {
       "model_id": "",
       "version_major": 2,
       "version_minor": 0
      },
      "text/plain": [
       "FloatProgress(value=0.0, bar_style='info', description='Progress:', layout=Layout(height='25px', width='50%'),…"
      ]
     },
     "metadata": {},
     "output_type": "display_data"
    }
   ],
   "source": [
    "stops_zurich = spark.read.format('orc').load(\"/user/{}/nodes.orc\".format(username))\\\n",
    "                                        .select('stop_id').distinct().rdd.flatMap(lambda x:x).collect()"
   ]
  },
  {
   "cell_type": "code",
   "execution_count": 6,
   "metadata": {},
   "outputs": [
    {
     "data": {
      "application/vnd.jupyter.widget-view+json": {
       "model_id": "",
       "version_major": 2,
       "version_minor": 0
      },
      "text/plain": [
       "FloatProgress(value=0.0, bar_style='info', description='Progress:', layout=Layout(height='25px', width='50%'),…"
      ]
     },
     "metadata": {},
     "output_type": "display_data"
    }
   ],
   "source": [
    "# Taken from find_train_type_correspondace.ipynb\n",
    "replace_actual = {\n",
    "    'BUS': 'Bus', # Buses\n",
    "    'B': 'Bus',\n",
    "    'NFB': 'Bus',\n",
    "    'KB': 'Bus',\n",
    "    'BAT': 'Bus',\n",
    "    'Trm': 'Tram', # Trams\n",
    "    'T': 'Tram',\n",
    "    'TRAM': 'Tram',\n",
    "    'ATZ': 'ARZ', #AutoZug\n",
    "    'D': 'RE', # Regional\n",
    "    'RB': 'R',\n",
    "    'M': 'Metro', # Metro\n",
    "    'ICE': 'IC', # InterCityExpress, but routes.txt doesn't have that category\n",
    "    'IRE': 'IR', # InterRegioExpress, but routes.txt doesn't have that category\n",
    "    'BN': '', # Night\n",
    "    'TN': '',\n",
    "    'SN': '',\n",
    "    'BT': '',\n",
    "    'VAE': '', # Panorama trains in the Alps\n",
    "    'PE': '',\n",
    "    'TER': '', # France\n",
    "    'TE2': '',\n",
    "    'RJX': '', # International\n",
    "    'null': '', # Other\n",
    "    '': ''\n",
    "}"
   ]
  },
  {
   "cell_type": "code",
   "execution_count": 7,
   "metadata": {},
   "outputs": [
    {
     "data": {
      "application/vnd.jupyter.widget-view+json": {
       "model_id": "",
       "version_major": 2,
       "version_minor": 0
      },
      "text/plain": [
       "FloatProgress(value=0.0, bar_style='info', description='Progress:', layout=Layout(height='25px', width='50%'),…"
      ]
     },
     "metadata": {},
     "output_type": "display_data"
    }
   ],
   "source": [
    "@udf(\"string\")\n",
    "def replace_verkehrsmittel_text(text):\n",
    "    if text in replace_actual.keys():\n",
    "        return replace_actual[text]\n",
    "    else:\n",
    "        return text"
   ]
  },
  {
   "cell_type": "code",
   "execution_count": 8,
   "metadata": {},
   "outputs": [
    {
     "data": {
      "application/vnd.jupyter.widget-view+json": {
       "model_id": "",
       "version_major": 2,
       "version_minor": 0
      },
      "text/plain": [
       "FloatProgress(value=0.0, bar_style='info', description='Progress:', layout=Layout(height='25px', width='50%'),…"
      ]
     },
     "metadata": {},
     "output_type": "display_data"
    }
   ],
   "source": [
    "actual = spark.read.format('orc').load('/data/sbb/orc/istdaten/')\\\n",
    "                                 .where((col('bpuic').isin(stops_zurich)))\\\n",
    "                                 .where((col(\"ankunftszeit\") != \"\") & (col(\"an_prognose\") != \"\"))\\\n",
    "                                 .select(col('bpuic').alias('stop_id'),\\\n",
    "                                         replace_verkehrsmittel_text(col('verkehrsmittel_text')).alias('verkehrsmittel_text'),\\\n",
    "                                         from_unixtime(unix_timestamp('ankunftszeit', 'dd.MM.yyy HH:mm')).alias('ankunftszeit'),\\\n",
    "                                         from_unixtime(unix_timestamp('an_prognose', 'dd.MM.yyy HH:mm:ss')).alias('an_prognose'),\n",
    "                                         col('an_prognose_status'))\\\n",
    "                                 .where(col(\"verkehrsmittel_text\") != \"\")"
   ]
  },
  {
   "cell_type": "code",
   "execution_count": 9,
   "metadata": {},
   "outputs": [
    {
     "data": {
      "application/vnd.jupyter.widget-view+json": {
       "model_id": "",
       "version_major": 2,
       "version_minor": 0
      },
      "text/plain": [
       "FloatProgress(value=0.0, bar_style='info', description='Progress:', layout=Layout(height='25px', width='50%'),…"
      ]
     },
     "metadata": {},
     "output_type": "display_data"
    },
    {
     "name": "stdout",
     "output_type": "stream",
     "text": [
      "+-------+-------------------+-------------------+-------------------+------------------+\n",
      "|stop_id|verkehrsmittel_text|       ankunftszeit|        an_prognose|an_prognose_status|\n",
      "+-------+-------------------+-------------------+-------------------+------------------+\n",
      "|8503000|                 EC|2018-09-03 21:51:00|2018-09-03 21:53:40|              REAL|\n",
      "|8503000|                 EC|2018-09-03 10:51:00|2018-09-03 10:51:28|              REAL|\n",
      "|8503000|                 IC|2018-09-03 07:00:00|2018-09-03 07:00:01|              REAL|\n",
      "|8503000|                 IC|2018-09-03 21:23:00|2018-09-03 21:24:55|              REAL|\n",
      "|8503000|                 IC|2018-09-03 08:26:00|2018-09-03 08:28:06|              REAL|\n",
      "|8503000|                 IC|2018-09-03 17:53:00|2018-09-03 17:55:21|              REAL|\n",
      "|8503000|                 IC|2018-09-03 10:00:00|2018-09-03 09:59:07|              REAL|\n",
      "|8503000|                 EC|2018-09-03 12:51:00|2018-09-03 12:52:50|              REAL|\n",
      "|8503000|                 IC|2018-09-03 08:10:00|2018-09-03 08:15:32|              REAL|\n",
      "|8503000|                 IC|2018-09-03 17:10:00|2018-09-03 17:10:06|              REAL|\n",
      "|8503000|                 IC|2018-09-03 18:10:00|2018-09-03 18:09:46|              REAL|\n",
      "|8503000|                 IC|2018-09-03 07:51:00|2018-09-03 07:52:58|              REAL|\n",
      "|8503000|                 IC|2018-09-03 08:51:00|2018-09-03 08:52:52|              REAL|\n",
      "|8503000|                 IC|2018-09-03 06:30:00|2018-09-03 06:32:00|              REAL|\n",
      "|8503000|                 IC|2018-09-03 07:30:00|2018-09-03 07:32:47|              REAL|\n",
      "|8503000|                 IC|2018-09-03 07:23:00|2018-09-03 07:22:40|              REAL|\n",
      "|8503000|                 IC|2018-09-03 08:30:00|2018-09-03 08:31:30|              REAL|\n",
      "|8503000|                 IC|2018-09-03 08:23:00|2018-09-03 08:22:01|              REAL|\n",
      "|8503000|                 IC|2018-09-03 09:30:00|2018-09-03 09:30:48|              REAL|\n",
      "|8503000|                 IC|2018-09-03 09:23:00|2018-09-03 09:38:16|              REAL|\n",
      "+-------+-------------------+-------------------+-------------------+------------------+\n",
      "only showing top 20 rows"
     ]
    }
   ],
   "source": [
    "actual.show()"
   ]
  },
  {
   "cell_type": "code",
   "execution_count": 10,
   "metadata": {},
   "outputs": [
    {
     "data": {
      "application/vnd.jupyter.widget-view+json": {
       "model_id": "",
       "version_major": 2,
       "version_minor": 0
      },
      "text/plain": [
       "FloatProgress(value=0.0, bar_style='info', description='Progress:', layout=Layout(height='25px', width='50%'),…"
      ]
     },
     "metadata": {},
     "output_type": "display_data"
    }
   ],
   "source": [
    "actual = actual.withColumn('hour', hour(col('ankunftszeit')))\\\n",
    "               .withColumn('diff', unix_timestamp('an_prognose') - unix_timestamp('ankunftszeit'))\\\n",
    "               .select(col('stop_id'), col('verkehrsmittel_text'), col('an_prognose_status'), col('hour'), col('diff'))"
   ]
  },
  {
   "cell_type": "code",
   "execution_count": 11,
   "metadata": {},
   "outputs": [
    {
     "data": {
      "application/vnd.jupyter.widget-view+json": {
       "model_id": "",
       "version_major": 2,
       "version_minor": 0
      },
      "text/plain": [
       "FloatProgress(value=0.0, bar_style='info', description='Progress:', layout=Layout(height='25px', width='50%'),…"
      ]
     },
     "metadata": {},
     "output_type": "display_data"
    },
    {
     "name": "stdout",
     "output_type": "stream",
     "text": [
      "+-------+-------------------+------------------+----+----+\n",
      "|stop_id|verkehrsmittel_text|an_prognose_status|hour|diff|\n",
      "+-------+-------------------+------------------+----+----+\n",
      "|8503000|                 EC|              REAL|  21| 160|\n",
      "|8503000|                 EC|              REAL|  10|  28|\n",
      "|8503000|                 IC|              REAL|   7|   1|\n",
      "|8503000|                 IC|              REAL|  21| 115|\n",
      "|8503000|                 IC|              REAL|   8| 126|\n",
      "|8503000|                 IC|              REAL|  17| 141|\n",
      "|8503000|                 IC|              REAL|  10| -53|\n",
      "|8503000|                 EC|              REAL|  12| 110|\n",
      "|8503000|                 IC|              REAL|   8| 332|\n",
      "|8503000|                 IC|              REAL|  17|   6|\n",
      "|8503000|                 IC|              REAL|  18| -14|\n",
      "|8503000|                 IC|              REAL|   7| 118|\n",
      "|8503000|                 IC|              REAL|   8| 112|\n",
      "|8503000|                 IC|              REAL|   6| 120|\n",
      "|8503000|                 IC|              REAL|   7| 167|\n",
      "|8503000|                 IC|              REAL|   7| -20|\n",
      "|8503000|                 IC|              REAL|   8|  90|\n",
      "|8503000|                 IC|              REAL|   8| -59|\n",
      "|8503000|                 IC|              REAL|   9|  48|\n",
      "|8503000|                 IC|              REAL|   9| 916|\n",
      "+-------+-------------------+------------------+----+----+\n",
      "only showing top 20 rows"
     ]
    }
   ],
   "source": [
    "actual.show()"
   ]
  },
  {
   "cell_type": "code",
   "execution_count": 12,
   "metadata": {},
   "outputs": [
    {
     "data": {
      "application/vnd.jupyter.widget-view+json": {
       "model_id": "",
       "version_major": 2,
       "version_minor": 0
      },
      "text/plain": [
       "FloatProgress(value=0.0, bar_style='info', description='Progress:', layout=Layout(height='25px', width='50%'),…"
      ]
     },
     "metadata": {},
     "output_type": "display_data"
    }
   ],
   "source": [
    "enough_real_values = actual.where(col('an_prognose_status') == \"REAL\")\\\n",
    "                        .groupBy('stop_id', 'verkehrsmittel_text', 'hour')\\\n",
    "                        .agg(count('diff').alias('count'))\\\n",
    "                        .withColumn(\"enough_values\", col(\"count\") >= 100)\\\n",
    "                        .select(col('stop_id').alias('stop_id2'), col('verkehrsmittel_text').alias('verkehrsmittel_text2'), col('hour').alias('hour2'), col('enough_values'))"
   ]
  },
  {
   "cell_type": "code",
   "execution_count": 13,
   "metadata": {},
   "outputs": [
    {
     "data": {
      "application/vnd.jupyter.widget-view+json": {
       "model_id": "",
       "version_major": 2,
       "version_minor": 0
      },
      "text/plain": [
       "FloatProgress(value=0.0, bar_style='info', description='Progress:', layout=Layout(height='25px', width='50%'),…"
      ]
     },
     "metadata": {},
     "output_type": "display_data"
    }
   ],
   "source": [
    "actual = actual.join(enough_real_values, (actual.stop_id == enough_real_values.stop_id2) &\\\n",
    "                                        (actual.verkehrsmittel_text == enough_real_values.verkehrsmittel_text2) &\\\n",
    "                                        (actual.hour == enough_real_values.hour2))\\\n",
    "                    .select('stop_id', 'verkehrsmittel_text', 'an_prognose_status', 'hour', 'diff', 'enough_values')"
   ]
  },
  {
   "cell_type": "code",
   "execution_count": 14,
   "metadata": {},
   "outputs": [
    {
     "data": {
      "application/vnd.jupyter.widget-view+json": {
       "model_id": "",
       "version_major": 2,
       "version_minor": 0
      },
      "text/plain": [
       "FloatProgress(value=0.0, bar_style='info', description='Progress:', layout=Layout(height='25px', width='50%'),…"
      ]
     },
     "metadata": {},
     "output_type": "display_data"
    }
   ],
   "source": [
    "actual = actual.where((~(col(\"enough_values\"))) | (col(\"an_prognose_status\") == \"REAL\"))"
   ]
  },
  {
   "cell_type": "markdown",
   "metadata": {},
   "source": [
    "## Sanity checks, no need to run the two following cells (they are quite slow)"
   ]
  },
  {
   "cell_type": "code",
   "execution_count": 15,
   "metadata": {},
   "outputs": [
    {
     "data": {
      "application/vnd.jupyter.widget-view+json": {
       "model_id": "",
       "version_major": 2,
       "version_minor": 0
      },
      "text/plain": [
       "FloatProgress(value=0.0, bar_style='info', description='Progress:', layout=Layout(height='25px', width='50%'),…"
      ]
     },
     "metadata": {},
     "output_type": "display_data"
    },
    {
     "name": "stdout",
     "output_type": "stream",
     "text": [
      "+------------------+\n",
      "|an_prognose_status|\n",
      "+------------------+\n",
      "|              REAL|\n",
      "+------------------+"
     ]
    }
   ],
   "source": [
    "actual.where(col(\"enough_values\")).select(\"an_prognose_status\").distinct().show()"
   ]
  },
  {
   "cell_type": "code",
   "execution_count": 16,
   "metadata": {},
   "outputs": [
    {
     "data": {
      "application/vnd.jupyter.widget-view+json": {
       "model_id": "",
       "version_major": 2,
       "version_minor": 0
      },
      "text/plain": [
       "FloatProgress(value=0.0, bar_style='info', description='Progress:', layout=Layout(height='25px', width='50%'),…"
      ]
     },
     "metadata": {},
     "output_type": "display_data"
    },
    {
     "name": "stdout",
     "output_type": "stream",
     "text": [
      "+------------------+\n",
      "|an_prognose_status|\n",
      "+------------------+\n",
      "|        GESCHAETZT|\n",
      "|          PROGNOSE|\n",
      "|              REAL|\n",
      "+------------------+"
     ]
    }
   ],
   "source": [
    "actual.where(~(col(\"enough_values\"))).select(\"an_prognose_status\").distinct().show()"
   ]
  },
  {
   "cell_type": "code",
   "execution_count": 15,
   "metadata": {},
   "outputs": [
    {
     "data": {
      "application/vnd.jupyter.widget-view+json": {
       "model_id": "",
       "version_major": 2,
       "version_minor": 0
      },
      "text/plain": [
       "FloatProgress(value=0.0, bar_style='info', description='Progress:', layout=Layout(height='25px', width='50%'),…"
      ]
     },
     "metadata": {},
     "output_type": "display_data"
    }
   ],
   "source": [
    "actual = actual.groupBy('stop_id', 'verkehrsmittel_text', 'hour').agg(mean(\"diff\").alias(\"mean\"), stddev(\"diff\").alias(\"std\"), count(\"diff\").alias('number_of_records'))"
   ]
  },
  {
   "cell_type": "code",
   "execution_count": 16,
   "metadata": {},
   "outputs": [
    {
     "data": {
      "application/vnd.jupyter.widget-view+json": {
       "model_id": "",
       "version_major": 2,
       "version_minor": 0
      },
      "text/plain": [
       "FloatProgress(value=0.0, bar_style='info', description='Progress:', layout=Layout(height='25px', width='50%'),…"
      ]
     },
     "metadata": {},
     "output_type": "display_data"
    }
   ],
   "source": [
    "actual = actual.where(col('number_of_records') > 10).select('stop_id', 'verkehrsmittel_text', 'hour', 'mean', 'std')"
   ]
  },
  {
   "cell_type": "code",
   "execution_count": 17,
   "metadata": {},
   "outputs": [
    {
     "data": {
      "application/vnd.jupyter.widget-view+json": {
       "model_id": "",
       "version_major": 2,
       "version_minor": 0
      },
      "text/plain": [
       "FloatProgress(value=0.0, bar_style='info', description='Progress:', layout=Layout(height='25px', width='50%'),…"
      ]
     },
     "metadata": {},
     "output_type": "display_data"
    }
   ],
   "source": [
    "actual = actual.na.fill(0)"
   ]
  },
  {
   "cell_type": "code",
   "execution_count": 18,
   "metadata": {},
   "outputs": [
    {
     "data": {
      "application/vnd.jupyter.widget-view+json": {
       "model_id": "",
       "version_major": 2,
       "version_minor": 0
      },
      "text/plain": [
       "FloatProgress(value=0.0, bar_style='info', description='Progress:', layout=Layout(height='25px', width='50%'),…"
      ]
     },
     "metadata": {},
     "output_type": "display_data"
    },
    {
     "name": "stdout",
     "output_type": "stream",
     "text": [
      "DataFrame[stop_id: string, verkehrsmittel_text: string, hour: int, mean: double, std: double]"
     ]
    }
   ],
   "source": [
    "actual.cache()"
   ]
  },
  {
   "cell_type": "code",
   "execution_count": 19,
   "metadata": {},
   "outputs": [
    {
     "data": {
      "application/vnd.jupyter.widget-view+json": {
       "model_id": "",
       "version_major": 2,
       "version_minor": 0
      },
      "text/plain": [
       "FloatProgress(value=0.0, bar_style='info', description='Progress:', layout=Layout(height='25px', width='50%'),…"
      ]
     },
     "metadata": {},
     "output_type": "display_data"
    },
    {
     "name": "stdout",
     "output_type": "stream",
     "text": [
      "+-------+-------------------+----+-------------------+------------------+\n",
      "|stop_id|verkehrsmittel_text|hour|               mean|               std|\n",
      "+-------+-------------------+----+-------------------+------------------+\n",
      "|8502188|                  S|   0|  64.11139081183134|  83.3443634826247|\n",
      "|8502270|                EXT|  17|  94.16666666666667| 30.43548653430252|\n",
      "|8502274|                EXT|  13|  77.08333333333333|57.296267931171386|\n",
      "|8502277|                 RE|   7|-11.196891191709845| 47.29435419119448|\n",
      "|8503000|                 RE|  20| 11.644977168949772| 94.95818664350108|\n",
      "|8503053|                  S|   0|  45.48383733055266|108.52879080545293|\n",
      "|8503202|                 RE|  10|  92.76430401366353| 90.25163752051735|\n",
      "|8590275|                Bus|  10|  79.11445485939812|59.087689977247294|\n",
      "|8590275|                Bus|  16|  79.82535767143563| 79.83337217752852|\n",
      "|8590279|                Bus|  21|  66.23449216087253| 82.61484352214632|\n",
      "|8502187|                  S|   9| 45.765139116202946|49.640400702769576|\n",
      "|8502209|                  S|  17| 108.19852302345787|116.99392904268936|\n",
      "|8502220|                  S|  14| 63.655150214592275| 59.79962396249645|\n",
      "|8502270|                  S|  13|  85.12933985330073| 40.51481068530527|\n",
      "|8502278|                EXT|  17|              118.5| 83.74080092243229|\n",
      "|8503053|                  S|  20|  29.61633843909555| 62.99735685205024|\n",
      "|8503090|                  S|   7|  79.61641709276844| 84.46277913976877|\n",
      "|8503102|                  S|   8|  87.10541125541125|  93.7822738440512|\n",
      "|8502221|                  S|  15|-13.575686106346483| 64.34892299643288|\n",
      "|8502223|                  S|  18|  90.83740359897172| 97.41472796347531|\n",
      "+-------+-------------------+----+-------------------+------------------+\n",
      "only showing top 20 rows"
     ]
    }
   ],
   "source": [
    "actual.show()"
   ]
  },
  {
   "cell_type": "markdown",
   "metadata": {},
   "source": [
    "### Save to hdfs:"
   ]
  },
  {
   "cell_type": "code",
   "execution_count": 21,
   "metadata": {},
   "outputs": [
    {
     "data": {
      "application/vnd.jupyter.widget-view+json": {
       "model_id": "",
       "version_major": 2,
       "version_minor": 0
      },
      "text/plain": [
       "FloatProgress(value=0.0, bar_style='info', description='Progress:', layout=Layout(height='25px', width='50%'),…"
      ]
     },
     "metadata": {},
     "output_type": "display_data"
    }
   ],
   "source": [
    "actual.write.format(\"orc\").mode('overwrite').save(\"/user/{}/delay_distribution.orc\".format(username))"
   ]
  },
  {
   "cell_type": "code",
   "execution_count": null,
   "metadata": {},
   "outputs": [],
   "source": []
  },
  {
   "cell_type": "code",
   "execution_count": null,
   "metadata": {},
   "outputs": [],
   "source": []
  },
  {
   "cell_type": "code",
   "execution_count": null,
   "metadata": {},
   "outputs": [],
   "source": []
  },
  {
   "cell_type": "code",
   "execution_count": null,
   "metadata": {},
   "outputs": [],
   "source": []
  },
  {
   "cell_type": "code",
   "execution_count": null,
   "metadata": {},
   "outputs": [],
   "source": []
  },
  {
   "cell_type": "markdown",
   "metadata": {},
   "source": [
    "# Temp:"
   ]
  },
  {
   "cell_type": "code",
   "execution_count": 10,
   "metadata": {},
   "outputs": [
    {
     "data": {
      "application/vnd.jupyter.widget-view+json": {
       "model_id": "",
       "version_major": 2,
       "version_minor": 0
      },
      "text/plain": [
       "FloatProgress(value=0.0, bar_style='info', description='Progress:', layout=Layout(height='25px', width='50%'),…"
      ]
     },
     "metadata": {},
     "output_type": "display_data"
    },
    {
     "name": "stdout",
     "output_type": "stream",
     "text": [
      "+---------+-------------------+-------------------+-------------------+----------------------+\n",
      "|stop_id  |verkehrsmittel_text|ankunftszeit       |an_prognose        |haltestellen_name     |\n",
      "+---------+-------------------+-------------------+-------------------+----------------------+\n",
      "|858734901|Trm                |2018-10-15 23:39:00|2018-10-15 23:40:14|Zürich, Bahnhofquai/HB|\n",
      "|858734901|Trm                |2018-10-15 05:54:00|2018-10-15 05:54:54|Zürich, Bahnhofquai/HB|\n",
      "|858734901|Trm                |2018-10-15 07:09:00|2018-10-15 07:09:54|Zürich, Bahnhofquai/HB|\n",
      "|858734901|Trm                |2018-10-15 23:54:00|2018-10-15 23:57:40|Zürich, Bahnhofquai/HB|\n",
      "|858734901|Trm                |2018-10-16 00:09:00|2018-10-16 00:13:34|Zürich, Bahnhofquai/HB|\n",
      "|858734901|Trm                |2018-10-15 06:09:00|2018-10-15 06:13:28|Zürich, Bahnhofquai/HB|\n",
      "|858734901|Trm                |2018-10-15 07:24:00|2018-10-15 07:26:39|Zürich, Bahnhofquai/HB|\n",
      "|858734901|Trm                |2018-10-16 00:24:00|2018-10-16 00:27:46|Zürich, Bahnhofquai/HB|\n",
      "|858734901|Trm                |2018-10-15 23:09:00|2018-10-15 23:13:59|Zürich, Bahnhofquai/HB|\n",
      "|858734901|Trm                |2018-10-15 07:39:00|2018-10-15 07:39:54|Zürich, Bahnhofquai/HB|\n",
      "+---------+-------------------+-------------------+-------------------+----------------------+\n",
      "only showing top 10 rows"
     ]
    }
   ],
   "source": [
    "actual.where(col('stop_id') == '858734901').select('stop_id', 'haltestellen_name').show(2, False)"
   ]
  },
  {
   "cell_type": "markdown",
   "metadata": {},
   "source": [
    "# Compute mean and std arrival delay:"
   ]
  },
  {
   "cell_type": "code",
   "execution_count": 3,
   "metadata": {},
   "outputs": [
    {
     "data": {
      "application/vnd.jupyter.widget-view+json": {
       "model_id": "",
       "version_major": 2,
       "version_minor": 0
      },
      "text/plain": [
       "FloatProgress(value=0.0, bar_style='info', description='Progress:', layout=Layout(height='25px', width='50%'),…"
      ]
     },
     "metadata": {},
     "output_type": "display_data"
    }
   ],
   "source": [
    "actual = spark.read.format('orc').load('/data/sbb/orc/istdaten/')\\\n",
    "                                 .where((col(\"ankunftszeit\") != \"\") & (col(\"an_prognose\") != \"\") & (col(\"verkehrsmittel_text\") != \"\"))\\\n",
    "                                 .select(col('bpuic').alias('stop_id'),\\\n",
    "                                         col('verkehrsmittel_text').alias('verkehrsmittel_text'),\\\n",
    "                                         from_unixtime(unix_timestamp('ankunftszeit', 'dd.MM.yyy HH:mm')).alias('ankunftszeit'),\\\n",
    "                                         from_unixtime(unix_timestamp('an_prognose', 'dd.MM.yyy HH:mm:ss')).alias('an_prognose'),\\\n",
    "                                         col('haltestellen_name'))"
   ]
  },
  {
   "cell_type": "code",
   "execution_count": 4,
   "metadata": {},
   "outputs": [
    {
     "data": {
      "application/vnd.jupyter.widget-view+json": {
       "model_id": "",
       "version_major": 2,
       "version_minor": 0
      },
      "text/plain": [
       "FloatProgress(value=0.0, bar_style='info', description='Progress:', layout=Layout(height='25px', width='50%'),…"
      ]
     },
     "metadata": {},
     "output_type": "display_data"
    },
    {
     "name": "stdout",
     "output_type": "stream",
     "text": [
      "+-------+-------------------+-------------------+-------------------+-----------------+\n",
      "|stop_id|verkehrsmittel_text|       ankunftszeit|        an_prognose|haltestellen_name|\n",
      "+-------+-------------------+-------------------+-------------------+-----------------+\n",
      "|8503424|                 RB|2018-09-03 05:54:00|2018-09-03 05:55:10|     Schaffhausen|\n",
      "|8503424|                 RB|2018-09-03 06:24:00|2018-09-03 06:24:23|     Schaffhausen|\n",
      "|8503424|                 RB|2018-09-03 06:54:00|2018-09-03 06:55:09|     Schaffhausen|\n",
      "|8503424|                 RB|2018-09-03 07:24:00|2018-09-03 07:24:48|     Schaffhausen|\n",
      "|8503424|                 RB|2018-09-03 07:54:00|2018-09-03 07:55:26|     Schaffhausen|\n",
      "|8503424|                 RB|2018-09-03 08:24:00|2018-09-03 08:24:31|     Schaffhausen|\n",
      "|8503424|                 RB|2018-09-03 08:54:00|2018-09-03 08:56:22|     Schaffhausen|\n",
      "|8503424|                 RB|2018-09-03 09:24:00|2018-09-03 09:24:36|     Schaffhausen|\n",
      "|8503424|                 RB|2018-09-03 09:54:00|2018-09-03 09:56:52|     Schaffhausen|\n",
      "|8503424|                 RB|2018-09-03 10:24:00|2018-09-03 10:24:12|     Schaffhausen|\n",
      "|8503424|                 RB|2018-09-03 10:54:00|2018-09-03 10:57:03|     Schaffhausen|\n",
      "|8503424|                 RB|2018-09-03 11:24:00|2018-09-03 11:27:11|     Schaffhausen|\n",
      "|8503424|                 RB|2018-09-03 11:54:00|2018-09-03 11:58:12|     Schaffhausen|\n",
      "|8503424|                 RB|2018-09-03 12:24:00|2018-09-03 12:26:14|     Schaffhausen|\n",
      "|8503424|                 RB|2018-09-03 12:54:00|2018-09-03 12:55:41|     Schaffhausen|\n",
      "|8503424|                 RB|2018-09-03 13:24:00|2018-09-03 13:25:24|     Schaffhausen|\n",
      "|8503424|                 RB|2018-09-03 13:54:00|2018-09-03 13:56:16|     Schaffhausen|\n",
      "|8503424|                 RB|2018-09-03 14:24:00|2018-09-03 14:25:20|     Schaffhausen|\n",
      "|8503424|                 RB|2018-09-03 14:54:00|2018-09-03 14:55:14|     Schaffhausen|\n",
      "|8503424|                 RB|2018-09-03 15:24:00|2018-09-03 15:24:08|     Schaffhausen|\n",
      "+-------+-------------------+-------------------+-------------------+-----------------+\n",
      "only showing top 20 rows"
     ]
    }
   ],
   "source": [
    "actual.show()"
   ]
  },
  {
   "cell_type": "code",
   "execution_count": 13,
   "metadata": {},
   "outputs": [
    {
     "data": {
      "application/vnd.jupyter.widget-view+json": {
       "model_id": "",
       "version_major": 2,
       "version_minor": 0
      },
      "text/plain": [
       "FloatProgress(value=0.0, bar_style='info', description='Progress:', layout=Layout(height='25px', width='50%'),…"
      ]
     },
     "metadata": {},
     "output_type": "display_data"
    },
    {
     "name": "stdout",
     "output_type": "stream",
     "text": [
      "+-------+-------------------+-------------------+-------------------+------------------+\n",
      "|stop_id|verkehrsmittel_text|       ankunftszeit|        an_prognose| haltestellen_name|\n",
      "+-------+-------------------+-------------------+-------------------+------------------+\n",
      "|8517377|                  S|2018-09-03 05:05:00|2018-09-03 05:05:34|Bibenlos-Sonnenhof|\n",
      "|8517377|                  S|2018-09-03 05:35:00|2018-09-03 05:35:06|Bibenlos-Sonnenhof|\n",
      "|8517377|                  S|2018-09-03 05:52:00|2018-09-03 05:52:43|Bibenlos-Sonnenhof|\n",
      "|8517377|                  S|2018-09-03 06:05:00|2018-09-03 06:05:03|Bibenlos-Sonnenhof|\n",
      "|8517377|                  S|2018-09-03 06:22:00|2018-09-03 06:23:15|Bibenlos-Sonnenhof|\n",
      "|8517377|                  S|2018-09-03 06:35:00|2018-09-03 06:34:58|Bibenlos-Sonnenhof|\n",
      "|8517377|                  S|2018-09-03 06:52:00|2018-09-03 06:53:16|Bibenlos-Sonnenhof|\n",
      "|8517377|                  S|2018-09-03 07:05:00|2018-09-03 07:05:39|Bibenlos-Sonnenhof|\n",
      "|8517377|                  S|2018-09-03 07:22:00|2018-09-03 07:23:45|Bibenlos-Sonnenhof|\n",
      "|8517377|                  S|2018-09-03 07:35:00|2018-09-03 07:35:16|Bibenlos-Sonnenhof|\n",
      "|8517377|                  S|2018-09-03 07:52:00|2018-09-03 07:55:28|Bibenlos-Sonnenhof|\n",
      "|8517377|                  S|2018-09-03 08:05:00|2018-09-03 08:07:28|Bibenlos-Sonnenhof|\n",
      "|8517377|                  S|2018-09-03 08:22:00|2018-09-03 08:22:24|Bibenlos-Sonnenhof|\n",
      "|8517377|                  S|2018-09-03 08:35:00|2018-09-03 08:36:57|Bibenlos-Sonnenhof|\n",
      "|8517377|                  S|2018-09-03 08:52:00|2018-09-03 08:54:26|Bibenlos-Sonnenhof|\n",
      "|8517377|                  S|2018-09-03 09:05:00|2018-09-03 09:05:53|Bibenlos-Sonnenhof|\n",
      "|8517377|                  S|2018-09-03 09:22:00|2018-09-03 09:23:47|Bibenlos-Sonnenhof|\n",
      "|8517377|                  S|2018-09-03 09:35:00|2018-09-03 09:37:19|Bibenlos-Sonnenhof|\n",
      "|8517377|                  S|2018-09-03 09:52:00|2018-09-03 09:52:54|Bibenlos-Sonnenhof|\n",
      "|8517377|                  S|2018-09-03 10:05:00|2018-09-03 10:04:58|Bibenlos-Sonnenhof|\n",
      "+-------+-------------------+-------------------+-------------------+------------------+\n",
      "only showing top 20 rows"
     ]
    }
   ],
   "source": [
    "actual.where(col('stop_id') == '8517377').show()"
   ]
  },
  {
   "cell_type": "code",
   "execution_count": 5,
   "metadata": {},
   "outputs": [
    {
     "data": {
      "application/vnd.jupyter.widget-view+json": {
       "model_id": "",
       "version_major": 2,
       "version_minor": 0
      },
      "text/plain": [
       "FloatProgress(value=0.0, bar_style='info', description='Progress:', layout=Layout(height='25px', width='50%'),…"
      ]
     },
     "metadata": {},
     "output_type": "display_data"
    }
   ],
   "source": [
    "@udf('long')\n",
    "def leng(s):\n",
    "    return len(s)"
   ]
  },
  {
   "cell_type": "code",
   "execution_count": 6,
   "metadata": {},
   "outputs": [
    {
     "data": {
      "application/vnd.jupyter.widget-view+json": {
       "model_id": "",
       "version_major": 2,
       "version_minor": 0
      },
      "text/plain": [
       "FloatProgress(value=0.0, bar_style='info', description='Progress:', layout=Layout(height='25px', width='50%'),…"
      ]
     },
     "metadata": {},
     "output_type": "display_data"
    },
    {
     "name": "stdout",
     "output_type": "stream",
     "text": [
      "+----+\n",
      "|leng|\n",
      "+----+\n",
      "|   7|\n",
      "|   6|\n",
      "|   9|\n",
      "+----+"
     ]
    }
   ],
   "source": [
    "actual.withColumn('leng', leng(col('stop_id'))).select('leng').distinct().show()"
   ]
  },
  {
   "cell_type": "code",
   "execution_count": 7,
   "metadata": {},
   "outputs": [
    {
     "data": {
      "application/vnd.jupyter.widget-view+json": {
       "model_id": "",
       "version_major": 2,
       "version_minor": 0
      },
      "text/plain": [
       "FloatProgress(value=0.0, bar_style='info', description='Progress:', layout=Layout(height='25px', width='50%'),…"
      ]
     },
     "metadata": {},
     "output_type": "display_data"
    },
    {
     "name": "stdout",
     "output_type": "stream",
     "text": [
      "+-------+--------------------+\n",
      "|stop_id|   haltestellen_name|\n",
      "+-------+--------------------+\n",
      "| 85null|     Haut du village|\n",
      "| 85null|                    |\n",
      "| 85null|        Pattus (NOC)|\n",
      "| 85null|Auvernier Littora...|\n",
      "+-------+--------------------+"
     ]
    }
   ],
   "source": [
    "actual.withColumn('leng', leng(col('stop_id'))).where(col('leng') == 6).select('stop_id', 'haltestellen_name').distinct().show()"
   ]
  },
  {
   "cell_type": "code",
   "execution_count": 8,
   "metadata": {},
   "outputs": [
    {
     "data": {
      "application/vnd.jupyter.widget-view+json": {
       "model_id": "",
       "version_major": 2,
       "version_minor": 0
      },
      "text/plain": [
       "FloatProgress(value=0.0, bar_style='info', description='Progress:', layout=Layout(height='25px', width='50%'),…"
      ]
     },
     "metadata": {},
     "output_type": "display_data"
    },
    {
     "name": "stdout",
     "output_type": "stream",
     "text": [
      "+-------+--------------------+\n",
      "|stop_id|   haltestellen_name|\n",
      "+-------+--------------------+\n",
      "|8501120|            Lausanne|\n",
      "|8500103|           Sorvilier|\n",
      "|8588439|         Pully, port|\n",
      "|8592150|   Lutry, Grand-Pont|\n",
      "|8579249|Pully, Monts-de-P...|\n",
      "|8591059|Zürich, Bahnhof E...|\n",
      "|8506194|                Berg|\n",
      "|8509350|       Celerina Staz|\n",
      "|8575812|  Vacallo, S. Simone|\n",
      "|8576278|Regensdorf, Furtb...|\n",
      "|8594236|Rümlang, Hörnlist...|\n",
      "|8590888|Wallisellen, Hall...|\n",
      "|8595864|Cranves-Sales, Ve...|\n",
      "|8579719|Ste-Croix, av. de...|\n",
      "|8571989|Roggenburg, Missi...|\n",
      "|8572083|Fontenais, sur Le...|\n",
      "|8573725|     Islisberg, Dorf|\n",
      "|8570561|    Epesses, village|\n",
      "|8570212|Poliez-Pittet, vi...|\n",
      "|8505634|Brione (Verzasca)...|\n",
      "+-------+--------------------+\n",
      "only showing top 20 rows"
     ]
    }
   ],
   "source": [
    "actual.withColumn('leng', leng(col('stop_id'))).where(col('leng') == 7).select('stop_id', 'haltestellen_name').distinct().show()"
   ]
  },
  {
   "cell_type": "code",
   "execution_count": 9,
   "metadata": {},
   "outputs": [
    {
     "data": {
      "application/vnd.jupyter.widget-view+json": {
       "model_id": "",
       "version_major": 2,
       "version_minor": 0
      },
      "text/plain": [
       "FloatProgress(value=0.0, bar_style='info', description='Progress:', layout=Layout(height='25px', width='50%'),…"
      ]
     },
     "metadata": {},
     "output_type": "display_data"
    },
    {
     "name": "stdout",
     "output_type": "stream",
     "text": [
      "+---------+--------------------+\n",
      "|  stop_id|   haltestellen_name|\n",
      "+---------+--------------------+\n",
      "|857961101|       Grand-Chézard|\n",
      "|858734901|Zürich, Bahnhofqu...|\n",
      "|857582901|    Pedrinate, Paese|\n",
      "|859149802|   Pedrinate, Chiesa|\n",
      "|859157501|Campione, Via Tag...|\n",
      "|857624951|                Watt|\n",
      "|858809650|Volketswil, Hofwisen|\n",
      "|859063951|Greifensee, Tumig...|\n",
      "|859057350|Dübendorf, Kunste...|\n",
      "|859089051|  Wallisellen, Ifang|\n",
      "|858736802|           Gérardmer|\n",
      "|857959701|St-Sulpice NE Pri...|\n",
      "|857181502|Le Cerneux-Péquig...|\n",
      "|858370102|Le Cachot, Cachot...|\n",
      "|857183202|Le Quartier, La C...|\n",
      "|858239301|Delémont, zi Comm...|\n",
      "|857677501|Les Genevez JU, c...|\n",
      "|858367101|     Coeuve, Le Crêt|\n",
      "|857204101|    Porrentruy, gare|\n",
      "|850795802|   Romairon, village|\n",
      "+---------+--------------------+\n",
      "only showing top 20 rows"
     ]
    }
   ],
   "source": [
    "actual.withColumn('leng', leng(col('stop_id'))).where(col('leng') == 9).select('stop_id', 'haltestellen_name').distinct().show()"
   ]
  },
  {
   "cell_type": "code",
   "execution_count": null,
   "metadata": {},
   "outputs": [],
   "source": []
  },
  {
   "cell_type": "code",
   "execution_count": null,
   "metadata": {},
   "outputs": [],
   "source": []
  },
  {
   "cell_type": "code",
   "execution_count": null,
   "metadata": {},
   "outputs": [],
   "source": []
  },
  {
   "cell_type": "code",
   "execution_count": null,
   "metadata": {},
   "outputs": [],
   "source": []
  },
  {
   "cell_type": "code",
   "execution_count": null,
   "metadata": {},
   "outputs": [],
   "source": []
  }
 ],
 "metadata": {
  "kernelspec": {
   "display_name": "PySpark",
   "language": "",
   "name": "pysparkkernel"
  },
  "language_info": {
   "codemirror_mode": {
    "name": "python",
    "version": 3
   },
   "mimetype": "text/x-python",
   "name": "pyspark",
   "pygments_lexer": "python3"
  }
 },
 "nbformat": 4,
 "nbformat_minor": 4
}
