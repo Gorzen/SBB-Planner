{
 "cells": [
  {
   "cell_type": "code",
   "execution_count": 1,
   "metadata": {},
   "outputs": [
    {
     "data": {
      "text/html": [
       "Current session configs: <tt>{'conf': {'spark.app.name': 'dslab-group_final'}, 'kind': 'pyspark'}</tt><br>"
      ],
      "text/plain": [
       "<IPython.core.display.HTML object>"
      ]
     },
     "metadata": {},
     "output_type": "display_data"
    },
    {
     "data": {
      "text/html": [
       "<table>\n",
       "<tr><th>ID</th><th>YARN Application ID</th><th>Kind</th><th>State</th><th>Spark UI</th><th>Driver log</th><th>Current session?</th></tr><tr><td>6532</td><td>application_1589299642358_1021</td><td>pyspark</td><td>idle</td><td><a target=\"_blank\" href=\"http://iccluster044.iccluster.epfl.ch:8088/proxy/application_1589299642358_1021/\">Link</a></td><td><a target=\"_blank\" href=\"http://iccluster069.iccluster.epfl.ch:8042/node/containerlogs/container_e06_1589299642358_1021_01_000001/ebouille\">Link</a></td><td></td></tr><tr><td>6560</td><td>application_1589299642358_1049</td><td>pyspark</td><td>idle</td><td><a target=\"_blank\" href=\"http://iccluster044.iccluster.epfl.ch:8088/proxy/application_1589299642358_1049/\">Link</a></td><td><a target=\"_blank\" href=\"http://iccluster065.iccluster.epfl.ch:8042/node/containerlogs/container_e06_1589299642358_1049_01_000001/ebouille\">Link</a></td><td></td></tr><tr><td>6568</td><td>application_1589299642358_1057</td><td>pyspark</td><td>idle</td><td><a target=\"_blank\" href=\"http://iccluster044.iccluster.epfl.ch:8088/proxy/application_1589299642358_1057/\">Link</a></td><td><a target=\"_blank\" href=\"http://iccluster069.iccluster.epfl.ch:8042/node/containerlogs/container_e06_1589299642358_1057_01_000001/ebouille\">Link</a></td><td></td></tr><tr><td>6577</td><td>application_1589299642358_1066</td><td>pyspark</td><td>idle</td><td><a target=\"_blank\" href=\"http://iccluster044.iccluster.epfl.ch:8088/proxy/application_1589299642358_1066/\">Link</a></td><td><a target=\"_blank\" href=\"http://iccluster070.iccluster.epfl.ch:8042/node/containerlogs/container_e06_1589299642358_1066_01_000001/ebouille\">Link</a></td><td></td></tr><tr><td>6582</td><td>application_1589299642358_1071</td><td>pyspark</td><td>busy</td><td><a target=\"_blank\" href=\"http://iccluster044.iccluster.epfl.ch:8088/proxy/application_1589299642358_1071/\">Link</a></td><td><a target=\"_blank\" href=\"http://iccluster071.iccluster.epfl.ch:8042/node/containerlogs/container_e06_1589299642358_1071_01_000001/ebouille\">Link</a></td><td></td></tr><tr><td>6592</td><td>application_1589299642358_1081</td><td>pyspark</td><td>idle</td><td><a target=\"_blank\" href=\"http://iccluster044.iccluster.epfl.ch:8088/proxy/application_1589299642358_1081/\">Link</a></td><td><a target=\"_blank\" href=\"http://iccluster065.iccluster.epfl.ch:8042/node/containerlogs/container_e06_1589299642358_1081_01_000001/ebouille\">Link</a></td><td></td></tr><tr><td>6593</td><td>application_1589299642358_1082</td><td>pyspark</td><td>idle</td><td><a target=\"_blank\" href=\"http://iccluster044.iccluster.epfl.ch:8088/proxy/application_1589299642358_1082/\">Link</a></td><td><a target=\"_blank\" href=\"http://iccluster066.iccluster.epfl.ch:8042/node/containerlogs/container_e06_1589299642358_1082_01_000001/ebouille\">Link</a></td><td></td></tr><tr><td>6597</td><td>application_1589299642358_1086</td><td>pyspark</td><td>idle</td><td><a target=\"_blank\" href=\"http://iccluster044.iccluster.epfl.ch:8088/proxy/application_1589299642358_1086/\">Link</a></td><td><a target=\"_blank\" href=\"http://iccluster067.iccluster.epfl.ch:8042/node/containerlogs/container_e06_1589299642358_1086_01_000001/ebouille\">Link</a></td><td></td></tr><tr><td>6598</td><td>application_1589299642358_1087</td><td>pyspark</td><td>busy</td><td><a target=\"_blank\" href=\"http://iccluster044.iccluster.epfl.ch:8088/proxy/application_1589299642358_1087/\">Link</a></td><td><a target=\"_blank\" href=\"http://iccluster067.iccluster.epfl.ch:8042/node/containerlogs/container_e06_1589299642358_1087_01_000001/ebouille\">Link</a></td><td></td></tr><tr><td>6599</td><td>application_1589299642358_1088</td><td>pyspark</td><td>idle</td><td><a target=\"_blank\" href=\"http://iccluster044.iccluster.epfl.ch:8088/proxy/application_1589299642358_1088/\">Link</a></td><td><a target=\"_blank\" href=\"http://iccluster068.iccluster.epfl.ch:8042/node/containerlogs/container_e06_1589299642358_1088_01_000001/ebouille\">Link</a></td><td></td></tr><tr><td>6600</td><td>application_1589299642358_1089</td><td>pyspark</td><td>idle</td><td><a target=\"_blank\" href=\"http://iccluster044.iccluster.epfl.ch:8088/proxy/application_1589299642358_1089/\">Link</a></td><td><a target=\"_blank\" href=\"http://iccluster070.iccluster.epfl.ch:8042/node/containerlogs/container_e06_1589299642358_1089_01_000001/ebouille\">Link</a></td><td></td></tr><tr><td>6601</td><td>application_1589299642358_1090</td><td>pyspark</td><td>idle</td><td><a target=\"_blank\" href=\"http://iccluster044.iccluster.epfl.ch:8088/proxy/application_1589299642358_1090/\">Link</a></td><td><a target=\"_blank\" href=\"http://iccluster070.iccluster.epfl.ch:8042/node/containerlogs/container_e06_1589299642358_1090_01_000001/ebouille\">Link</a></td><td></td></tr><tr><td>6602</td><td>application_1589299642358_1091</td><td>pyspark</td><td>idle</td><td><a target=\"_blank\" href=\"http://iccluster044.iccluster.epfl.ch:8088/proxy/application_1589299642358_1091/\">Link</a></td><td><a target=\"_blank\" href=\"http://iccluster071.iccluster.epfl.ch:8042/node/containerlogs/container_e06_1589299642358_1091_01_000001/ebouille\">Link</a></td><td></td></tr><tr><td>6603</td><td>application_1589299642358_1092</td><td>pyspark</td><td>busy</td><td><a target=\"_blank\" href=\"http://iccluster044.iccluster.epfl.ch:8088/proxy/application_1589299642358_1092/\">Link</a></td><td><a target=\"_blank\" href=\"http://iccluster067.iccluster.epfl.ch:8042/node/containerlogs/container_e06_1589299642358_1092_01_000001/ebouille\">Link</a></td><td></td></tr><tr><td>6604</td><td>application_1589299642358_1093</td><td>pyspark</td><td>busy</td><td><a target=\"_blank\" href=\"http://iccluster044.iccluster.epfl.ch:8088/proxy/application_1589299642358_1093/\">Link</a></td><td><a target=\"_blank\" href=\"http://iccluster069.iccluster.epfl.ch:8042/node/containerlogs/container_e06_1589299642358_1093_01_000001/ebouille\">Link</a></td><td></td></tr><tr><td>6605</td><td>application_1589299642358_1094</td><td>pyspark</td><td>busy</td><td><a target=\"_blank\" href=\"http://iccluster044.iccluster.epfl.ch:8088/proxy/application_1589299642358_1094/\">Link</a></td><td><a target=\"_blank\" href=\"http://iccluster070.iccluster.epfl.ch:8042/node/containerlogs/container_e06_1589299642358_1094_01_000001/ebouille\">Link</a></td><td></td></tr></table>"
      ],
      "text/plain": [
       "<IPython.core.display.HTML object>"
      ]
     },
     "metadata": {},
     "output_type": "display_data"
    }
   ],
   "source": [
    "%%configure\n",
    "{\"conf\": {\n",
    "    \"spark.app.name\": \"dslab-group_final\"\n",
    "}}"
   ]
  },
  {
   "cell_type": "code",
   "execution_count": 2,
   "metadata": {},
   "outputs": [
    {
     "name": "stdout",
     "output_type": "stream",
     "text": [
      "Starting Spark application\n"
     ]
    },
    {
     "data": {
      "text/html": [
       "<table>\n",
       "<tr><th>ID</th><th>YARN Application ID</th><th>Kind</th><th>State</th><th>Spark UI</th><th>Driver log</th><th>Current session?</th></tr><tr><td>6606</td><td>application_1589299642358_1095</td><td>pyspark</td><td>idle</td><td><a target=\"_blank\" href=\"http://iccluster044.iccluster.epfl.ch:8088/proxy/application_1589299642358_1095/\">Link</a></td><td><a target=\"_blank\" href=\"http://iccluster069.iccluster.epfl.ch:8042/node/containerlogs/container_e06_1589299642358_1095_01_000001/ebouille\">Link</a></td><td>✔</td></tr></table>"
      ],
      "text/plain": [
       "<IPython.core.display.HTML object>"
      ]
     },
     "metadata": {},
     "output_type": "display_data"
    },
    {
     "data": {
      "application/vnd.jupyter.widget-view+json": {
       "model_id": "",
       "version_major": 2,
       "version_minor": 0
      },
      "text/plain": [
       "FloatProgress(value=0.0, bar_style='info', description='Progress:', layout=Layout(height='25px', width='50%'),…"
      ]
     },
     "metadata": {},
     "output_type": "display_data"
    },
    {
     "name": "stdout",
     "output_type": "stream",
     "text": [
      "SparkSession available as 'spark'.\n"
     ]
    },
    {
     "data": {
      "application/vnd.jupyter.widget-view+json": {
       "model_id": "",
       "version_major": 2,
       "version_minor": 0
      },
      "text/plain": [
       "FloatProgress(value=0.0, bar_style='info', description='Progress:', layout=Layout(height='25px', width='50%'),…"
      ]
     },
     "metadata": {},
     "output_type": "display_data"
    }
   ],
   "source": [
    "#"
   ]
  },
  {
   "cell_type": "code",
   "execution_count": 11,
   "metadata": {},
   "outputs": [
    {
     "data": {
      "application/vnd.jupyter.widget-view+json": {
       "model_id": "",
       "version_major": 2,
       "version_minor": 0
      },
      "text/plain": [
       "FloatProgress(value=0.0, bar_style='info', description='Progress:', layout=Layout(height='25px', width='50%'),…"
      ]
     },
     "metadata": {},
     "output_type": "display_data"
    },
    {
     "name": "stdout",
     "output_type": "stream",
     "text": [
      "+------------+------------+-------------+-----------------+\n",
      "|from_stop_id|  to_stop_id|transfer_type|min_transfer_time|\n",
      "+------------+------------+-------------+-----------------+\n",
      "| 8500309:0:2| 8500309:0:4|            2|              180|\n",
      "| 8500309:0:2| 8500309:0:5|            2|              180|\n",
      "| 8500309:0:2| 8500309:0:3|            2|              180|\n",
      "| 8500309:0:2| 8500309:0:1|            2|              180|\n",
      "| 8500309:0:2|8500309:0:5B|            2|              180|\n",
      "| 8500305:0:3| 8500305:0:1|            2|              180|\n",
      "| 8500305:0:3| 8500305:0:2|            2|              180|\n",
      "| 8500304:0:1| 8500304:0:2|            2|              120|\n",
      "| 8500320:0:4| 8500320:0:2|            2|              120|\n",
      "| 8500320:0:4| 8500320:0:3|            2|              120|\n",
      "| 8500320:0:4| 8500320:0:5|            2|              120|\n",
      "| 8500303:0:3| 8500303:0:2|            2|              120|\n",
      "| 8500302:0:2| 8500302:0:3|            2|              120|\n",
      "| 8500301:0:4| 8500301:0:3|            2|              180|\n",
      "| 8500313:0:1| 8500313:0:2|            2|              120|\n",
      "| 8500300:0:4| 8500300:0:5|            2|              120|\n",
      "| 8517131:0:1| 8517131:0:2|            2|              120|\n",
      "| 8500021:0:4| 8500021:0:5|            2|              180|\n",
      "| 8500021:0:4| 8500021:0:2|            2|              180|\n",
      "| 8500021:0:4| 8500021:0:1|            2|              180|\n",
      "+------------+------------+-------------+-----------------+\n",
      "only showing top 20 rows\n",
      "\n",
      "Transfer type value counts:\n",
      "[(2, 25274)]"
     ]
    }
   ],
   "source": [
    "transfers = spark.read.format('orc').load('/data/sbb/timetables/orc/transfers/000000_0')\n",
    "transfers.show()\n",
    "\n",
    "print('Transfer type value counts:')\n",
    "transfers.rdd.map(lambda x: (x['transfer_type'], 1)).reduceByKey(lambda x, y: x+y).take(10)"
   ]
  },
  {
   "cell_type": "code",
   "execution_count": 12,
   "metadata": {},
   "outputs": [
    {
     "data": {
      "application/vnd.jupyter.widget-view+json": {
       "model_id": "",
       "version_major": 2,
       "version_minor": 0
      },
      "text/plain": [
       "FloatProgress(value=0.0, bar_style='info', description='Progress:', layout=Layout(height='25px', width='50%'),…"
      ]
     },
     "metadata": {},
     "output_type": "display_data"
    }
   ],
   "source": [
    "transfers = transfers.select('from_stop_id', 'to_stop_id', 'min_transfer_time')"
   ]
  },
  {
   "cell_type": "code",
   "execution_count": 1,
   "metadata": {},
   "outputs": [],
   "source": [
    "%%local\n",
    "import pandas as pd\n",
    "walking_times = pd.read_pickle('walking_times.pickle')"
   ]
  },
  {
   "cell_type": "code",
   "execution_count": 13,
   "metadata": {},
   "outputs": [
    {
     "data": {
      "application/vnd.jupyter.widget-view+json": {
       "model_id": "",
       "version_major": 2,
       "version_minor": 0
      },
      "text/plain": [
       "FloatProgress(value=0.0, bar_style='info', description='Progress:', layout=Layout(height='25px', width='50%'),…"
      ]
     },
     "metadata": {},
     "output_type": "display_data"
    },
    {
     "data": {
      "application/vnd.jupyter.widget-view+json": {
       "model_id": "",
       "version_major": 2,
       "version_minor": 0
      },
      "text/plain": [
       "FloatProgress(value=0.0, bar_style='info', description='Progress:', layout=Layout(height='25px', width='50%'),…"
      ]
     },
     "metadata": {},
     "output_type": "display_data"
    }
   ],
   "source": [
    "%%spark -o transfers -n 30000"
   ]
  },
  {
   "cell_type": "markdown",
   "metadata": {},
   "source": [
    "12534\n",
    "8503000:0:41/42 \t8503000:0:43/44 \t420.0 \t8503000:0:41/42 \t8503000:0:43/44 \t6.762958 \t0.135259\n",
    "8503000:0:41/42 \t8503000:0:14 \t420.0 \t8503000:0:41/42 \t8503000:0:14 \t13.525908 \t0.270518\n",
    "                                \n",
    "                                NaN \tNaN \tNaN \t8596126 \t8503000:0:12 \t350.328370 \t7.006567\n",
    "NaN \tNaN \tNaN \t8596126 \t8503000:0:13 \t355.640800 \t7.112816"
   ]
  },
  {
   "cell_type": "code",
   "execution_count": 36,
   "metadata": {},
   "outputs": [
    {
     "data": {
      "application/vnd.jupyter.widget-view+json": {
       "model_id": "03551d1cebce4cb19e50387a4d4ad07a",
       "version_major": 2,
       "version_minor": 0
      },
      "text/plain": [
       "VBox(children=(HBox(children=(HTML(value='Type:'), Button(description='Table', layout=Layout(width='70px'), st…"
      ]
     },
     "metadata": {},
     "output_type": "display_data"
    },
    {
     "data": {
      "application/vnd.jupyter.widget-view+json": {
       "model_id": "d24f9f5b14b5440eb74856e58ddfb6c4",
       "version_major": 2,
       "version_minor": 0
      },
      "text/plain": [
       "Output()"
      ]
     },
     "metadata": {},
     "output_type": "display_data"
    }
   ],
   "source": [
    "%%local\n",
    "merged = transfers.merge(walking_times, left_on=['from_stop_id', 'to_stop_id'], right_on=['source', 'target'], how='right')\n",
    "mask_transfers = merged.to_stop_id.notnull() & merged.from_stop_id.notnull()\n",
    "merged.loc[mask_transfers, 'walk_duration'] = merged.loc[mask_transfers, 'min_transfer_time'] / 60\n",
    "merged.loc[~mask_transfers, 'walk_duration'] = merged.loc[~mask_transfers, 'duration'] + 2\n",
    "display(merged[['source', 'target', 'walk_duration']])\n",
    "merged[['source', 'target', 'walk_duration']].to_pickle('walking_edges.pickle')"
   ]
  }
 ],
 "metadata": {
  "kernelspec": {
   "display_name": "PySpark",
   "language": "",
   "name": "pysparkkernel"
  },
  "language_info": {
   "codemirror_mode": {
    "name": "python",
    "version": 3
   },
   "mimetype": "text/x-python",
   "name": "pyspark",
   "pygments_lexer": "python3"
  }
 },
 "nbformat": 4,
 "nbformat_minor": 4
}
