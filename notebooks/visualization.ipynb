{
 "cells": [
  {
   "cell_type": "markdown",
   "metadata": {},
   "source": [
    "# Statisctical information, mean and std : \n",
    "\n",
    "This notebook computes the mean, std for the arrival time for each train_type, hour and station. Note, this notebook takes approximately 20 minutes to run.  "
   ]
  },
  {
   "cell_type": "markdown",
   "metadata": {},
   "source": [
    "### Set up spark:"
   ]
  },
  {
   "cell_type": "code",
   "execution_count": 1,
   "metadata": {},
   "outputs": [
    {
     "data": {
      "text/html": [
       "Current session configs: <tt>{'conf': {'spark.app.name': 'dslab-group_final'}, 'kind': 'pyspark'}</tt><br>"
      ],
      "text/plain": [
       "<IPython.core.display.HTML object>"
      ]
     },
     "metadata": {},
     "output_type": "display_data"
    },
    {
     "data": {
      "text/html": [
       "<table>\n",
       "<tr><th>ID</th><th>YARN Application ID</th><th>Kind</th><th>State</th><th>Spark UI</th><th>Driver log</th><th>Current session?</th></tr><tr><td>7933</td><td>application_1589299642358_2451</td><td>pyspark</td><td>idle</td><td><a target=\"_blank\" href=\"http://iccluster044.iccluster.epfl.ch:8088/proxy/application_1589299642358_2451/\">Link</a></td><td><a target=\"_blank\" href=\"http://iccluster067.iccluster.epfl.ch:8042/node/containerlogs/container_e06_1589299642358_2451_01_000001/ebouille\">Link</a></td><td></td></tr><tr><td>7992</td><td>application_1589299642358_2514</td><td>pyspark</td><td>idle</td><td><a target=\"_blank\" href=\"http://iccluster044.iccluster.epfl.ch:8088/proxy/application_1589299642358_2514/\">Link</a></td><td><a target=\"_blank\" href=\"http://iccluster066.iccluster.epfl.ch:8042/node/containerlogs/container_e06_1589299642358_2514_01_000001/ebouille\">Link</a></td><td></td></tr><tr><td>7994</td><td>application_1589299642358_2517</td><td>pyspark</td><td>idle</td><td><a target=\"_blank\" href=\"http://iccluster044.iccluster.epfl.ch:8088/proxy/application_1589299642358_2517/\">Link</a></td><td><a target=\"_blank\" href=\"http://iccluster066.iccluster.epfl.ch:8042/node/containerlogs/container_e06_1589299642358_2517_01_000001/ebouille\">Link</a></td><td></td></tr><tr><td>8002</td><td>application_1589299642358_2525</td><td>pyspark</td><td>idle</td><td><a target=\"_blank\" href=\"http://iccluster044.iccluster.epfl.ch:8088/proxy/application_1589299642358_2525/\">Link</a></td><td><a target=\"_blank\" href=\"http://iccluster070.iccluster.epfl.ch:8042/node/containerlogs/container_e06_1589299642358_2525_01_000001/ebouille\">Link</a></td><td></td></tr><tr><td>8008</td><td>application_1589299642358_2531</td><td>pyspark</td><td>busy</td><td><a target=\"_blank\" href=\"http://iccluster044.iccluster.epfl.ch:8088/proxy/application_1589299642358_2531/\">Link</a></td><td><a target=\"_blank\" href=\"http://iccluster069.iccluster.epfl.ch:8042/node/containerlogs/container_e06_1589299642358_2531_01_000001/ebouille\">Link</a></td><td></td></tr><tr><td>8018</td><td>application_1589299642358_2541</td><td>pyspark</td><td>idle</td><td><a target=\"_blank\" href=\"http://iccluster044.iccluster.epfl.ch:8088/proxy/application_1589299642358_2541/\">Link</a></td><td><a target=\"_blank\" href=\"http://iccluster066.iccluster.epfl.ch:8042/node/containerlogs/container_e06_1589299642358_2541_01_000001/ebouille\">Link</a></td><td></td></tr><tr><td>8021</td><td>application_1589299642358_2544</td><td>pyspark</td><td>idle</td><td><a target=\"_blank\" href=\"http://iccluster044.iccluster.epfl.ch:8088/proxy/application_1589299642358_2544/\">Link</a></td><td><a target=\"_blank\" href=\"http://iccluster070.iccluster.epfl.ch:8042/node/containerlogs/container_e06_1589299642358_2544_01_000001/ebouille\">Link</a></td><td></td></tr><tr><td>8027</td><td>application_1589299642358_2548</td><td>pyspark</td><td>idle</td><td><a target=\"_blank\" href=\"http://iccluster044.iccluster.epfl.ch:8088/proxy/application_1589299642358_2548/\">Link</a></td><td><a target=\"_blank\" href=\"http://iccluster065.iccluster.epfl.ch:8042/node/containerlogs/container_e06_1589299642358_2548_01_000001/ebouille\">Link</a></td><td></td></tr><tr><td>8033</td><td>application_1589299642358_2553</td><td>pyspark</td><td>busy</td><td><a target=\"_blank\" href=\"http://iccluster044.iccluster.epfl.ch:8088/proxy/application_1589299642358_2553/\">Link</a></td><td><a target=\"_blank\" href=\"http://iccluster067.iccluster.epfl.ch:8042/node/containerlogs/container_e06_1589299642358_2553_01_000001/ebouille\">Link</a></td><td></td></tr><tr><td>8037</td><td>application_1589299642358_2557</td><td>pyspark</td><td>busy</td><td><a target=\"_blank\" href=\"http://iccluster044.iccluster.epfl.ch:8088/proxy/application_1589299642358_2557/\">Link</a></td><td><a target=\"_blank\" href=\"http://iccluster069.iccluster.epfl.ch:8042/node/containerlogs/container_e06_1589299642358_2557_01_000001/ebouille\">Link</a></td><td></td></tr><tr><td>8038</td><td>application_1589299642358_2558</td><td>pyspark</td><td>idle</td><td><a target=\"_blank\" href=\"http://iccluster044.iccluster.epfl.ch:8088/proxy/application_1589299642358_2558/\">Link</a></td><td><a target=\"_blank\" href=\"http://iccluster072.iccluster.epfl.ch:8042/node/containerlogs/container_e06_1589299642358_2558_01_000001/ebouille\">Link</a></td><td></td></tr><tr><td>8039</td><td>application_1589299642358_2559</td><td>pyspark</td><td>idle</td><td><a target=\"_blank\" href=\"http://iccluster044.iccluster.epfl.ch:8088/proxy/application_1589299642358_2559/\">Link</a></td><td><a target=\"_blank\" href=\"http://iccluster072.iccluster.epfl.ch:8042/node/containerlogs/container_e06_1589299642358_2559_01_000001/ebouille\">Link</a></td><td></td></tr><tr><td>8040</td><td>application_1589299642358_2560</td><td>pyspark</td><td>idle</td><td><a target=\"_blank\" href=\"http://iccluster044.iccluster.epfl.ch:8088/proxy/application_1589299642358_2560/\">Link</a></td><td><a target=\"_blank\" href=\"http://iccluster067.iccluster.epfl.ch:8042/node/containerlogs/container_e06_1589299642358_2560_01_000001/ebouille\">Link</a></td><td></td></tr><tr><td>8042</td><td>application_1589299642358_2562</td><td>pyspark</td><td>idle</td><td><a target=\"_blank\" href=\"http://iccluster044.iccluster.epfl.ch:8088/proxy/application_1589299642358_2562/\">Link</a></td><td><a target=\"_blank\" href=\"http://iccluster069.iccluster.epfl.ch:8042/node/containerlogs/container_e06_1589299642358_2562_01_000001/ebouille\">Link</a></td><td></td></tr><tr><td>8043</td><td>application_1589299642358_2563</td><td>pyspark</td><td>dead</td><td><a target=\"_blank\" href=\"http://iccluster044.iccluster.epfl.ch:8088/cluster/app/application_1589299642358_2563\">Link</a></td><td><a target=\"_blank\" href=\"http://iccluster054.iccluster.epfl.ch:8188/applicationhistory/logs/iccluster069.iccluster.epfl.ch:45454/container_e06_1589299642358_2563_01_000001/container_e06_1589299642358_2563_01_000001/ebouille\">Link</a></td><td></td></tr><tr><td>8044</td><td>application_1589299642358_2564</td><td>pyspark</td><td>busy</td><td><a target=\"_blank\" href=\"http://iccluster044.iccluster.epfl.ch:8088/proxy/application_1589299642358_2564/\">Link</a></td><td><a target=\"_blank\" href=\"http://iccluster067.iccluster.epfl.ch:8042/node/containerlogs/container_e06_1589299642358_2564_01_000001/ebouille\">Link</a></td><td></td></tr><tr><td>8045</td><td>application_1589299642358_2565</td><td>pyspark</td><td>idle</td><td><a target=\"_blank\" href=\"http://iccluster044.iccluster.epfl.ch:8088/proxy/application_1589299642358_2565/\">Link</a></td><td><a target=\"_blank\" href=\"http://iccluster067.iccluster.epfl.ch:8042/node/containerlogs/container_e06_1589299642358_2565_01_000001/ebouille\">Link</a></td><td></td></tr><tr><td>8046</td><td>application_1589299642358_2566</td><td>pyspark</td><td>idle</td><td><a target=\"_blank\" href=\"http://iccluster044.iccluster.epfl.ch:8088/proxy/application_1589299642358_2566/\">Link</a></td><td><a target=\"_blank\" href=\"http://iccluster070.iccluster.epfl.ch:8042/node/containerlogs/container_e06_1589299642358_2566_01_000001/ebouille\">Link</a></td><td></td></tr><tr><td>8047</td><td>application_1589299642358_2567</td><td>pyspark</td><td>idle</td><td><a target=\"_blank\" href=\"http://iccluster044.iccluster.epfl.ch:8088/proxy/application_1589299642358_2567/\">Link</a></td><td><a target=\"_blank\" href=\"http://iccluster069.iccluster.epfl.ch:8042/node/containerlogs/container_e06_1589299642358_2567_01_000001/ebouille\">Link</a></td><td></td></tr><tr><td>8048</td><td>application_1589299642358_2568</td><td>pyspark</td><td>busy</td><td><a target=\"_blank\" href=\"http://iccluster044.iccluster.epfl.ch:8088/proxy/application_1589299642358_2568/\">Link</a></td><td><a target=\"_blank\" href=\"http://iccluster069.iccluster.epfl.ch:8042/node/containerlogs/container_e06_1589299642358_2568_01_000001/ebouille\">Link</a></td><td></td></tr><tr><td>8050</td><td>application_1589299642358_2570</td><td>pyspark</td><td>idle</td><td><a target=\"_blank\" href=\"http://iccluster044.iccluster.epfl.ch:8088/proxy/application_1589299642358_2570/\">Link</a></td><td><a target=\"_blank\" href=\"http://iccluster066.iccluster.epfl.ch:8042/node/containerlogs/container_e06_1589299642358_2570_01_000001/ebouille\">Link</a></td><td></td></tr><tr><td>8051</td><td>application_1589299642358_2571</td><td>pyspark</td><td>idle</td><td><a target=\"_blank\" href=\"http://iccluster044.iccluster.epfl.ch:8088/proxy/application_1589299642358_2571/\">Link</a></td><td><a target=\"_blank\" href=\"http://iccluster072.iccluster.epfl.ch:8042/node/containerlogs/container_e06_1589299642358_2571_01_000001/ebouille\">Link</a></td><td></td></tr><tr><td>8052</td><td>application_1589299642358_2572</td><td>pyspark</td><td>idle</td><td><a target=\"_blank\" href=\"http://iccluster044.iccluster.epfl.ch:8088/proxy/application_1589299642358_2572/\">Link</a></td><td><a target=\"_blank\" href=\"http://iccluster068.iccluster.epfl.ch:8042/node/containerlogs/container_e06_1589299642358_2572_01_000001/ebouille\">Link</a></td><td></td></tr><tr><td>8053</td><td>application_1589299642358_2573</td><td>pyspark</td><td>idle</td><td><a target=\"_blank\" href=\"http://iccluster044.iccluster.epfl.ch:8088/proxy/application_1589299642358_2573/\">Link</a></td><td><a target=\"_blank\" href=\"http://iccluster072.iccluster.epfl.ch:8042/node/containerlogs/container_e06_1589299642358_2573_01_000001/ebouille\">Link</a></td><td></td></tr><tr><td>8054</td><td>application_1589299642358_2575</td><td>pyspark</td><td>idle</td><td><a target=\"_blank\" href=\"http://iccluster044.iccluster.epfl.ch:8088/proxy/application_1589299642358_2575/\">Link</a></td><td><a target=\"_blank\" href=\"http://iccluster071.iccluster.epfl.ch:8042/node/containerlogs/container_e06_1589299642358_2575_01_000001/ebouille\">Link</a></td><td></td></tr><tr><td>8058</td><td>application_1589299642358_2580</td><td>pyspark</td><td>dead</td><td><a target=\"_blank\" href=\"http://iccluster044.iccluster.epfl.ch:8088/cluster/app/application_1589299642358_2580\">Link</a></td><td></td><td></td></tr><tr><td>8060</td><td>application_1589299642358_2583</td><td>pyspark</td><td>dead</td><td><a target=\"_blank\" href=\"http://iccluster044.iccluster.epfl.ch:8088/cluster/app/application_1589299642358_2583\">Link</a></td><td></td><td></td></tr><tr><td>8063</td><td>application_1589299642358_2587</td><td>pyspark</td><td>idle</td><td><a target=\"_blank\" href=\"http://iccluster044.iccluster.epfl.ch:8088/proxy/application_1589299642358_2587/\">Link</a></td><td><a target=\"_blank\" href=\"http://iccluster069.iccluster.epfl.ch:8042/node/containerlogs/container_e06_1589299642358_2587_01_000001/ebouille\">Link</a></td><td></td></tr><tr><td>8065</td><td>application_1589299642358_2589</td><td>pyspark</td><td>idle</td><td><a target=\"_blank\" href=\"http://iccluster044.iccluster.epfl.ch:8088/proxy/application_1589299642358_2589/\">Link</a></td><td><a target=\"_blank\" href=\"http://iccluster071.iccluster.epfl.ch:8042/node/containerlogs/container_e06_1589299642358_2589_01_000001/ebouille\">Link</a></td><td></td></tr><tr><td>8066</td><td>application_1589299642358_2590</td><td>pyspark</td><td>busy</td><td><a target=\"_blank\" href=\"http://iccluster044.iccluster.epfl.ch:8088/proxy/application_1589299642358_2590/\">Link</a></td><td><a target=\"_blank\" href=\"http://iccluster067.iccluster.epfl.ch:8042/node/containerlogs/container_e06_1589299642358_2590_01_000001/ebouille\">Link</a></td><td></td></tr><tr><td>8067</td><td>application_1589299642358_2591</td><td>pyspark</td><td>busy</td><td><a target=\"_blank\" href=\"http://iccluster044.iccluster.epfl.ch:8088/proxy/application_1589299642358_2591/\">Link</a></td><td><a target=\"_blank\" href=\"http://iccluster066.iccluster.epfl.ch:8042/node/containerlogs/container_e06_1589299642358_2591_01_000001/ebouille\">Link</a></td><td></td></tr><tr><td>8068</td><td>None</td><td>pyspark</td><td>starting</td><td></td><td></td><td></td></tr></table>"
      ],
      "text/plain": [
       "<IPython.core.display.HTML object>"
      ]
     },
     "metadata": {},
     "output_type": "display_data"
    }
   ],
   "source": [
    "%%configure\n",
    "{\"conf\": {\n",
    "    \"spark.app.name\": \"dslab-group_final\"\n",
    "}}"
   ]
  },
  {
   "cell_type": "code",
   "execution_count": 2,
   "metadata": {},
   "outputs": [],
   "source": [
    "%%local\n",
    "import ipywidgets as widgets\n",
    "import pandas as pd\n",
    "import fuzzy_pandas as fpd"
   ]
  },
  {
   "cell_type": "code",
   "execution_count": 3,
   "metadata": {},
   "outputs": [],
   "source": [
    "%%local\n",
    "import time\n",
    "import os\n",
    "username = os.environ['JUPYTERHUB_USER']"
   ]
  },
  {
   "cell_type": "code",
   "execution_count": 4,
   "metadata": {},
   "outputs": [
    {
     "name": "stdout",
     "output_type": "stream",
     "text": [
      "Starting Spark application\n"
     ]
    },
    {
     "data": {
      "text/html": [
       "<table>\n",
       "<tr><th>ID</th><th>YARN Application ID</th><th>Kind</th><th>State</th><th>Spark UI</th><th>Driver log</th><th>Current session?</th></tr><tr><td>8069</td><td>application_1589299642358_2593</td><td>pyspark</td><td>idle</td><td><a target=\"_blank\" href=\"http://iccluster044.iccluster.epfl.ch:8088/proxy/application_1589299642358_2593/\">Link</a></td><td><a target=\"_blank\" href=\"http://iccluster070.iccluster.epfl.ch:8042/node/containerlogs/container_e06_1589299642358_2593_01_000001/ebouille\">Link</a></td><td>✔</td></tr></table>"
      ],
      "text/plain": [
       "<IPython.core.display.HTML object>"
      ]
     },
     "metadata": {},
     "output_type": "display_data"
    },
    {
     "data": {
      "application/vnd.jupyter.widget-view+json": {
       "model_id": "",
       "version_major": 2,
       "version_minor": 0
      },
      "text/plain": [
       "FloatProgress(value=0.0, bar_style='info', description='Progress:', layout=Layout(height='25px', width='50%'),…"
      ]
     },
     "metadata": {},
     "output_type": "display_data"
    },
    {
     "name": "stdout",
     "output_type": "stream",
     "text": [
      "SparkSession available as 'spark'.\n"
     ]
    },
    {
     "data": {
      "application/vnd.jupyter.widget-view+json": {
       "model_id": "",
       "version_major": 2,
       "version_minor": 0
      },
      "text/plain": [
       "FloatProgress(value=0.0, bar_style='info', description='Progress:', layout=Layout(height='25px', width='50%'),…"
      ]
     },
     "metadata": {},
     "output_type": "display_data"
    },
    {
     "name": "stdout",
     "output_type": "stream",
     "text": [
      "Successfully passed 'username' as 'username' to Spark kernel"
     ]
    }
   ],
   "source": [
    "%%send_to_spark -i username -t str -n username"
   ]
  },
  {
   "cell_type": "code",
   "execution_count": 5,
   "metadata": {},
   "outputs": [
    {
     "data": {
      "application/vnd.jupyter.widget-view+json": {
       "model_id": "",
       "version_major": 2,
       "version_minor": 0
      },
      "text/plain": [
       "FloatProgress(value=0.0, bar_style='info', description='Progress:', layout=Layout(height='25px', width='50%'),…"
      ]
     },
     "metadata": {},
     "output_type": "display_data"
    }
   ],
   "source": [
    "stops_zurich = spark.read.format('orc').load(\"/user/{}/nodes.orc\".format(username))\\\n",
    "                                        .select('stop_name').distinct()"
   ]
  },
  {
   "cell_type": "code",
   "execution_count": 6,
   "metadata": {},
   "outputs": [
    {
     "data": {
      "application/vnd.jupyter.widget-view+json": {
       "model_id": "",
       "version_major": 2,
       "version_minor": 0
      },
      "text/plain": [
       "FloatProgress(value=0.0, bar_style='info', description='Progress:', layout=Layout(height='25px', width='50%'),…"
      ]
     },
     "metadata": {},
     "output_type": "display_data"
    },
    {
     "data": {
      "application/vnd.jupyter.widget-view+json": {
       "model_id": "",
       "version_major": 2,
       "version_minor": 0
      },
      "text/plain": [
       "FloatProgress(value=0.0, bar_style='info', description='Progress:', layout=Layout(height='25px', width='50%'),…"
      ]
     },
     "metadata": {},
     "output_type": "display_data"
    }
   ],
   "source": [
    "%%spark -o stops_zurich"
   ]
  },
  {
   "cell_type": "code",
   "execution_count": 7,
   "metadata": {},
   "outputs": [],
   "source": [
    "%%local\n",
    "example_graph = [['Lausanne', 'Berne', {'duration': 100, 'time': 500}],\n",
    "                 ['Berne', 'Lucerne', {'duration': 200, 'time': 600}],\n",
    "                 ['Lucerne', 'Zürich', {'duration': 50, 'time': 800}]]"
   ]
  },
  {
   "cell_type": "code",
   "execution_count": 8,
   "metadata": {},
   "outputs": [],
   "source": [
    "%%local\n",
    "def search_station(station):\n",
    "    search = pd.DataFrame([station], columns=['station'])\n",
    "    matches = fpd.fuzzy_merge(search, stops_zurich, left_on='station', right_on='stop_name',\n",
    "                              ignore_case=True, ignore_nonalpha=True, ignore_nonlatin=True, ignore_order_words=True,\n",
    "                              keep='match', threshold=0.8, method='jaro')\n",
    "    return matches['stop_name'].to_list()"
   ]
  },
  {
   "cell_type": "code",
   "execution_count": 9,
   "metadata": {},
   "outputs": [],
   "source": [
    "%%local\n",
    "def search_station_departure(sender):\n",
    "    phrase = depart_station.value\n",
    "    depart_proposals.options = search_station(phrase)"
   ]
  },
  {
   "cell_type": "code",
   "execution_count": 10,
   "metadata": {},
   "outputs": [],
   "source": [
    "%%local\n",
    "def search_station_arrival(sender):\n",
    "    phrase = arrive_station.value\n",
    "    arrive_proposals.options = search_station(phrase)"
   ]
  },
  {
   "cell_type": "code",
   "execution_count": 11,
   "metadata": {},
   "outputs": [],
   "source": [
    "%%local\n",
    "no_station_selected = \"None selected\""
   ]
  },
  {
   "cell_type": "code",
   "execution_count": 12,
   "metadata": {},
   "outputs": [],
   "source": [
    "%%local\n",
    "def select_station_departure(sender):\n",
    "    if(sender['name'] == 'label'):\n",
    "        if(sender['new'] == None):\n",
    "            selected_depart_station.value = no_station_selected\n",
    "        else:\n",
    "            selected_depart_station.value = sender['new']"
   ]
  },
  {
   "cell_type": "code",
   "execution_count": 13,
   "metadata": {},
   "outputs": [],
   "source": [
    "%%local\n",
    "def select_station_arrival(sender):\n",
    "    if(sender['name'] == 'label'):\n",
    "        if(sender['new'] == None):\n",
    "            selected_arrival_station.value = no_station_selected\n",
    "        else:\n",
    "            selected_arrival_station.value = sender['new']"
   ]
  },
  {
   "cell_type": "code",
   "execution_count": 26,
   "metadata": {},
   "outputs": [],
   "source": [
    "%%local\n",
    "def find_route_button(button):\n",
    "    # Parse arguments\n",
    "    depart_station = selected_depart_station.value\n",
    "    if depart_station == no_station_selected:\n",
    "        report_error(\"No departure station selected\")\n",
    "        return\n",
    "    \n",
    "    arrive_station = selected_arrival_station.value\n",
    "    if arrive_station == no_station_selected:\n",
    "        report_error(\"No arrival station selected\")\n",
    "        return\n",
    "    \n",
    "    date = date_picker.value\n",
    "    if(date == None):\n",
    "        report_error(\"No date selected\")\n",
    "        return\n",
    "    \n",
    "    if(date.weekday() > 4):\n",
    "        report_error(\"Date is a weekend day, please select a week day\")\n",
    "        return\n",
    "    \n",
    "    hour_str = hour_picker.value\n",
    "    \n",
    "    if hour_str == None or hour_str == \"\":\n",
    "        report_error(\"No hour selected\")\n",
    "        return\n",
    "    \n",
    "    hour_str = hour_str.split(':')\n",
    "    hour = -1\n",
    "    minute = -1\n",
    "    \n",
    "    try:\n",
    "        if(len(hour_str) != 2):\n",
    "            raise Error\n",
    "        hour = int(hour_str[0])\n",
    "        minute = int(hour_str[1])        \n",
    "    except:\n",
    "        report_error(\"Invalid hour format, use HH:MM\")\n",
    "        return\n",
    "    \n",
    "    if(hour not in range(8,21)):\n",
    "        report_error(\"Invalid hour, valid range: [8,20]\")\n",
    "        return\n",
    "            \n",
    "    if(minute not in range(0,60)):\n",
    "        report_error(\"Invalid minute, valid range: [0,59]\")\n",
    "        return\n",
    "        \n",
    "    confidence = confidence_picker.value\n",
    "        \n",
    "    report_error(None)\n",
    "    \n",
    "    \n",
    "    # Calculate path\n",
    "    results.children = []\n",
    "    progress_bar.layout = widgets.Layout(display='block')\n",
    "    path = example_graph # Change to actual path (run on cluster)\n",
    "    time.sleep(2)\n",
    "    \n",
    "    \n",
    "    # Display path\n",
    "    progress_bar.layout = widgets.Layout(display='none')\n",
    "    display_path(path)"
   ]
  },
  {
   "cell_type": "code",
   "execution_count": 27,
   "metadata": {},
   "outputs": [],
   "source": [
    "%%local\n",
    "def display_path(path):\n",
    "    stops = []\n",
    "    \n",
    "    for edge in path:\n",
    "        start = edge[0]\n",
    "        end = edge[1]\n",
    "        time = edge[2]['time']\n",
    "        duration = edge[2]['duration']\n",
    "        \n",
    "        stops.append(widgets.HTML(value=f\"t{time} {start} => t{time+duration} {end}\"))\n",
    "        \n",
    "    results.children = stops"
   ]
  },
  {
   "cell_type": "code",
   "execution_count": 28,
   "metadata": {},
   "outputs": [],
   "source": [
    "%%local\n",
    "def report_error(error_message):\n",
    "    if error_message == None:\n",
    "        error.value = \"\"\n",
    "    else:\n",
    "        error.value = \"<b style='color:red;'>Error: \" + error_message  + \"</b>\""
   ]
  },
  {
   "cell_type": "code",
   "execution_count": 32,
   "metadata": {},
   "outputs": [],
   "source": [
    "%%local\n",
    "style = {'description_width': 'initial'}\n",
    "\n",
    "# Search station\n",
    "depart_station = widgets.Text(description = 'Search departure station',\n",
    "                              layout=widgets.Layout(width='40%'),\n",
    "                              style=style)\n",
    "depart_station.observe(search_station_departure)\n",
    "arrive_station = widgets.Text(description = 'Search arrival station',\n",
    "                              layout=widgets.Layout(width='40%'),\n",
    "                              style=style)\n",
    "arrive_station.observe(search_station_arrival)\n",
    "\n",
    "\n",
    "# Proposals\n",
    "depart_proposals = widgets.Select(description = 'Found stations',\n",
    "                                  layout=widgets.Layout(width='40%', height='200px'),\n",
    "                                  style=style)\n",
    "depart_proposals.observe(select_station_departure)\n",
    "arrive_proposals = widgets.Select(description = 'Found stations',\n",
    "                                  layout=widgets.Layout(width='40%', height='200px'),\n",
    "                                  style=style)\n",
    "arrive_proposals.observe(select_station_arrival)\n",
    "\n",
    "\n",
    "# Stations\n",
    "selected_depart_station = widgets.Label(value = no_station_selected, style=style)\n",
    "selected_box_depart_station = widgets.HBox([widgets.Label(value = \"Selected depart station: \", style=style),\n",
    "                                             selected_depart_station], layout=widgets.Layout(width='40%'))\n",
    "selected_arrival_station = widgets.Label(value = no_station_selected, style=style)\n",
    "selected_box_arrival_station = widgets.HBox([widgets.Label(value = \"Selected arrival station: \", style=style),\n",
    "                                             selected_arrival_station], layout=widgets.Layout(width='40%'))\n",
    "\n",
    "\n",
    "\n",
    "# Options\n",
    "date_picker = widgets.DatePicker(\n",
    "                    description='Pick a Date',\n",
    "                    disabled=False,\n",
    "                    layout=widgets.Layout(width='20%')\n",
    "                )\n",
    "hour_picker = widgets.Text(description = 'Arrival time',\n",
    "                            placeholder='HH:MM',\n",
    "                            layout=widgets.Layout(width='20%'),\n",
    "                            style=style\n",
    "                          )\n",
    "confidence_picker = widgets.IntSlider(\n",
    "            value=90,\n",
    "            min=0,\n",
    "            max=99,\n",
    "            step=1,\n",
    "            description='Confidence:',\n",
    "            disabled=False,\n",
    "            continuous_update=False,\n",
    "            orientation='horizontal',\n",
    "            readout=True,\n",
    "            readout_format='d',\n",
    "            layout=widgets.Layout(width='25%'),\n",
    "            style=style\n",
    "        )\n",
    "search_button = widgets.Button(\n",
    "            description='Find route',\n",
    "            disabled=False,\n",
    "            button_style='', # 'success', 'info', 'warning', 'danger' or ''\n",
    "            tooltip='Find route',\n",
    "            icon='check', # (FontAwesome names without the `fa-` prefix)\n",
    "            layout=widgets.Layout(width='15%')\n",
    "        )\n",
    "search_button.on_click(find_route_button)\n",
    "\n",
    "\n",
    "# Error\n",
    "error = widgets.HTML(value=\"\")\n",
    "\n",
    "\n",
    "padding = widgets.HTML(value=\"\", layout=widgets.Layout(height='50px'))\n",
    "\n",
    "# Progress bar\n",
    "progress_bar = widgets.HTML(value=\"Finding best route...\", layout=widgets.Layout(display='none'))\n",
    "\n",
    "# Result\n",
    "results = widgets.VBox([])"
   ]
  },
  {
   "cell_type": "code",
   "execution_count": 33,
   "metadata": {},
   "outputs": [],
   "source": [
    "%%local\n",
    "stations = widgets.HBox([depart_station, arrive_station])\n",
    "proposals = widgets.HBox([depart_proposals, arrive_proposals])\n",
    "selected_stations = widgets.HBox([selected_box_depart_station, selected_box_arrival_station])\n",
    "options = widgets.HBox([date_picker, hour_picker, confidence_picker, search_button])\n",
    "layout = widgets.VBox([stations, proposals, selected_stations, options, error, padding, progress_bar, results])"
   ]
  },
  {
   "cell_type": "code",
   "execution_count": 34,
   "metadata": {},
   "outputs": [
    {
     "data": {
      "application/vnd.jupyter.widget-view+json": {
       "model_id": "92b007c8de404847a1edf4b87f5040b2",
       "version_major": 2,
       "version_minor": 0
      },
      "text/plain": [
       "VBox(children=(HBox(children=(Text(value='', description='Search departure station', layout=Layout(width='40%'…"
      ]
     },
     "metadata": {},
     "output_type": "display_data"
    }
   ],
   "source": [
    "%%local\n",
    "layout"
   ]
  },
  {
   "cell_type": "code",
   "execution_count": null,
   "metadata": {},
   "outputs": [],
   "source": []
  }
 ],
 "metadata": {
  "kernelspec": {
   "display_name": "PySpark",
   "language": "",
   "name": "pysparkkernel"
  },
  "language_info": {
   "codemirror_mode": {
    "name": "python",
    "version": 3
   },
   "mimetype": "text/x-python",
   "name": "pyspark",
   "pygments_lexer": "python3"
  }
 },
 "nbformat": 4,
 "nbformat_minor": 4
}
