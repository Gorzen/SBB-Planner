{
 "cells": [
  {
   "cell_type": "markdown",
   "metadata": {},
   "source": [
    "# Statisctical information, mean and std : \n",
    "\n",
    "This notebook computes the mean, std for the arrival time for each train_type, hour and station. Note, this notebook takes approximately 20 minutes to run.  "
   ]
  },
  {
   "cell_type": "markdown",
   "metadata": {},
   "source": [
    "### Set up spark:"
   ]
  },
  {
   "cell_type": "code",
   "execution_count": 1,
   "metadata": {},
   "outputs": [
    {
     "data": {
      "text/html": [
       "Current session configs: <tt>{'conf': {'spark.app.name': 'dslab-group_final'}, 'kind': 'pyspark'}</tt><br>"
      ],
      "text/plain": [
       "<IPython.core.display.HTML object>"
      ]
     },
     "metadata": {},
     "output_type": "display_data"
    },
    {
     "data": {
      "text/html": [
       "<table>\n",
       "<tr><th>ID</th><th>YARN Application ID</th><th>Kind</th><th>State</th><th>Spark UI</th><th>Driver log</th><th>Current session?</th></tr><tr><td>7933</td><td>application_1589299642358_2451</td><td>pyspark</td><td>idle</td><td><a target=\"_blank\" href=\"http://iccluster044.iccluster.epfl.ch:8088/proxy/application_1589299642358_2451/\">Link</a></td><td><a target=\"_blank\" href=\"http://iccluster067.iccluster.epfl.ch:8042/node/containerlogs/container_e06_1589299642358_2451_01_000001/ebouille\">Link</a></td><td></td></tr><tr><td>7978</td><td>application_1589299642358_2498</td><td>pyspark</td><td>idle</td><td><a target=\"_blank\" href=\"http://iccluster044.iccluster.epfl.ch:8088/proxy/application_1589299642358_2498/\">Link</a></td><td><a target=\"_blank\" href=\"http://iccluster065.iccluster.epfl.ch:8042/node/containerlogs/container_e06_1589299642358_2498_01_000001/ebouille\">Link</a></td><td></td></tr><tr><td>7987</td><td>application_1589299642358_2508</td><td>pyspark</td><td>idle</td><td><a target=\"_blank\" href=\"http://iccluster044.iccluster.epfl.ch:8088/proxy/application_1589299642358_2508/\">Link</a></td><td><a target=\"_blank\" href=\"http://iccluster067.iccluster.epfl.ch:8042/node/containerlogs/container_e06_1589299642358_2508_01_000001/ebouille\">Link</a></td><td></td></tr><tr><td>7992</td><td>application_1589299642358_2514</td><td>pyspark</td><td>idle</td><td><a target=\"_blank\" href=\"http://iccluster044.iccluster.epfl.ch:8088/proxy/application_1589299642358_2514/\">Link</a></td><td><a target=\"_blank\" href=\"http://iccluster066.iccluster.epfl.ch:8042/node/containerlogs/container_e06_1589299642358_2514_01_000001/ebouille\">Link</a></td><td></td></tr><tr><td>7994</td><td>application_1589299642358_2517</td><td>pyspark</td><td>idle</td><td><a target=\"_blank\" href=\"http://iccluster044.iccluster.epfl.ch:8088/proxy/application_1589299642358_2517/\">Link</a></td><td><a target=\"_blank\" href=\"http://iccluster066.iccluster.epfl.ch:8042/node/containerlogs/container_e06_1589299642358_2517_01_000001/ebouille\">Link</a></td><td></td></tr><tr><td>7998</td><td>application_1589299642358_2521</td><td>pyspark</td><td>busy</td><td><a target=\"_blank\" href=\"http://iccluster044.iccluster.epfl.ch:8088/proxy/application_1589299642358_2521/\">Link</a></td><td><a target=\"_blank\" href=\"http://iccluster065.iccluster.epfl.ch:8042/node/containerlogs/container_e06_1589299642358_2521_01_000001/ebouille\">Link</a></td><td></td></tr><tr><td>8002</td><td>application_1589299642358_2525</td><td>pyspark</td><td>idle</td><td><a target=\"_blank\" href=\"http://iccluster044.iccluster.epfl.ch:8088/proxy/application_1589299642358_2525/\">Link</a></td><td><a target=\"_blank\" href=\"http://iccluster070.iccluster.epfl.ch:8042/node/containerlogs/container_e06_1589299642358_2525_01_000001/ebouille\">Link</a></td><td></td></tr><tr><td>8004</td><td>application_1589299642358_2527</td><td>pyspark</td><td>idle</td><td><a target=\"_blank\" href=\"http://iccluster044.iccluster.epfl.ch:8088/proxy/application_1589299642358_2527/\">Link</a></td><td><a target=\"_blank\" href=\"http://iccluster065.iccluster.epfl.ch:8042/node/containerlogs/container_e06_1589299642358_2527_01_000001/ebouille\">Link</a></td><td></td></tr><tr><td>8008</td><td>application_1589299642358_2531</td><td>pyspark</td><td>busy</td><td><a target=\"_blank\" href=\"http://iccluster044.iccluster.epfl.ch:8088/proxy/application_1589299642358_2531/\">Link</a></td><td><a target=\"_blank\" href=\"http://iccluster069.iccluster.epfl.ch:8042/node/containerlogs/container_e06_1589299642358_2531_01_000001/ebouille\">Link</a></td><td></td></tr><tr><td>8012</td><td>application_1589299642358_2535</td><td>pyspark</td><td>idle</td><td><a target=\"_blank\" href=\"http://iccluster044.iccluster.epfl.ch:8088/proxy/application_1589299642358_2535/\">Link</a></td><td><a target=\"_blank\" href=\"http://iccluster066.iccluster.epfl.ch:8042/node/containerlogs/container_e06_1589299642358_2535_01_000001/ebouille\">Link</a></td><td></td></tr><tr><td>8013</td><td>application_1589299642358_2536</td><td>pyspark</td><td>idle</td><td><a target=\"_blank\" href=\"http://iccluster044.iccluster.epfl.ch:8088/proxy/application_1589299642358_2536/\">Link</a></td><td><a target=\"_blank\" href=\"http://iccluster068.iccluster.epfl.ch:8042/node/containerlogs/container_e06_1589299642358_2536_01_000001/ebouille\">Link</a></td><td></td></tr><tr><td>8015</td><td>application_1589299642358_2538</td><td>pyspark</td><td>idle</td><td><a target=\"_blank\" href=\"http://iccluster044.iccluster.epfl.ch:8088/proxy/application_1589299642358_2538/\">Link</a></td><td><a target=\"_blank\" href=\"http://iccluster066.iccluster.epfl.ch:8042/node/containerlogs/container_e06_1589299642358_2538_01_000001/ebouille\">Link</a></td><td></td></tr><tr><td>8016</td><td>application_1589299642358_2539</td><td>pyspark</td><td>idle</td><td><a target=\"_blank\" href=\"http://iccluster044.iccluster.epfl.ch:8088/proxy/application_1589299642358_2539/\">Link</a></td><td><a target=\"_blank\" href=\"http://iccluster067.iccluster.epfl.ch:8042/node/containerlogs/container_e06_1589299642358_2539_01_000001/ebouille\">Link</a></td><td></td></tr><tr><td>8018</td><td>application_1589299642358_2541</td><td>pyspark</td><td>idle</td><td><a target=\"_blank\" href=\"http://iccluster044.iccluster.epfl.ch:8088/proxy/application_1589299642358_2541/\">Link</a></td><td><a target=\"_blank\" href=\"http://iccluster066.iccluster.epfl.ch:8042/node/containerlogs/container_e06_1589299642358_2541_01_000001/ebouille\">Link</a></td><td></td></tr><tr><td>8019</td><td>application_1589299642358_2542</td><td>pyspark</td><td>idle</td><td><a target=\"_blank\" href=\"http://iccluster044.iccluster.epfl.ch:8088/proxy/application_1589299642358_2542/\">Link</a></td><td><a target=\"_blank\" href=\"http://iccluster068.iccluster.epfl.ch:8042/node/containerlogs/container_e06_1589299642358_2542_01_000001/ebouille\">Link</a></td><td></td></tr><tr><td>8020</td><td>application_1589299642358_2543</td><td>pyspark</td><td>idle</td><td><a target=\"_blank\" href=\"http://iccluster044.iccluster.epfl.ch:8088/proxy/application_1589299642358_2543/\">Link</a></td><td><a target=\"_blank\" href=\"http://iccluster068.iccluster.epfl.ch:8042/node/containerlogs/container_e06_1589299642358_2543_01_000001/ebouille\">Link</a></td><td></td></tr><tr><td>8021</td><td>application_1589299642358_2544</td><td>pyspark</td><td>idle</td><td><a target=\"_blank\" href=\"http://iccluster044.iccluster.epfl.ch:8088/proxy/application_1589299642358_2544/\">Link</a></td><td><a target=\"_blank\" href=\"http://iccluster070.iccluster.epfl.ch:8042/node/containerlogs/container_e06_1589299642358_2544_01_000001/ebouille\">Link</a></td><td></td></tr><tr><td>8023</td><td>application_1589299642358_2546</td><td>pyspark</td><td>busy</td><td><a target=\"_blank\" href=\"http://iccluster044.iccluster.epfl.ch:8088/proxy/application_1589299642358_2546/\">Link</a></td><td><a target=\"_blank\" href=\"http://iccluster066.iccluster.epfl.ch:8042/node/containerlogs/container_e06_1589299642358_2546_01_000001/ebouille\">Link</a></td><td></td></tr><tr><td>8025</td><td>application_1589299642358_2547</td><td>pyspark</td><td>idle</td><td><a target=\"_blank\" href=\"http://iccluster044.iccluster.epfl.ch:8088/proxy/application_1589299642358_2547/\">Link</a></td><td><a target=\"_blank\" href=\"http://iccluster072.iccluster.epfl.ch:8042/node/containerlogs/container_e06_1589299642358_2547_01_000001/ebouille\">Link</a></td><td></td></tr><tr><td>8027</td><td>application_1589299642358_2548</td><td>pyspark</td><td>idle</td><td><a target=\"_blank\" href=\"http://iccluster044.iccluster.epfl.ch:8088/proxy/application_1589299642358_2548/\">Link</a></td><td><a target=\"_blank\" href=\"http://iccluster065.iccluster.epfl.ch:8042/node/containerlogs/container_e06_1589299642358_2548_01_000001/ebouille\">Link</a></td><td></td></tr><tr><td>8030</td><td>application_1589299642358_2550</td><td>pyspark</td><td>idle</td><td><a target=\"_blank\" href=\"http://iccluster044.iccluster.epfl.ch:8088/proxy/application_1589299642358_2550/\">Link</a></td><td><a target=\"_blank\" href=\"http://iccluster065.iccluster.epfl.ch:8042/node/containerlogs/container_e06_1589299642358_2550_01_000001/ebouille\">Link</a></td><td></td></tr><tr><td>8031</td><td>application_1589299642358_2551</td><td>pyspark</td><td>idle</td><td><a target=\"_blank\" href=\"http://iccluster044.iccluster.epfl.ch:8088/proxy/application_1589299642358_2551/\">Link</a></td><td><a target=\"_blank\" href=\"http://iccluster070.iccluster.epfl.ch:8042/node/containerlogs/container_e06_1589299642358_2551_01_000001/ebouille\">Link</a></td><td></td></tr><tr><td>8032</td><td>application_1589299642358_2552</td><td>pyspark</td><td>idle</td><td><a target=\"_blank\" href=\"http://iccluster044.iccluster.epfl.ch:8088/proxy/application_1589299642358_2552/\">Link</a></td><td><a target=\"_blank\" href=\"http://iccluster071.iccluster.epfl.ch:8042/node/containerlogs/container_e06_1589299642358_2552_01_000001/ebouille\">Link</a></td><td></td></tr><tr><td>8033</td><td>application_1589299642358_2553</td><td>pyspark</td><td>idle</td><td><a target=\"_blank\" href=\"http://iccluster044.iccluster.epfl.ch:8088/proxy/application_1589299642358_2553/\">Link</a></td><td><a target=\"_blank\" href=\"http://iccluster067.iccluster.epfl.ch:8042/node/containerlogs/container_e06_1589299642358_2553_01_000001/ebouille\">Link</a></td><td></td></tr><tr><td>8035</td><td>application_1589299642358_2555</td><td>pyspark</td><td>busy</td><td><a target=\"_blank\" href=\"http://iccluster044.iccluster.epfl.ch:8088/proxy/application_1589299642358_2555/\">Link</a></td><td><a target=\"_blank\" href=\"http://iccluster072.iccluster.epfl.ch:8042/node/containerlogs/container_e06_1589299642358_2555_01_000001/ebouille\">Link</a></td><td></td></tr><tr><td>8036</td><td>application_1589299642358_2556</td><td>pyspark</td><td>idle</td><td><a target=\"_blank\" href=\"http://iccluster044.iccluster.epfl.ch:8088/proxy/application_1589299642358_2556/\">Link</a></td><td><a target=\"_blank\" href=\"http://iccluster072.iccluster.epfl.ch:8042/node/containerlogs/container_e06_1589299642358_2556_01_000001/ebouille\">Link</a></td><td></td></tr><tr><td>8037</td><td>application_1589299642358_2557</td><td>pyspark</td><td>busy</td><td><a target=\"_blank\" href=\"http://iccluster044.iccluster.epfl.ch:8088/proxy/application_1589299642358_2557/\">Link</a></td><td><a target=\"_blank\" href=\"http://iccluster069.iccluster.epfl.ch:8042/node/containerlogs/container_e06_1589299642358_2557_01_000001/ebouille\">Link</a></td><td></td></tr><tr><td>8038</td><td>application_1589299642358_2558</td><td>pyspark</td><td>idle</td><td><a target=\"_blank\" href=\"http://iccluster044.iccluster.epfl.ch:8088/proxy/application_1589299642358_2558/\">Link</a></td><td><a target=\"_blank\" href=\"http://iccluster072.iccluster.epfl.ch:8042/node/containerlogs/container_e06_1589299642358_2558_01_000001/ebouille\">Link</a></td><td></td></tr><tr><td>8039</td><td>application_1589299642358_2559</td><td>pyspark</td><td>idle</td><td><a target=\"_blank\" href=\"http://iccluster044.iccluster.epfl.ch:8088/proxy/application_1589299642358_2559/\">Link</a></td><td><a target=\"_blank\" href=\"http://iccluster072.iccluster.epfl.ch:8042/node/containerlogs/container_e06_1589299642358_2559_01_000001/ebouille\">Link</a></td><td></td></tr><tr><td>8040</td><td>application_1589299642358_2560</td><td>pyspark</td><td>idle</td><td><a target=\"_blank\" href=\"http://iccluster044.iccluster.epfl.ch:8088/proxy/application_1589299642358_2560/\">Link</a></td><td><a target=\"_blank\" href=\"http://iccluster067.iccluster.epfl.ch:8042/node/containerlogs/container_e06_1589299642358_2560_01_000001/ebouille\">Link</a></td><td></td></tr></table>"
      ],
      "text/plain": [
       "<IPython.core.display.HTML object>"
      ]
     },
     "metadata": {},
     "output_type": "display_data"
    }
   ],
   "source": [
    "%%configure\n",
    "{\"conf\": {\n",
    "    \"spark.app.name\": \"dslab-group_final\"\n",
    "}}"
   ]
  },
  {
   "cell_type": "code",
   "execution_count": 2,
   "metadata": {},
   "outputs": [],
   "source": [
    "%%local\n",
    "import ipywidgets as widgets\n",
    "import pandas as pd\n",
    "import fuzzy_pandas as fpd"
   ]
  },
  {
   "cell_type": "code",
   "execution_count": 3,
   "metadata": {},
   "outputs": [],
   "source": [
    "%%local\n",
    "import os\n",
    "username = os.environ['JUPYTERHUB_USER']"
   ]
  },
  {
   "cell_type": "code",
   "execution_count": null,
   "metadata": {},
   "outputs": [
    {
     "name": "stdout",
     "output_type": "stream",
     "text": [
      "Starting Spark application\n"
     ]
    }
   ],
   "source": [
    "%%send_to_spark -i username -t str -n username"
   ]
  },
  {
   "cell_type": "code",
   "execution_count": null,
   "metadata": {},
   "outputs": [],
   "source": [
    "stops_zurich = spark.read.format('orc').load(\"/user/{}/nodes.orc\".format(username))\\\n",
    "                                        .select('stop_name').distinct()"
   ]
  },
  {
   "cell_type": "code",
   "execution_count": null,
   "metadata": {},
   "outputs": [],
   "source": [
    "%%spark -o stops_zurich"
   ]
  },
  {
   "cell_type": "code",
   "execution_count": null,
   "metadata": {},
   "outputs": [],
   "source": [
    "%%local\n",
    "widgets.IntSlider(\n",
    "    min=0,\n",
    "    max=10,\n",
    "    step=1,\n",
    "    description='Slider:',\n",
    "    value=3\n",
    ")"
   ]
  },
  {
   "cell_type": "code",
   "execution_count": null,
   "metadata": {},
   "outputs": [],
   "source": [
    "%%local\n",
    "widgets.ToggleButtons(\n",
    "    options=['Slow', 'Regular', 'Fast'],\n",
    "    description='Speed:',\n",
    "    disabled=False,\n",
    "    button_style='', # 'success', 'info', 'warning', 'danger' or ''\n",
    "    tooltips=['Description of slow', 'Description of regular', 'Description of fast'],\n",
    "#     icons=['check'] * 3\n",
    ")"
   ]
  },
  {
   "cell_type": "code",
   "execution_count": null,
   "metadata": {},
   "outputs": [],
   "source": [
    "%%local\n",
    "widgets.DatePicker(\n",
    "    description='Pick a Date',\n",
    "    disabled=False\n",
    ")"
   ]
  },
  {
   "cell_type": "code",
   "execution_count": null,
   "metadata": {},
   "outputs": [],
   "source": [
    "%%local\n",
    "widgets.Button(\n",
    "    description='Click me',\n",
    "    disabled=False,\n",
    "    button_style='', # 'success', 'info', 'warning', 'danger' or ''\n",
    "    tooltip='Click me',\n",
    "    icon='check' # (FontAwesome names without the `fa-` prefix)\n",
    ")"
   ]
  },
  {
   "cell_type": "code",
   "execution_count": null,
   "metadata": {},
   "outputs": [],
   "source": []
  },
  {
   "cell_type": "code",
   "execution_count": null,
   "metadata": {},
   "outputs": [],
   "source": [
    "%%local\n",
    "search_text = widgets.Text(description = 'Search') \n",
    "search_result = widgets.Select(description = 'Select table')\n",
    "\n",
    "def search_action(sender):\n",
    "    phrase = search_text.value\n",
    "    search_result.options=['Test', phrase]\n",
    "        \n",
    "search_text.observe(search_action)"
   ]
  },
  {
   "cell_type": "code",
   "execution_count": null,
   "metadata": {},
   "outputs": [],
   "source": [
    "%%local\n",
    "search_text"
   ]
  },
  {
   "cell_type": "code",
   "execution_count": null,
   "metadata": {},
   "outputs": [],
   "source": [
    "%%local\n",
    "search_result"
   ]
  },
  {
   "cell_type": "code",
   "execution_count": null,
   "metadata": {},
   "outputs": [],
   "source": []
  },
  {
   "cell_type": "code",
   "execution_count": null,
   "metadata": {},
   "outputs": [],
   "source": [
    "%%local\n",
    "test = pd.DataFrame(['lau'], columns=['station'])\n",
    "\n",
    "print(test)\n",
    "\n",
    "findings = fpd.fuzzy_merge(test, stops_zurich, left_on='station', right_on='stop_name',\n",
    "               ignore_case=True, ignore_nonalpha=True, ignore_nonlatin=True, keep='match', threshold=0.9, method='jaro')\n",
    "findings['stop_name'].to_list()"
   ]
  },
  {
   "cell_type": "code",
   "execution_count": null,
   "metadata": {},
   "outputs": [],
   "source": [
    "%%local\n",
    "def search_station(station):\n",
    "    search = pd.DataFrame([station], columns=['station'])\n",
    "    matches = fpd.fuzzy_merge(search, stops_zurich, left_on='station', right_on='stop_name',\n",
    "                              ignore_case=True, ignore_nonalpha=True, ignore_nonlatin=True, ignore_order_words=True,\n",
    "                              keep='match', threshold=0.8, method='jaro')\n",
    "    return matches['stop_name'].to_list()"
   ]
  },
  {
   "cell_type": "code",
   "execution_count": null,
   "metadata": {},
   "outputs": [],
   "source": [
    "%%local\n",
    "def search_station_departure(sender):\n",
    "    phrase = depart_station.value\n",
    "    depart_proposals.options = search_station(phrase)"
   ]
  },
  {
   "cell_type": "code",
   "execution_count": null,
   "metadata": {},
   "outputs": [],
   "source": [
    "%%local\n",
    "def search_station_arrival(sender):\n",
    "    phrase = arrive_station.value\n",
    "    arrive_proposals.options = search_station(phrase)"
   ]
  },
  {
   "cell_type": "code",
   "execution_count": null,
   "metadata": {},
   "outputs": [],
   "source": [
    "    if(sender['name'] == 'label' and sender['old'] != None):\n",
    "        print('#### VALUE CHANGED ####')\n",
    "        print(sender.keys())\n",
    "        print()\n",
    "        print()\n",
    "        print(\"name\")\n",
    "        print(sender['name'])\n",
    "        print()\n",
    "        print()\n",
    "        print(\"old\")\n",
    "        print(sender['old'])\n",
    "        print()\n",
    "        print()\n",
    "        print(\"new\")\n",
    "        print(sender['new'])\n",
    "        print()\n",
    "        print()\n",
    "        print(\"owner\")\n",
    "        print(sender['owner'])\n",
    "        print()\n",
    "        print()\n",
    "        print(\"type\")\n",
    "        print(sender['type'])\n",
    "        print('#### END VALUE CHANGED ####')\n",
    "        print()\n",
    "        print()\n",
    "        print()\n",
    "        print()\n",
    "        print()"
   ]
  },
  {
   "cell_type": "code",
   "execution_count": null,
   "metadata": {},
   "outputs": [],
   "source": [
    "%%local\n",
    "no_station_selected = \"None selected\""
   ]
  },
  {
   "cell_type": "code",
   "execution_count": null,
   "metadata": {},
   "outputs": [],
   "source": [
    "%%local\n",
    "def select_station_departure(sender):\n",
    "    if(sender['name'] == 'label'):\n",
    "        if(sender['new'] == None):\n",
    "            selected_depart_station.value = no_station_selected\n",
    "        else:\n",
    "            selected_depart_station.value = sender['new']"
   ]
  },
  {
   "cell_type": "code",
   "execution_count": null,
   "metadata": {},
   "outputs": [],
   "source": [
    "%%local\n",
    "def select_station_arrival(sender):\n",
    "    if(sender['name'] == 'label'):\n",
    "        if(sender['new'] == None):\n",
    "            selected_arrival_station.value = no_station_selected\n",
    "        else:\n",
    "            selected_arrival_station.value = sender['new']"
   ]
  },
  {
   "cell_type": "code",
   "execution_count": null,
   "metadata": {},
   "outputs": [],
   "source": [
    "%%local\n",
    "def find_route_button(button):\n",
    "    depart_station = selected_depart_station.value\n",
    "    if depart_station == no_station_selected:\n",
    "        report_error(\"No departure station selected\")\n",
    "        return\n",
    "    \n",
    "    arrive_station = selected_arrival_station.value\n",
    "    if arrive_station == no_station_selected:\n",
    "        report_error(\"No arrival station selected\")\n",
    "        return\n",
    "    \n",
    "    date = date_picker.value\n",
    "    if(date != None)\n",
    "        report_error(\"No date selected\")\n",
    "        return\n",
    "    \n",
    "    if(date.weekday() > 4)\n",
    "        report_error(\"Date is a weekend day, please select a week day\")\n",
    "        return\n",
    "    \n",
    "    hour_str = hour_picker.value.split(':')\n",
    "    hour = -1\n",
    "    minute = -1\n",
    "    \n",
    "    try:\n",
    "        if(len(hour_str) != 2):\n",
    "            raise Error\n",
    "        hour = int(hour_str[0])\n",
    "        minute = int(hour_str[1])\n",
    "        \n",
    "        if(hour not in range(8,21)):\n",
    "            raise Error\n",
    "            \n",
    "        if(minute not in range(0,60)):\n",
    "            raise Error\n",
    "        \n",
    "    except:\n",
    "        report_error(\"Invalid hour format, use HH:MM\")\n",
    "        return"
   ]
  },
  {
   "cell_type": "code",
   "execution_count": null,
   "metadata": {},
   "outputs": [],
   "source": [
    "%%local\n",
    "def report_error(error_message):\n",
    "     error.value = \"<b style='color:red;'>Error: \" + error_message  + \"</b>\""
   ]
  },
  {
   "cell_type": "code",
   "execution_count": null,
   "metadata": {},
   "outputs": [],
   "source": [
    "%%local\n",
    "style = {'description_width': 'initial'}\n",
    "\n",
    "# Search station\n",
    "depart_station = widgets.Text(description = 'Search departure station',\n",
    "                              layout=widgets.Layout(width='40%'),\n",
    "                              style=style)\n",
    "depart_station.observe(search_station_departure)\n",
    "arrive_station = widgets.Text(description = 'Search arrival station',\n",
    "                              layout=widgets.Layout(width='40%'),\n",
    "                              style=style)\n",
    "arrive_station.observe(search_station_arrival)\n",
    "\n",
    "\n",
    "# Proposals\n",
    "depart_proposals = widgets.Select(description = 'Found stations',\n",
    "                                  layout=widgets.Layout(width='40%', height='200px'),\n",
    "                                  style=style)\n",
    "depart_proposals.observe(select_station_departure)\n",
    "arrive_proposals = widgets.Select(description = 'Found stations',\n",
    "                                  layout=widgets.Layout(width='40%', height='200px'),\n",
    "                                  style=style)\n",
    "arrive_proposals.observe(select_station_arrival)\n",
    "\n",
    "\n",
    "# Stations\n",
    "selected_depart_station = widgets.Label(value = no_station_selected, style=style)\n",
    "selected_box_depart_station = widgets.HBox([widgets.Label(value = \"Selected depart station: \", style=style),\n",
    "                                             selected_depart_station], layout=widgets.Layout(width='40%'))\n",
    "selected_arrival_station = widgets.Label(value = no_station_selected, style=style)\n",
    "selected_box_arrival_station = widgets.HBox([widgets.Label(value = \"Selected arrival station: \", style=style),\n",
    "                                             selected_arrival_station], layout=widgets.Layout(width='40%'))\n",
    "\n",
    "\n",
    "\n",
    "# Options\n",
    "date_picker = widgets.DatePicker(\n",
    "                    description='Pick a Date',\n",
    "                    disabled=False,\n",
    "                    layout=widgets.Layout(width='20%')\n",
    "                )\n",
    "hour_picker = widgets.Text(description = 'Arrival hour',\n",
    "                            placeholder='HH:MM',\n",
    "                            layout=widgets.Layout(width='20%'),\n",
    "                            style=style\n",
    "                          )\n",
    "confidence_picker = widgets.IntSlider(\n",
    "            value=90,\n",
    "            min=0,\n",
    "            max=99,\n",
    "            step=1,\n",
    "            description='Confidence:',\n",
    "            disabled=False,\n",
    "            continuous_update=False,\n",
    "            orientation='horizontal',\n",
    "            readout=True,\n",
    "            readout_format='d',\n",
    "            layout=widgets.Layout(width='25%'),\n",
    "            style=style\n",
    "        )\n",
    "search_button = widgets.Button(\n",
    "            description='Find route',\n",
    "            disabled=False,\n",
    "            button_style='', # 'success', 'info', 'warning', 'danger' or ''\n",
    "            tooltip='Find route',\n",
    "            icon='check', # (FontAwesome names without the `fa-` prefix)\n",
    "            layout=widgets.Layout(width='15%')\n",
    "        )\n",
    "search_button.on_click(find_route_button)\n",
    "\n",
    "\n",
    "# Error\n",
    "error = widgets.HTML(value=\"\")"
   ]
  },
  {
   "cell_type": "code",
   "execution_count": null,
   "metadata": {},
   "outputs": [],
   "source": [
    "%%local\n",
    "stations = widgets.HBox([depart_station, arrive_station])\n",
    "proposals = widgets.HBox([depart_proposals, arrive_proposals])\n",
    "selected_stations = widgets.HBox([selected_box_depart_station, selected_box_arrival_station])\n",
    "options = widgets.HBox([date_picker, hour_picker, confidence_picker, search_button])\n",
    "layout = widgets.VBox([stations, proposals, selected_stations, options, error])"
   ]
  },
  {
   "cell_type": "code",
   "execution_count": null,
   "metadata": {},
   "outputs": [],
   "source": [
    "%%local\n",
    "layout"
   ]
  },
  {
   "cell_type": "code",
   "execution_count": null,
   "metadata": {},
   "outputs": [],
   "source": [
    "%%local\n",
    "report_error(\"Test\")"
   ]
  },
  {
   "cell_type": "code",
   "execution_count": null,
   "metadata": {},
   "outputs": [],
   "source": [
    "%%local\n",
    "date_picker.value.weekday()"
   ]
  },
  {
   "cell_type": "code",
   "execution_count": null,
   "metadata": {},
   "outputs": [],
   "source": [
    "%%local\n",
    "date_picker.value"
   ]
  },
  {
   "cell_type": "code",
   "execution_count": null,
   "metadata": {},
   "outputs": [],
   "source": []
  },
  {
   "cell_type": "code",
   "execution_count": null,
   "metadata": {},
   "outputs": [],
   "source": []
  },
  {
   "cell_type": "code",
   "execution_count": null,
   "metadata": {},
   "outputs": [],
   "source": []
  }
 ],
 "metadata": {
  "kernelspec": {
   "display_name": "PySpark",
   "language": "",
   "name": "pysparkkernel"
  },
  "language_info": {
   "codemirror_mode": {
    "name": "python",
    "version": 3
   },
   "mimetype": "text/x-python",
   "name": "pyspark",
   "pygments_lexer": "python3"
  }
 },
 "nbformat": 4,
 "nbformat_minor": 4
}
