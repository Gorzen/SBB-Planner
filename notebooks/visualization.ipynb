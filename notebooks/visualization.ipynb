{
 "cells": [
  {
   "cell_type": "markdown",
   "metadata": {},
   "source": [
    "# Statisctical information, mean and std : \n",
    "\n",
    "This notebook computes the mean, std for the arrival time for each train_type, hour and station. Note, this notebook takes approximately 20 minutes to run.  "
   ]
  },
  {
   "cell_type": "markdown",
   "metadata": {},
   "source": [
    "### Set up spark:"
   ]
  },
  {
   "cell_type": "code",
   "execution_count": 1,
   "metadata": {},
   "outputs": [
    {
     "data": {
      "text/html": [
       "Current session configs: <tt>{'conf': {'spark.app.name': 'dslab-group_final'}, 'kind': 'pyspark'}</tt><br>"
      ],
      "text/plain": [
       "<IPython.core.display.HTML object>"
      ]
     },
     "metadata": {},
     "output_type": "display_data"
    },
    {
     "data": {
      "text/html": [
       "<table>\n",
       "<tr><th>ID</th><th>YARN Application ID</th><th>Kind</th><th>State</th><th>Spark UI</th><th>Driver log</th><th>Current session?</th></tr><tr><td>8403</td><td>application_1589299642358_2935</td><td>pyspark</td><td>idle</td><td><a target=\"_blank\" href=\"http://iccluster044.iccluster.epfl.ch:8088/proxy/application_1589299642358_2935/\">Link</a></td><td><a target=\"_blank\" href=\"http://iccluster066.iccluster.epfl.ch:8042/node/containerlogs/container_e06_1589299642358_2935_01_000001/ebouille\">Link</a></td><td></td></tr><tr><td>8420</td><td>application_1589299642358_2952</td><td>pyspark</td><td>idle</td><td><a target=\"_blank\" href=\"http://iccluster044.iccluster.epfl.ch:8088/proxy/application_1589299642358_2952/\">Link</a></td><td><a target=\"_blank\" href=\"http://iccluster070.iccluster.epfl.ch:8042/node/containerlogs/container_e06_1589299642358_2952_01_000001/ebouille\">Link</a></td><td></td></tr><tr><td>8424</td><td>application_1589299642358_2956</td><td>pyspark</td><td>idle</td><td><a target=\"_blank\" href=\"http://iccluster044.iccluster.epfl.ch:8088/proxy/application_1589299642358_2956/\">Link</a></td><td><a target=\"_blank\" href=\"http://iccluster071.iccluster.epfl.ch:8042/node/containerlogs/container_e06_1589299642358_2956_01_000001/ebouille\">Link</a></td><td></td></tr><tr><td>8437</td><td>application_1589299642358_2969</td><td>pyspark</td><td>idle</td><td><a target=\"_blank\" href=\"http://iccluster044.iccluster.epfl.ch:8088/proxy/application_1589299642358_2969/\">Link</a></td><td><a target=\"_blank\" href=\"http://iccluster068.iccluster.epfl.ch:8042/node/containerlogs/container_e06_1589299642358_2969_01_000001/ebouille\">Link</a></td><td></td></tr><tr><td>8439</td><td>application_1589299642358_2971</td><td>pyspark</td><td>idle</td><td><a target=\"_blank\" href=\"http://iccluster044.iccluster.epfl.ch:8088/proxy/application_1589299642358_2971/\">Link</a></td><td><a target=\"_blank\" href=\"http://iccluster065.iccluster.epfl.ch:8042/node/containerlogs/container_e06_1589299642358_2971_01_000001/ebouille\">Link</a></td><td></td></tr><tr><td>8454</td><td>application_1589299642358_2986</td><td>pyspark</td><td>idle</td><td><a target=\"_blank\" href=\"http://iccluster044.iccluster.epfl.ch:8088/proxy/application_1589299642358_2986/\">Link</a></td><td><a target=\"_blank\" href=\"http://iccluster067.iccluster.epfl.ch:8042/node/containerlogs/container_e06_1589299642358_2986_01_000001/ebouille\">Link</a></td><td></td></tr><tr><td>8455</td><td>application_1589299642358_2987</td><td>pyspark</td><td>idle</td><td><a target=\"_blank\" href=\"http://iccluster044.iccluster.epfl.ch:8088/proxy/application_1589299642358_2987/\">Link</a></td><td><a target=\"_blank\" href=\"http://iccluster065.iccluster.epfl.ch:8042/node/containerlogs/container_e06_1589299642358_2987_01_000001/ebouille\">Link</a></td><td></td></tr><tr><td>8456</td><td>application_1589299642358_2988</td><td>pyspark</td><td>idle</td><td><a target=\"_blank\" href=\"http://iccluster044.iccluster.epfl.ch:8088/proxy/application_1589299642358_2988/\">Link</a></td><td><a target=\"_blank\" href=\"http://iccluster072.iccluster.epfl.ch:8042/node/containerlogs/container_e06_1589299642358_2988_01_000001/ebouille\">Link</a></td><td></td></tr><tr><td>8457</td><td>application_1589299642358_2989</td><td>pyspark</td><td>busy</td><td><a target=\"_blank\" href=\"http://iccluster044.iccluster.epfl.ch:8088/proxy/application_1589299642358_2989/\">Link</a></td><td><a target=\"_blank\" href=\"http://iccluster069.iccluster.epfl.ch:8042/node/containerlogs/container_e06_1589299642358_2989_01_000001/ebouille\">Link</a></td><td></td></tr><tr><td>8458</td><td>application_1589299642358_2991</td><td>pyspark</td><td>idle</td><td><a target=\"_blank\" href=\"http://iccluster044.iccluster.epfl.ch:8088/proxy/application_1589299642358_2991/\">Link</a></td><td><a target=\"_blank\" href=\"http://iccluster070.iccluster.epfl.ch:8042/node/containerlogs/container_e06_1589299642358_2991_01_000001/ebouille\">Link</a></td><td></td></tr><tr><td>8459</td><td>application_1589299642358_2992</td><td>pyspark</td><td>idle</td><td><a target=\"_blank\" href=\"http://iccluster044.iccluster.epfl.ch:8088/proxy/application_1589299642358_2992/\">Link</a></td><td><a target=\"_blank\" href=\"http://iccluster066.iccluster.epfl.ch:8042/node/containerlogs/container_e06_1589299642358_2992_01_000001/ebouille\">Link</a></td><td></td></tr><tr><td>8460</td><td>application_1589299642358_2995</td><td>pyspark</td><td>idle</td><td><a target=\"_blank\" href=\"http://iccluster044.iccluster.epfl.ch:8088/proxy/application_1589299642358_2995/\">Link</a></td><td><a target=\"_blank\" href=\"http://iccluster071.iccluster.epfl.ch:8042/node/containerlogs/container_e06_1589299642358_2995_01_000001/ebouille\">Link</a></td><td></td></tr><tr><td>8463</td><td>application_1589299642358_2998</td><td>pyspark</td><td>idle</td><td><a target=\"_blank\" href=\"http://iccluster044.iccluster.epfl.ch:8088/proxy/application_1589299642358_2998/\">Link</a></td><td><a target=\"_blank\" href=\"http://iccluster070.iccluster.epfl.ch:8042/node/containerlogs/container_e06_1589299642358_2998_01_000001/ebouille\">Link</a></td><td></td></tr><tr><td>8465</td><td>application_1589299642358_3000</td><td>pyspark</td><td>idle</td><td><a target=\"_blank\" href=\"http://iccluster044.iccluster.epfl.ch:8088/proxy/application_1589299642358_3000/\">Link</a></td><td><a target=\"_blank\" href=\"http://iccluster069.iccluster.epfl.ch:8042/node/containerlogs/container_e06_1589299642358_3000_01_000001/ebouille\">Link</a></td><td></td></tr><tr><td>8467</td><td>application_1589299642358_3002</td><td>pyspark</td><td>idle</td><td><a target=\"_blank\" href=\"http://iccluster044.iccluster.epfl.ch:8088/proxy/application_1589299642358_3002/\">Link</a></td><td><a target=\"_blank\" href=\"http://iccluster072.iccluster.epfl.ch:8042/node/containerlogs/container_e06_1589299642358_3002_01_000001/ebouille\">Link</a></td><td></td></tr><tr><td>8469</td><td>application_1589299642358_3004</td><td>pyspark</td><td>idle</td><td><a target=\"_blank\" href=\"http://iccluster044.iccluster.epfl.ch:8088/proxy/application_1589299642358_3004/\">Link</a></td><td><a target=\"_blank\" href=\"http://iccluster072.iccluster.epfl.ch:8042/node/containerlogs/container_e06_1589299642358_3004_01_000001/ebouille\">Link</a></td><td></td></tr><tr><td>8470</td><td>application_1589299642358_3005</td><td>pyspark</td><td>idle</td><td><a target=\"_blank\" href=\"http://iccluster044.iccluster.epfl.ch:8088/proxy/application_1589299642358_3005/\">Link</a></td><td><a target=\"_blank\" href=\"http://iccluster072.iccluster.epfl.ch:8042/node/containerlogs/container_e06_1589299642358_3005_01_000001/ebouille\">Link</a></td><td></td></tr><tr><td>8471</td><td>application_1589299642358_3006</td><td>pyspark</td><td>idle</td><td><a target=\"_blank\" href=\"http://iccluster044.iccluster.epfl.ch:8088/proxy/application_1589299642358_3006/\">Link</a></td><td><a target=\"_blank\" href=\"http://iccluster071.iccluster.epfl.ch:8042/node/containerlogs/container_e06_1589299642358_3006_01_000001/ebouille\">Link</a></td><td></td></tr><tr><td>8473</td><td>application_1589299642358_3008</td><td>pyspark</td><td>busy</td><td><a target=\"_blank\" href=\"http://iccluster044.iccluster.epfl.ch:8088/proxy/application_1589299642358_3008/\">Link</a></td><td><a target=\"_blank\" href=\"http://iccluster071.iccluster.epfl.ch:8042/node/containerlogs/container_e06_1589299642358_3008_01_000001/ebouille\">Link</a></td><td></td></tr><tr><td>8476</td><td>application_1589299642358_3011</td><td>pyspark</td><td>idle</td><td><a target=\"_blank\" href=\"http://iccluster044.iccluster.epfl.ch:8088/proxy/application_1589299642358_3011/\">Link</a></td><td><a target=\"_blank\" href=\"http://iccluster069.iccluster.epfl.ch:8042/node/containerlogs/container_e06_1589299642358_3011_01_000001/ebouille\">Link</a></td><td></td></tr><tr><td>8477</td><td>application_1589299642358_3012</td><td>pyspark</td><td>idle</td><td><a target=\"_blank\" href=\"http://iccluster044.iccluster.epfl.ch:8088/proxy/application_1589299642358_3012/\">Link</a></td><td><a target=\"_blank\" href=\"http://iccluster068.iccluster.epfl.ch:8042/node/containerlogs/container_e06_1589299642358_3012_01_000001/ebouille\">Link</a></td><td></td></tr><tr><td>8478</td><td>application_1589299642358_3013</td><td>pyspark</td><td>idle</td><td><a target=\"_blank\" href=\"http://iccluster044.iccluster.epfl.ch:8088/proxy/application_1589299642358_3013/\">Link</a></td><td><a target=\"_blank\" href=\"http://iccluster065.iccluster.epfl.ch:8042/node/containerlogs/container_e06_1589299642358_3013_01_000001/ebouille\">Link</a></td><td></td></tr><tr><td>8480</td><td>application_1589299642358_3015</td><td>pyspark</td><td>idle</td><td><a target=\"_blank\" href=\"http://iccluster044.iccluster.epfl.ch:8088/proxy/application_1589299642358_3015/\">Link</a></td><td><a target=\"_blank\" href=\"http://iccluster069.iccluster.epfl.ch:8042/node/containerlogs/container_e06_1589299642358_3015_01_000001/ebouille\">Link</a></td><td></td></tr><tr><td>8481</td><td>application_1589299642358_3016</td><td>pyspark</td><td>idle</td><td><a target=\"_blank\" href=\"http://iccluster044.iccluster.epfl.ch:8088/proxy/application_1589299642358_3016/\">Link</a></td><td><a target=\"_blank\" href=\"http://iccluster071.iccluster.epfl.ch:8042/node/containerlogs/container_e06_1589299642358_3016_01_000001/ebouille\">Link</a></td><td></td></tr><tr><td>8482</td><td>application_1589299642358_3017</td><td>pyspark</td><td>busy</td><td><a target=\"_blank\" href=\"http://iccluster044.iccluster.epfl.ch:8088/proxy/application_1589299642358_3017/\">Link</a></td><td><a target=\"_blank\" href=\"http://iccluster067.iccluster.epfl.ch:8042/node/containerlogs/container_e06_1589299642358_3017_01_000001/ebouille\">Link</a></td><td></td></tr><tr><td>8483</td><td>application_1589299642358_3018</td><td>pyspark</td><td>idle</td><td><a target=\"_blank\" href=\"http://iccluster044.iccluster.epfl.ch:8088/proxy/application_1589299642358_3018/\">Link</a></td><td><a target=\"_blank\" href=\"http://iccluster066.iccluster.epfl.ch:8042/node/containerlogs/container_e06_1589299642358_3018_01_000001/ebouille\">Link</a></td><td></td></tr><tr><td>8484</td><td>application_1589299642358_3019</td><td>pyspark</td><td>idle</td><td><a target=\"_blank\" href=\"http://iccluster044.iccluster.epfl.ch:8088/proxy/application_1589299642358_3019/\">Link</a></td><td><a target=\"_blank\" href=\"http://iccluster071.iccluster.epfl.ch:8042/node/containerlogs/container_e06_1589299642358_3019_01_000001/ebouille\">Link</a></td><td></td></tr><tr><td>8486</td><td>application_1589299642358_3021</td><td>pyspark</td><td>idle</td><td><a target=\"_blank\" href=\"http://iccluster044.iccluster.epfl.ch:8088/proxy/application_1589299642358_3021/\">Link</a></td><td><a target=\"_blank\" href=\"http://iccluster067.iccluster.epfl.ch:8042/node/containerlogs/container_e06_1589299642358_3021_01_000001/ebouille\">Link</a></td><td></td></tr><tr><td>8487</td><td>application_1589299642358_3022</td><td>pyspark</td><td>idle</td><td><a target=\"_blank\" href=\"http://iccluster044.iccluster.epfl.ch:8088/proxy/application_1589299642358_3022/\">Link</a></td><td><a target=\"_blank\" href=\"http://iccluster068.iccluster.epfl.ch:8042/node/containerlogs/container_e06_1589299642358_3022_01_000001/ebouille\">Link</a></td><td></td></tr><tr><td>8489</td><td>application_1589299642358_3024</td><td>pyspark</td><td>idle</td><td><a target=\"_blank\" href=\"http://iccluster044.iccluster.epfl.ch:8088/proxy/application_1589299642358_3024/\">Link</a></td><td><a target=\"_blank\" href=\"http://iccluster067.iccluster.epfl.ch:8042/node/containerlogs/container_e06_1589299642358_3024_01_000001/ebouille\">Link</a></td><td></td></tr><tr><td>8490</td><td>application_1589299642358_3025</td><td>pyspark</td><td>idle</td><td><a target=\"_blank\" href=\"http://iccluster044.iccluster.epfl.ch:8088/proxy/application_1589299642358_3025/\">Link</a></td><td><a target=\"_blank\" href=\"http://iccluster065.iccluster.epfl.ch:8042/node/containerlogs/container_e06_1589299642358_3025_01_000001/ebouille\">Link</a></td><td></td></tr><tr><td>8491</td><td>application_1589299642358_3026</td><td>pyspark</td><td>idle</td><td><a target=\"_blank\" href=\"http://iccluster044.iccluster.epfl.ch:8088/proxy/application_1589299642358_3026/\">Link</a></td><td><a target=\"_blank\" href=\"http://iccluster065.iccluster.epfl.ch:8042/node/containerlogs/container_e06_1589299642358_3026_01_000001/ebouille\">Link</a></td><td></td></tr><tr><td>8492</td><td>None</td><td>pyspark</td><td>starting</td><td></td><td></td><td></td></tr></table>"
      ],
      "text/plain": [
       "<IPython.core.display.HTML object>"
      ]
     },
     "metadata": {},
     "output_type": "display_data"
    }
   ],
   "source": [
    "%%configure\n",
    "{\"conf\": {\n",
    "    \"spark.app.name\": \"dslab-group_final\"\n",
    "}}"
   ]
  },
  {
   "cell_type": "code",
   "execution_count": 2,
   "metadata": {},
   "outputs": [],
   "source": [
    "%%local\n",
    "import ipywidgets as widgets\n",
    "import pandas as pd\n",
    "import fuzzy_pandas as fpd\n",
    "import time"
   ]
  },
  {
   "cell_type": "code",
   "execution_count": 3,
   "metadata": {},
   "outputs": [],
   "source": [
    "%%local\n",
    "import time\n",
    "import os\n",
    "username = os.environ['JUPYTERHUB_USER']"
   ]
  },
  {
   "cell_type": "code",
   "execution_count": 4,
   "metadata": {},
   "outputs": [
    {
     "name": "stdout",
     "output_type": "stream",
     "text": [
      "Starting Spark application\n"
     ]
    },
    {
     "data": {
      "text/html": [
       "<table>\n",
       "<tr><th>ID</th><th>YARN Application ID</th><th>Kind</th><th>State</th><th>Spark UI</th><th>Driver log</th><th>Current session?</th></tr><tr><td>8493</td><td>application_1589299642358_3028</td><td>pyspark</td><td>idle</td><td><a target=\"_blank\" href=\"http://iccluster044.iccluster.epfl.ch:8088/proxy/application_1589299642358_3028/\">Link</a></td><td><a target=\"_blank\" href=\"http://iccluster065.iccluster.epfl.ch:8042/node/containerlogs/container_e06_1589299642358_3028_01_000001/ebouille\">Link</a></td><td>✔</td></tr></table>"
      ],
      "text/plain": [
       "<IPython.core.display.HTML object>"
      ]
     },
     "metadata": {},
     "output_type": "display_data"
    },
    {
     "data": {
      "application/vnd.jupyter.widget-view+json": {
       "model_id": "",
       "version_major": 2,
       "version_minor": 0
      },
      "text/plain": [
       "FloatProgress(value=0.0, bar_style='info', description='Progress:', layout=Layout(height='25px', width='50%'),…"
      ]
     },
     "metadata": {},
     "output_type": "display_data"
    },
    {
     "name": "stdout",
     "output_type": "stream",
     "text": [
      "SparkSession available as 'spark'.\n"
     ]
    },
    {
     "data": {
      "application/vnd.jupyter.widget-view+json": {
       "model_id": "",
       "version_major": 2,
       "version_minor": 0
      },
      "text/plain": [
       "FloatProgress(value=0.0, bar_style='info', description='Progress:', layout=Layout(height='25px', width='50%'),…"
      ]
     },
     "metadata": {},
     "output_type": "display_data"
    },
    {
     "name": "stdout",
     "output_type": "stream",
     "text": [
      "Successfully passed 'username' as 'username' to Spark kernel"
     ]
    }
   ],
   "source": [
    "%%send_to_spark -i username -t str -n username"
   ]
  },
  {
   "cell_type": "code",
   "execution_count": 5,
   "metadata": {},
   "outputs": [
    {
     "data": {
      "application/vnd.jupyter.widget-view+json": {
       "model_id": "",
       "version_major": 2,
       "version_minor": 0
      },
      "text/plain": [
       "FloatProgress(value=0.0, bar_style='info', description='Progress:', layout=Layout(height='25px', width='50%'),…"
      ]
     },
     "metadata": {},
     "output_type": "display_data"
    }
   ],
   "source": [
    "stops_zurich = spark.read.format('orc').load(\"/user/{}/nodes.orc\".format(username))\\\n",
    "                                        .select('stop_name').distinct()"
   ]
  },
  {
   "cell_type": "code",
   "execution_count": 6,
   "metadata": {},
   "outputs": [
    {
     "data": {
      "application/vnd.jupyter.widget-view+json": {
       "model_id": "",
       "version_major": 2,
       "version_minor": 0
      },
      "text/plain": [
       "FloatProgress(value=0.0, bar_style='info', description='Progress:', layout=Layout(height='25px', width='50%'),…"
      ]
     },
     "metadata": {},
     "output_type": "display_data"
    }
   ],
   "source": [
    "def dijkstra(start, end, date, hour, minute, confidence):\n",
    "    print(\"Ran on cluster !\")\n",
    "    print(\"From {} to {} on {} at {}:{} for confidence {}\".format(start, end, date, hour, minute, confidence))"
   ]
  },
  {
   "cell_type": "code",
   "execution_count": 7,
   "metadata": {},
   "outputs": [
    {
     "data": {
      "application/vnd.jupyter.widget-view+json": {
       "model_id": "",
       "version_major": 2,
       "version_minor": 0
      },
      "text/plain": [
       "FloatProgress(value=0.0, bar_style='info', description='Progress:', layout=Layout(height='25px', width='50%'),…"
      ]
     },
     "metadata": {},
     "output_type": "display_data"
    },
    {
     "data": {
      "application/vnd.jupyter.widget-view+json": {
       "model_id": "",
       "version_major": 2,
       "version_minor": 0
      },
      "text/plain": [
       "FloatProgress(value=0.0, bar_style='info', description='Progress:', layout=Layout(height='25px', width='50%'),…"
      ]
     },
     "metadata": {},
     "output_type": "display_data"
    }
   ],
   "source": [
    "%%spark -o stops_zurich"
   ]
  },
  {
   "cell_type": "code",
   "execution_count": 91,
   "metadata": {},
   "outputs": [],
   "source": [
    "%%local\n",
    "example_graph = [['Lausanne', 'Berne', {'duration': 100, 'time': 500}],\n",
    "                 ['Berne', 'Lucerne', {'duration': 200, 'time': 600}],\n",
    "                 ['Lucerne', 'Zürich', {'duration': 50, 'time': 800}]]"
   ]
  },
  {
   "cell_type": "code",
   "execution_count": 9,
   "metadata": {},
   "outputs": [],
   "source": [
    "%%local\n",
    "def search_station(station):\n",
    "    search = pd.DataFrame([station], columns=['station'])\n",
    "    matches = fpd.fuzzy_merge(search, stops_zurich, left_on='station', right_on='stop_name',\n",
    "                              ignore_case=True, ignore_nonalpha=True, ignore_nonlatin=True, ignore_order_words=True,\n",
    "                              keep='match', threshold=0.8, method='jaro')\n",
    "    return matches['stop_name'].to_list()"
   ]
  },
  {
   "cell_type": "code",
   "execution_count": 10,
   "metadata": {},
   "outputs": [],
   "source": [
    "%%local\n",
    "def search_station_departure(sender):\n",
    "    phrase = depart_station.value\n",
    "    depart_proposals.options = search_station(phrase)"
   ]
  },
  {
   "cell_type": "code",
   "execution_count": 11,
   "metadata": {},
   "outputs": [],
   "source": [
    "%%local\n",
    "def search_station_arrival(sender):\n",
    "    phrase = arrive_station.value\n",
    "    arrive_proposals.options = search_station(phrase)"
   ]
  },
  {
   "cell_type": "code",
   "execution_count": 12,
   "metadata": {},
   "outputs": [],
   "source": [
    "%%local\n",
    "no_station_selected = \"None selected\""
   ]
  },
  {
   "cell_type": "code",
   "execution_count": 13,
   "metadata": {},
   "outputs": [],
   "source": [
    "%%local\n",
    "def select_station_departure(sender):\n",
    "    if(sender['name'] == 'label'):\n",
    "        if(sender['new'] == None):\n",
    "            selected_depart_station.value = no_station_selected\n",
    "        else:\n",
    "            selected_depart_station.value = sender['new']"
   ]
  },
  {
   "cell_type": "code",
   "execution_count": 14,
   "metadata": {},
   "outputs": [],
   "source": [
    "%%local\n",
    "def select_station_arrival(sender):\n",
    "    if(sender['name'] == 'label'):\n",
    "        if(sender['new'] == None):\n",
    "            selected_arrival_station.value = no_station_selected\n",
    "        else:\n",
    "            selected_arrival_station.value = sender['new']"
   ]
  },
  {
   "cell_type": "code",
   "execution_count": 83,
   "metadata": {},
   "outputs": [],
   "source": [
    "%%local\n",
    "def find_route_button(button):\n",
    "    # Parse arguments\n",
    "    depart_station_str = selected_depart_station.value\n",
    "    if depart_station_str == no_station_selected:\n",
    "        report_error(\"No departure station selected\")\n",
    "        return\n",
    "    \n",
    "    arrive_station_str = selected_arrival_station.value\n",
    "    if arrive_station_str == no_station_selected:\n",
    "        report_error(\"No arrival station selected\")\n",
    "        return\n",
    "    \n",
    "    date = date_picker.value\n",
    "    if(date == None):\n",
    "        report_error(\"No date selected\")\n",
    "        return\n",
    "    \n",
    "    if(date.weekday() > 4):\n",
    "        report_error(\"Date is a weekend day, please select a week day\")\n",
    "        return\n",
    "    \n",
    "    hour_str = hour_picker.value\n",
    "    \n",
    "    if hour_str == None or hour_str == \"\":\n",
    "        report_error(\"No hour selected\")\n",
    "        return\n",
    "    \n",
    "    hour_str = hour_str.split(':')\n",
    "    hour = -1\n",
    "    minute = -1\n",
    "    \n",
    "    try:\n",
    "        if(len(hour_str) != 2):\n",
    "            raise Error\n",
    "        hour = int(hour_str[0])\n",
    "        minute = int(hour_str[1])        \n",
    "    except:\n",
    "        report_error(\"Invalid hour format, use HH:MM\")\n",
    "        return\n",
    "    \n",
    "    if(hour not in range(8,21)):\n",
    "        report_error(\"Invalid hour, valid range: [8,20]\")\n",
    "        return\n",
    "            \n",
    "    if(minute not in range(0,60)):\n",
    "        report_error(\"Invalid minute, valid range: [0,59]\")\n",
    "        return\n",
    "        \n",
    "    confidence = confidence_picker.value\n",
    "        \n",
    "    report_error(None)\n",
    "    \n",
    "    \n",
    "    # Show progress bar\n",
    "    results.children = []\n",
    "    progress_bar.layout = widgets.Layout(display='block')\n",
    "    \n",
    "    # Send variables to spark\n",
    "    # Convert to str for 'send_to_spark'\n",
    "    date_str = date.strftime(\"%Y-%m-%d\")\n",
    "    hour_str = str(hour)\n",
    "    minute_str = str(minute)\n",
    "    confidence_str = str(confidence)\n",
    "    get_ipython().push(['depart_station_str', 'arrive_station_str', 'date_str', 'hour_str', 'minute_str', 'confidence_str'])\n",
    "    get_ipython().run_cell_magic('send_to_spark', ' -i depart_station_str -t str -n depart_station_str', ' ')\n",
    "    get_ipython().run_cell_magic('send_to_spark', ' -i arrive_station_str -t str -n arrive_station_str', ' ')\n",
    "    get_ipython().run_cell_magic('send_to_spark', ' -i date_str -t str -n date_str', ' ')\n",
    "    get_ipython().run_cell_magic('send_to_spark', ' -i hour_str -t str -n hour_str', ' ')\n",
    "    get_ipython().run_cell_magic('send_to_spark', ' -i minute_str -t str -n minute_str', ' ')\n",
    "    get_ipython().run_cell_magic('send_to_spark', ' -i confidence_str -t str -n confidence_str', ' ')\n",
    "\n",
    "    # Run algorithm\n",
    "    get_ipython().run_cell_magic('spark', '', \"\"\"\n",
    "    result = dijkstra(depart_station_str, arrive_station_str, date_str, hour_str, minute_str, confidence_str)\n",
    "    \"\"\")\n",
    "    \n",
    "    # Retrive results from spark\n",
    "    \n",
    "    \n",
    "    path = example_graph # Change to actual path (run on cluster)\n",
    "    time.sleep(2)\n",
    "    \n",
    "    \n",
    "    # Display path\n",
    "    progress_bar.layout = widgets.Layout(display='none')\n",
    "    display_path(path)"
   ]
  },
  {
   "cell_type": "code",
   "execution_count": 84,
   "metadata": {},
   "outputs": [],
   "source": [
    "%%local\n",
    "def display_path(path):\n",
    "    stops = []\n",
    "    \n",
    "    for edge in path:\n",
    "        start = edge[0]\n",
    "        end = edge[1]\n",
    "        time = edge[2]['time']\n",
    "        duration = edge[2]['duration']\n",
    "        \n",
    "        stops.append(widgets.HTML(value=f\"t{time} {start} => t{time+duration} {end}\"))\n",
    "        \n",
    "    results.children = stops"
   ]
  },
  {
   "cell_type": "code",
   "execution_count": 85,
   "metadata": {},
   "outputs": [],
   "source": [
    "%%local\n",
    "def report_error(error_message):\n",
    "    if error_message == None:\n",
    "        error.value = \"\"\n",
    "    else:\n",
    "        error.value = \"<b style='color:red;'>Error: \" + error_message  + \"</b>\""
   ]
  },
  {
   "cell_type": "code",
   "execution_count": 86,
   "metadata": {},
   "outputs": [],
   "source": [
    "%%local\n",
    "style = {'description_width': 'initial'}\n",
    "\n",
    "# Search station\n",
    "depart_station = widgets.Text(description = 'Search departure station',\n",
    "                              layout=widgets.Layout(width='40%'),\n",
    "                              style=style)\n",
    "depart_station.observe(search_station_departure)\n",
    "arrive_station = widgets.Text(description = 'Search arrival station',\n",
    "                              layout=widgets.Layout(width='40%'),\n",
    "                              style=style)\n",
    "arrive_station.observe(search_station_arrival)\n",
    "\n",
    "\n",
    "# Proposals\n",
    "depart_proposals = widgets.Select(description = 'Found stations',\n",
    "                                  layout=widgets.Layout(width='40%', height='200px'),\n",
    "                                  style=style)\n",
    "depart_proposals.observe(select_station_departure)\n",
    "arrive_proposals = widgets.Select(description = 'Found stations',\n",
    "                                  layout=widgets.Layout(width='40%', height='200px'),\n",
    "                                  style=style)\n",
    "arrive_proposals.observe(select_station_arrival)\n",
    "\n",
    "\n",
    "# Stations\n",
    "selected_depart_station = widgets.Label(value = no_station_selected, style=style)\n",
    "selected_box_depart_station = widgets.HBox([widgets.Label(value = \"Selected depart station: \", style=style),\n",
    "                                             selected_depart_station], layout=widgets.Layout(width='40%'))\n",
    "selected_arrival_station = widgets.Label(value = no_station_selected, style=style)\n",
    "selected_box_arrival_station = widgets.HBox([widgets.Label(value = \"Selected arrival station: \", style=style),\n",
    "                                             selected_arrival_station], layout=widgets.Layout(width='40%'))\n",
    "\n",
    "\n",
    "\n",
    "# Options\n",
    "date_picker = widgets.DatePicker(\n",
    "                    description='Pick a Date',\n",
    "                    disabled=False,\n",
    "                    layout=widgets.Layout(width='20%')\n",
    "                )\n",
    "hour_picker = widgets.Text(description = 'Arrival time',\n",
    "                            placeholder='HH:MM',\n",
    "                            layout=widgets.Layout(width='20%'),\n",
    "                            style=style\n",
    "                          )\n",
    "confidence_picker = widgets.IntSlider(\n",
    "            value=90,\n",
    "            min=0,\n",
    "            max=99,\n",
    "            step=1,\n",
    "            description='Confidence:',\n",
    "            disabled=False,\n",
    "            continuous_update=False,\n",
    "            orientation='horizontal',\n",
    "            readout=True,\n",
    "            readout_format='d',\n",
    "            layout=widgets.Layout(width='25%'),\n",
    "            style=style\n",
    "        )\n",
    "search_button = widgets.Button(\n",
    "            description='Find route',\n",
    "            disabled=False,\n",
    "            button_style='', # 'success', 'info', 'warning', 'danger' or ''\n",
    "            tooltip='Find route',\n",
    "            icon='check', # (FontAwesome names without the `fa-` prefix)\n",
    "            layout=widgets.Layout(width='15%')\n",
    "        )\n",
    "search_button.on_click(find_route_button)\n",
    "\n",
    "\n",
    "# Error\n",
    "error = widgets.HTML(value=\"\")\n",
    "\n",
    "\n",
    "padding = widgets.HTML(value=\"\", layout=widgets.Layout(height='50px'))\n",
    "\n",
    "# Progress bar\n",
    "progress_bar = widgets.HTML(value=\"Finding best route...\", layout=widgets.Layout(display='none'))\n",
    "\n",
    "# Result\n",
    "results = widgets.VBox([])"
   ]
  },
  {
   "cell_type": "code",
   "execution_count": 87,
   "metadata": {},
   "outputs": [],
   "source": [
    "%%local\n",
    "stations = widgets.HBox([depart_station, arrive_station])\n",
    "proposals = widgets.HBox([depart_proposals, arrive_proposals])\n",
    "selected_stations = widgets.HBox([selected_box_depart_station, selected_box_arrival_station])\n",
    "options = widgets.HBox([date_picker, hour_picker, confidence_picker, search_button])\n",
    "layout = widgets.VBox([stations, proposals, selected_stations, options, error, padding, progress_bar, results])"
   ]
  },
  {
   "cell_type": "code",
   "execution_count": 88,
   "metadata": {},
   "outputs": [
    {
     "data": {
      "application/vnd.jupyter.widget-view+json": {
       "model_id": "",
       "version_major": 2,
       "version_minor": 0
      },
      "text/plain": [
       "VBox(children=(HBox(children=(Text(value='', description='Search departure station', layout=Layout(width='40%'…"
      ]
     },
     "metadata": {},
     "output_type": "display_data"
    }
   ],
   "source": [
    "%%local\n",
    "layout"
   ]
  },
  {
   "cell_type": "code",
   "execution_count": 89,
   "metadata": {},
   "outputs": [
    {
     "data": {
      "text/html": [
       "\n",
       "<table>\n",
       "  <tr>\n",
       "    <th>Magic</th>\n",
       "    <th>Example</th>\n",
       "    <th>Explanation</th>\n",
       "  </tr>\n",
       "  <tr>\n",
       "    <td>info</td>\n",
       "    <td>%%info</td>\n",
       "    <td>Outputs session information for the current Livy endpoint.</td>\n",
       "  </tr>\n",
       "  <tr>\n",
       "    <td>cleanup</td>\n",
       "    <td>%%cleanup -f</td>\n",
       "    <td>Deletes all sessions for the current Livy endpoint, including this notebook's session. The force flag is mandatory.</td>\n",
       "  </tr>\n",
       "  <tr>\n",
       "    <td>delete</td>\n",
       "    <td>%%delete -f -s 0</td>\n",
       "    <td>Deletes a session by number for the current Livy endpoint. Cannot delete this kernel's session.</td>\n",
       "  </tr>\n",
       "  <tr>\n",
       "    <td>logs</td>\n",
       "    <td>%%logs</td>\n",
       "    <td>Outputs the current session's Livy logs.</td>\n",
       "  </tr>\n",
       "  <tr>\n",
       "    <td>configure</td>\n",
       "    <td>%%configure -f<br/>{\"executorMemory\": \"1000M\", \"executorCores\": 4}</td>\n",
       "    <td>Configure the session creation parameters. The force flag is mandatory if a session has already been\n",
       "    created and the session will be dropped and recreated.<br/>Look at <a href=\"https://github.com/cloudera/livy#request-body\">\n",
       "    Livy's POST /sessions Request Body</a> for a list of valid parameters. Parameters must be passed in as a JSON string.</td>\n",
       "  </tr>\n",
       "  <tr>\n",
       "    <td>spark</td>\n",
       "    <td>%%spark -o df<br/>df = spark.read.parquet('...</td>\n",
       "    <td>Executes spark commands.\n",
       "    Parameters:\n",
       "      <ul>\n",
       "        <li>-o VAR_NAME: The Spark dataframe of name VAR_NAME will be available in the %%local Python context as a\n",
       "          <a href=\"http://pandas.pydata.org/\">Pandas</a> dataframe with the same name.</li>\n",
       "        <li>-m METHOD: Sample method, either <tt>take</tt> or <tt>sample</tt>.</li>\n",
       "        <li>-n MAXROWS: The maximum number of rows of a dataframe that will be pulled from Livy to Jupyter.\n",
       "            If this number is negative, then the number of rows will be unlimited.</li>\n",
       "        <li>-r FRACTION: Fraction used for sampling.</li>\n",
       "      </ul>\n",
       "    </td>\n",
       "  </tr>\n",
       "  <tr>\n",
       "    <td>sql</td>\n",
       "    <td>%%sql -o tables -q<br/>SHOW TABLES</td>\n",
       "    <td>Executes a SQL query against the variable sqlContext (Spark v1.x) or spark (Spark v2.x).\n",
       "    Parameters:\n",
       "      <ul>\n",
       "        <li>-o VAR_NAME: The result of the SQL query will be available in the %%local Python context as a\n",
       "          <a href=\"http://pandas.pydata.org/\">Pandas</a> dataframe.</li>\n",
       "        <li>-q: The magic will return None instead of the dataframe (no visualization).</li>\n",
       "        <li>-m, -n, -r are the same as the %%spark parameters above.</li>\n",
       "      </ul>\n",
       "    </td>\n",
       "  </tr>\n",
       "  <tr>\n",
       "    <td>local</td>\n",
       "    <td>%%local<br/>a = 1</td>\n",
       "    <td>All the code in subsequent lines will be executed locally. Code must be valid Python code.</td>\n",
       "  </tr>\n",
       "  <tr>\n",
       "    <td>send_to_spark</td>\n",
       "    <td>%%send_to_spark -o variable -t str -n var</td>\n",
       "    <td>Sends a variable from local output to spark cluster.\n",
       "    <br/>\n",
       "    Parameters:\n",
       "      <ul>\n",
       "        <li>-i VAR_NAME: Local Pandas DataFrame(or String) of name VAR_NAME will be available in the %%spark context as a \n",
       "          Spark dataframe(or String) with the same name.</li>\n",
       "        <li>-t TYPE: Specifies the type of variable passed as -i. Available options are:\n",
       "         `str` for string and `df` for Pandas DataFrame. Optional, defaults to `str`.</li>\n",
       "        <li>-n NAME: Custom name of variable passed as -i. Optional, defaults to -i variable name.</li>\n",
       "        <li>-m MAXROWS: Maximum amount of Pandas rows that will be sent to Spark. Defaults to 2500.</li>\n",
       "      </ul>\n",
       "    </td>\n",
       "  </tr>\n",
       "</table>\n"
      ],
      "text/plain": [
       "<IPython.core.display.HTML object>"
      ]
     },
     "metadata": {},
     "output_type": "display_data"
    }
   ],
   "source": [
    "%help"
   ]
  },
  {
   "cell_type": "code",
   "execution_count": 75,
   "metadata": {},
   "outputs": [],
   "source": [
    "%%local\n",
    "test3 = 2"
   ]
  },
  {
   "cell_type": "code",
   "execution_count": 76,
   "metadata": {},
   "outputs": [
    {
     "name": "stderr",
     "output_type": "stream",
     "text": [
      "An error was encountered:\n",
      "test3 is not a str or bytes! Got int instead\n"
     ]
    }
   ],
   "source": [
    "%%send_to_spark -i test3 -n test3"
   ]
  },
  {
   "cell_type": "code",
   "execution_count": 54,
   "metadata": {},
   "outputs": [],
   "source": [
    "%%local\n",
    "test2 = \"hello\""
   ]
  },
  {
   "cell_type": "code",
   "execution_count": 60,
   "metadata": {},
   "outputs": [
    {
     "data": {
      "application/vnd.jupyter.widget-view+json": {
       "model_id": "",
       "version_major": 2,
       "version_minor": 0
      },
      "text/plain": [
       "FloatProgress(value=0.0, bar_style='info', description='Progress:', layout=Layout(height='25px', width='50%'),…"
      ]
     },
     "metadata": {},
     "output_type": "display_data"
    },
    {
     "name": "stdout",
     "output_type": "stream",
     "text": [
      "Successfully passed 'test2' as 'test2' to Spark kernel"
     ]
    }
   ],
   "source": [
    "%%local\n",
    "get_ipython().run_cell_magic('send_to_spark', ' -i test2 -t str -n test2', ' ')"
   ]
  },
  {
   "cell_type": "code",
   "execution_count": 61,
   "metadata": {},
   "outputs": [
    {
     "data": {
      "application/vnd.jupyter.widget-view+json": {
       "model_id": "",
       "version_major": 2,
       "version_minor": 0
      },
      "text/plain": [
       "FloatProgress(value=0.0, bar_style='info', description='Progress:', layout=Layout(height='25px', width='50%'),…"
      ]
     },
     "metadata": {},
     "output_type": "display_data"
    },
    {
     "name": "stdout",
     "output_type": "stream",
     "text": [
      "'hello'"
     ]
    }
   ],
   "source": [
    "test2"
   ]
  },
  {
   "cell_type": "code",
   "execution_count": 62,
   "metadata": {},
   "outputs": [
    {
     "data": {
      "application/vnd.jupyter.widget-view+json": {
       "model_id": "",
       "version_major": 2,
       "version_minor": 0
      },
      "text/plain": [
       "FloatProgress(value=0.0, bar_style='info', description='Progress:', layout=Layout(height='25px', width='50%'),…"
      ]
     },
     "metadata": {},
     "output_type": "display_data"
    },
    {
     "name": "stdout",
     "output_type": "stream",
     "text": [
      "+--------------------+\n",
      "|           stop_name|\n",
      "+--------------------+\n",
      "|  Kloten, Kirchgasse|\n",
      "|Erlenbach ZH, Im ...|\n",
      "|Zürich Flughafen,...|\n",
      "|Rüschlikon, Weids...|\n",
      "|  Urdorf, Oberurdorf|\n",
      "|Wangen, Flugsiche...|\n",
      "|     Zürich, Althoos|\n",
      "|    Zürich, Klosbach|\n",
      "| Zürich, Oerlikerhus|\n",
      "| Zürich, Schauenberg|\n",
      "|Zürich, Schmiede ...|\n",
      "|Zürich, Stockerst...|\n",
      "|Zürich, Tunnelstr...|\n",
      "|          Maur (See)|\n",
      "|      Uitikon, Halde|\n",
      "|          Watt, Dorf|\n",
      "|  Zürich, EPI-Klinik|\n",
      "|             Zumikon|\n",
      "| Winkel am Zürichsee|\n",
      "|       Bisikon, Dorf|\n",
      "+--------------------+\n",
      "only showing top 20 rows"
     ]
    }
   ],
   "source": [
    "%%local\n",
    "get_ipython().run_cell_magic('spark', '', \"\"\"\n",
    "stops_zurich.show()\n",
    "\"\"\")"
   ]
  },
  {
   "cell_type": "code",
   "execution_count": null,
   "metadata": {},
   "outputs": [],
   "source": []
  }
 ],
 "metadata": {
  "kernelspec": {
   "display_name": "PySpark",
   "language": "",
   "name": "pysparkkernel"
  },
  "language_info": {
   "codemirror_mode": {
    "name": "python",
    "version": 3
   },
   "mimetype": "text/x-python",
   "name": "pyspark",
   "pygments_lexer": "python3"
  }
 },
 "nbformat": 4,
 "nbformat_minor": 4
}
