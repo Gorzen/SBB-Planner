{
 "cells": [
  {
   "cell_type": "code",
   "execution_count": 1,
   "metadata": {},
   "outputs": [
    {
     "data": {
      "text/html": [
       "Current session configs: <tt>{'conf': {'spark.app.name': 'dslab-group_final'}, 'kind': 'pyspark'}</tt><br>"
      ],
      "text/plain": [
       "<IPython.core.display.HTML object>"
      ]
     },
     "metadata": {},
     "output_type": "display_data"
    },
    {
     "data": {
      "text/html": [
       "<table>\n",
       "<tr><th>ID</th><th>YARN Application ID</th><th>Kind</th><th>State</th><th>Spark UI</th><th>Driver log</th><th>Current session?</th></tr><tr><td>6847</td><td>application_1589299642358_1344</td><td>pyspark</td><td>idle</td><td><a target=\"_blank\" href=\"http://iccluster044.iccluster.epfl.ch:8088/proxy/application_1589299642358_1344/\">Link</a></td><td><a target=\"_blank\" href=\"http://iccluster066.iccluster.epfl.ch:8042/node/containerlogs/container_e06_1589299642358_1344_01_000001/ebouille\">Link</a></td><td></td></tr><tr><td>6849</td><td>application_1589299642358_1346</td><td>pyspark</td><td>idle</td><td><a target=\"_blank\" href=\"http://iccluster044.iccluster.epfl.ch:8088/proxy/application_1589299642358_1346/\">Link</a></td><td><a target=\"_blank\" href=\"http://iccluster066.iccluster.epfl.ch:8042/node/containerlogs/container_e06_1589299642358_1346_01_000001/ebouille\">Link</a></td><td></td></tr><tr><td>6850</td><td>application_1589299642358_1347</td><td>pyspark</td><td>idle</td><td><a target=\"_blank\" href=\"http://iccluster044.iccluster.epfl.ch:8088/proxy/application_1589299642358_1347/\">Link</a></td><td><a target=\"_blank\" href=\"http://iccluster069.iccluster.epfl.ch:8042/node/containerlogs/container_e06_1589299642358_1347_01_000001/ebouille\">Link</a></td><td></td></tr><tr><td>6851</td><td>application_1589299642358_1348</td><td>pyspark</td><td>idle</td><td><a target=\"_blank\" href=\"http://iccluster044.iccluster.epfl.ch:8088/proxy/application_1589299642358_1348/\">Link</a></td><td><a target=\"_blank\" href=\"http://iccluster067.iccluster.epfl.ch:8042/node/containerlogs/container_e06_1589299642358_1348_01_000001/ebouille\">Link</a></td><td></td></tr></table>"
      ],
      "text/plain": [
       "<IPython.core.display.HTML object>"
      ]
     },
     "metadata": {},
     "output_type": "display_data"
    }
   ],
   "source": [
    "%%configure\n",
    "{\"conf\": {\n",
    "    \"spark.app.name\": \"dslab-group_final\"\n",
    "}}"
   ]
  },
  {
   "cell_type": "code",
   "execution_count": 26,
   "metadata": {},
   "outputs": [
    {
     "data": {
      "application/vnd.jupyter.widget-view+json": {
       "model_id": "",
       "version_major": 2,
       "version_minor": 0
      },
      "text/plain": [
       "FloatProgress(value=0.0, bar_style='info', description='Progress:', layout=Layout(height='25px', width='50%'),…"
      ]
     },
     "metadata": {},
     "output_type": "display_data"
    }
   ],
   "source": [
    "from pyspark.sql.functions import col, udf, lit\n",
    "from pyspark.sql.types import IntegerType"
   ]
  },
  {
   "cell_type": "code",
   "execution_count": 3,
   "metadata": {},
   "outputs": [],
   "source": [
    "%%local\n",
    "import os\n",
    "username = os.environ['JUPYTERHUB_USER']"
   ]
  },
  {
   "cell_type": "code",
   "execution_count": 4,
   "metadata": {},
   "outputs": [
    {
     "data": {
      "application/vnd.jupyter.widget-view+json": {
       "model_id": "",
       "version_major": 2,
       "version_minor": 0
      },
      "text/plain": [
       "FloatProgress(value=0.0, bar_style='info', description='Progress:', layout=Layout(height='25px', width='50%'),…"
      ]
     },
     "metadata": {},
     "output_type": "display_data"
    },
    {
     "name": "stdout",
     "output_type": "stream",
     "text": [
      "Successfully passed 'username' as 'username' to Spark kernel"
     ]
    }
   ],
   "source": [
    "%%send_to_spark -i username -t str -n username"
   ]
  },
  {
   "cell_type": "code",
   "execution_count": 14,
   "metadata": {},
   "outputs": [
    {
     "data": {
      "application/vnd.jupyter.widget-view+json": {
       "model_id": "",
       "version_major": 2,
       "version_minor": 0
      },
      "text/plain": [
       "FloatProgress(value=0.0, bar_style='info', description='Progress:', layout=Layout(height='25px', width='50%'),…"
      ]
     },
     "metadata": {},
     "output_type": "display_data"
    },
    {
     "name": "stdout",
     "output_type": "stream",
     "text": [
      "+--------------------+----------+-------+------------+--------------+------------+-------------+\n",
      "|             trip_id|route_desc|stop_id|arrival_time|departure_time|   next_stop|trip_duration|\n",
      "+--------------------+----------+-------+------------+--------------+------------+-------------+\n",
      "|256.TA.26-10-B-j1...|    S-Bahn|8503090|         804|           804|8503088:0:22|          3.0|\n",
      "|256.TA.26-10-B-j1...|    S-Bahn|8503051|         801|           802|     8503090|          2.0|\n",
      "|256.TA.26-10-B-j1...|    S-Bahn|8503052|         800|           800|     8503051|          1.0|\n",
      "|256.TA.26-10-B-j1...|    S-Bahn|8503053|         799|           799|     8503052|          1.0|\n",
      "|256.TA.26-10-B-j1...|    S-Bahn|8503054|         797|           797|     8503053|          2.0|\n",
      "|256.TA.26-10-B-j1...|    S-Bahn|8503055|         792|           793|     8503054|          4.0|\n",
      "|256.TA.26-10-B-j1...|    S-Bahn|8503056|         790|           790|     8503055|          2.0|\n",
      "|256.TA.26-10-B-j1...|    S-Bahn|8503057|         785|           785|     8503056|          5.0|\n",
      "|27.TA.26-4-B-j19-...|    S-Bahn|8503090|         928|           928|8503088:0:21|          3.0|\n",
      "|27.TA.26-4-B-j19-...|    S-Bahn|8503091|         926|           926|     8503090|          2.0|\n",
      "|27.TA.26-4-B-j19-...|    S-Bahn|8503087|         924|           924|     8503091|          2.0|\n",
      "|27.TA.26-4-B-j19-...|    S-Bahn|8503086|         922|           922|     8503087|          2.0|\n",
      "|27.TA.26-4-B-j19-...|    S-Bahn|8503093|         920|           920|     8503086|          2.0|\n",
      "|27.TA.26-4-B-j19-...|    S-Bahn|8503094|         919|           919|     8503093|          1.0|\n",
      "|27.TA.26-4-B-j19-...|    S-Bahn|8503095|         916|           916|     8503094|          3.0|\n",
      "|27.TA.26-4-B-j19-...|    S-Bahn|8503096|         915|           915|     8503095|          1.0|\n",
      "|27.TA.26-4-B-j19-...|    S-Bahn|8503099|         913|           913|     8503096|          2.0|\n",
      "|27.TA.26-4-B-j19-...|    S-Bahn|8503089|         911|           911|     8503099|          2.0|\n",
      "|27.TA.26-4-B-j19-...|    S-Bahn|8503097|         910|           910|     8503089|          1.0|\n",
      "|43.TA.26-813-j19-...|       Bus|8581548|         701|           701|     8573504|          1.0|\n",
      "+--------------------+----------+-------+------------+--------------+------------+-------------+\n",
      "only showing top 20 rows"
     ]
    }
   ],
   "source": [
    "edges_df = spark.read.orc(\"/user/{}/edges.orc\".format(username))\n",
    "trips = spark.read.format('orc').load('/data/sbb/timetables/orc/trips/000000_0')\n",
    "routes = spark.read.format('orc').load('/data/sbb/timetables/orc/routes/000000_0')\n",
    "\n",
    "edges_with_route = trips.join(routes, 'route_id').select(col('trip_id'), col('route_desc')).distinct()\\\n",
    "                        .join(edges_df, 'trip_id')\n",
    "edges_with_route.show()"
   ]
  },
  {
   "cell_type": "code",
   "execution_count": 7,
   "metadata": {},
   "outputs": [
    {
     "data": {
      "application/vnd.jupyter.widget-view+json": {
       "model_id": "",
       "version_major": 2,
       "version_minor": 0
      },
      "text/plain": [
       "FloatProgress(value=0.0, bar_style='info', description='Progress:', layout=Layout(height='25px', width='50%'),…"
      ]
     },
     "metadata": {},
     "output_type": "display_data"
    }
   ],
   "source": [
    "translate_route_desc = {\n",
    "    'TGV': 'TGV',\n",
    "    'Eurocity': 'EC',\n",
    "    'tandseilbahn': 'AT',\n",
    "    'Regionalzug': 'R',\n",
    "    'RegioExpress': 'RE',\n",
    "    'S-Bahn': 'S',\n",
    "    'Luftseilbahn': '',\n",
    "    'Sesselbahn': '',\n",
    "    'Taxi': '',\n",
    "    'Fähre': '',\n",
    "    'Tram': 'Tram',\n",
    "    'ICE': 'ICE',\n",
    "    'Bus': 'Bus',\n",
    "    'Gondelbahn': '',\n",
    "    'Nacht-Zug': '',\n",
    "    'Standseilbahn': 'AT',\n",
    "    'Auoreisezug': 'ARZ',\n",
    "    'Eurostar': 'EC',\n",
    "    'Schiff': '',\n",
    "    'Schnellzug': 'TGV',\n",
    "    'Intercity': 'IC',\n",
    "    'InterRegio': 'IR',\n",
    "    'Extrazug': 'EXT',\n",
    "    'Metro': 'Metro'\n",
    "}"
   ]
  },
  {
   "cell_type": "code",
   "execution_count": 15,
   "metadata": {},
   "outputs": [
    {
     "data": {
      "application/vnd.jupyter.widget-view+json": {
       "model_id": "",
       "version_major": 2,
       "version_minor": 0
      },
      "text/plain": [
       "FloatProgress(value=0.0, bar_style='info', description='Progress:', layout=Layout(height='25px', width='50%'),…"
      ]
     },
     "metadata": {},
     "output_type": "display_data"
    }
   ],
   "source": [
    "@udf(\"string\")\n",
    "def translate_dict(text):\n",
    "    return translate_route_desc[text]\n",
    "\n",
    "@udf('string')\n",
    "def truncate_stop_id_column(s):\n",
    "    return s.split(':')[0]\n",
    "\n",
    "@udf('string')\n",
    "def truncate_stop_id_len(s):\n",
    "    return str(s)[:7]\n",
    "\n",
    "@udf('long')\n",
    "def leng(s):\n",
    "    return len(str(s))"
   ]
  },
  {
   "cell_type": "code",
   "execution_count": 33,
   "metadata": {},
   "outputs": [],
   "source": [
    "%%local\n",
    "import pandas as pd\n",
    "delays = pd.read_pickle('pickle_delay_distribution')"
   ]
  },
  {
   "cell_type": "code",
   "execution_count": 34,
   "metadata": {},
   "outputs": [
    {
     "data": {
      "application/vnd.jupyter.widget-view+json": {
       "model_id": "",
       "version_major": 2,
       "version_minor": 0
      },
      "text/plain": [
       "FloatProgress(value=0.0, bar_style='info', description='Progress:', layout=Layout(height='25px', width='50%'),…"
      ]
     },
     "metadata": {},
     "output_type": "display_data"
    },
    {
     "name": "stdout",
     "output_type": "stream",
     "text": [
      "Successfully passed 'delays' as 'delays' to Spark kernel"
     ]
    }
   ],
   "source": [
    "%%send_to_spark -i delays -t df -m 100000"
   ]
  },
  {
   "cell_type": "code",
   "execution_count": 27,
   "metadata": {},
   "outputs": [
    {
     "data": {
      "application/vnd.jupyter.widget-view+json": {
       "model_id": "",
       "version_major": 2,
       "version_minor": 0
      },
      "text/plain": [
       "FloatProgress(value=0.0, bar_style='info', description='Progress:', layout=Layout(height='25px', width='50%'),…"
      ]
     },
     "metadata": {},
     "output_type": "display_data"
    }
   ],
   "source": [
    "edges_with_route = edges_with_route.withColumn('route_desc_translated', translate_dict(col('route_desc')))\\\n",
    "                                       .withColumn('hour', (col('arrival_time')/60).cast(IntegerType()))\\\n",
    "                                       .withColumn('truncated_stop_id', truncate_stop_id_column(col('stop_id'))).cache()"
   ]
  },
  {
   "cell_type": "code",
   "execution_count": 36,
   "metadata": {},
   "outputs": [
    {
     "data": {
      "application/vnd.jupyter.widget-view+json": {
       "model_id": "",
       "version_major": 2,
       "version_minor": 0
      },
      "text/plain": [
       "FloatProgress(value=0.0, bar_style='info', description='Progress:', layout=Layout(height='25px', width='50%'),…"
      ]
     },
     "metadata": {},
     "output_type": "display_data"
    }
   ],
   "source": [
    "delays = delays.select(col('mean'), col('std'), col('hour').alias('hour_2'), col('stop_id').alias('stop_id_2'), col('verkehrsmittel_text'))\\\n",
    "               .withColumn('truncated_stop_id', truncate_stop_id_len(col('stop_id_2')))"
   ]
  },
  {
   "cell_type": "code",
   "execution_count": 29,
   "metadata": {},
   "outputs": [
    {
     "data": {
      "application/vnd.jupyter.widget-view+json": {
       "model_id": "",
       "version_major": 2,
       "version_minor": 0
      },
      "text/plain": [
       "FloatProgress(value=0.0, bar_style='info', description='Progress:', layout=Layout(height='25px', width='50%'),…"
      ]
     },
     "metadata": {},
     "output_type": "display_data"
    },
    {
     "name": "stdout",
     "output_type": "stream",
     "text": [
      "+----+\n",
      "|leng|\n",
      "+----+\n",
      "|   7|\n",
      "+----+"
     ]
    }
   ],
   "source": [
    "## Check\n",
    "delays.withColumn('leng', leng(col('stop_id_2'))).select('leng').distinct().show()"
   ]
  },
  {
   "cell_type": "code",
   "execution_count": 37,
   "metadata": {},
   "outputs": [
    {
     "data": {
      "application/vnd.jupyter.widget-view+json": {
       "model_id": "",
       "version_major": 2,
       "version_minor": 0
      },
      "text/plain": [
       "FloatProgress(value=0.0, bar_style='info', description='Progress:', layout=Layout(height='25px', width='50%'),…"
      ]
     },
     "metadata": {},
     "output_type": "display_data"
    }
   ],
   "source": [
    "edges_final = edges_with_route.join(delays, (edges_with_route.hour == delays.hour_2) &\\\n",
    "                                            (edges_with_route.truncated_stop_id == delays.truncated_stop_id) &\\\n",
    "                                            (edges_with_route.route_desc_translated == delays.verkehrsmittel_text), how='left').cache()"
   ]
  },
  {
   "cell_type": "code",
   "execution_count": 39,
   "metadata": {},
   "outputs": [
    {
     "data": {
      "application/vnd.jupyter.widget-view+json": {
       "model_id": "",
       "version_major": 2,
       "version_minor": 0
      },
      "text/plain": [
       "FloatProgress(value=0.0, bar_style='info', description='Progress:', layout=Layout(height='25px', width='50%'),…"
      ]
     },
     "metadata": {},
     "output_type": "display_data"
    }
   ],
   "source": [
    "edges_final = edges_final.select('trip_id', 'stop_id', col('route_desc').alias('train_type'),\\\n",
    "                                           'arrival_time', 'departure_time', 'next_stop', 'trip_duration', 'mean', 'std').cache()"
   ]
  },
  {
   "cell_type": "code",
   "execution_count": 40,
   "metadata": {},
   "outputs": [
    {
     "data": {
      "application/vnd.jupyter.widget-view+json": {
       "model_id": "",
       "version_major": 2,
       "version_minor": 0
      },
      "text/plain": [
       "FloatProgress(value=0.0, bar_style='info', description='Progress:', layout=Layout(height='25px', width='50%'),…"
      ]
     },
     "metadata": {},
     "output_type": "display_data"
    },
    {
     "name": "stdout",
     "output_type": "stream",
     "text": [
      "+--------------------+-----------+----------+------------+--------------+-----------+-------------+----+----+\n",
      "|             trip_id|    stop_id|train_type|arrival_time|departure_time|  next_stop|trip_duration|mean| std|\n",
      "+--------------------+-----------+----------+------------+--------------+-----------+-------------+----+----+\n",
      "|84.TA.26-12-j19-1...|8503508:0:4|    S-Bahn|         479|           480|8503512:0:2|          2.0|null|null|\n",
      "|122.TA.26-12-j19-...|8503508:0:4|    S-Bahn|         479|           480|8503512:0:2|          2.0|null|null|\n",
      "|327.TA.26-12-j19-...|8503508:0:5|    S-Bahn|         479|           480|8503512:0:3|          2.0|null|null|\n",
      "|324.TA.26-12-j19-...|8503508:0:4|    S-Bahn|         479|           480|8503512:0:2|          2.0|null|null|\n",
      "|124.TA.26-12-j19-...|8503508:0:4|    S-Bahn|         479|           480|8503512:0:2|          2.0|null|null|\n",
      "+--------------------+-----------+----------+------------+--------------+-----------+-------------+----+----+\n",
      "only showing top 5 rows"
     ]
    }
   ],
   "source": [
    "edges_final.show(5)"
   ]
  },
  {
   "cell_type": "code",
   "execution_count": 57,
   "metadata": {},
   "outputs": [
    {
     "data": {
      "application/vnd.jupyter.widget-view+json": {
       "model_id": "",
       "version_major": 2,
       "version_minor": 0
      },
      "text/plain": [
       "FloatProgress(value=0.0, bar_style='info', description='Progress:', layout=Layout(height='25px', width='50%'),…"
      ]
     },
     "metadata": {},
     "output_type": "display_data"
    },
    {
     "name": "stdout",
     "output_type": "stream",
     "text": [
      "Proportion of null values:\n",
      "\tMean: 0.041\n",
      "\tStd: 0.0410793577085"
     ]
    }
   ],
   "source": [
    "print('Proportion of null values:\\n\\tMean: {:.3f}'\n",
    "      .format(edges_final.filter(col('mean').isNull()).select('mean').count() / float(edges_final.filter(~col('mean').isNull()).select('mean').count())))\n",
    "print('\\tStd: {}'.format(edges_final.filter(col('std').isNull()).select('std').count() / float(edges_final.filter(~col('std').isNull()).select('std').count())))"
   ]
  },
  {
   "cell_type": "code",
   "execution_count": 58,
   "metadata": {},
   "outputs": [
    {
     "data": {
      "application/vnd.jupyter.widget-view+json": {
       "model_id": "",
       "version_major": 2,
       "version_minor": 0
      },
      "text/plain": [
       "FloatProgress(value=0.0, bar_style='info', description='Progress:', layout=Layout(height='25px', width='50%'),…"
      ]
     },
     "metadata": {},
     "output_type": "display_data"
    },
    {
     "name": "stdout",
     "output_type": "stream",
     "text": [
      "+--------------------+-------+------------+--------------+-----------+-------------+\n",
      "|             trip_id|stop_id|arrival_time|departure_time|  next_stop|trip_duration|\n",
      "+--------------------+-------+------------+--------------+-----------+-------------+\n",
      "|1391.TA.26-225-j1...|8573732|         684|           684|    8573734|          2.0|\n",
      "|1391.TA.26-225-j1...|8573734|         686|           686|    8582763|          2.0|\n",
      "|1391.TA.26-225-j1...|8582763|         688|           688|    8580268|          1.0|\n",
      "|1391.TA.26-225-j1...|8580268|         689|           689|    8502953|          1.0|\n",
      "|1391.TA.26-225-j1...|8502953|         690|           690|8573178:0:D|          3.0|\n",
      "+--------------------+-------+------------+--------------+-----------+-------------+\n",
      "only showing top 5 rows"
     ]
    }
   ],
   "source": [
    "edges_df.show(5)"
   ]
  },
  {
   "cell_type": "code",
   "execution_count": 59,
   "metadata": {},
   "outputs": [
    {
     "data": {
      "application/vnd.jupyter.widget-view+json": {
       "model_id": "",
       "version_major": 2,
       "version_minor": 0
      },
      "text/plain": [
       "FloatProgress(value=0.0, bar_style='info', description='Progress:', layout=Layout(height='25px', width='50%'),…"
      ]
     },
     "metadata": {},
     "output_type": "display_data"
    }
   ],
   "source": [
    "edges_final.write.format(\"orc\").save(\"/user/{}/edges_with_mean_std.orc\".format(username))"
   ]
  }
 ],
 "metadata": {
  "kernelspec": {
   "display_name": "PySpark",
   "language": "",
   "name": "pysparkkernel"
  },
  "language_info": {
   "codemirror_mode": {
    "name": "python",
    "version": 3
   },
   "mimetype": "text/x-python",
   "name": "pyspark",
   "pygments_lexer": "python3"
  }
 },
 "nbformat": 4,
 "nbformat_minor": 4
}
