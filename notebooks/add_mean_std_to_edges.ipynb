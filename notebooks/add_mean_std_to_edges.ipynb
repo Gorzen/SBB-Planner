{
 "cells": [
  {
   "cell_type": "code",
   "execution_count": 1,
   "metadata": {},
   "outputs": [
    {
     "data": {
      "text/html": [
       "Current session configs: <tt>{'conf': {'spark.app.name': 'dslab-group_final'}, 'kind': 'pyspark'}</tt><br>"
      ],
      "text/plain": [
       "<IPython.core.display.HTML object>"
      ]
     },
     "metadata": {},
     "output_type": "display_data"
    },
    {
     "data": {
      "text/html": [
       "<table>\n",
       "<tr><th>ID</th><th>YARN Application ID</th><th>Kind</th><th>State</th><th>Spark UI</th><th>Driver log</th><th>Current session?</th></tr><tr><td>6899</td><td>application_1589299642358_1393</td><td>pyspark</td><td>idle</td><td><a target=\"_blank\" href=\"http://iccluster044.iccluster.epfl.ch:8088/proxy/application_1589299642358_1393/\">Link</a></td><td><a target=\"_blank\" href=\"http://iccluster072.iccluster.epfl.ch:8042/node/containerlogs/container_e06_1589299642358_1393_01_000001/ebouille\">Link</a></td><td></td></tr><tr><td>6900</td><td>application_1589299642358_1394</td><td>pyspark</td><td>busy</td><td><a target=\"_blank\" href=\"http://iccluster044.iccluster.epfl.ch:8088/proxy/application_1589299642358_1394/\">Link</a></td><td><a target=\"_blank\" href=\"http://iccluster067.iccluster.epfl.ch:8042/node/containerlogs/container_e06_1589299642358_1394_01_000001/ebouille\">Link</a></td><td></td></tr><tr><td>6902</td><td>application_1589299642358_1396</td><td>pyspark</td><td>idle</td><td><a target=\"_blank\" href=\"http://iccluster044.iccluster.epfl.ch:8088/proxy/application_1589299642358_1396/\">Link</a></td><td><a target=\"_blank\" href=\"http://iccluster071.iccluster.epfl.ch:8042/node/containerlogs/container_e06_1589299642358_1396_01_000001/ebouille\">Link</a></td><td></td></tr><tr><td>6919</td><td>application_1589299642358_1413</td><td>pyspark</td><td>busy</td><td><a target=\"_blank\" href=\"http://iccluster044.iccluster.epfl.ch:8088/proxy/application_1589299642358_1413/\">Link</a></td><td><a target=\"_blank\" href=\"http://iccluster066.iccluster.epfl.ch:8042/node/containerlogs/container_e06_1589299642358_1413_01_000001/ebouille\">Link</a></td><td></td></tr><tr><td>6922</td><td>application_1589299642358_1416</td><td>pyspark</td><td>idle</td><td><a target=\"_blank\" href=\"http://iccluster044.iccluster.epfl.ch:8088/proxy/application_1589299642358_1416/\">Link</a></td><td><a target=\"_blank\" href=\"http://iccluster070.iccluster.epfl.ch:8042/node/containerlogs/container_e06_1589299642358_1416_01_000001/ebouille\">Link</a></td><td></td></tr><tr><td>6930</td><td>application_1589299642358_1424</td><td>pyspark</td><td>idle</td><td><a target=\"_blank\" href=\"http://iccluster044.iccluster.epfl.ch:8088/proxy/application_1589299642358_1424/\">Link</a></td><td><a target=\"_blank\" href=\"http://iccluster071.iccluster.epfl.ch:8042/node/containerlogs/container_e06_1589299642358_1424_01_000001/ebouille\">Link</a></td><td></td></tr><tr><td>6931</td><td>application_1589299642358_1425</td><td>pyspark</td><td>idle</td><td><a target=\"_blank\" href=\"http://iccluster044.iccluster.epfl.ch:8088/proxy/application_1589299642358_1425/\">Link</a></td><td><a target=\"_blank\" href=\"http://iccluster066.iccluster.epfl.ch:8042/node/containerlogs/container_e06_1589299642358_1425_01_000001/ebouille\">Link</a></td><td></td></tr><tr><td>6932</td><td>application_1589299642358_1426</td><td>pyspark</td><td>idle</td><td><a target=\"_blank\" href=\"http://iccluster044.iccluster.epfl.ch:8088/proxy/application_1589299642358_1426/\">Link</a></td><td><a target=\"_blank\" href=\"http://iccluster066.iccluster.epfl.ch:8042/node/containerlogs/container_e06_1589299642358_1426_01_000001/ebouille\">Link</a></td><td></td></tr><tr><td>6933</td><td>application_1589299642358_1427</td><td>pyspark</td><td>idle</td><td><a target=\"_blank\" href=\"http://iccluster044.iccluster.epfl.ch:8088/proxy/application_1589299642358_1427/\">Link</a></td><td><a target=\"_blank\" href=\"http://iccluster070.iccluster.epfl.ch:8042/node/containerlogs/container_e06_1589299642358_1427_01_000001/ebouille\">Link</a></td><td></td></tr><tr><td>6943</td><td>application_1589299642358_1437</td><td>pyspark</td><td>idle</td><td><a target=\"_blank\" href=\"http://iccluster044.iccluster.epfl.ch:8088/proxy/application_1589299642358_1437/\">Link</a></td><td><a target=\"_blank\" href=\"http://iccluster072.iccluster.epfl.ch:8042/node/containerlogs/container_e06_1589299642358_1437_01_000001/ebouille\">Link</a></td><td></td></tr><tr><td>6945</td><td>application_1589299642358_1439</td><td>pyspark</td><td>idle</td><td><a target=\"_blank\" href=\"http://iccluster044.iccluster.epfl.ch:8088/proxy/application_1589299642358_1439/\">Link</a></td><td><a target=\"_blank\" href=\"http://iccluster067.iccluster.epfl.ch:8042/node/containerlogs/container_e06_1589299642358_1439_01_000001/ebouille\">Link</a></td><td></td></tr><tr><td>6947</td><td>application_1589299642358_1441</td><td>pyspark</td><td>idle</td><td><a target=\"_blank\" href=\"http://iccluster044.iccluster.epfl.ch:8088/proxy/application_1589299642358_1441/\">Link</a></td><td><a target=\"_blank\" href=\"http://iccluster070.iccluster.epfl.ch:8042/node/containerlogs/container_e06_1589299642358_1441_01_000001/ebouille\">Link</a></td><td></td></tr><tr><td>6949</td><td>application_1589299642358_1443</td><td>pyspark</td><td>busy</td><td><a target=\"_blank\" href=\"http://iccluster044.iccluster.epfl.ch:8088/proxy/application_1589299642358_1443/\">Link</a></td><td><a target=\"_blank\" href=\"http://iccluster069.iccluster.epfl.ch:8042/node/containerlogs/container_e06_1589299642358_1443_01_000001/ebouille\">Link</a></td><td></td></tr><tr><td>6950</td><td>application_1589299642358_1444</td><td>pyspark</td><td>idle</td><td><a target=\"_blank\" href=\"http://iccluster044.iccluster.epfl.ch:8088/proxy/application_1589299642358_1444/\">Link</a></td><td><a target=\"_blank\" href=\"http://iccluster072.iccluster.epfl.ch:8042/node/containerlogs/container_e06_1589299642358_1444_01_000001/ebouille\">Link</a></td><td></td></tr><tr><td>6951</td><td>application_1589299642358_1445</td><td>pyspark</td><td>idle</td><td><a target=\"_blank\" href=\"http://iccluster044.iccluster.epfl.ch:8088/proxy/application_1589299642358_1445/\">Link</a></td><td><a target=\"_blank\" href=\"http://iccluster065.iccluster.epfl.ch:8042/node/containerlogs/container_e06_1589299642358_1445_01_000001/ebouille\">Link</a></td><td></td></tr><tr><td>6952</td><td>application_1589299642358_1446</td><td>pyspark</td><td>busy</td><td><a target=\"_blank\" href=\"http://iccluster044.iccluster.epfl.ch:8088/proxy/application_1589299642358_1446/\">Link</a></td><td><a target=\"_blank\" href=\"http://iccluster070.iccluster.epfl.ch:8042/node/containerlogs/container_e06_1589299642358_1446_01_000001/ebouille\">Link</a></td><td></td></tr><tr><td>6954</td><td>application_1589299642358_1448</td><td>pyspark</td><td>idle</td><td><a target=\"_blank\" href=\"http://iccluster044.iccluster.epfl.ch:8088/proxy/application_1589299642358_1448/\">Link</a></td><td><a target=\"_blank\" href=\"http://iccluster068.iccluster.epfl.ch:8042/node/containerlogs/container_e06_1589299642358_1448_01_000001/ebouille\">Link</a></td><td></td></tr><tr><td>6955</td><td>application_1589299642358_1449</td><td>pyspark</td><td>starting</td><td></td><td></td><td></td></tr></table>"
      ],
      "text/plain": [
       "<IPython.core.display.HTML object>"
      ]
     },
     "metadata": {},
     "output_type": "display_data"
    }
   ],
   "source": [
    "%%configure\n",
    "{\"conf\": {\n",
    "    \"spark.app.name\": \"dslab-group_final\"\n",
    "}}"
   ]
  },
  {
   "cell_type": "code",
   "execution_count": 2,
   "metadata": {},
   "outputs": [
    {
     "name": "stdout",
     "output_type": "stream",
     "text": [
      "Starting Spark application\n"
     ]
    },
    {
     "data": {
      "text/html": [
       "<table>\n",
       "<tr><th>ID</th><th>YARN Application ID</th><th>Kind</th><th>State</th><th>Spark UI</th><th>Driver log</th><th>Current session?</th></tr><tr><td>6956</td><td>application_1589299642358_1450</td><td>pyspark</td><td>idle</td><td><a target=\"_blank\" href=\"http://iccluster044.iccluster.epfl.ch:8088/proxy/application_1589299642358_1450/\">Link</a></td><td><a target=\"_blank\" href=\"http://iccluster071.iccluster.epfl.ch:8042/node/containerlogs/container_e06_1589299642358_1450_01_000001/ebouille\">Link</a></td><td>✔</td></tr></table>"
      ],
      "text/plain": [
       "<IPython.core.display.HTML object>"
      ]
     },
     "metadata": {},
     "output_type": "display_data"
    },
    {
     "data": {
      "application/vnd.jupyter.widget-view+json": {
       "model_id": "",
       "version_major": 2,
       "version_minor": 0
      },
      "text/plain": [
       "FloatProgress(value=0.0, bar_style='info', description='Progress:', layout=Layout(height='25px', width='50%'),…"
      ]
     },
     "metadata": {},
     "output_type": "display_data"
    },
    {
     "name": "stdout",
     "output_type": "stream",
     "text": [
      "SparkSession available as 'spark'.\n"
     ]
    },
    {
     "data": {
      "application/vnd.jupyter.widget-view+json": {
       "model_id": "",
       "version_major": 2,
       "version_minor": 0
      },
      "text/plain": [
       "FloatProgress(value=0.0, bar_style='info', description='Progress:', layout=Layout(height='25px', width='50%'),…"
      ]
     },
     "metadata": {},
     "output_type": "display_data"
    }
   ],
   "source": [
    "from pyspark.sql.functions import col, udf, lit\n",
    "from pyspark.sql.types import IntegerType"
   ]
  },
  {
   "cell_type": "code",
   "execution_count": 3,
   "metadata": {},
   "outputs": [],
   "source": [
    "%%local\n",
    "import os\n",
    "username = os.environ['JUPYTERHUB_USER']"
   ]
  },
  {
   "cell_type": "code",
   "execution_count": 4,
   "metadata": {},
   "outputs": [
    {
     "data": {
      "application/vnd.jupyter.widget-view+json": {
       "model_id": "",
       "version_major": 2,
       "version_minor": 0
      },
      "text/plain": [
       "FloatProgress(value=0.0, bar_style='info', description='Progress:', layout=Layout(height='25px', width='50%'),…"
      ]
     },
     "metadata": {},
     "output_type": "display_data"
    },
    {
     "name": "stdout",
     "output_type": "stream",
     "text": [
      "Successfully passed 'username' as 'username' to Spark kernel"
     ]
    }
   ],
   "source": [
    "%%send_to_spark -i username -t str -n username"
   ]
  },
  {
   "cell_type": "code",
   "execution_count": 5,
   "metadata": {},
   "outputs": [
    {
     "data": {
      "application/vnd.jupyter.widget-view+json": {
       "model_id": "",
       "version_major": 2,
       "version_minor": 0
      },
      "text/plain": [
       "FloatProgress(value=0.0, bar_style='info', description='Progress:', layout=Layout(height='25px', width='50%'),…"
      ]
     },
     "metadata": {},
     "output_type": "display_data"
    },
    {
     "name": "stdout",
     "output_type": "stream",
     "text": [
      "+--------------------+----------+-------+------------+--------------+------------+-------------+\n",
      "|             trip_id|route_desc|stop_id|arrival_time|departure_time|   next_stop|trip_duration|\n",
      "+--------------------+----------+-------+------------+--------------+------------+-------------+\n",
      "|256.TA.26-10-B-j1...|    S-Bahn|8503090|         804|           804|8503088:0:22|          3.0|\n",
      "|256.TA.26-10-B-j1...|    S-Bahn|8503051|         801|           802|     8503090|          2.0|\n",
      "|256.TA.26-10-B-j1...|    S-Bahn|8503052|         800|           800|     8503051|          1.0|\n",
      "|256.TA.26-10-B-j1...|    S-Bahn|8503053|         799|           799|     8503052|          1.0|\n",
      "|256.TA.26-10-B-j1...|    S-Bahn|8503054|         797|           797|     8503053|          2.0|\n",
      "|256.TA.26-10-B-j1...|    S-Bahn|8503055|         792|           793|     8503054|          4.0|\n",
      "|256.TA.26-10-B-j1...|    S-Bahn|8503056|         790|           790|     8503055|          2.0|\n",
      "|256.TA.26-10-B-j1...|    S-Bahn|8503057|         785|           785|     8503056|          5.0|\n",
      "|27.TA.26-4-B-j19-...|    S-Bahn|8503090|         928|           928|8503088:0:21|          3.0|\n",
      "|27.TA.26-4-B-j19-...|    S-Bahn|8503091|         926|           926|     8503090|          2.0|\n",
      "|27.TA.26-4-B-j19-...|    S-Bahn|8503087|         924|           924|     8503091|          2.0|\n",
      "|27.TA.26-4-B-j19-...|    S-Bahn|8503086|         922|           922|     8503087|          2.0|\n",
      "|27.TA.26-4-B-j19-...|    S-Bahn|8503093|         920|           920|     8503086|          2.0|\n",
      "|27.TA.26-4-B-j19-...|    S-Bahn|8503094|         919|           919|     8503093|          1.0|\n",
      "|27.TA.26-4-B-j19-...|    S-Bahn|8503095|         916|           916|     8503094|          3.0|\n",
      "|27.TA.26-4-B-j19-...|    S-Bahn|8503096|         915|           915|     8503095|          1.0|\n",
      "|27.TA.26-4-B-j19-...|    S-Bahn|8503099|         913|           913|     8503096|          2.0|\n",
      "|27.TA.26-4-B-j19-...|    S-Bahn|8503089|         911|           911|     8503099|          2.0|\n",
      "|27.TA.26-4-B-j19-...|    S-Bahn|8503097|         910|           910|     8503089|          1.0|\n",
      "|43.TA.26-813-j19-...|       Bus|8581548|         701|           701|     8573504|          1.0|\n",
      "+--------------------+----------+-------+------------+--------------+------------+-------------+\n",
      "only showing top 20 rows"
     ]
    }
   ],
   "source": [
    "edges_df = spark.read.orc(\"/user/{}/edges.orc\".format(username))\n",
    "trips = spark.read.format('orc').load('/data/sbb/timetables/orc/trips/000000_0')\n",
    "routes = spark.read.format('orc').load('/data/sbb/timetables/orc/routes/000000_0')\n",
    "\n",
    "edges_with_route = trips.join(routes, 'route_id').select(col('trip_id'), col('route_desc')).distinct()\\\n",
    "                        .join(edges_df, 'trip_id')\n",
    "edges_with_route.show()"
   ]
  },
  {
   "cell_type": "code",
   "execution_count": 6,
   "metadata": {},
   "outputs": [
    {
     "data": {
      "application/vnd.jupyter.widget-view+json": {
       "model_id": "",
       "version_major": 2,
       "version_minor": 0
      },
      "text/plain": [
       "FloatProgress(value=0.0, bar_style='info', description='Progress:', layout=Layout(height='25px', width='50%'),…"
      ]
     },
     "metadata": {},
     "output_type": "display_data"
    }
   ],
   "source": [
    "translate_route_desc = {\n",
    "    'TGV': 'TGV',\n",
    "    'Eurocity': 'EC',\n",
    "    'tandseilbahn': 'AT',\n",
    "    'Regionalzug': 'R',\n",
    "    'RegioExpress': 'RE',\n",
    "    'S-Bahn': 'S',\n",
    "    'Luftseilbahn': '',\n",
    "    'Sesselbahn': '',\n",
    "    'Taxi': '',\n",
    "    'Fähre': '',\n",
    "    'Tram': 'Tram',\n",
    "    'ICE': 'ICE',\n",
    "    'Bus': 'Bus',\n",
    "    'Gondelbahn': '',\n",
    "    'Nacht-Zug': '',\n",
    "    'Standseilbahn': 'AT',\n",
    "    'Auoreisezug': 'ARZ',\n",
    "    'Eurostar': 'EC',\n",
    "    'Schiff': '',\n",
    "    'Schnellzug': 'TGV',\n",
    "    'Intercity': 'IC',\n",
    "    'InterRegio': 'IR',\n",
    "    'Extrazug': 'EXT',\n",
    "    'Metro': 'Metro'\n",
    "}"
   ]
  },
  {
   "cell_type": "code",
   "execution_count": 7,
   "metadata": {},
   "outputs": [
    {
     "data": {
      "application/vnd.jupyter.widget-view+json": {
       "model_id": "",
       "version_major": 2,
       "version_minor": 0
      },
      "text/plain": [
       "FloatProgress(value=0.0, bar_style='info', description='Progress:', layout=Layout(height='25px', width='50%'),…"
      ]
     },
     "metadata": {},
     "output_type": "display_data"
    }
   ],
   "source": [
    "@udf(\"string\")\n",
    "def translate_dict(text):\n",
    "    return translate_route_desc[text]\n",
    "\n",
    "@udf('string')\n",
    "def truncate_stop_id_column(s):\n",
    "    return s.split(':')[0]\n",
    "\n",
    "@udf('string')\n",
    "def truncate_stop_id_len(s):\n",
    "    return str(s)[:7]\n",
    "\n",
    "@udf('long')\n",
    "def leng(s):\n",
    "    return len(str(s))"
   ]
  },
  {
   "cell_type": "code",
   "execution_count": 8,
   "metadata": {},
   "outputs": [],
   "source": [
    "%%local\n",
    "import pandas as pd\n",
    "delays = pd.read_pickle('mean_std_distributions.pickle')"
   ]
  },
  {
   "cell_type": "code",
   "execution_count": 9,
   "metadata": {},
   "outputs": [
    {
     "data": {
      "application/vnd.jupyter.widget-view+json": {
       "model_id": "",
       "version_major": 2,
       "version_minor": 0
      },
      "text/plain": [
       "FloatProgress(value=0.0, bar_style='info', description='Progress:', layout=Layout(height='25px', width='50%'),…"
      ]
     },
     "metadata": {},
     "output_type": "display_data"
    },
    {
     "name": "stdout",
     "output_type": "stream",
     "text": [
      "Successfully passed 'delays' as 'delays' to Spark kernel"
     ]
    }
   ],
   "source": [
    "%%send_to_spark -i delays -t df -m 100000"
   ]
  },
  {
   "cell_type": "code",
   "execution_count": 10,
   "metadata": {},
   "outputs": [
    {
     "data": {
      "application/vnd.jupyter.widget-view+json": {
       "model_id": "",
       "version_major": 2,
       "version_minor": 0
      },
      "text/plain": [
       "FloatProgress(value=0.0, bar_style='info', description='Progress:', layout=Layout(height='25px', width='50%'),…"
      ]
     },
     "metadata": {},
     "output_type": "display_data"
    }
   ],
   "source": [
    "edges_with_route = edges_with_route.withColumn('route_desc_translated', translate_dict(col('route_desc')))\\\n",
    "                                       .withColumn('hour', (col('arrival_time')/60).cast(IntegerType()))\\\n",
    "                                       .withColumn('truncated_stop_id', truncate_stop_id_column(col('stop_id'))).cache()"
   ]
  },
  {
   "cell_type": "code",
   "execution_count": 11,
   "metadata": {},
   "outputs": [
    {
     "data": {
      "application/vnd.jupyter.widget-view+json": {
       "model_id": "",
       "version_major": 2,
       "version_minor": 0
      },
      "text/plain": [
       "FloatProgress(value=0.0, bar_style='info', description='Progress:', layout=Layout(height='25px', width='50%'),…"
      ]
     },
     "metadata": {},
     "output_type": "display_data"
    }
   ],
   "source": [
    "delays = delays.select(col('mean'), col('std'), col('hour').alias('hour_2'), col('stop_id').alias('stop_id_2'), col('verkehrsmittel_text'))\\\n",
    "               .withColumn('truncated_stop_id', truncate_stop_id_len(col('stop_id_2')))\n",
    "delays = delays.withColumn('mean', col('mean')/60).withColumn('std', col('std')/60)"
   ]
  },
  {
   "cell_type": "code",
   "execution_count": 12,
   "metadata": {},
   "outputs": [
    {
     "data": {
      "application/vnd.jupyter.widget-view+json": {
       "model_id": "",
       "version_major": 2,
       "version_minor": 0
      },
      "text/plain": [
       "FloatProgress(value=0.0, bar_style='info', description='Progress:', layout=Layout(height='25px', width='50%'),…"
      ]
     },
     "metadata": {},
     "output_type": "display_data"
    },
    {
     "name": "stdout",
     "output_type": "stream",
     "text": [
      "+----+\n",
      "|leng|\n",
      "+----+\n",
      "|   7|\n",
      "+----+"
     ]
    }
   ],
   "source": [
    "## Check\n",
    "delays.withColumn('leng', leng(col('stop_id_2'))).select('leng').distinct().show()"
   ]
  },
  {
   "cell_type": "code",
   "execution_count": 13,
   "metadata": {},
   "outputs": [
    {
     "data": {
      "application/vnd.jupyter.widget-view+json": {
       "model_id": "",
       "version_major": 2,
       "version_minor": 0
      },
      "text/plain": [
       "FloatProgress(value=0.0, bar_style='info', description='Progress:', layout=Layout(height='25px', width='50%'),…"
      ]
     },
     "metadata": {},
     "output_type": "display_data"
    }
   ],
   "source": [
    "edges_final = edges_with_route.join(delays, (edges_with_route.hour == delays.hour_2) &\\\n",
    "                                            (edges_with_route.truncated_stop_id == delays.truncated_stop_id) &\\\n",
    "                                            (edges_with_route.route_desc_translated == delays.verkehrsmittel_text), how='left')"
   ]
  },
  {
   "cell_type": "code",
   "execution_count": 14,
   "metadata": {},
   "outputs": [
    {
     "data": {
      "application/vnd.jupyter.widget-view+json": {
       "model_id": "",
       "version_major": 2,
       "version_minor": 0
      },
      "text/plain": [
       "FloatProgress(value=0.0, bar_style='info', description='Progress:', layout=Layout(height='25px', width='50%'),…"
      ]
     },
     "metadata": {},
     "output_type": "display_data"
    }
   ],
   "source": [
    "edges_final = edges_final.select('trip_id', 'stop_id', col('route_desc').alias('train_type'),\\\n",
    "                                           'arrival_time', 'departure_time', 'next_stop', 'trip_duration', 'mean', 'std').cache()"
   ]
  },
  {
   "cell_type": "code",
   "execution_count": 21,
   "metadata": {},
   "outputs": [
    {
     "data": {
      "application/vnd.jupyter.widget-view+json": {
       "model_id": "",
       "version_major": 2,
       "version_minor": 0
      },
      "text/plain": [
       "FloatProgress(value=0.0, bar_style='info', description='Progress:', layout=Layout(height='25px', width='50%'),…"
      ]
     },
     "metadata": {},
     "output_type": "display_data"
    },
    {
     "name": "stdout",
     "output_type": "stream",
     "text": [
      "Replacing ->\n",
      "+--------------------+-------+------------+--------------+-----------+-------------+\n",
      "|             trip_id|stop_id|arrival_time|departure_time|  next_stop|trip_duration|\n",
      "+--------------------+-------+------------+--------------+-----------+-------------+\n",
      "|1391.TA.26-225-j1...|8573732|         684|           684|    8573734|          2.0|\n",
      "|1391.TA.26-225-j1...|8573734|         686|           686|    8582763|          2.0|\n",
      "|1391.TA.26-225-j1...|8582763|         688|           688|    8580268|          1.0|\n",
      "|1391.TA.26-225-j1...|8580268|         689|           689|    8502953|          1.0|\n",
      "|1391.TA.26-225-j1...|8502953|         690|           690|8573178:0:D|          3.0|\n",
      "+--------------------+-------+------------+--------------+-----------+-------------+\n",
      "only showing top 5 rows\n",
      "\n",
      "With ->\n",
      "+--------------------+-----------+----------+------------+--------------+-----------+-------------+------------------+------------------+\n",
      "|             trip_id|    stop_id|train_type|arrival_time|departure_time|  next_stop|trip_duration|              mean|               std|\n",
      "+--------------------+-----------+----------+------------+--------------+-----------+-------------+------------------+------------------+\n",
      "|223.TA.26-15-j19-...|8503314:0:1|    S-Bahn|         521|           521|8503315:0:2|          4.0|1.6545646810016665|1.7656662202466669|\n",
      "|129.TA.26-15-j19-...|8503314:0:1|    S-Bahn|         496|           496|8503312:0:3|          4.0|1.6545646810016665|1.7656662202466669|\n",
      "|222.TA.26-15-j19-...|8503314:0:1|    S-Bahn|         491|           491|8503315:0:2|          4.0|1.6545646810016665|1.7656662202466669|\n",
      "|130.TA.26-15-j19-...|8503314:0:1|    S-Bahn|         526|           526|8503312:0:3|          4.0|1.6545646810016665|1.7656662202466669|\n",
      "|221.TA.26-15-j19-...|8503314:0:1|    S-Bahn|         491|           491|8503315:0:2|          4.0|1.6545646810016665|1.7656662202466669|\n",
      "+--------------------+-----------+----------+------------+--------------+-----------+-------------+------------------+------------------+\n",
      "only showing top 5 rows"
     ]
    }
   ],
   "source": [
    "print('Replacing ->')\n",
    "edges_df.show(5)\n",
    "print('With ->')\n",
    "edges_final.filter(~col('mean').isNull()).show(5)"
   ]
  },
  {
   "cell_type": "code",
   "execution_count": 16,
   "metadata": {},
   "outputs": [
    {
     "data": {
      "application/vnd.jupyter.widget-view+json": {
       "model_id": "",
       "version_major": 2,
       "version_minor": 0
      },
      "text/plain": [
       "FloatProgress(value=0.0, bar_style='info', description='Progress:', layout=Layout(height='25px', width='50%'),…"
      ]
     },
     "metadata": {},
     "output_type": "display_data"
    },
    {
     "name": "stdout",
     "output_type": "stream",
     "text": [
      "Proportion of null values:\n",
      "\tMean: 0.041\n",
      "\tStd: 0.0410793577085"
     ]
    }
   ],
   "source": [
    "print('Proportion of null values:\\n\\tMean: {:.3f}'\n",
    "      .format(edges_final.filter(col('mean').isNull()).select('mean').count() / float(edges_final.filter(~col('mean').isNull()).select('mean').count())))\n",
    "print('\\tStd: {}'.format(edges_final.filter(col('std').isNull()).select('std').count() / float(edges_final.filter(~col('std').isNull()).select('std').count())))"
   ]
  },
  {
   "cell_type": "code",
   "execution_count": 20,
   "metadata": {},
   "outputs": [
    {
     "data": {
      "application/vnd.jupyter.widget-view+json": {
       "model_id": "",
       "version_major": 2,
       "version_minor": 0
      },
      "text/plain": [
       "FloatProgress(value=0.0, bar_style='info', description='Progress:', layout=Layout(height='25px', width='50%'),…"
      ]
     },
     "metadata": {},
     "output_type": "display_data"
    }
   ],
   "source": [
    "edges_final.write.format(\"orc\").save(\"/user/{}/edges_with_mean_and_std_sec.orc\".format(username))"
   ]
  }
 ],
 "metadata": {
  "kernelspec": {
   "display_name": "PySpark",
   "language": "",
   "name": "pysparkkernel"
  },
  "language_info": {
   "codemirror_mode": {
    "name": "python",
    "version": 3
   },
   "mimetype": "text/x-python",
   "name": "pyspark",
   "pygments_lexer": "python3"
  }
 },
 "nbformat": 4,
 "nbformat_minor": 4
}
