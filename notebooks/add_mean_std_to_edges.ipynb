{
 "cells": [
  {
   "cell_type": "markdown",
   "metadata": {},
   "source": [
    "# Add statistical information to edges:\n",
    "\n",
    "In this notebook, the mean and std computed in `compute_mean_std.ipynb` and saved in `mean_std_distributions.pickle`are loaded and added to the edges of our network (e.g. saved to `edges_with_mean_and_std_sec.orc`. This will later be used to create a network. "
   ]
  },
  {
   "cell_type": "markdown",
   "metadata": {},
   "source": [
    "## Set up:"
   ]
  },
  {
   "cell_type": "code",
   "execution_count": 1,
   "metadata": {},
   "outputs": [
    {
     "data": {
      "text/html": [
       "Current session configs: <tt>{'conf': {'spark.app.name': 'dslab-group_final'}, 'kind': 'pyspark'}</tt><br>"
      ],
      "text/plain": [
       "<IPython.core.display.HTML object>"
      ]
     },
     "metadata": {},
     "output_type": "display_data"
    },
    {
     "data": {
      "text/html": [
       "<table>\n",
       "<tr><th>ID</th><th>YARN Application ID</th><th>Kind</th><th>State</th><th>Spark UI</th><th>Driver log</th><th>Current session?</th></tr><tr><td>8919</td><td>application_1589299642358_3451</td><td>pyspark</td><td>idle</td><td><a target=\"_blank\" href=\"http://iccluster044.iccluster.epfl.ch:8088/proxy/application_1589299642358_3451/\">Link</a></td><td><a target=\"_blank\" href=\"http://iccluster069.iccluster.epfl.ch:8042/node/containerlogs/container_e06_1589299642358_3451_01_000001/ebouille\">Link</a></td><td></td></tr><tr><td>8933</td><td>application_1589299642358_3465</td><td>pyspark</td><td>idle</td><td><a target=\"_blank\" href=\"http://iccluster044.iccluster.epfl.ch:8088/proxy/application_1589299642358_3465/\">Link</a></td><td><a target=\"_blank\" href=\"http://iccluster069.iccluster.epfl.ch:8042/node/containerlogs/container_e06_1589299642358_3465_01_000001/ebouille\">Link</a></td><td></td></tr><tr><td>8973</td><td>application_1589299642358_3509</td><td>pyspark</td><td>idle</td><td><a target=\"_blank\" href=\"http://iccluster044.iccluster.epfl.ch:8088/proxy/application_1589299642358_3509/\">Link</a></td><td><a target=\"_blank\" href=\"http://iccluster068.iccluster.epfl.ch:8042/node/containerlogs/container_e06_1589299642358_3509_01_000001/ebouille\">Link</a></td><td></td></tr><tr><td>8983</td><td>application_1589299642358_3520</td><td>pyspark</td><td>idle</td><td><a target=\"_blank\" href=\"http://iccluster044.iccluster.epfl.ch:8088/proxy/application_1589299642358_3520/\">Link</a></td><td><a target=\"_blank\" href=\"http://iccluster066.iccluster.epfl.ch:8042/node/containerlogs/container_e06_1589299642358_3520_01_000001/ebouille\">Link</a></td><td></td></tr><tr><td>8985</td><td>application_1589299642358_3522</td><td>pyspark</td><td>idle</td><td><a target=\"_blank\" href=\"http://iccluster044.iccluster.epfl.ch:8088/proxy/application_1589299642358_3522/\">Link</a></td><td><a target=\"_blank\" href=\"http://iccluster070.iccluster.epfl.ch:8042/node/containerlogs/container_e06_1589299642358_3522_01_000001/ebouille\">Link</a></td><td></td></tr><tr><td>8986</td><td>application_1589299642358_3523</td><td>pyspark</td><td>idle</td><td><a target=\"_blank\" href=\"http://iccluster044.iccluster.epfl.ch:8088/proxy/application_1589299642358_3523/\">Link</a></td><td><a target=\"_blank\" href=\"http://iccluster071.iccluster.epfl.ch:8042/node/containerlogs/container_e06_1589299642358_3523_01_000001/ebouille\">Link</a></td><td></td></tr><tr><td>8996</td><td>application_1589299642358_3534</td><td>pyspark</td><td>idle</td><td><a target=\"_blank\" href=\"http://iccluster044.iccluster.epfl.ch:8088/proxy/application_1589299642358_3534/\">Link</a></td><td><a target=\"_blank\" href=\"http://iccluster069.iccluster.epfl.ch:8042/node/containerlogs/container_e06_1589299642358_3534_01_000001/ebouille\">Link</a></td><td></td></tr><tr><td>8997</td><td>application_1589299642358_3535</td><td>pyspark</td><td>idle</td><td><a target=\"_blank\" href=\"http://iccluster044.iccluster.epfl.ch:8088/proxy/application_1589299642358_3535/\">Link</a></td><td><a target=\"_blank\" href=\"http://iccluster071.iccluster.epfl.ch:8042/node/containerlogs/container_e06_1589299642358_3535_01_000001/ebouille\">Link</a></td><td></td></tr><tr><td>8998</td><td>application_1589299642358_3536</td><td>pyspark</td><td>idle</td><td><a target=\"_blank\" href=\"http://iccluster044.iccluster.epfl.ch:8088/proxy/application_1589299642358_3536/\">Link</a></td><td><a target=\"_blank\" href=\"http://iccluster065.iccluster.epfl.ch:8042/node/containerlogs/container_e06_1589299642358_3536_01_000001/ebouille\">Link</a></td><td></td></tr><tr><td>8999</td><td>application_1589299642358_3537</td><td>pyspark</td><td>idle</td><td><a target=\"_blank\" href=\"http://iccluster044.iccluster.epfl.ch:8088/proxy/application_1589299642358_3537/\">Link</a></td><td><a target=\"_blank\" href=\"http://iccluster065.iccluster.epfl.ch:8042/node/containerlogs/container_e06_1589299642358_3537_01_000001/ebouille\">Link</a></td><td></td></tr><tr><td>9000</td><td>application_1589299642358_3538</td><td>pyspark</td><td>idle</td><td><a target=\"_blank\" href=\"http://iccluster044.iccluster.epfl.ch:8088/proxy/application_1589299642358_3538/\">Link</a></td><td><a target=\"_blank\" href=\"http://iccluster065.iccluster.epfl.ch:8042/node/containerlogs/container_e06_1589299642358_3538_01_000001/ebouille\">Link</a></td><td></td></tr><tr><td>9001</td><td>application_1589299642358_3539</td><td>pyspark</td><td>idle</td><td><a target=\"_blank\" href=\"http://iccluster044.iccluster.epfl.ch:8088/proxy/application_1589299642358_3539/\">Link</a></td><td><a target=\"_blank\" href=\"http://iccluster070.iccluster.epfl.ch:8042/node/containerlogs/container_e06_1589299642358_3539_01_000001/ebouille\">Link</a></td><td></td></tr><tr><td>9002</td><td>application_1589299642358_3540</td><td>pyspark</td><td>idle</td><td><a target=\"_blank\" href=\"http://iccluster044.iccluster.epfl.ch:8088/proxy/application_1589299642358_3540/\">Link</a></td><td><a target=\"_blank\" href=\"http://iccluster065.iccluster.epfl.ch:8042/node/containerlogs/container_e06_1589299642358_3540_01_000001/ebouille\">Link</a></td><td></td></tr><tr><td>9003</td><td>application_1589299642358_3541</td><td>pyspark</td><td>busy</td><td><a target=\"_blank\" href=\"http://iccluster044.iccluster.epfl.ch:8088/proxy/application_1589299642358_3541/\">Link</a></td><td><a target=\"_blank\" href=\"http://iccluster068.iccluster.epfl.ch:8042/node/containerlogs/container_e06_1589299642358_3541_01_000001/ebouille\">Link</a></td><td></td></tr><tr><td>9004</td><td>application_1589299642358_3542</td><td>pyspark</td><td>idle</td><td><a target=\"_blank\" href=\"http://iccluster044.iccluster.epfl.ch:8088/proxy/application_1589299642358_3542/\">Link</a></td><td><a target=\"_blank\" href=\"http://iccluster065.iccluster.epfl.ch:8042/node/containerlogs/container_e06_1589299642358_3542_01_000001/ebouille\">Link</a></td><td></td></tr><tr><td>9005</td><td>application_1589299642358_3544</td><td>pyspark</td><td>idle</td><td><a target=\"_blank\" href=\"http://iccluster044.iccluster.epfl.ch:8088/proxy/application_1589299642358_3544/\">Link</a></td><td><a target=\"_blank\" href=\"http://iccluster067.iccluster.epfl.ch:8042/node/containerlogs/container_e06_1589299642358_3544_01_000001/ebouille\">Link</a></td><td></td></tr><tr><td>9006</td><td>application_1589299642358_3545</td><td>pyspark</td><td>idle</td><td><a target=\"_blank\" href=\"http://iccluster044.iccluster.epfl.ch:8088/proxy/application_1589299642358_3545/\">Link</a></td><td><a target=\"_blank\" href=\"http://iccluster072.iccluster.epfl.ch:8042/node/containerlogs/container_e06_1589299642358_3545_01_000001/ebouille\">Link</a></td><td></td></tr><tr><td>9007</td><td>application_1589299642358_3546</td><td>pyspark</td><td>idle</td><td><a target=\"_blank\" href=\"http://iccluster044.iccluster.epfl.ch:8088/proxy/application_1589299642358_3546/\">Link</a></td><td><a target=\"_blank\" href=\"http://iccluster072.iccluster.epfl.ch:8042/node/containerlogs/container_e06_1589299642358_3546_01_000001/ebouille\">Link</a></td><td></td></tr><tr><td>9011</td><td>application_1589299642358_3550</td><td>pyspark</td><td>idle</td><td><a target=\"_blank\" href=\"http://iccluster044.iccluster.epfl.ch:8088/proxy/application_1589299642358_3550/\">Link</a></td><td><a target=\"_blank\" href=\"http://iccluster071.iccluster.epfl.ch:8042/node/containerlogs/container_e06_1589299642358_3550_01_000001/ebouille\">Link</a></td><td></td></tr><tr><td>9012</td><td>application_1589299642358_3551</td><td>pyspark</td><td>busy</td><td><a target=\"_blank\" href=\"http://iccluster044.iccluster.epfl.ch:8088/proxy/application_1589299642358_3551/\">Link</a></td><td><a target=\"_blank\" href=\"http://iccluster068.iccluster.epfl.ch:8042/node/containerlogs/container_e06_1589299642358_3551_01_000001/ebouille\">Link</a></td><td></td></tr><tr><td>9013</td><td>application_1589299642358_3552</td><td>pyspark</td><td>idle</td><td><a target=\"_blank\" href=\"http://iccluster044.iccluster.epfl.ch:8088/proxy/application_1589299642358_3552/\">Link</a></td><td><a target=\"_blank\" href=\"http://iccluster070.iccluster.epfl.ch:8042/node/containerlogs/container_e06_1589299642358_3552_01_000001/ebouille\">Link</a></td><td></td></tr><tr><td>9014</td><td>application_1589299642358_3554</td><td>pyspark</td><td>idle</td><td><a target=\"_blank\" href=\"http://iccluster044.iccluster.epfl.ch:8088/proxy/application_1589299642358_3554/\">Link</a></td><td><a target=\"_blank\" href=\"http://iccluster069.iccluster.epfl.ch:8042/node/containerlogs/container_e06_1589299642358_3554_01_000001/ebouille\">Link</a></td><td></td></tr><tr><td>9015</td><td>application_1589299642358_3555</td><td>pyspark</td><td>idle</td><td><a target=\"_blank\" href=\"http://iccluster044.iccluster.epfl.ch:8088/proxy/application_1589299642358_3555/\">Link</a></td><td><a target=\"_blank\" href=\"http://iccluster069.iccluster.epfl.ch:8042/node/containerlogs/container_e06_1589299642358_3555_01_000001/ebouille\">Link</a></td><td></td></tr><tr><td>9018</td><td>application_1589299642358_3559</td><td>pyspark</td><td>idle</td><td><a target=\"_blank\" href=\"http://iccluster044.iccluster.epfl.ch:8088/proxy/application_1589299642358_3559/\">Link</a></td><td><a target=\"_blank\" href=\"http://iccluster065.iccluster.epfl.ch:8042/node/containerlogs/container_e06_1589299642358_3559_01_000001/ebouille\">Link</a></td><td></td></tr><tr><td>9019</td><td>application_1589299642358_3560</td><td>pyspark</td><td>idle</td><td><a target=\"_blank\" href=\"http://iccluster044.iccluster.epfl.ch:8088/proxy/application_1589299642358_3560/\">Link</a></td><td><a target=\"_blank\" href=\"http://iccluster065.iccluster.epfl.ch:8042/node/containerlogs/container_e06_1589299642358_3560_01_000001/ebouille\">Link</a></td><td></td></tr><tr><td>9022</td><td>application_1589299642358_3564</td><td>pyspark</td><td>idle</td><td><a target=\"_blank\" href=\"http://iccluster044.iccluster.epfl.ch:8088/proxy/application_1589299642358_3564/\">Link</a></td><td><a target=\"_blank\" href=\"http://iccluster071.iccluster.epfl.ch:8042/node/containerlogs/container_e06_1589299642358_3564_01_000001/ebouille\">Link</a></td><td></td></tr><tr><td>9023</td><td>application_1589299642358_3565</td><td>pyspark</td><td>idle</td><td><a target=\"_blank\" href=\"http://iccluster044.iccluster.epfl.ch:8088/proxy/application_1589299642358_3565/\">Link</a></td><td><a target=\"_blank\" href=\"http://iccluster067.iccluster.epfl.ch:8042/node/containerlogs/container_e06_1589299642358_3565_01_000001/ebouille\">Link</a></td><td></td></tr><tr><td>9025</td><td>application_1589299642358_3568</td><td>pyspark</td><td>idle</td><td><a target=\"_blank\" href=\"http://iccluster044.iccluster.epfl.ch:8088/proxy/application_1589299642358_3568/\">Link</a></td><td><a target=\"_blank\" href=\"http://iccluster068.iccluster.epfl.ch:8042/node/containerlogs/container_e06_1589299642358_3568_01_000001/ebouille\">Link</a></td><td></td></tr><tr><td>9028</td><td>application_1589299642358_3573</td><td>pyspark</td><td>idle</td><td><a target=\"_blank\" href=\"http://iccluster044.iccluster.epfl.ch:8088/proxy/application_1589299642358_3573/\">Link</a></td><td><a target=\"_blank\" href=\"http://iccluster068.iccluster.epfl.ch:8042/node/containerlogs/container_e06_1589299642358_3573_01_000001/ebouille\">Link</a></td><td></td></tr><tr><td>9029</td><td>application_1589299642358_3574</td><td>pyspark</td><td>busy</td><td><a target=\"_blank\" href=\"http://iccluster044.iccluster.epfl.ch:8088/proxy/application_1589299642358_3574/\">Link</a></td><td><a target=\"_blank\" href=\"http://iccluster068.iccluster.epfl.ch:8042/node/containerlogs/container_e06_1589299642358_3574_01_000001/ebouille\">Link</a></td><td></td></tr></table>"
      ],
      "text/plain": [
       "<IPython.core.display.HTML object>"
      ]
     },
     "metadata": {},
     "output_type": "display_data"
    }
   ],
   "source": [
    "%%configure\n",
    "{\"conf\": {\n",
    "    \"spark.app.name\": \"dslab-group_final\"\n",
    "}}"
   ]
  },
  {
   "cell_type": "code",
   "execution_count": 2,
   "metadata": {},
   "outputs": [
    {
     "name": "stdout",
     "output_type": "stream",
     "text": [
      "Starting Spark application\n"
     ]
    },
    {
     "data": {
      "text/html": [
       "<table>\n",
       "<tr><th>ID</th><th>YARN Application ID</th><th>Kind</th><th>State</th><th>Spark UI</th><th>Driver log</th><th>Current session?</th></tr><tr><td>9032</td><td>application_1589299642358_3578</td><td>pyspark</td><td>idle</td><td><a target=\"_blank\" href=\"http://iccluster044.iccluster.epfl.ch:8088/proxy/application_1589299642358_3578/\">Link</a></td><td><a target=\"_blank\" href=\"http://iccluster066.iccluster.epfl.ch:8042/node/containerlogs/container_e06_1589299642358_3578_01_000001/ebouille\">Link</a></td><td>✔</td></tr></table>"
      ],
      "text/plain": [
       "<IPython.core.display.HTML object>"
      ]
     },
     "metadata": {},
     "output_type": "display_data"
    },
    {
     "data": {
      "application/vnd.jupyter.widget-view+json": {
       "model_id": "",
       "version_major": 2,
       "version_minor": 0
      },
      "text/plain": [
       "FloatProgress(value=0.0, bar_style='info', description='Progress:', layout=Layout(height='25px', width='50%'),…"
      ]
     },
     "metadata": {},
     "output_type": "display_data"
    },
    {
     "name": "stdout",
     "output_type": "stream",
     "text": [
      "SparkSession available as 'spark'.\n"
     ]
    },
    {
     "data": {
      "application/vnd.jupyter.widget-view+json": {
       "model_id": "",
       "version_major": 2,
       "version_minor": 0
      },
      "text/plain": [
       "FloatProgress(value=0.0, bar_style='info', description='Progress:', layout=Layout(height='25px', width='50%'),…"
      ]
     },
     "metadata": {},
     "output_type": "display_data"
    }
   ],
   "source": [
    "from pyspark.sql.functions import col, udf, lit\n",
    "from pyspark.sql.types import IntegerType"
   ]
  },
  {
   "cell_type": "code",
   "execution_count": 3,
   "metadata": {},
   "outputs": [],
   "source": [
    "%%local\n",
    "import os\n",
    "username = os.environ['JUPYTERHUB_USER']"
   ]
  },
  {
   "cell_type": "code",
   "execution_count": 4,
   "metadata": {},
   "outputs": [
    {
     "data": {
      "application/vnd.jupyter.widget-view+json": {
       "model_id": "",
       "version_major": 2,
       "version_minor": 0
      },
      "text/plain": [
       "FloatProgress(value=0.0, bar_style='info', description='Progress:', layout=Layout(height='25px', width='50%'),…"
      ]
     },
     "metadata": {},
     "output_type": "display_data"
    },
    {
     "name": "stdout",
     "output_type": "stream",
     "text": [
      "Successfully passed 'username' as 'username' to Spark kernel"
     ]
    }
   ],
   "source": [
    "%%send_to_spark -i username -t str -n username"
   ]
  },
  {
   "cell_type": "markdown",
   "metadata": {},
   "source": [
    "## Create a new edge dataframe:\n",
    "\n",
    "**TO COMPLETE**"
   ]
  },
  {
   "cell_type": "markdown",
   "metadata": {},
   "source": [
    "### Load data:"
   ]
  },
  {
   "cell_type": "code",
   "execution_count": 5,
   "metadata": {},
   "outputs": [
    {
     "data": {
      "application/vnd.jupyter.widget-view+json": {
       "model_id": "",
       "version_major": 2,
       "version_minor": 0
      },
      "text/plain": [
       "FloatProgress(value=0.0, bar_style='info', description='Progress:', layout=Layout(height='25px', width='50%'),…"
      ]
     },
     "metadata": {},
     "output_type": "display_data"
    },
    {
     "name": "stdout",
     "output_type": "stream",
     "text": [
      "+--------------------+----------+-------+------------+--------------+------------+-------------+\n",
      "|             trip_id|route_desc|stop_id|arrival_time|departure_time|   next_stop|trip_duration|\n",
      "+--------------------+----------+-------+------------+--------------+------------+-------------+\n",
      "|256.TA.26-10-B-j1...|    S-Bahn|8503090|         804|           804|8503088:0:22|          3.0|\n",
      "|256.TA.26-10-B-j1...|    S-Bahn|8503051|         801|           802|     8503090|          2.0|\n",
      "|256.TA.26-10-B-j1...|    S-Bahn|8503052|         800|           800|     8503051|          1.0|\n",
      "|256.TA.26-10-B-j1...|    S-Bahn|8503053|         799|           799|     8503052|          1.0|\n",
      "|256.TA.26-10-B-j1...|    S-Bahn|8503054|         797|           797|     8503053|          2.0|\n",
      "|256.TA.26-10-B-j1...|    S-Bahn|8503055|         792|           793|     8503054|          4.0|\n",
      "|256.TA.26-10-B-j1...|    S-Bahn|8503056|         790|           790|     8503055|          2.0|\n",
      "|256.TA.26-10-B-j1...|    S-Bahn|8503057|         785|           785|     8503056|          5.0|\n",
      "|27.TA.26-4-B-j19-...|    S-Bahn|8503090|         928|           928|8503088:0:21|          3.0|\n",
      "|27.TA.26-4-B-j19-...|    S-Bahn|8503091|         926|           926|     8503090|          2.0|\n",
      "|27.TA.26-4-B-j19-...|    S-Bahn|8503087|         924|           924|     8503091|          2.0|\n",
      "|27.TA.26-4-B-j19-...|    S-Bahn|8503086|         922|           922|     8503087|          2.0|\n",
      "|27.TA.26-4-B-j19-...|    S-Bahn|8503093|         920|           920|     8503086|          2.0|\n",
      "|27.TA.26-4-B-j19-...|    S-Bahn|8503094|         919|           919|     8503093|          1.0|\n",
      "|27.TA.26-4-B-j19-...|    S-Bahn|8503095|         916|           916|     8503094|          3.0|\n",
      "|27.TA.26-4-B-j19-...|    S-Bahn|8503096|         915|           915|     8503095|          1.0|\n",
      "|27.TA.26-4-B-j19-...|    S-Bahn|8503099|         913|           913|     8503096|          2.0|\n",
      "|27.TA.26-4-B-j19-...|    S-Bahn|8503089|         911|           911|     8503099|          2.0|\n",
      "|27.TA.26-4-B-j19-...|    S-Bahn|8503097|         910|           910|     8503089|          1.0|\n",
      "|43.TA.26-813-j19-...|       Bus|8581548|         701|           701|     8573504|          1.0|\n",
      "+--------------------+----------+-------+------------+--------------+------------+-------------+\n",
      "only showing top 20 rows"
     ]
    }
   ],
   "source": [
    "edges_df = spark.read.orc(\"/user/{}/edges.orc\".format(username))\n",
    "delays = spark.read.orc(\"/user/{}/delay_distribution_percentiles.orc\".format(username))\n",
    "trips = spark.read.format('orc').load('/data/sbb/timetables/orc/trips/000000_0')\n",
    "routes = spark.read.format('orc').load('/data/sbb/timetables/orc/routes/000000_0')\n",
    "\n",
    "edges_with_route = trips.join(routes, 'route_id').select(col('trip_id'), col('route_desc')).distinct()\\\n",
    "                        .join(edges_df, 'trip_id')\n",
    "edges_with_route.show()"
   ]
  },
  {
   "cell_type": "markdown",
   "metadata": {},
   "source": [
    "### Add transportation type and mean,std:"
   ]
  },
  {
   "cell_type": "markdown",
   "metadata": {},
   "source": [
    "Create a dictionnary for transportation types:"
   ]
  },
  {
   "cell_type": "code",
   "execution_count": 6,
   "metadata": {},
   "outputs": [
    {
     "data": {
      "application/vnd.jupyter.widget-view+json": {
       "model_id": "",
       "version_major": 2,
       "version_minor": 0
      },
      "text/plain": [
       "FloatProgress(value=0.0, bar_style='info', description='Progress:', layout=Layout(height='25px', width='50%'),…"
      ]
     },
     "metadata": {},
     "output_type": "display_data"
    }
   ],
   "source": [
    "translate_route_desc = {\n",
    "    'TGV': 'TGV',\n",
    "    'Eurocity': 'EC',\n",
    "    'tandseilbahn': 'AT',\n",
    "    'Regionalzug': 'R',\n",
    "    'RegioExpress': 'RE',\n",
    "    'S-Bahn': 'S',\n",
    "    'Luftseilbahn': '',\n",
    "    'Sesselbahn': '',\n",
    "    'Taxi': '',\n",
    "    'Fähre': '',\n",
    "    'Tram': 'Tram',\n",
    "    'ICE': 'ICE',\n",
    "    'Bus': 'Bus',\n",
    "    'Gondelbahn': '',\n",
    "    'Nacht-Zug': '',\n",
    "    'Standseilbahn': 'AT',\n",
    "    'Auoreisezug': 'ARZ',\n",
    "    'Eurostar': 'EC',\n",
    "    'Schiff': '',\n",
    "    'Schnellzug': 'TGV',\n",
    "    'Intercity': 'IC',\n",
    "    'InterRegio': 'IR',\n",
    "    'Extrazug': 'EXT',\n",
    "    'Metro': 'Metro'\n",
    "}"
   ]
  },
  {
   "cell_type": "code",
   "execution_count": 7,
   "metadata": {},
   "outputs": [
    {
     "data": {
      "application/vnd.jupyter.widget-view+json": {
       "model_id": "",
       "version_major": 2,
       "version_minor": 0
      },
      "text/plain": [
       "FloatProgress(value=0.0, bar_style='info', description='Progress:', layout=Layout(height='25px', width='50%'),…"
      ]
     },
     "metadata": {},
     "output_type": "display_data"
    }
   ],
   "source": [
    "@udf(\"string\")\n",
    "def translate_dict(text):\n",
    "    return translate_route_desc[text]\n",
    "\n",
    "@udf('string')\n",
    "def truncate_stop_id_column(s):\n",
    "    return s.split(':')[0]\n",
    "\n",
    "@udf('string')\n",
    "def truncate_stop_id_len(s):\n",
    "    return str(s)[:7]\n",
    "\n",
    "@udf('long')\n",
    "def leng(s):\n",
    "    return len(str(s))"
   ]
  },
  {
   "cell_type": "code",
   "execution_count": 8,
   "metadata": {},
   "outputs": [
    {
     "data": {
      "application/vnd.jupyter.widget-view+json": {
       "model_id": "",
       "version_major": 2,
       "version_minor": 0
      },
      "text/plain": [
       "FloatProgress(value=0.0, bar_style='info', description='Progress:', layout=Layout(height='25px', width='50%'),…"
      ]
     },
     "metadata": {},
     "output_type": "display_data"
    }
   ],
   "source": [
    "edges_with_route = edges_with_route.withColumn('route_desc_translated', translate_dict(col('route_desc')))\\\n",
    "                                       .withColumn('hour', (col('arrival_time')/60).cast(IntegerType()))\\\n",
    "                                       .withColumn('truncated_stop_id', truncate_stop_id_column(col('stop_id'))).cache()"
   ]
  },
  {
   "cell_type": "code",
   "execution_count": 9,
   "metadata": {},
   "outputs": [
    {
     "data": {
      "application/vnd.jupyter.widget-view+json": {
       "model_id": "",
       "version_major": 2,
       "version_minor": 0
      },
      "text/plain": [
       "FloatProgress(value=0.0, bar_style='info', description='Progress:', layout=Layout(height='25px', width='50%'),…"
      ]
     },
     "metadata": {},
     "output_type": "display_data"
    }
   ],
   "source": [
    "delays = delays.select((col('mean')/60).alias('mean'), (col('std')/60).alias('std'),\n",
    "                       (col('p_90')/60).alias('p_90'), (col('p_91')/60).alias('p_91'), (col('p_92')/60).alias('p_92'), (col('p_93')/60).alias('p_93'), (col('p_94')/60).alias('p_94'), (col('p_95')/60).alias('p_95'), (col('p_96')/60).alias('p_96'), (col('p_97')/60).alias('p_97'), (col('p_98')/60).alias('p_98'), (col('p_99')/60).alias('p_99'),\n",
    "                       col('hour').alias('hour_2'), col('stop_id').alias('stop_id_2'), col('verkehrsmittel_text'))\\\n",
    "               .withColumn('truncated_stop_id', truncate_stop_id_len(col('stop_id_2')))"
   ]
  },
  {
   "cell_type": "code",
   "execution_count": 10,
   "metadata": {},
   "outputs": [
    {
     "data": {
      "application/vnd.jupyter.widget-view+json": {
       "model_id": "",
       "version_major": 2,
       "version_minor": 0
      },
      "text/plain": [
       "FloatProgress(value=0.0, bar_style='info', description='Progress:', layout=Layout(height='25px', width='50%'),…"
      ]
     },
     "metadata": {},
     "output_type": "display_data"
    }
   ],
   "source": [
    "edges_final = edges_with_route.join(delays, (edges_with_route.hour == delays.hour_2) &\\\n",
    "                                            (edges_with_route.truncated_stop_id == delays.truncated_stop_id) &\\\n",
    "                                            (edges_with_route.route_desc_translated == delays.verkehrsmittel_text), how='left')"
   ]
  },
  {
   "cell_type": "markdown",
   "metadata": {},
   "source": [
    "Create edges dataframe with the following information:\n",
    " - trip_id\n",
    " - stop_id\n",
    " - train_type\n",
    " - arrival_time\n",
    " - departure_time\n",
    " - next_stop\n",
    " - trip_duration\n",
    " - mean\n",
    " - std \n",
    " \n",
    "From the original edges dataframe (from `edges.orc`, we now add mean, std and train information)"
   ]
  },
  {
   "cell_type": "code",
   "execution_count": 11,
   "metadata": {},
   "outputs": [
    {
     "data": {
      "application/vnd.jupyter.widget-view+json": {
       "model_id": "",
       "version_major": 2,
       "version_minor": 0
      },
      "text/plain": [
       "FloatProgress(value=0.0, bar_style='info', description='Progress:', layout=Layout(height='25px', width='50%'),…"
      ]
     },
     "metadata": {},
     "output_type": "display_data"
    }
   ],
   "source": [
    "edges_final = edges_final.select('trip_id', 'stop_id', col('route_desc').alias('train_type'),\n",
    "                                 'arrival_time', 'departure_time', 'next_stop', 'trip_duration', 'mean', 'std',\n",
    "                                 'p_90', 'p_91', 'p_92', 'p_93', 'p_94', 'p_95', 'p_96', 'p_97', 'p_98', 'p_99').cache()"
   ]
  },
  {
   "cell_type": "code",
   "execution_count": 12,
   "metadata": {},
   "outputs": [
    {
     "data": {
      "application/vnd.jupyter.widget-view+json": {
       "model_id": "",
       "version_major": 2,
       "version_minor": 0
      },
      "text/plain": [
       "FloatProgress(value=0.0, bar_style='info', description='Progress:', layout=Layout(height='25px', width='50%'),…"
      ]
     },
     "metadata": {},
     "output_type": "display_data"
    },
    {
     "name": "stderr",
     "output_type": "stream",
     "text": [
      "An error was encountered:\n",
      "name 'mean_std_distributions' is not defined\n",
      "Traceback (most recent call last):\n",
      "NameError: name 'mean_std_distributions' is not defined\n",
      "\n"
     ]
    }
   ],
   "source": [
    "print('Replacing ->')\n",
    "`mean_std_distributions.pickle`.show(5)\n",
    "print('With ->')\n",
    "edges_final.filter(~col('mean').isNull()).show(5)"
   ]
  },
  {
   "cell_type": "markdown",
   "metadata": {},
   "source": [
    "#### Check how many edges have no mean or std information:"
   ]
  },
  {
   "cell_type": "code",
   "execution_count": 13,
   "metadata": {},
   "outputs": [
    {
     "data": {
      "application/vnd.jupyter.widget-view+json": {
       "model_id": "",
       "version_major": 2,
       "version_minor": 0
      },
      "text/plain": [
       "FloatProgress(value=0.0, bar_style='info', description='Progress:', layout=Layout(height='25px', width='50%'),…"
      ]
     },
     "metadata": {},
     "output_type": "display_data"
    },
    {
     "name": "stdout",
     "output_type": "stream",
     "text": [
      "46.56990280892876"
     ]
    }
   ],
   "source": [
    "(edges_final.filter(col('mean').isNull() | col('std').isNull()).count() \n",
    " / float(edges_final.filter(~col('mean').isNull() & ~col('std').isNull()).count()))"
   ]
  },
  {
   "cell_type": "code",
   "execution_count": 16,
   "metadata": {},
   "outputs": [
    {
     "data": {
      "application/vnd.jupyter.widget-view+json": {
       "model_id": "",
       "version_major": 2,
       "version_minor": 0
      },
      "text/plain": [
       "FloatProgress(value=0.0, bar_style='info', description='Progress:', layout=Layout(height='25px', width='50%'),…"
      ]
     },
     "metadata": {},
     "output_type": "display_data"
    },
    {
     "name": "stdout",
     "output_type": "stream",
     "text": [
      "Proportion of null values:\n",
      "\tMean: 0.979\n",
      "\tStd: 0.979"
     ]
    }
   ],
   "source": [
    "print('Proportion of null values:\\n\\tMean: {:.3f}'\n",
    "      .format(edges_final.filter(col('mean').isNull()).count() / float(edges_final.count())))\n",
    "print('\\tStd: {:.3f}'.format(edges_final.filter(col('std').isNull()).count() / float(edges_final.count())))"
   ]
  },
  {
   "cell_type": "markdown",
   "metadata": {},
   "source": [
    "Notice that most edges have statistical information about the mean and std. For those that have no values, we will replace the mean by the duration of the trip and std by 0 in further computations. "
   ]
  },
  {
   "cell_type": "markdown",
   "metadata": {},
   "source": [
    "#### Write the edges to orc:"
   ]
  },
  {
   "cell_type": "code",
   "execution_count": 15,
   "metadata": {},
   "outputs": [
    {
     "data": {
      "application/vnd.jupyter.widget-view+json": {
       "model_id": "",
       "version_major": 2,
       "version_minor": 0
      },
      "text/plain": [
       "FloatProgress(value=0.0, bar_style='info', description='Progress:', layout=Layout(height='25px', width='50%'),…"
      ]
     },
     "metadata": {},
     "output_type": "display_data"
    }
   ],
   "source": [
    "edges_final.write.format(\"orc\").mode('overwrite').save(\"/user/{}/edges_with_mean_and_std_sec.orc\".format(username))"
   ]
  },
  {
   "cell_type": "code",
   "execution_count": 21,
   "metadata": {},
   "outputs": [
    {
     "data": {
      "application/vnd.jupyter.widget-view+json": {
       "model_id": "",
       "version_major": 2,
       "version_minor": 0
      },
      "text/plain": [
       "FloatProgress(value=0.0, bar_style='info', description='Progress:', layout=Layout(height='25px', width='50%'),…"
      ]
     },
     "metadata": {},
     "output_type": "display_data"
    },
    {
     "name": "stdout",
     "output_type": "stream",
     "text": [
      "1308102"
     ]
    }
   ],
   "source": [
    "edges_final.filter(col('mean').isNull()).count()"
   ]
  },
  {
   "cell_type": "code",
   "execution_count": 22,
   "metadata": {},
   "outputs": [
    {
     "data": {
      "application/vnd.jupyter.widget-view+json": {
       "model_id": "",
       "version_major": 2,
       "version_minor": 0
      },
      "text/plain": [
       "FloatProgress(value=0.0, bar_style='info', description='Progress:', layout=Layout(height='25px', width='50%'),…"
      ]
     },
     "metadata": {},
     "output_type": "display_data"
    },
    {
     "name": "stdout",
     "output_type": "stream",
     "text": [
      "1336191"
     ]
    }
   ],
   "source": [
    "edges_final.count()"
   ]
  }
 ],
 "metadata": {
  "kernelspec": {
   "display_name": "PySpark",
   "language": "",
   "name": "pysparkkernel"
  },
  "language_info": {
   "codemirror_mode": {
    "name": "python",
    "version": 3
   },
   "mimetype": "text/x-python",
   "name": "pyspark",
   "pygments_lexer": "python3"
  }
 },
 "nbformat": 4,
 "nbformat_minor": 4
}
