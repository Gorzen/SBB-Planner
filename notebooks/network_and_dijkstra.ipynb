{
 "cells": [
  {
   "cell_type": "markdown",
   "metadata": {},
   "source": [
    "# SBB planner 2.0.\n",
    "\n",
    "1. Construct `stop_times_zurich` (now it uses the graph to get nodes, but unecessary), cache it\n",
    "2. Planner, when user asks journey:\n",
    "    1. Create graph (2 hours before arrival)\n",
    "    2. Create 2nd graph with only stations and edges reachable from Zürich\n",
    "    3. Compute paths\n",
    "    4. Find shortest path"
   ]
  },
  {
   "cell_type": "markdown",
   "metadata": {},
   "source": [
    "## 1. Setup:\n",
    "\n",
    "First we setup our spark application and load the necessary data containing information about specific transit information:  \n",
    "- `stop_times.txt` : arrival and departure times at stops\n",
    "- `stops.txt` : information about stops \n",
    "- `trips.txt` : information about journeys\n",
    "- `calendar.txt` : information about which servcies are active on which dates"
   ]
  },
  {
   "cell_type": "markdown",
   "metadata": {},
   "source": [
    "#### Set up spark:"
   ]
  },
  {
   "cell_type": "code",
   "execution_count": 1,
   "metadata": {},
   "outputs": [
    {
     "data": {
      "text/html": [
       "Current session configs: <tt>{'conf': {'spark.app.name': 'dslab-group_final'}, 'kind': 'pyspark'}</tt><br>"
      ],
      "text/plain": [
       "<IPython.core.display.HTML object>"
      ]
     },
     "metadata": {},
     "output_type": "display_data"
    },
    {
     "data": {
      "text/html": [
       "<table>\n",
       "<tr><th>ID</th><th>YARN Application ID</th><th>Kind</th><th>State</th><th>Spark UI</th><th>Driver log</th><th>Current session?</th></tr><tr><td>6512</td><td>application_1589299642358_1001</td><td>pyspark</td><td>idle</td><td><a target=\"_blank\" href=\"http://iccluster044.iccluster.epfl.ch:8088/proxy/application_1589299642358_1001/\">Link</a></td><td><a target=\"_blank\" href=\"http://iccluster068.iccluster.epfl.ch:8042/node/containerlogs/container_e06_1589299642358_1001_01_000001/ebouille\">Link</a></td><td></td></tr><tr><td>6531</td><td>application_1589299642358_1020</td><td>pyspark</td><td>idle</td><td><a target=\"_blank\" href=\"http://iccluster044.iccluster.epfl.ch:8088/proxy/application_1589299642358_1020/\">Link</a></td><td><a target=\"_blank\" href=\"http://iccluster065.iccluster.epfl.ch:8042/node/containerlogs/container_e06_1589299642358_1020_01_000001/ebouille\">Link</a></td><td></td></tr><tr><td>6532</td><td>application_1589299642358_1021</td><td>pyspark</td><td>busy</td><td><a target=\"_blank\" href=\"http://iccluster044.iccluster.epfl.ch:8088/proxy/application_1589299642358_1021/\">Link</a></td><td><a target=\"_blank\" href=\"http://iccluster069.iccluster.epfl.ch:8042/node/containerlogs/container_e06_1589299642358_1021_01_000001/ebouille\">Link</a></td><td></td></tr><tr><td>6538</td><td>application_1589299642358_1027</td><td>pyspark</td><td>idle</td><td><a target=\"_blank\" href=\"http://iccluster044.iccluster.epfl.ch:8088/proxy/application_1589299642358_1027/\">Link</a></td><td><a target=\"_blank\" href=\"http://iccluster070.iccluster.epfl.ch:8042/node/containerlogs/container_e06_1589299642358_1027_01_000001/ebouille\">Link</a></td><td></td></tr><tr><td>6542</td><td>application_1589299642358_1031</td><td>pyspark</td><td>idle</td><td><a target=\"_blank\" href=\"http://iccluster044.iccluster.epfl.ch:8088/proxy/application_1589299642358_1031/\">Link</a></td><td><a target=\"_blank\" href=\"http://iccluster072.iccluster.epfl.ch:8042/node/containerlogs/container_e06_1589299642358_1031_01_000001/ebouille\">Link</a></td><td></td></tr><tr><td>6543</td><td>application_1589299642358_1032</td><td>pyspark</td><td>idle</td><td><a target=\"_blank\" href=\"http://iccluster044.iccluster.epfl.ch:8088/proxy/application_1589299642358_1032/\">Link</a></td><td><a target=\"_blank\" href=\"http://iccluster066.iccluster.epfl.ch:8042/node/containerlogs/container_e06_1589299642358_1032_01_000001/ebouille\">Link</a></td><td></td></tr><tr><td>6545</td><td>application_1589299642358_1034</td><td>pyspark</td><td>idle</td><td><a target=\"_blank\" href=\"http://iccluster044.iccluster.epfl.ch:8088/proxy/application_1589299642358_1034/\">Link</a></td><td><a target=\"_blank\" href=\"http://iccluster071.iccluster.epfl.ch:8042/node/containerlogs/container_e06_1589299642358_1034_01_000001/ebouille\">Link</a></td><td></td></tr><tr><td>6548</td><td>application_1589299642358_1037</td><td>pyspark</td><td>busy</td><td><a target=\"_blank\" href=\"http://iccluster044.iccluster.epfl.ch:8088/proxy/application_1589299642358_1037/\">Link</a></td><td><a target=\"_blank\" href=\"http://iccluster066.iccluster.epfl.ch:8042/node/containerlogs/container_e06_1589299642358_1037_01_000001/ebouille\">Link</a></td><td></td></tr><tr><td>6550</td><td>application_1589299642358_1039</td><td>pyspark</td><td>idle</td><td><a target=\"_blank\" href=\"http://iccluster044.iccluster.epfl.ch:8088/proxy/application_1589299642358_1039/\">Link</a></td><td><a target=\"_blank\" href=\"http://iccluster065.iccluster.epfl.ch:8042/node/containerlogs/container_e06_1589299642358_1039_01_000001/ebouille\">Link</a></td><td></td></tr><tr><td>6552</td><td>application_1589299642358_1041</td><td>pyspark</td><td>idle</td><td><a target=\"_blank\" href=\"http://iccluster044.iccluster.epfl.ch:8088/proxy/application_1589299642358_1041/\">Link</a></td><td><a target=\"_blank\" href=\"http://iccluster071.iccluster.epfl.ch:8042/node/containerlogs/container_e06_1589299642358_1041_01_000001/ebouille\">Link</a></td><td></td></tr><tr><td>6553</td><td>application_1589299642358_1042</td><td>pyspark</td><td>idle</td><td><a target=\"_blank\" href=\"http://iccluster044.iccluster.epfl.ch:8088/proxy/application_1589299642358_1042/\">Link</a></td><td><a target=\"_blank\" href=\"http://iccluster066.iccluster.epfl.ch:8042/node/containerlogs/container_e06_1589299642358_1042_01_000001/ebouille\">Link</a></td><td></td></tr><tr><td>6555</td><td>application_1589299642358_1044</td><td>pyspark</td><td>idle</td><td><a target=\"_blank\" href=\"http://iccluster044.iccluster.epfl.ch:8088/proxy/application_1589299642358_1044/\">Link</a></td><td><a target=\"_blank\" href=\"http://iccluster067.iccluster.epfl.ch:8042/node/containerlogs/container_e06_1589299642358_1044_01_000001/ebouille\">Link</a></td><td></td></tr><tr><td>6556</td><td>application_1589299642358_1045</td><td>pyspark</td><td>idle</td><td><a target=\"_blank\" href=\"http://iccluster044.iccluster.epfl.ch:8088/proxy/application_1589299642358_1045/\">Link</a></td><td><a target=\"_blank\" href=\"http://iccluster068.iccluster.epfl.ch:8042/node/containerlogs/container_e06_1589299642358_1045_01_000001/ebouille\">Link</a></td><td></td></tr><tr><td>6558</td><td>application_1589299642358_1047</td><td>pyspark</td><td>idle</td><td><a target=\"_blank\" href=\"http://iccluster044.iccluster.epfl.ch:8088/proxy/application_1589299642358_1047/\">Link</a></td><td><a target=\"_blank\" href=\"http://iccluster070.iccluster.epfl.ch:8042/node/containerlogs/container_e06_1589299642358_1047_01_000001/ebouille\">Link</a></td><td></td></tr><tr><td>6559</td><td>application_1589299642358_1048</td><td>pyspark</td><td>idle</td><td><a target=\"_blank\" href=\"http://iccluster044.iccluster.epfl.ch:8088/proxy/application_1589299642358_1048/\">Link</a></td><td><a target=\"_blank\" href=\"http://iccluster067.iccluster.epfl.ch:8042/node/containerlogs/container_e06_1589299642358_1048_01_000001/ebouille\">Link</a></td><td></td></tr><tr><td>6560</td><td>application_1589299642358_1049</td><td>pyspark</td><td>idle</td><td><a target=\"_blank\" href=\"http://iccluster044.iccluster.epfl.ch:8088/proxy/application_1589299642358_1049/\">Link</a></td><td><a target=\"_blank\" href=\"http://iccluster065.iccluster.epfl.ch:8042/node/containerlogs/container_e06_1589299642358_1049_01_000001/ebouille\">Link</a></td><td></td></tr></table>"
      ],
      "text/plain": [
       "<IPython.core.display.HTML object>"
      ]
     },
     "metadata": {},
     "output_type": "display_data"
    }
   ],
   "source": [
    "%%configure\n",
    "{\"conf\": {\n",
    "    \"spark.app.name\": \"dslab-group_final\"\n",
    "}}"
   ]
  },
  {
   "cell_type": "markdown",
   "metadata": {},
   "source": [
    "#### Imports:"
   ]
  },
  {
   "cell_type": "code",
   "execution_count": 2,
   "metadata": {},
   "outputs": [
    {
     "name": "stdout",
     "output_type": "stream",
     "text": [
      "Starting Spark application\n"
     ]
    },
    {
     "data": {
      "text/html": [
       "<table>\n",
       "<tr><th>ID</th><th>YARN Application ID</th><th>Kind</th><th>State</th><th>Spark UI</th><th>Driver log</th><th>Current session?</th></tr><tr><td>6561</td><td>application_1589299642358_1050</td><td>pyspark</td><td>idle</td><td><a target=\"_blank\" href=\"http://iccluster044.iccluster.epfl.ch:8088/proxy/application_1589299642358_1050/\">Link</a></td><td><a target=\"_blank\" href=\"http://iccluster071.iccluster.epfl.ch:8042/node/containerlogs/container_e06_1589299642358_1050_01_000001/ebouille\">Link</a></td><td>✔</td></tr></table>"
      ],
      "text/plain": [
       "<IPython.core.display.HTML object>"
      ]
     },
     "metadata": {},
     "output_type": "display_data"
    },
    {
     "data": {
      "application/vnd.jupyter.widget-view+json": {
       "model_id": "",
       "version_major": 2,
       "version_minor": 0
      },
      "text/plain": [
       "FloatProgress(value=0.0, bar_style='info', description='Progress:', layout=Layout(height='25px', width='50%'),…"
      ]
     },
     "metadata": {},
     "output_type": "display_data"
    },
    {
     "name": "stdout",
     "output_type": "stream",
     "text": [
      "SparkSession available as 'spark'.\n"
     ]
    },
    {
     "data": {
      "application/vnd.jupyter.widget-view+json": {
       "model_id": "",
       "version_major": 2,
       "version_minor": 0
      },
      "text/plain": [
       "FloatProgress(value=0.0, bar_style='info', description='Progress:', layout=Layout(height='25px', width='50%'),…"
      ]
     },
     "metadata": {},
     "output_type": "display_data"
    }
   ],
   "source": [
    "import networkx as nx\n",
    "from geopy.distance import distance as geo_distance\n",
    "from pyspark.sql import Row\n",
    "from pyspark.sql.functions import col\n",
    "from pyspark.sql.types import FloatType\n",
    "from networkx.algorithms.shortest_paths.weighted import dijkstra_path\n",
    "\n",
    "from heapq import heappush, heappop\n",
    "from itertools import count"
   ]
  },
  {
   "cell_type": "markdown",
   "metadata": {},
   "source": [
    "##### Complete version:"
   ]
  },
  {
   "cell_type": "code",
   "execution_count": 3,
   "metadata": {},
   "outputs": [
    {
     "data": {
      "application/vnd.jupyter.widget-view+json": {
       "model_id": "",
       "version_major": 2,
       "version_minor": 0
      },
      "text/plain": [
       "FloatProgress(value=0.0, bar_style='info', description='Progress:', layout=Layout(height='25px', width='50%'),…"
      ]
     },
     "metadata": {},
     "output_type": "display_data"
    }
   ],
   "source": [
    "# Loading data, these are snapshots of the all available data\n",
    "# Calendar and trips are useful to filter the other dataframe according to the day\n",
    "\n",
    "stop_times = spark.read.format('orc').load('/data/sbb/timetables/orc/stop_times/000000_0')\n",
    "stops = spark.read.format('orc').load('/data/sbb/timetables/orc/stops/000000_0')\n",
    "trips = spark.read.format('orc').load('/data/sbb/timetables/orc/trips/000000_0')\n",
    "calendar = spark.read.format('orc').load('/data/sbb/timetables/orc/calendar/000000_0')\n",
    "transfers = spark.read.format('orc').load('/data/sbb/timetables/orc//transfers/000000_0')"
   ]
  },
  {
   "cell_type": "markdown",
   "metadata": {},
   "source": [
    "## 2. Pre-processing: \n",
    "\n",
    "Here, we pre-process the data to correspond to the following criteria:\n",
    "- only consider journeys at reasonable hours of the day, and on a typical business day, and assuming the schedule of May 13-17, 2019\n",
    "- allow short (max 500m \"As the Crows Flies\") walking distances for transfers between two stations, and assume a walking speed of 50m/1min on a straight line, regardless of obstacles, human-built or natural, such as building, highways, rivers, or lakes\n",
    "- only consider journeys that start and end on known station coordinates (train station, bus stops, etc.), never from a random location\n",
    "- only consider stations in a 15km radius of Zürich's train station, Zürich HB (8503000), (lat, lon) = (47.378177, 8.540192)\n",
    "- only consider stations in the 15km radius that are reachable from Zürich HB, either directly, or via transfers through other stations within the area\n",
    "- assume that the timetables remain unchanged throughout the 2018 - 2019 period\n",
    "\n",
    "Filtering criteria for later use (e.g. probability intervals and planner):\n",
    "- assuming that delays or travel times on the public transport network are uncorrelated with one another\n",
    "- once a route is computed, a traveller is expected to follow the planned routes to the end, or until it fails (i.e. miss a connection)\n",
    "- planner will not need to mitigate the traveller's inconvenience if a plan fails"
   ]
  },
  {
   "cell_type": "markdown",
   "metadata": {},
   "source": [
    "#### Stop times during rush-hour: \n",
    "\n",
    "Only consider journeys at reasonable hours of the day, thus we take only stop times that are in the window of rush-hour (e.g. from 8 a.m. to 8 p.m.). "
   ]
  },
  {
   "cell_type": "code",
   "execution_count": 4,
   "metadata": {},
   "outputs": [
    {
     "data": {
      "application/vnd.jupyter.widget-view+json": {
       "model_id": "",
       "version_major": 2,
       "version_minor": 0
      },
      "text/plain": [
       "FloatProgress(value=0.0, bar_style='info', description='Progress:', layout=Layout(height='25px', width='50%'),…"
      ]
     },
     "metadata": {},
     "output_type": "display_data"
    }
   ],
   "source": [
    "# Filter stop_times to be only in 08:00-19:59:\n",
    "stop_times = stop_times.where((col('departure_time') >= '08:00:00') \n",
    "                              & (col('departure_time') <= '19:59:59'))"
   ]
  },
  {
   "cell_type": "markdown",
   "metadata": {},
   "source": [
    "#### Stations around Zürich HB:\n",
    "\n",
    "Only consider stations in a 15km radius of Zürich's train station (Zürich HB). "
   ]
  },
  {
   "cell_type": "markdown",
   "metadata": {},
   "source": [
    "First we get the geolocation of Zürich Hauptbahnhof to be able to calculate the distance of the other stations to the Hauptbahnhof. "
   ]
  },
  {
   "cell_type": "code",
   "execution_count": 5,
   "metadata": {},
   "outputs": [
    {
     "data": {
      "application/vnd.jupyter.widget-view+json": {
       "model_id": "",
       "version_major": 2,
       "version_minor": 0
      },
      "text/plain": [
       "FloatProgress(value=0.0, bar_style='info', description='Progress:', layout=Layout(height='25px', width='50%'),…"
      ]
     },
     "metadata": {},
     "output_type": "display_data"
    },
    {
     "name": "stdout",
     "output_type": "stream",
     "text": [
      "Location of Zürich Hauptbahnhof (lat, lon) :(47.3781762039461, 8.54019357578468)"
     ]
    }
   ],
   "source": [
    "zurich_pos = stops.where(column('stop_name') == 'Zürich HB').select('stop_lat', 'stop_lon').collect()\n",
    "zurich_pos = (zurich_pos[0][0], zurich_pos[0][1])\n",
    "print('Location of Zürich Hauptbahnhof (lat, lon) :'+str(zurich_pos))"
   ]
  },
  {
   "cell_type": "code",
   "execution_count": 6,
   "metadata": {},
   "outputs": [
    {
     "data": {
      "application/vnd.jupyter.widget-view+json": {
       "model_id": "",
       "version_major": 2,
       "version_minor": 0
      },
      "text/plain": [
       "FloatProgress(value=0.0, bar_style='info', description='Progress:', layout=Layout(height='25px', width='50%'),…"
      ]
     },
     "metadata": {},
     "output_type": "display_data"
    }
   ],
   "source": [
    "def zurich_distance(x, y):\n",
    "    \"\"\"zurich_distance: returns the distance of a station to Zurich HB\n",
    "    @input: (lat,lon) of a station\n",
    "    @output: distance in km to Zurich HB\n",
    "    \"\"\"\n",
    "    return geo_distance(zurich_pos, (x,y)).km"
   ]
  },
  {
   "cell_type": "markdown",
   "metadata": {},
   "source": [
    "Then we create a dataframe `stops_zurich` of the stations where we add a column for the distance to Zurich HB. In that dataframe, we keep only those that are in a radisu of 15km to the HB. The same filter is applied to the `stop_times` df mentioned above. "
   ]
  },
  {
   "cell_type": "code",
   "execution_count": 7,
   "metadata": {},
   "outputs": [
    {
     "data": {
      "application/vnd.jupyter.widget-view+json": {
       "model_id": "",
       "version_major": 2,
       "version_minor": 0
      },
      "text/plain": [
       "FloatProgress(value=0.0, bar_style='info', description='Progress:', layout=Layout(height='25px', width='50%'),…"
      ]
     },
     "metadata": {},
     "output_type": "display_data"
    }
   ],
   "source": [
    "# filter stops:\n",
    "stops_distance = stops.rdd.map(lambda x: (x['stop_id'], zurich_distance(x['stop_lat'], x['stop_lon'])))\n",
    "stops_distance = spark.createDataFrame(stops_distance.map(lambda r: Row(stop_id=r[0], \n",
    "                                                                        zurich_distance=r[1])))\n",
    "\n",
    "stops_distance = stops_distance.filter(column('zurich_distance') <= 15)\n",
    "\n",
    "#print('There are '+str(stops_distance.count())+' stops in a radius of 15km around Zurich HB')\n",
    "\n",
    "# add distance to HB to stops info and keep only in radius of 15km\n",
    "stops_zurich = stops_distance.join(stops, on='stop_id')\n",
    "\n",
    "# keep only stop times in radius of 15km of Zurich\n",
    "stop_times_zurich = stop_times.join(stops_distance.select('stop_id'), on='stop_id')\n",
    "\n",
    "#print('There are '+str(stop_times_zurich.count())+ ' stop times in a radius of 15km around  Zurich HB')"
   ]
  },
  {
   "cell_type": "code",
   "execution_count": 8,
   "metadata": {},
   "outputs": [
    {
     "data": {
      "application/vnd.jupyter.widget-view+json": {
       "model_id": "",
       "version_major": 2,
       "version_minor": 0
      },
      "text/plain": [
       "FloatProgress(value=0.0, bar_style='info', description='Progress:', layout=Layout(height='25px', width='50%'),…"
      ]
     },
     "metadata": {},
     "output_type": "display_data"
    },
    {
     "name": "stdout",
     "output_type": "stream",
     "text": [
      "DataFrame[stop_id: string, trip_id: string, arrival_time: string, departure_time: string, stop_sequence: smallint, pickup_type: tinyint, drop_off_type: tinyint]"
     ]
    }
   ],
   "source": [
    "# Cache it to save time:\n",
    "stop_times_zurich.cache()"
   ]
  },
  {
   "cell_type": "markdown",
   "metadata": {},
   "source": [
    "### Have a look at the data we have so far: "
   ]
  },
  {
   "cell_type": "markdown",
   "metadata": {},
   "source": [
    "#### Stop times in Zurich: "
   ]
  },
  {
   "cell_type": "code",
   "execution_count": 9,
   "metadata": {},
   "outputs": [
    {
     "data": {
      "application/vnd.jupyter.widget-view+json": {
       "model_id": "",
       "version_major": 2,
       "version_minor": 0
      },
      "text/plain": [
       "FloatProgress(value=0.0, bar_style='info', description='Progress:', layout=Layout(height='25px', width='50%'),…"
      ]
     },
     "metadata": {},
     "output_type": "display_data"
    },
    {
     "name": "stdout",
     "output_type": "stream",
     "text": [
      "+-------+--------------------+------------+--------------+-------------+-----------+-------------+\n",
      "|stop_id|             trip_id|arrival_time|departure_time|stop_sequence|pickup_type|drop_off_type|\n",
      "+-------+--------------------+------------+--------------+-------------+-----------+-------------+\n",
      "|8502508|9.TA.1-303-j19-1.2.R|    19:55:00|      19:55:00|            6|          0|            0|\n",
      "|8502508|12.TA.1-303-j19-1...|    09:55:00|      09:55:00|            6|          0|            0|\n",
      "|8502508|13.TA.1-303-j19-1...|    08:25:00|      08:25:00|            6|          0|            0|\n",
      "+-------+--------------------+------------+--------------+-------------+-----------+-------------+\n",
      "only showing top 3 rows"
     ]
    }
   ],
   "source": [
    "stop_times_zurich.show(3)"
   ]
  },
  {
   "cell_type": "markdown",
   "metadata": {},
   "source": [
    "#### Trips in Zurich:"
   ]
  },
  {
   "cell_type": "code",
   "execution_count": 10,
   "metadata": {},
   "outputs": [
    {
     "data": {
      "application/vnd.jupyter.widget-view+json": {
       "model_id": "",
       "version_major": 2,
       "version_minor": 0
      },
      "text/plain": [
       "FloatProgress(value=0.0, bar_style='info', description='Progress:', layout=Layout(height='25px', width='50%'),…"
      ]
     },
     "metadata": {},
     "output_type": "display_data"
    },
    {
     "name": "stdout",
     "output_type": "stream",
     "text": [
      "+-----------+----------+--------------------+------------------+---------------+------------+\n",
      "|   route_id|service_id|             trip_id|     trip_headsign|trip_short_name|direction_id|\n",
      "+-----------+----------+--------------------+------------------+---------------+------------+\n",
      "|1-1-C-j19-1|  TA+b0001|5.TA.1-1-C-j19-1.3.R|Zofingen, Altachen|            108|           1|\n",
      "|1-1-C-j19-1|  TA+b0001|7.TA.1-1-C-j19-1.3.R|Zofingen, Altachen|            112|           1|\n",
      "|1-1-C-j19-1|  TA+b0001|9.TA.1-1-C-j19-1.3.R|Zofingen, Altachen|            116|           1|\n",
      "+-----------+----------+--------------------+------------------+---------------+------------+\n",
      "only showing top 3 rows"
     ]
    }
   ],
   "source": [
    "trips.show(3)"
   ]
  },
  {
   "cell_type": "markdown",
   "metadata": {},
   "source": [
    "#### Stops in Zurich:"
   ]
  },
  {
   "cell_type": "code",
   "execution_count": 11,
   "metadata": {},
   "outputs": [
    {
     "data": {
      "application/vnd.jupyter.widget-view+json": {
       "model_id": "",
       "version_major": 2,
       "version_minor": 0
      },
      "text/plain": [
       "FloatProgress(value=0.0, bar_style='info', description='Progress:', layout=Layout(height='25px', width='50%'),…"
      ]
     },
     "metadata": {},
     "output_type": "display_data"
    },
    {
     "name": "stdout",
     "output_type": "stream",
     "text": [
      "+-----------+------------------+--------------------+----------------+----------------+-------------+--------------+\n",
      "|    stop_id|   zurich_distance|           stop_name|        stop_lat|        stop_lon|location_type|parent_station|\n",
      "+-----------+------------------+--------------------+----------------+----------------+-------------+--------------+\n",
      "|    8500926|11.510766966884365|Oetwil a.d.L., Sc...|47.4236270123012| 8.4031825286317|             |              |\n",
      "|    8502186|10.798985488832079|Dietikon Stoffelbach|47.3934058321612|8.39894248049007|             |      8502186P|\n",
      "|8502186:0:1|10.800041577194426|Dietikon Stoffelbach|47.3934666445388|8.39894248049007|             |      8502186P|\n",
      "+-----------+------------------+--------------------+----------------+----------------+-------------+--------------+\n",
      "only showing top 3 rows"
     ]
    }
   ],
   "source": [
    "stops_zurich.show(3)"
   ]
  },
  {
   "cell_type": "markdown",
   "metadata": {},
   "source": [
    "#### Calendar:"
   ]
  },
  {
   "cell_type": "code",
   "execution_count": 12,
   "metadata": {},
   "outputs": [
    {
     "data": {
      "application/vnd.jupyter.widget-view+json": {
       "model_id": "",
       "version_major": 2,
       "version_minor": 0
      },
      "text/plain": [
       "FloatProgress(value=0.0, bar_style='info', description='Progress:', layout=Layout(height='25px', width='50%'),…"
      ]
     },
     "metadata": {},
     "output_type": "display_data"
    },
    {
     "name": "stdout",
     "output_type": "stream",
     "text": [
      "+----------+------+-------+---------+--------+------+--------+------+\n",
      "|service_id|monday|tuesday|wednesday|thursday|friday|saturday|sunday|\n",
      "+----------+------+-------+---------+--------+------+--------+------+\n",
      "|  TA+b0nx9|  true|   true|     true|    true|  true|   false| false|\n",
      "|  TA+b03bf|  true|   true|     true|    true|  true|   false| false|\n",
      "|  TA+b0008|  true|   true|     true|    true|  true|   false| false|\n",
      "+----------+------+-------+---------+--------+------+--------+------+\n",
      "only showing top 3 rows"
     ]
    }
   ],
   "source": [
    "calendar.show(3)"
   ]
  },
  {
   "cell_type": "markdown",
   "metadata": {},
   "source": [
    "## 3. Create a network:\n",
    "\n",
    "From the pre-processed data, we would like to create a directed network where each node is a station and each edge between two nodes corresponds to a possible trip. \n",
    "\n",
    "A node will have the following attributes:\n",
    "- stop_name: name of the station (e.g. Zurich HB)\n",
    "- latitude\n",
    "- longitude\n",
    "\n",
    "An directed edge will have the following attributes:\n",
    "- stop_id: the id of the stop the (directed) edge points from\n",
    "- next_stop: the id of the stop the edge points to\n",
    "- duration: the duration of the trip from stop_id to next_stop\n",
    "- departure time: the time from which the service departs from stop_id"
   ]
  },
  {
   "cell_type": "markdown",
   "metadata": {},
   "source": [
    "First, we create a function that returns all services that operate on certain days (as some of them might not operate on weekends for example). "
   ]
  },
  {
   "cell_type": "code",
   "execution_count": 13,
   "metadata": {},
   "outputs": [
    {
     "data": {
      "application/vnd.jupyter.widget-view+json": {
       "model_id": "",
       "version_major": 2,
       "version_minor": 0
      },
      "text/plain": [
       "FloatProgress(value=0.0, bar_style='info', description='Progress:', layout=Layout(height='25px', width='50%'),…"
      ]
     },
     "metadata": {},
     "output_type": "display_data"
    }
   ],
   "source": [
    "days_dict = {0: 'monday', 1: 'tuesday', 2: 'wednesday', 3: 'thursday', 4: 'friday'}\n",
    "\n",
    "def day_trips(*day_ids):\n",
    "    \"\"\"\n",
    "    day_trips: gives the trip_ids that operate on certain days\n",
    "    input: a variable number of day ids\n",
    "    output:s spark dataframe with trip_ids\n",
    "    \n",
    "    \"\"\"\n",
    "    days = [days_dict[day_id] for day_id in day_ids]\n",
    "    where_clause = \" and \".join(days)\n",
    "\n",
    "    day_services = calendar.where(where_clause).select('service_id')\n",
    "    return day_services.join(trips, on='service_id').select('trip_id')"
   ]
  },
  {
   "cell_type": "markdown",
   "metadata": {},
   "source": [
    "### Nodes:"
   ]
  },
  {
   "cell_type": "markdown",
   "metadata": {},
   "source": [
    "Then we create a **multigraph** (e.g. more than one edge allowed between two nodes). "
   ]
  },
  {
   "cell_type": "code",
   "execution_count": 14,
   "metadata": {},
   "outputs": [
    {
     "data": {
      "application/vnd.jupyter.widget-view+json": {
       "model_id": "",
       "version_major": 2,
       "version_minor": 0
      },
      "text/plain": [
       "FloatProgress(value=0.0, bar_style='info', description='Progress:', layout=Layout(height='25px', width='50%'),…"
      ]
     },
     "metadata": {},
     "output_type": "display_data"
    }
   ],
   "source": [
    "graph_long = nx.MultiDiGraph()\n",
    "\n",
    "nodes = stops_zurich.rdd.map(lambda r: (r[0], {'name': r['stop_name'],\n",
    "                                              'lat': r['stop_lat'],\n",
    "                                              'lon': r['stop_lon']})).collect()\n",
    "graph_long.add_nodes_from(nodes)"
   ]
  },
  {
   "cell_type": "markdown",
   "metadata": {},
   "source": [
    "#### Save nodes to hdfs"
   ]
  },
  {
   "cell_type": "code",
   "execution_count": 19,
   "metadata": {},
   "outputs": [],
   "source": [
    "%%local\n",
    "import os\n",
    "username = os.environ['JUPYTERHUB_USER']"
   ]
  },
  {
   "cell_type": "code",
   "execution_count": 20,
   "metadata": {},
   "outputs": [
    {
     "data": {
      "application/vnd.jupyter.widget-view+json": {
       "model_id": "",
       "version_major": 2,
       "version_minor": 0
      },
      "text/plain": [
       "FloatProgress(value=0.0, bar_style='info', description='Progress:', layout=Layout(height='25px', width='50%'),…"
      ]
     },
     "metadata": {},
     "output_type": "display_data"
    },
    {
     "name": "stdout",
     "output_type": "stream",
     "text": [
      "Successfully passed 'username' as 'username' to Spark kernel"
     ]
    }
   ],
   "source": [
    "%%send_to_spark -i username -t str -n username"
   ]
  },
  {
   "cell_type": "code",
   "execution_count": 40,
   "metadata": {},
   "outputs": [
    {
     "data": {
      "application/vnd.jupyter.widget-view+json": {
       "model_id": "",
       "version_major": 2,
       "version_minor": 0
      },
      "text/plain": [
       "FloatProgress(value=0.0, bar_style='info', description='Progress:', layout=Layout(height='25px', width='50%'),…"
      ]
     },
     "metadata": {},
     "output_type": "display_data"
    }
   ],
   "source": [
    "stops_zurich.write.format(\"orc\").save(\"/user/{}/nodes.orc\".format(username))"
   ]
  },
  {
   "cell_type": "markdown",
   "metadata": {},
   "source": [
    "### Edges:"
   ]
  },
  {
   "cell_type": "markdown",
   "metadata": {},
   "source": [
    "Right now, we have only nodes that are stations in our graph and we would like to add edges between them showing possible trips at certain times. For this we need to do a few operations. \n",
    "\n",
    "First, in our `stop_times_zurich` table, we have the time of arrival and departure but we would like to have an idea of the time elapsed in minutes since 12 p.m. This way times will be easily subtractable and we can get an idea of trip duration in minutes. So we convert those two columns: "
   ]
  },
  {
   "cell_type": "code",
   "execution_count": 15,
   "metadata": {},
   "outputs": [
    {
     "data": {
      "application/vnd.jupyter.widget-view+json": {
       "model_id": "",
       "version_major": 2,
       "version_minor": 0
      },
      "text/plain": [
       "FloatProgress(value=0.0, bar_style='info', description='Progress:', layout=Layout(height='25px', width='50%'),…"
      ]
     },
     "metadata": {},
     "output_type": "display_data"
    }
   ],
   "source": [
    "@udf\n",
    "def convertToMinute(s):\n",
    "    h, m, _ = s.split(':')\n",
    "    h,m = int(h), int(m)\n",
    "    \n",
    "    return h*60+m"
   ]
  },
  {
   "cell_type": "code",
   "execution_count": 16,
   "metadata": {},
   "outputs": [
    {
     "data": {
      "application/vnd.jupyter.widget-view+json": {
       "model_id": "",
       "version_major": 2,
       "version_minor": 0
      },
      "text/plain": [
       "FloatProgress(value=0.0, bar_style='info', description='Progress:', layout=Layout(height='25px', width='50%'),…"
      ]
     },
     "metadata": {},
     "output_type": "display_data"
    },
    {
     "name": "stdout",
     "output_type": "stream",
     "text": [
      "+-------+--------------------+------------+--------------+-------------+-----------+-------------+\n",
      "|stop_id|             trip_id|arrival_time|departure_time|stop_sequence|pickup_type|drop_off_type|\n",
      "+-------+--------------------+------------+--------------+-------------+-----------+-------------+\n",
      "|8502508|9.TA.1-303-j19-1.2.R|        1195|          1195|            6|          0|            0|\n",
      "|8502508|12.TA.1-303-j19-1...|         595|           595|            6|          0|            0|\n",
      "|8502508|13.TA.1-303-j19-1...|         505|           505|            6|          0|            0|\n",
      "+-------+--------------------+------------+--------------+-------------+-----------+-------------+\n",
      "only showing top 3 rows"
     ]
    }
   ],
   "source": [
    "# Convert time information to minutes elapsed since 0am\n",
    "stop_times_zurich = stop_times_zurich.withColumn('arrival_time', \n",
    "                                                 convertToMinute(column('arrival_time')))\n",
    "stop_times_zurich = stop_times_zurich.withColumn('departure_time', \n",
    "                                                 convertToMinute(column('departure_time')))\n",
    "stop_times_zurich.show(3)"
   ]
  },
  {
   "cell_type": "markdown",
   "metadata": {},
   "source": [
    "Then we want a dataframe that has the trip duration to the next stop from the current one on the trip. For that, we first create a table with the next stop and arrival time for each stop sequence in a trip. "
   ]
  },
  {
   "cell_type": "code",
   "execution_count": 17,
   "metadata": {},
   "outputs": [
    {
     "data": {
      "application/vnd.jupyter.widget-view+json": {
       "model_id": "",
       "version_major": 2,
       "version_minor": 0
      },
      "text/plain": [
       "FloatProgress(value=0.0, bar_style='info', description='Progress:', layout=Layout(height='25px', width='50%'),…"
      ]
     },
     "metadata": {},
     "output_type": "display_data"
    },
    {
     "name": "stdout",
     "output_type": "stream",
     "text": [
      "+--------------------+---------+-------------+-----------------+\n",
      "|             trip_id|next_stop|stop_sequence|next_arrival_time|\n",
      "+--------------------+---------+-------------+-----------------+\n",
      "|9.TA.1-303-j19-1.2.R|  8502508|            5|             1195|\n",
      "|12.TA.1-303-j19-1...|  8502508|            5|              595|\n",
      "+--------------------+---------+-------------+-----------------+\n",
      "only showing top 2 rows"
     ]
    }
   ],
   "source": [
    "stop_times_zurich_2 = (stop_times_zurich.withColumn('stop_sequence_prev', column('stop_sequence')-1)\n",
    "                       .select('trip_id',\n",
    "                               column('stop_id').alias('next_stop'),\n",
    "                               column('stop_sequence_prev').alias('stop_sequence'),\n",
    "                               column('arrival_time').alias('next_arrival_time')))\n",
    "\n",
    "stop_times_zurich_2.show(2)"
   ]
  },
  {
   "cell_type": "markdown",
   "metadata": {},
   "source": [
    "Then we join this to the `stop_times_zurich` table to have trip duration (in minutes) and next stop information. "
   ]
  },
  {
   "cell_type": "code",
   "execution_count": 18,
   "metadata": {},
   "outputs": [
    {
     "data": {
      "application/vnd.jupyter.widget-view+json": {
       "model_id": "",
       "version_major": 2,
       "version_minor": 0
      },
      "text/plain": [
       "FloatProgress(value=0.0, bar_style='info', description='Progress:', layout=Layout(height='25px', width='50%'),…"
      ]
     },
     "metadata": {},
     "output_type": "display_data"
    },
    {
     "name": "stdout",
     "output_type": "stream",
     "text": [
      "+--------------------+-------+------------+--------------+---------+-------------+\n",
      "|             trip_id|stop_id|arrival_time|departure_time|next_stop|trip_duration|\n",
      "+--------------------+-------+------------+--------------+---------+-------------+\n",
      "|1.TA.1-231-j19-1.1.H|8582462|         578|           578|  8572600|          1.0|\n",
      "|1.TA.1-231-j19-1.1.H|8572600|         579|           579|  8572601|          0.0|\n",
      "+--------------------+-------+------------+--------------+---------+-------------+\n",
      "only showing top 2 rows"
     ]
    }
   ],
   "source": [
    "# Add trip duration and next stop: \n",
    "stop_times_zurich = stop_times_zurich.join(stop_times_zurich_2, \n",
    "                                           on=['trip_id', 'stop_sequence']).orderBy('trip_id', 'stop_sequence')\n",
    "stop_times_zurich = stop_times_zurich.withColumn('trip_duration', \n",
    "                                                 column('next_arrival_time')-column('departure_time'))\n",
    "stop_times_zurich = stop_times_zurich.select('trip_id', \n",
    "                                             'stop_id', 'arrival_time', 'departure_time', \n",
    "                                             'next_stop', 'trip_duration').cache()\n",
    "stop_times_zurich.show(2)"
   ]
  },
  {
   "cell_type": "markdown",
   "metadata": {},
   "source": [
    "#### Save edges informations to hdfs"
   ]
  },
  {
   "cell_type": "code",
   "execution_count": 21,
   "metadata": {},
   "outputs": [
    {
     "data": {
      "application/vnd.jupyter.widget-view+json": {
       "model_id": "",
       "version_major": 2,
       "version_minor": 0
      },
      "text/plain": [
       "FloatProgress(value=0.0, bar_style='info', description='Progress:', layout=Layout(height='25px', width='50%'),…"
      ]
     },
     "metadata": {},
     "output_type": "display_data"
    }
   ],
   "source": [
    "stop_times_zurich.write.format(\"orc\").save(\"/user/{}/edges.orc\".format(username))"
   ]
  },
  {
   "cell_type": "markdown",
   "metadata": {},
   "source": [
    "To make our computations easier, we add a further assumption stating that we are interested only in trips between two stations that are done in under 2 hours. \n",
    "\n",
    "For this, we create a function that selects all trips on a certain week-day in a window of 2 hours before a certain arrival time. Thus if for example we want to arrive at 11:30, we are only interested in possible trips that departed 2 hours before 11:30. When creating the edges, we add the walking edges."
   ]
  },
  {
   "cell_type": "code",
   "execution_count": 22,
   "metadata": {},
   "outputs": [],
   "source": [
    "%%local\n",
    "import pandas as pd\n",
    "walking_times = pd.read_pickle('walking_times.pickle')"
   ]
  },
  {
   "cell_type": "code",
   "execution_count": 24,
   "metadata": {},
   "outputs": [
    {
     "data": {
      "application/vnd.jupyter.widget-view+json": {
       "model_id": "",
       "version_major": 2,
       "version_minor": 0
      },
      "text/plain": [
       "FloatProgress(value=0.0, bar_style='info', description='Progress:', layout=Layout(height='25px', width='50%'),…"
      ]
     },
     "metadata": {},
     "output_type": "display_data"
    },
    {
     "name": "stdout",
     "output_type": "stream",
     "text": [
      "Successfully passed 'walking_times' as 'walking_times' to Spark kernel"
     ]
    }
   ],
   "source": [
    "%%send_to_spark -i walking_times -t df -m 20000"
   ]
  },
  {
   "cell_type": "markdown",
   "metadata": {},
   "source": [
    "#### TODO: Take care of transfers using transfers.txt"
   ]
  },
  {
   "cell_type": "code",
   "execution_count": 25,
   "metadata": {},
   "outputs": [
    {
     "data": {
      "application/vnd.jupyter.widget-view+json": {
       "model_id": "",
       "version_major": 2,
       "version_minor": 0
      },
      "text/plain": [
       "FloatProgress(value=0.0, bar_style='info', description='Progress:', layout=Layout(height='25px', width='50%'),…"
      ]
     },
     "metadata": {},
     "output_type": "display_data"
    }
   ],
   "source": [
    "edges_walking = walking_times.toPandas()\n",
    "edges_walking['attrs'] = edges_walking.apply(lambda x: {'time': -1, 'duration': x['duration']+2}, axis=1)\n",
    "edges_walking = list(edges_walking[['source', 'target', 'attrs']].to_numpy())"
   ]
  },
  {
   "cell_type": "code",
   "execution_count": 26,
   "metadata": {},
   "outputs": [
    {
     "data": {
      "application/vnd.jupyter.widget-view+json": {
       "model_id": "",
       "version_major": 2,
       "version_minor": 0
      },
      "text/plain": [
       "FloatProgress(value=0.0, bar_style='info', description='Progress:', layout=Layout(height='25px', width='50%'),…"
      ]
     },
     "metadata": {},
     "output_type": "display_data"
    },
    {
     "name": "stdout",
     "output_type": "stream",
     "text": [
      "array([u'8500926', u'8590616',\n",
      "       {'duration': 4.4523214721999995, 'time': -1}], dtype=object)"
     ]
    }
   ],
   "source": [
    "edges_walking[0]"
   ]
  },
  {
   "cell_type": "code",
   "execution_count": 27,
   "metadata": {},
   "outputs": [
    {
     "data": {
      "application/vnd.jupyter.widget-view+json": {
       "model_id": "",
       "version_major": 2,
       "version_minor": 0
      },
      "text/plain": [
       "FloatProgress(value=0.0, bar_style='info', description='Progress:', layout=Layout(height='25px', width='50%'),…"
      ]
     },
     "metadata": {},
     "output_type": "display_data"
    }
   ],
   "source": [
    "MAX_TRIP_DURATION = 2 #duration in hour \n",
    "\n",
    "def create_edges_for_trip(edges_df, day_id, hour, minute):\n",
    "    \"\"\"\n",
    "    create_edges_for_trip: constructs edges (and thus trips) that exist in a window of two hours before a given input time\n",
    "    @input:\n",
    "    - edges_df: df from which we construct the edges\n",
    "    - day_id: id of week-day (e.g. wednesday is day id 2, see dictionnary above)\n",
    "    - hour, minute: time at which we want to arrive somewhere (e.g. 11:30)\n",
    "    @output: data frame of selected edges\n",
    "    \"\"\"\n",
    "    #select only the trips that occur on that day:\n",
    "    edges_df= edges_df.join(day_trips(day_id), on='trip_id')\n",
    "    \n",
    "    arrival_minute = hour*60+minute\n",
    "    min_dep_time = arrival_minute - 60*60*MAX_TRIP_DURATION\n",
    "    \n",
    "    #keep only those in a window of two hours:\n",
    "    edges_df = edges_df.filter((col('departure_time') > min_dep_time) & \n",
    "                                            (col('arrival_time') <= arrival_minute))\n",
    "\n",
    "    edges = edges_df.rdd.map(lambda r: (r['stop_id'], r['next_stop'], {'duration': r['trip_duration'],\n",
    "                                                                       'time': float(r['departure_time'])})).collect()\n",
    "    \n",
    "    return edges + edges_walking"
   ]
  },
  {
   "cell_type": "markdown",
   "metadata": {},
   "source": [
    "We test this out on Wednesday with arrival at 11:30 "
   ]
  },
  {
   "cell_type": "code",
   "execution_count": 28,
   "metadata": {},
   "outputs": [
    {
     "data": {
      "application/vnd.jupyter.widget-view+json": {
       "model_id": "",
       "version_major": 2,
       "version_minor": 0
      },
      "text/plain": [
       "FloatProgress(value=0.0, bar_style='info', description='Progress:', layout=Layout(height='25px', width='50%'),…"
      ]
     },
     "metadata": {},
     "output_type": "display_data"
    },
    {
     "name": "stdout",
     "output_type": "stream",
     "text": [
      "('Number of edges:', 116983)"
     ]
    }
   ],
   "source": [
    "# Example of graph construction: Wednesday arrival at 11:30:00\n",
    "edges_wed_11_30 = create_edges_for_trip(stop_times_zurich, 2, 11, 30)\n",
    "\n",
    "print('Number of edges:', len(edges_wed_11_30))"
   ]
  },
  {
   "cell_type": "code",
   "execution_count": 29,
   "metadata": {},
   "outputs": [
    {
     "data": {
      "application/vnd.jupyter.widget-view+json": {
       "model_id": "",
       "version_major": 2,
       "version_minor": 0
      },
      "text/plain": [
       "FloatProgress(value=0.0, bar_style='info', description='Progress:', layout=Layout(height='25px', width='50%'),…"
      ]
     },
     "metadata": {},
     "output_type": "display_data"
    }
   ],
   "source": [
    "_ = graph_long.add_edges_from(edges_wed_11_30)"
   ]
  },
  {
   "cell_type": "markdown",
   "metadata": {},
   "source": [
    "# Simple graph creation"
   ]
  },
  {
   "cell_type": "markdown",
   "metadata": {},
   "source": [
    "##### Mini-graph 1: "
   ]
  },
  {
   "cell_type": "code",
   "execution_count": 52,
   "metadata": {},
   "outputs": [
    {
     "data": {
      "application/vnd.jupyter.widget-view+json": {
       "model_id": "",
       "version_major": 2,
       "version_minor": 0
      },
      "text/plain": [
       "FloatProgress(value=0.0, bar_style='info', description='Progress:', layout=Layout(height='25px', width='50%'),…"
      ]
     },
     "metadata": {},
     "output_type": "display_data"
    }
   ],
   "source": [
    "## create a simple graph: \n",
    "trip_id = '1.TA.1-231-j19-1.1.H'\n",
    "\n",
    "#select four stops : \n",
    "stops_minig = ['8582462','8572600','8572601','8502553']\n",
    "\n",
    "stops_info = stops_zurich.where(column('stop_id').isin(stops_minig))\n",
    "stop_times_info = stop_times_zurich.where((column('stop_id').isin(stops_minig))&(column('trip_id') == trip_id))"
   ]
  },
  {
   "cell_type": "code",
   "execution_count": 48,
   "metadata": {},
   "outputs": [
    {
     "data": {
      "application/vnd.jupyter.widget-view+json": {
       "model_id": "",
       "version_major": 2,
       "version_minor": 0
      },
      "text/plain": [
       "FloatProgress(value=0.0, bar_style='info', description='Progress:', layout=Layout(height='25px', width='50%'),…"
      ]
     },
     "metadata": {},
     "output_type": "display_data"
    },
    {
     "name": "stdout",
     "output_type": "stream",
     "text": [
      "[0, 1, 0, 0, 0]"
     ]
    }
   ],
   "source": [
    "mini_graph = nx.MultiDiGraph()\n",
    "\n",
    "mini_nodes = stops_info.rdd.map(lambda r: (r[0], {'name': r['stop_name'],\n",
    "                                              'lat': r['stop_lat'],\n",
    "                                              'lon': r['stop_lon']})).collect()\n",
    "mini_graph.add_nodes_from(mini_nodes)\n",
    "\n",
    "\n",
    "# add artificial edge: \n",
    "mini_graph.add_edges_from([('8582462', '8572600',  {'duration': 2.0, 'time': 578.0}), \n",
    "                          ('8582462', '8572600',  {'duration': 1.0, 'time': 578.0}),\n",
    "                          ('8572600', '8572601',  {'duration': 0.0, 'time': 579.0}),\n",
    "                          ('8572601', '8502553',  {'duration': 4.0, 'time': 579.0}),\n",
    "                          ('8502553', '8572602',  {'duration': 2.0, 'time': 583.0}),])\n",
    "\n",
    "#mini_graph.add_edges_from([('8582462', '8502553',  {'duration': 2.0, 'time': 578.0})])\n"
   ]
  },
  {
   "cell_type": "code",
   "execution_count": 49,
   "metadata": {},
   "outputs": [
    {
     "data": {
      "application/vnd.jupyter.widget-view+json": {
       "model_id": "",
       "version_major": 2,
       "version_minor": 0
      },
      "text/plain": [
       "FloatProgress(value=0.0, bar_style='info', description='Progress:', layout=Layout(height='25px', width='50%'),…"
      ]
     },
     "metadata": {},
     "output_type": "display_data"
    },
    {
     "name": "stdout",
     "output_type": "stream",
     "text": [
      "[(u'8582462', {'lat': 47.3475576701104, 'lon': 8.34819665008309, 'name': u'Bremgarten AG, Zelgli'}), (u'8502553', {'lat': 47.3221585583935, 'lon': 8.380473118246, 'name': u'Unterlunkhofen, Breiten\\xe4cker'}), ('8572602', {}), (u'8572601', {'lat': 47.3417386266265, 'lon': 8.35463757067112, 'name': u'Zufikon, Algier'}), (u'8572600', {'lat': 47.34464822855, 'lon': 8.3519875405826, 'name': u'Zufikon, Emaus'})]"
     ]
    }
   ],
   "source": [
    "list(mini_graph.nodes(data=True))"
   ]
  },
  {
   "cell_type": "code",
   "execution_count": 50,
   "metadata": {},
   "outputs": [
    {
     "data": {
      "application/vnd.jupyter.widget-view+json": {
       "model_id": "",
       "version_major": 2,
       "version_minor": 0
      },
      "text/plain": [
       "FloatProgress(value=0.0, bar_style='info', description='Progress:', layout=Layout(height='25px', width='50%'),…"
      ]
     },
     "metadata": {},
     "output_type": "display_data"
    },
    {
     "name": "stdout",
     "output_type": "stream",
     "text": [
      "[(u'8582462', '8572600', {'duration': 2.0, 'time': 578.0}), (u'8582462', '8572600', {'duration': 1.0, 'time': 578.0}), (u'8502553', '8572602', {'duration': 2.0, 'time': 583.0}), (u'8572601', '8502553', {'duration': 4.0, 'time': 579.0}), (u'8572600', '8572601', {'duration': 0.0, 'time': 579.0})]"
     ]
    }
   ],
   "source": [
    "list(mini_graph.edges(data=True))"
   ]
  },
  {
   "cell_type": "markdown",
   "metadata": {},
   "source": [
    "<img src=\"images/mini_graph.png\" width = '350'>"
   ]
  },
  {
   "cell_type": "markdown",
   "metadata": {},
   "source": [
    "##### Mini-graph 2: "
   ]
  },
  {
   "cell_type": "code",
   "execution_count": 22,
   "metadata": {},
   "outputs": [
    {
     "data": {
      "application/vnd.jupyter.widget-view+json": {
       "model_id": "",
       "version_major": 2,
       "version_minor": 0
      },
      "text/plain": [
       "FloatProgress(value=0.0, bar_style='info', description='Progress:', layout=Layout(height='25px', width='50%'),…"
      ]
     },
     "metadata": {},
     "output_type": "display_data"
    },
    {
     "name": "stdout",
     "output_type": "stream",
     "text": [
      "[('1', '2', {'duration': 1.0, 'time': 580.0}), ('1', '4', {'duration': 1.0, 'time': 583.0}), ('0', '1', {'duration': 1.0, 'time': 578.0}), ('0', '3', {'duration': 2.0, 'time': 580.0}), ('0', '2', {'duration': 1.0, 'time': 579.0}), ('3', '5', {'duration': 1.0, 'time': 584.0}), ('2', '5', {'duration': 1.0, 'time': 550.0})]"
     ]
    }
   ],
   "source": [
    "mini_graph_2 = nx.MultiDiGraph()\n",
    "mini_graph_2.add_nodes_from(['0','1','2','3','4','5'])\n",
    "mini_graph_2.add_edges_from([('0', '1',  {'duration': 1.0, 'time': 578.0})])\n",
    "mini_graph_2.add_edges_from([('0', '2',  {'duration': 1.0, 'time': 579.0})])\n",
    "mini_graph_2.add_edges_from([('0', '3',  {'duration': 2.0, 'time': 580.0})])\n",
    "mini_graph_2.add_edges_from([('1', '4',  {'duration': 1.0, 'time': 583.0})])\n",
    "mini_graph_2.add_edges_from([('1', '2',  {'duration': 1.0, 'time': 580.0})])\n",
    "mini_graph_2.add_edges_from([('2', '5',  {'duration': 1.0, 'time': 550.0})])\n",
    "mini_graph_2.add_edges_from([('3', '5',  {'duration': 1.0, 'time': 584.0})])\n",
    "list(mini_graph_2.edges(data=True))"
   ]
  },
  {
   "cell_type": "markdown",
   "metadata": {},
   "source": [
    "<img src=\"images/mini_graph_2.png\" width=\"400\">"
   ]
  },
  {
   "cell_type": "markdown",
   "metadata": {},
   "source": [
    "Function to get the edges from a dijkstra path, problem is that dijkstra only gives nodes and not the edges it chooses: "
   ]
  },
  {
   "cell_type": "markdown",
   "metadata": {},
   "source": [
    "## 4. Paths in Network: Dijkstra's algorithms and helping functions"
   ]
  },
  {
   "cell_type": "code",
   "execution_count": 30,
   "metadata": {},
   "outputs": [
    {
     "data": {
      "application/vnd.jupyter.widget-view+json": {
       "model_id": "",
       "version_major": 2,
       "version_minor": 0
      },
      "text/plain": [
       "FloatProgress(value=0.0, bar_style='info', description='Progress:', layout=Layout(height='25px', width='50%'),…"
      ]
     },
     "metadata": {},
     "output_type": "display_data"
    }
   ],
   "source": [
    "# returns weights of edge: \n",
    "def get_weight_custom(graph, source, target, j):\n",
    "    attr = graph.edges[(source, target, j)]\n",
    "    return attr['duration']"
   ]
  },
  {
   "cell_type": "code",
   "execution_count": 31,
   "metadata": {},
   "outputs": [
    {
     "data": {
      "application/vnd.jupyter.widget-view+json": {
       "model_id": "",
       "version_major": 2,
       "version_minor": 0
      },
      "text/plain": [
       "FloatProgress(value=0.0, bar_style='info', description='Progress:', layout=Layout(height='25px', width='50%'),…"
      ]
     },
     "metadata": {},
     "output_type": "display_data"
    }
   ],
   "source": [
    "# returns weights of edge: \n",
    "def get_time_custom(graph, source, target, j):\n",
    "    attr = graph.edges[(source, target, j)]\n",
    "    return attr['time']"
   ]
  },
  {
   "cell_type": "markdown",
   "metadata": {},
   "source": [
    "#### Normal  dijkstra:"
   ]
  },
  {
   "cell_type": "code",
   "execution_count": 32,
   "metadata": {},
   "outputs": [
    {
     "data": {
      "application/vnd.jupyter.widget-view+json": {
       "model_id": "",
       "version_major": 2,
       "version_minor": 0
      },
      "text/plain": [
       "FloatProgress(value=0.0, bar_style='info', description='Progress:', layout=Layout(height='25px', width='50%'),…"
      ]
     },
     "metadata": {},
     "output_type": "display_data"
    }
   ],
   "source": [
    "def normal_dijkstra(G, first_source, paths=None, cutoff=None, last_target=None):\n",
    "    \n",
    "    G_succ = G.succ if G.is_directed() else G.adj\n",
    "    paths = {first_source: [first_source]}\n",
    "\n",
    "    push = heappush\n",
    "    pop = heappop\n",
    "    dist = {}  # dictionary of final distances\n",
    "    \n",
    "    # dictionnary of wthether it's the first time a node is visited\n",
    "    seen = {first_source: 0}\n",
    "\n",
    "    c = count()\n",
    "    fringe = []  # use heapq with (distance,label) tuples\n",
    "    push(fringe, (0, next(c), first_source))\n",
    "    \n",
    "    while fringe:\n",
    "        #take the node to look at: \n",
    "        (d, _, source) = pop(fringe)\n",
    "        \n",
    "        # check if node has already been looked at: \n",
    "        if source in dist:\n",
    "            continue  # already searched this node.\n",
    "        \n",
    "        # update the distance of the node\n",
    "        dist[source] = d\n",
    "        \n",
    "        #stop if the node we look at is the target obviously\n",
    "        if source == last_target:\n",
    "            break\n",
    "            \n",
    "        # Look at all direct descendents from the source node: \n",
    "        for target, edges in G_succ[source].items():\n",
    "            # Because it's a multigraph, need to look at all edges between two nodes:\n",
    "            for edge_id in edges:\n",
    "                \n",
    "                # Get the duration between two nodes:\n",
    "                cost = get_weight_custom(G, source, target, edge_id)\n",
    "                \n",
    "                if cost is None:\n",
    "                        continue\n",
    "                \n",
    "                # Add the weight to the current distance of a node\n",
    "                current_dist = dist[source] + get_weight_custom(G, source, target, edge_id)\n",
    "                \n",
    "                # if target has already been visited once and has a final distance:\n",
    "                if target in dist:\n",
    "                        # if we find a distance smaller than the actual distance in dic\n",
    "                        # raise error because dic distances contains only final distances\n",
    "                        if current_dist < dist[target]:\n",
    "                            raise ValueError('Contradictory paths found:',\n",
    "                                             'negative weights?')\n",
    "                # either node node been seen before or the current distance is smaller than the \n",
    "                # proposed distance in seen[target]:\n",
    "                elif target not in seen or current_dist < seen[target]:\n",
    "                    # update the seen distance\n",
    "                    seen[target] = current_dist\n",
    "                    # push it onto the heap so that we will look at its descendants later\n",
    "                    push(fringe, (current_dist, next(c), target))\n",
    "                    \n",
    "                    # update the paths till target:\n",
    "                    if paths is not None:\n",
    "                        paths[target] = paths[source] + [target]\n",
    "    if paths is not None:\n",
    "        return (dist, paths)\n",
    "    return dist"
   ]
  },
  {
   "cell_type": "markdown",
   "metadata": {},
   "source": [
    "Have a look at nodes that are not reachable from Zürich HB in a 15km radius:"
   ]
  },
  {
   "cell_type": "code",
   "execution_count": 36,
   "metadata": {},
   "outputs": [
    {
     "data": {
      "application/vnd.jupyter.widget-view+json": {
       "model_id": "",
       "version_major": 2,
       "version_minor": 0
      },
      "text/plain": [
       "FloatProgress(value=0.0, bar_style='info', description='Progress:', layout=Layout(height='25px', width='50%'),…"
      ]
     },
     "metadata": {},
     "output_type": "display_data"
    },
    {
     "name": "stdout",
     "output_type": "stream",
     "text": [
      "set([u'8591025', u'8583692', u'8591027', u'8503896', u'8530647', u'8590314', u'8590665', u'8594310', u'8583855', u'8530696', u'8594307', u'8594304', u'8579869', u'8503988', u'8578679', u'8573171', u'8573176'])"
     ]
    }
   ],
   "source": [
    "paths = normal_dijkstra(graph_long, '8503000')\n",
    "not_reachable = set(graph_long.nodes) - set(paths[0].keys())\n",
    "not_reachable"
   ]
  },
  {
   "cell_type": "code",
   "execution_count": 37,
   "metadata": {},
   "outputs": [
    {
     "data": {
      "application/vnd.jupyter.widget-view+json": {
       "model_id": "",
       "version_major": 2,
       "version_minor": 0
      },
      "text/plain": [
       "FloatProgress(value=0.0, bar_style='info', description='Progress:', layout=Layout(height='25px', width='50%'),…"
      ]
     },
     "metadata": {},
     "output_type": "display_data"
    },
    {
     "name": "stdout",
     "output_type": "stream",
     "text": [
      "+-------+----------------------------+----------------+----------------+-------------+--------------+\n",
      "|stop_id|stop_name                   |stop_lat        |stop_lon        |location_type|parent_station|\n",
      "+-------+----------------------------+----------------+----------------+-------------+--------------+\n",
      "|8503896|Horgenberg, Moorschwand     |47.2527236083507|8.58658257706307|             |              |\n",
      "|8503988|Freudwil, Im Dörfli         |47.3747939482936|8.73427459294572|             |              |\n",
      "|8530647|Fällanden (See)             |47.3657593422308|8.65270756513631|             |              |\n",
      "|8530696|Mönchaltorf (See)           |47.3259825998046|8.69992301647621|             |              |\n",
      "|8573171|Rifferswil, Unterrifferswil |47.2482356896554|8.49449627727516|             |              |\n",
      "|8573176|Hausen am Albis, Vollenweid |47.2596193835131|8.51053120509893|             |              |\n",
      "|8578679|Würenlos, Bettlen           |47.4459883921025|8.37087911101027|             |              |\n",
      "|8579869|Fehraltorf, Schrännenbrunnen|47.3953396314059|8.73623292026537|             |              |\n",
      "|8583692|Steinmaur, Sünikon          |47.4907554863357|8.43739037465573|             |              |\n",
      "|8583855|Rifferswil, Hausmatte       |47.2483881387852|8.49168455043548|             |              |\n",
      "|8590314|Würenlos, Büntenstrasse     |47.4448219463686|8.36763619283414|             |              |\n",
      "|8590665|Horgenberg, Nordecke        |47.2598815393846|8.57815637969686|             |              |\n",
      "|8591025|Zollikerberg, Oberhueb      |47.3445934467315|8.61796971309458|             |              |\n",
      "|8591027|Zollikerberg, Sennhof       |47.3476307084208|8.61555324497996|             |              |\n",
      "|8594304|Würenlos, Altwiesen         |47.4341708576262|8.3616803624996 |             |              |\n",
      "|8594307|Würenlos, Lärchenweg        |47.4384910970626|8.36438429150518|             |              |\n",
      "|8594310|Würenlos, Steigass          |47.4358965654313|8.36266850931227|             |              |\n",
      "+-------+----------------------------+----------------+----------------+-------------+--------------+"
     ]
    }
   ],
   "source": [
    "stops.where(col('stop_id').isin(list(not_reachable))).show(truncate=False)"
   ]
  },
  {
   "cell_type": "markdown",
   "metadata": {},
   "source": [
    "See that those trips are not reachable in the 15km radius because the go through stations outside the radius to then come back inside the raidus. We ignore those. "
   ]
  },
  {
   "cell_type": "markdown",
   "metadata": {},
   "source": [
    "### Dijkstra with time: \n",
    "\n",
    "Finds shortest paths between two stations and takes into acccount only paths taht are doable in time. "
   ]
  },
  {
   "cell_type": "markdown",
   "metadata": {},
   "source": [
    "##### Algorithm: (Implémenté plus bas) \n",
    "\n",
    "Input: \n",
    "- `first_source` : node from which we start path\n",
    "- `last_target`: final target node\n",
    "- `INPUT_TIME`: time from which we start algo\n",
    "\n",
    "Output: (dist[last_target], e_paths[last_target])\n",
    "- distances `first_source`to `last_target`\n",
    "- shortest path to to `last_target`  from `first_source`\n",
    "\n",
    "Mark all nodes unvisited: \n",
    "- dic of visited nodes: `seen = {}` \n",
    "- dic with final distances: `dist = {}`\n",
    "- `queue = empty`\n",
    "\n",
    "Start with the `first_source` node: \n",
    "- Assign to our source node the input_time as starting distance (instead of 0 as in normal Dijkstra): `dist[first_source] = INPUT_TIME`\n",
    "- `queue += (d = INPUT_TIME, node = first_source)`\n",
    "\n",
    "\n",
    "While the queue is not empty: \n",
    "- Take first node `source` in `queue` and its distance `d`\n",
    "- Update `dist[source] = d`\n",
    "- If `source == last_target of Dijkstra` : STOP \n",
    "- For all `target` in its direct neighbours: \n",
    "    - For all edges to `target` from `source` (multigraph):\n",
    "      - if `departure_time[target] >= dist[source]` (e.g the time till the source is enough to take a new connection): `current_distance = departure_time[target]+ duration[target]`. On update la distance comme ça pour moi, parce que si on arrive à prendre cette connection on arrivera à un temps qui sera le temps de départ de la connection + la durée du trajet. Donc les distances dans notre dijkstra sont en fait le temps depuis miniuit jusqu'à l'arrivée à un node. \n",
    "      - if target not in `{seen}` (e.g. not been seen before) or  `current_dist < seen[target]` (e.g. there is a quicker way to neighbour): \n",
    "         - Update the seen distance to neighbour in `seen` dictionnary: `seen[target] = current_distance`\n",
    "         - Push it onto queue so that we will look at its descendants later and update the final distance to target: `queue += (current_distance, target)`\n",
    "         \n",
    "Note: see code on how paths are updated. I have la flemme to add it. En plus, il doit y avoir un truc qu'on prend dans la queue le node avec la plus petite distance jusqu'à source mais je crois que c'est dans l'implémentation de heappop. \n",
    "\n",
    "\n",
    "##### Dijkstra from wiki: \n",
    "- Mark all nodes unvisited. Create a set of all the unvisited nodes called the unvisited set.\n",
    "- Assign to every node a tentative distance value: set it to zero for our initial node and to infinity for all other nodes. Set the initial node as current.[14]\n",
    "- For the current node, consider all of its unvisited neighbours and calculate their tentative distances through the current node. Compare the newly calculated tentative distance to the current assigned value and assign the smaller one. For example, if the current node A is marked with a distance of 6, and the edge connecting it with a neighbour B has length 2, then the distance to B through A will be 6 + 2 = 8. If B was previously marked with a distance greater than 8 then change it to 8. Otherwise, the current value will be kept.\n",
    "- When we are done considering all of the unvisited neighbours of the current node, mark the current node as visited and remove it from the unvisited set. A visited node will never be checked again.\n",
    "- If the destination node has been marked visited (when planning a route between two specific nodes) or if the smallest tentative distance among the nodes in the unvisited set is infinity (when planning a complete traversal; occurs when there is no connection between the initial node and remaining unvisited nodes), then stop. The algorithm has finished.\n",
    "- Otherwise, select the unvisited node that is marked with the smallest tentative distance, set it as the new \"current node\", and go back to step 3.\n",
    "\n",
    "\n",
    "##### A rajouter : \n",
    "- retourner les edges du path (mais j'avais déjà implemnté un truc pour dijkstra facile, faut voir si ça marche toujours pour cet algo)\n",
    "- ajouter les probas\n",
    "- tester sur un plus grand graph\n",
    "- faire à l'envers comme Jules pensait ?? \n",
    "- extentsion to k shortest paths ? :\n",
    "    - discussion on k shortest paths in multigraph: [source](https://groups.google.com/forum/#!topic/networkx-discuss/87uC9F0ug8Y)\n",
    "    - paper on algorithms to find k-shortests paths: [source](https://www.ics.uci.edu/~eppstein/pubs/Epp-SJC-98.pdf)\n",
    "    - Comment from forum: \"I had a look at the single_source_dijkstra() function and with quite an easy adaptation I can get what I want. Instead of storing nodes in the path I would just store edges. Then I would return the list of edges. Then I would just implement David Eppstein's k-shortest paths algorithm. I didn't understand the comment about the algorithm not being implemented multigraphs because it slows down the algorithm too much. As if you look at the special case where a Multigraph is equal to Graph (i.e. only one edge) the two implementations perform the same. I agree that having Multigraph requires more work to find the shortest path as you then have more neighbors to investigate.\"\n"
   ]
  },
  {
   "cell_type": "markdown",
   "metadata": {},
   "source": [
    "##### Implementation:"
   ]
  },
  {
   "cell_type": "code",
   "execution_count": 28,
   "metadata": {},
   "outputs": [
    {
     "data": {
      "application/vnd.jupyter.widget-view+json": {
       "model_id": "",
       "version_major": 2,
       "version_minor": 0
      },
      "text/plain": [
       "FloatProgress(value=0.0, bar_style='info', description='Progress:', layout=Layout(height='25px', width='50%'),…"
      ]
     },
     "metadata": {},
     "output_type": "display_data"
    }
   ],
   "source": [
    "def minute_to_string(m):\n",
    "    hour, minute = m//60, m - m//60\n",
    "    time_string = '{}:{}:00'.format(hour, minute)\n",
    "    \n",
    "    return time_string\n",
    "\n",
    "def string_to_minute(s):\n",
    "    h, m, _ = s.split(':')\n",
    "    h,m = int(h), int(m)\n",
    "    \n",
    "    return h*60+m"
   ]
  },
  {
   "cell_type": "code",
   "execution_count": 29,
   "metadata": {},
   "outputs": [
    {
     "data": {
      "application/vnd.jupyter.widget-view+json": {
       "model_id": "",
       "version_major": 2,
       "version_minor": 0
      },
      "text/plain": [
       "FloatProgress(value=0.0, bar_style='info', description='Progress:', layout=Layout(height='25px', width='50%'),…"
      ]
     },
     "metadata": {},
     "output_type": "display_data"
    }
   ],
   "source": [
    "def dijkstra_time(G, first_source, INPUT_TIME, paths=None, last_target=None):\n",
    "    \n",
    "    G_succ = G.succ if G.is_directed() else G.adj\n",
    "    \n",
    "    paths = {first_source: [first_source]}\n",
    "    e_paths = {first_source: []}\n",
    "\n",
    "    push = heappush\n",
    "    pop = heappop\n",
    "    dist = {}  # dictionary of final distances\n",
    "    \n",
    "    # dictionnary of wthether it's the first time a node is visited\n",
    "    seen = {first_source: INPUT_TIME}\n",
    "    \n",
    "    \n",
    "    c = count()\n",
    "    fringe = []  # use heapq with (distance,label) tuples\n",
    "    \n",
    "    #push(fringe, (0, next(c), first_source))\n",
    "    push(fringe, (INPUT_TIME, next(c), first_source))\n",
    "    \n",
    "    while fringe:\n",
    "        #take the node to look at: \n",
    "        (d, _, source) = pop(fringe)\n",
    "        #print('Looking at node: '+source)\n",
    "        \n",
    "        # check if node has already been looked at: \n",
    "        if source in dist:\n",
    "            continue  # already searched this node.\n",
    "        \n",
    "        # update the distance of the node\n",
    "        dist[source] = d\n",
    "        \n",
    "        #stop if the node we look at is the target obviously\n",
    "        if source == last_target:\n",
    "            break\n",
    "        \n",
    "        # Look at all direct descendents from the source node: \n",
    "        for target, edges in G_succ[source].items():\n",
    "            # Because it's a multigraph, need to look at all edges between two nodes:\n",
    "            for edge_id in edges:\n",
    "                dep_time_edge = get_time_custom(G, source, target, edge_id)\n",
    "                if dep_time_edge == -1:\n",
    "                    dep_time_edge = d\n",
    "                \n",
    "                # Note: checker si chgt de ligne faire +2min\n",
    "                if dep_time_edge >= dist[source]:\n",
    "                    # Get the duration between two nodes:\n",
    "                    duration_cost = get_weight_custom(G, source, target, edge_id)\n",
    "\n",
    "                    if duration_cost is None:\n",
    "                            continue\n",
    "\n",
    "                    # Add the weight to the current distance of a node\n",
    "                    current_dist = dep_time_edge+ duration_cost\n",
    "\n",
    "                    # if target has already been visited once and has a final distance:\n",
    "                    if target in dist:\n",
    "                            # if we find a distance smaller than the actual distance in dic\n",
    "                            # raise error because dic distances contains only final distances\n",
    "                            if current_dist < dist[target]:\n",
    "                                raise ValueError('Contradictory paths found:',\n",
    "                                                 'negative weights?')\n",
    "\n",
    "                    # either node node been seen before or the current distance is smaller than the \n",
    "                    # proposed distance in seen[target]:\n",
    "                    elif target not in seen or current_dist < seen[target]:\n",
    "                        # update the seen distance\n",
    "                        seen[target] = current_dist\n",
    "                        # push it onto the heap so that we will look at its descendants later\n",
    "                        push(fringe, (current_dist, next(c), target))\n",
    "\n",
    "                        # update the paths till target:\n",
    "                        if paths is not None:\n",
    "                            #paths[target] = paths[source] + [target]\n",
    "                            e_paths[target] = e_paths[source] + [(source, target, {'departure_time':dep_time_edge, 'duration':duration_cost})]\n",
    "                            \n",
    "    if  last_target not in e_paths:\n",
    "        print('Error: No paths to the source')\n",
    "        return (0, [])\n",
    "        #raise ValueError('No paths exist to the source') \n",
    "    \n",
    "    if paths is not None:\n",
    "        #return (dist, paths, e_paths)\n",
    "        #return (dist, e_paths)<\n",
    "        \n",
    "        #for _ in range(100):\n",
    "            #Validate path\n",
    "            #for e in path:\n",
    "                #sample_gaussian\n",
    "                #check if miss connection\n",
    "            #If > 0 connection missed, path missed\n",
    "        # if 95% must have missed < 5 path\n",
    "        # if path not validated -> starts with smaller threshold \n",
    "        \n",
    "        arrival_string = minute_to_string(dist[last_target])\n",
    "        best_path = e_paths[last_target]\n",
    "        departure_string = minute_to_string(best_path[0][2]['departure_time'])\n",
    "        stations_id = map(lambda x: x[0], best_path)\n",
    "        return (dist[last_target], e_paths[last_target])\n",
    "    return dist"
   ]
  },
  {
   "cell_type": "code",
   "execution_count": 30,
   "metadata": {},
   "outputs": [
    {
     "data": {
      "application/vnd.jupyter.widget-view+json": {
       "model_id": "",
       "version_major": 2,
       "version_minor": 0
      },
      "text/plain": [
       "FloatProgress(value=0.0, bar_style='info', description='Progress:', layout=Layout(height='25px', width='50%'),…"
      ]
     },
     "metadata": {},
     "output_type": "display_data"
    },
    {
     "name": "stdout",
     "output_type": "stream",
     "text": [
      "Error: No paths to the source\n",
      "(0, [])"
     ]
    }
   ],
   "source": [
    "# TEST 1: si input time > temps de départ des edges: \n",
    "# output voulu: seulement la source, no path\n",
    "dijkstra_time(G = mini_graph_2, first_source = '0', last_target = '5', INPUT_TIME = 585)"
   ]
  },
  {
   "cell_type": "code",
   "execution_count": 31,
   "metadata": {},
   "outputs": [
    {
     "data": {
      "application/vnd.jupyter.widget-view+json": {
       "model_id": "",
       "version_major": 2,
       "version_minor": 0
      },
      "text/plain": [
       "FloatProgress(value=0.0, bar_style='info', description='Progress:', layout=Layout(height='25px', width='50%'),…"
      ]
     },
     "metadata": {},
     "output_type": "display_data"
    },
    {
     "name": "stdout",
     "output_type": "stream",
     "text": [
      "(585.0, [('0', '3', {'duration': 2.0, 'departure_time': 580.0}), ('3', '5', {'duration': 1.0, 'departure_time': 584.0})])"
     ]
    }
   ],
   "source": [
    "# TEST 2: input time < temps départ edges:\n",
    "# devrait aller jusqu'au node 5 et donner le chemin à traver node 3 \n",
    "dijkstra_time(G = mini_graph_2, first_source = '0', last_target = '5', INPUT_TIME = 570)"
   ]
  },
  {
   "cell_type": "code",
   "execution_count": 53,
   "metadata": {},
   "outputs": [
    {
     "data": {
      "application/vnd.jupyter.widget-view+json": {
       "model_id": "",
       "version_major": 2,
       "version_minor": 0
      },
      "text/plain": [
       "FloatProgress(value=0.0, bar_style='info', description='Progress:', layout=Layout(height='25px', width='50%'),…"
      ]
     },
     "metadata": {},
     "output_type": "display_data"
    },
    {
     "name": "stdout",
     "output_type": "stream",
     "text": [
      "(585.0, [('8582462', '8572600', {'duration': 1.0, 'departure_time': 578.0}), ('8572600', '8572601', {'duration': 0.0, 'departure_time': 579.0}), ('8572601', '8502553', {'duration': 4.0, 'departure_time': 579.0}), ('8502553', '8572602', {'duration': 2.0, 'departure_time': 583.0})])"
     ]
    }
   ],
   "source": [
    "# TEST 3: sur des nodes qui sont des stations:\n",
    "# devrait trouver un chemin rapide de 3 stations\n",
    "dijkstra_time(G = mini_graph, first_source = '8582462', last_target = '8572602', INPUT_TIME = 570)"
   ]
  },
  {
   "cell_type": "code",
   "execution_count": 54,
   "metadata": {},
   "outputs": [
    {
     "data": {
      "application/vnd.jupyter.widget-view+json": {
       "model_id": "",
       "version_major": 2,
       "version_minor": 0
      },
      "text/plain": [
       "FloatProgress(value=0.0, bar_style='info', description='Progress:', layout=Layout(height='25px', width='50%'),…"
      ]
     },
     "metadata": {},
     "output_type": "display_data"
    },
    {
     "name": "stdout",
     "output_type": "stream",
     "text": [
      "(585.0, [('8582462', u'8572600', {'duration': 8.6414038086, 'departure_time': 570}), (u'8572600', u'8572601', {'duration': 0.0, 'departure_time': 579.0}), (u'8572601', u'8502553', {'duration': 4.0, 'departure_time': 579.0}), (u'8502553', u'8572602', {'duration': 2.0, 'departure_time': 583.0})])"
     ]
    }
   ],
   "source": [
    "# Test 4 : sur network plus grand de Jules, devrait avoir le même output que juste ci-dessus\n",
    "\n",
    "## Look at the same stops as before but in the bigger network: \n",
    "trip_id = '1.TA.1-231-j19-1.1.H'\n",
    "\n",
    "#select four stops on that trip: \n",
    "stops_test4 = ['8582462','8572600','8572601','8502553']\n",
    "\n",
    "dijkstra_time(G = graph, first_source = '8582462', last_target = '8572602', INPUT_TIME = 570)"
   ]
  },
  {
   "cell_type": "code",
   "execution_count": 55,
   "metadata": {},
   "outputs": [
    {
     "data": {
      "application/vnd.jupyter.widget-view+json": {
       "model_id": "",
       "version_major": 2,
       "version_minor": 0
      },
      "text/plain": [
       "FloatProgress(value=0.0, bar_style='info', description='Progress:', layout=Layout(height='25px', width='50%'),…"
      ]
     },
     "metadata": {},
     "output_type": "display_data"
    },
    {
     "name": "stdout",
     "output_type": "stream",
     "text": [
      "(586.0, [('8503000', u'8503000:0:41/42', {'duration': 0.135259304, 'departure_time': 570}), (u'8503000:0:41/42', u'8503020:0:3', {'duration': 2.0, 'departure_time': 571.0}), (u'8503020:0:3', u'8591060', {'duration': 0.9932111359, 'departure_time': 573.0}), (u'8591060', u'8591177', {'duration': 2.0, 'departure_time': 575.0}), (u'8591177', u'8591038', {'duration': 2.0, 'departure_time': 577.0}), (u'8591038', u'8591145', {'duration': 1.0, 'departure_time': 579.0}), (u'8591145', u'8591236', {'duration': 1.0, 'departure_time': 581.0}), (u'8591236', u'8591203', {'duration': 2.0, 'departure_time': 583.0}), (u'8591203', u'8591363', {'duration': 1.0, 'departure_time': 585.0})])\n",
      "+---------------+--------------------+----------------------------+----------------+----------------+-------------+--------------+\n",
      "|stop_id        |zurich_distance     |stop_name                   |stop_lat        |stop_lon        |location_type|parent_station|\n",
      "+---------------+--------------------+----------------------------+----------------+----------------+-------------+--------------+\n",
      "|8503000:0:41/42|0.006762965306949739|Zürich HB                   |47.3782370338962|8.54019357578468|             |8503000P      |\n",
      "|8503020:0:3    |1.9184133366596074  |Zürich Hardbrücke           |47.3853779822952|8.5171068729796 |             |8503020P      |\n",
      "|8591038        |2.250212216892801   |Zürich, Albisriederplatz    |47.3782127019246|8.51039645780629|             |              |\n",
      "|8591060        |1.9033324468854709  |Zürich Hardbrücke, Bahnhof  |47.3849339821896|8.51703500775686|             |              |\n",
      "|8591145        |2.2269722135013277  |Zürich, Friedhof Sihlfeld   |47.3759315297134|8.51089053121262|             |              |\n",
      "|8591177        |1.9926692993268151  |Zürich, Hardplatz           |47.3823428932854|8.51452870811382|             |              |\n",
      "|8591203        |3.0785695075505672  |Zürich, Hubertus            |47.3768744261929|8.49947294394988|             |              |\n",
      "|8591236        |2.441193219284274   |Zürich, Krematorium Sihlfeld|47.3778051397306|8.50787219185756|             |              |\n",
      "|8591363        |3.4512382803435773  |Zürich, Siemens             |47.3785837632719|8.49449627727516|             |              |\n",
      "+---------------+--------------------+----------------------------+----------------+----------------+-------------+--------------+"
     ]
    }
   ],
   "source": [
    "# Old Test 5 (without the 2 minutes added)\n",
    "print(dijkstra_time(G=graph, first_source='8503000', last_target='8591363', INPUT_TIME=9*60+30))\n",
    "stops_zurich.where(col('stop_id').isin(['8503000:0:41/42', '8503020:0:3', '8591060', '8591177', '8591038', '8591145', '8591236', '8591203', '8591363'])).show(truncate=False)"
   ]
  },
  {
   "cell_type": "code",
   "execution_count": 64,
   "metadata": {},
   "outputs": [
    {
     "data": {
      "application/vnd.jupyter.widget-view+json": {
       "model_id": "",
       "version_major": 2,
       "version_minor": 0
      },
      "text/plain": [
       "FloatProgress(value=0.0, bar_style='info', description='Progress:', layout=Layout(height='25px', width='50%'),…"
      ]
     },
     "metadata": {},
     "output_type": "display_data"
    },
    {
     "name": "stdout",
     "output_type": "stream",
     "text": [
      "(673.3953823855, [('8503000', u'8503088:0:21', {'duration': 4.0726364136, 'departure_time': 570}), (u'8503088:0:21', u'8591367', {'duration': 10.1753155518, 'departure_time': 574.0726364136}), (u'8591367', u'8591381', {'duration': 11.5476794434, 'departure_time': 584.2479519654}), (u'8591381', u'8503011:0:2', {'duration': 11.710758667, 'departure_time': 595.7956314088001}), (u'8503011:0:2', u'8591341', {'duration': 9.041846313499999, 'departure_time': 607.5063900758001}), (u'8591341', u'8502572', {'duration': 10.0800109863, 'departure_time': 616.5482363893001}), (u'8502572', u'8591390', {'duration': 8.4916168213, 'departure_time': 626.6282473756}), (u'8591390', u'8591170', {'duration': 9.0659631348, 'departure_time': 635.1198641969}), (u'8591170', u'8591208', {'duration': 7.4547485352, 'departure_time': 644.1858273317}), (u'8591208', u'8591203', {'duration': 11.3318994141, 'departure_time': 651.6405758669}), (u'8591203', u'8591363', {'duration': 10.4229071045, 'departure_time': 662.972475281})])\n",
      "+---------------+--------------------+----------------------------+----------------+----------------+-------------+--------------+\n",
      "|stop_id        |zurich_distance     |stop_name                   |stop_lat        |stop_lon        |location_type|parent_station|\n",
      "+---------------+--------------------+----------------------------+----------------+----------------+-------------+--------------+\n",
      "|8503000:0:41/42|0.006762965306949739|Zürich HB                   |47.3782370338962|8.54019357578468|             |8503000P      |\n",
      "|8503020:0:3    |1.9184133366596074  |Zürich Hardbrücke           |47.3853779822952|8.5171068729796 |             |8503020P      |\n",
      "|8591038        |2.250212216892801   |Zürich, Albisriederplatz    |47.3782127019246|8.51039645780629|             |              |\n",
      "|8591060        |1.9033324468854709  |Zürich Hardbrücke, Bahnhof  |47.3849339821896|8.51703500775686|             |              |\n",
      "|8591145        |2.2269722135013277  |Zürich, Friedhof Sihlfeld   |47.3759315297134|8.51089053121262|             |              |\n",
      "|8591177        |1.9926692993268151  |Zürich, Hardplatz           |47.3823428932854|8.51452870811382|             |              |\n",
      "|8591203        |3.0785695075505672  |Zürich, Hubertus            |47.3768744261929|8.49947294394988|             |              |\n",
      "|8591236        |2.441193219284274   |Zürich, Krematorium Sihlfeld|47.3778051397306|8.50787219185756|             |              |\n",
      "|8591363        |3.4512382803435773  |Zürich, Siemens             |47.3785837632719|8.49449627727516|             |              |\n",
      "+---------------+--------------------+----------------------------+----------------+----------------+-------------+--------------+"
     ]
    }
   ],
   "source": [
    "# New Test 5, with graph not created from pickle but with complete process\n",
    "print(dijkstra_time(G=graph_long, first_source='8503000', last_target='8591363', INPUT_TIME=9*60+30))\n",
    "stops_zurich.where(col('stop_id').isin(['8503000:0:41/42', '8503020:0:3', '8591060', '8591177', '8591038', '8591145', '8591236', '8591203', '8591363'])).show(truncate=False)"
   ]
  }
 ],
 "metadata": {
  "kernelspec": {
   "display_name": "PySpark",
   "language": "",
   "name": "pysparkkernel"
  },
  "language_info": {
   "codemirror_mode": {
    "name": "python",
    "version": 3
   },
   "mimetype": "text/x-python",
   "name": "pyspark",
   "pygments_lexer": "python3"
  }
 },
 "nbformat": 4,
 "nbformat_minor": 4
}
