{
 "cells": [
  {
   "cell_type": "code",
   "execution_count": 1,
   "metadata": {},
   "outputs": [
    {
     "data": {
      "text/html": [
       "Current session configs: <tt>{'pyFiles': ['/user/gottraux/dijkstra_algorithms.py'], 'conf': {'spark.app.name': 'dslab-group_final'}, 'kind': 'pyspark'}</tt><br>"
      ],
      "text/plain": [
       "<IPython.core.display.HTML object>"
      ]
     },
     "metadata": {},
     "output_type": "display_data"
    },
    {
     "data": {
      "text/html": [
       "<table>\n",
       "<tr><th>ID</th><th>YARN Application ID</th><th>Kind</th><th>State</th><th>Spark UI</th><th>Driver log</th><th>Current session?</th></tr><tr><td>9250</td><td>application_1589299642358_3819</td><td>pyspark</td><td>idle</td><td><a target=\"_blank\" href=\"http://iccluster044.iccluster.epfl.ch:8088/proxy/application_1589299642358_3819/\">Link</a></td><td><a target=\"_blank\" href=\"http://iccluster071.iccluster.epfl.ch:8042/node/containerlogs/container_e06_1589299642358_3819_01_000001/ebouille\">Link</a></td><td></td></tr><tr><td>9294</td><td>application_1589299642358_3868</td><td>pyspark</td><td>idle</td><td><a target=\"_blank\" href=\"http://iccluster044.iccluster.epfl.ch:8088/proxy/application_1589299642358_3868/\">Link</a></td><td><a target=\"_blank\" href=\"http://iccluster067.iccluster.epfl.ch:8042/node/containerlogs/container_e06_1589299642358_3868_01_000001/ebouille\">Link</a></td><td></td></tr><tr><td>9295</td><td>application_1589299642358_3869</td><td>pyspark</td><td>busy</td><td><a target=\"_blank\" href=\"http://iccluster044.iccluster.epfl.ch:8088/proxy/application_1589299642358_3869/\">Link</a></td><td><a target=\"_blank\" href=\"http://iccluster069.iccluster.epfl.ch:8042/node/containerlogs/container_e06_1589299642358_3869_01_000001/ebouille\">Link</a></td><td></td></tr><tr><td>9302</td><td>application_1589299642358_3879</td><td>pyspark</td><td>idle</td><td><a target=\"_blank\" href=\"http://iccluster044.iccluster.epfl.ch:8088/proxy/application_1589299642358_3879/\">Link</a></td><td><a target=\"_blank\" href=\"http://iccluster071.iccluster.epfl.ch:8042/node/containerlogs/container_e06_1589299642358_3879_01_000001/ebouille\">Link</a></td><td></td></tr><tr><td>9317</td><td>application_1589299642358_3894</td><td>pyspark</td><td>idle</td><td><a target=\"_blank\" href=\"http://iccluster044.iccluster.epfl.ch:8088/proxy/application_1589299642358_3894/\">Link</a></td><td><a target=\"_blank\" href=\"http://iccluster071.iccluster.epfl.ch:8042/node/containerlogs/container_e06_1589299642358_3894_01_000001/ebouille\">Link</a></td><td></td></tr><tr><td>9320</td><td>application_1589299642358_3897</td><td>pyspark</td><td>idle</td><td><a target=\"_blank\" href=\"http://iccluster044.iccluster.epfl.ch:8088/proxy/application_1589299642358_3897/\">Link</a></td><td><a target=\"_blank\" href=\"http://iccluster069.iccluster.epfl.ch:8042/node/containerlogs/container_e06_1589299642358_3897_01_000001/ebouille\">Link</a></td><td></td></tr><tr><td>9323</td><td>application_1589299642358_3900</td><td>pyspark</td><td>idle</td><td><a target=\"_blank\" href=\"http://iccluster044.iccluster.epfl.ch:8088/proxy/application_1589299642358_3900/\">Link</a></td><td><a target=\"_blank\" href=\"http://iccluster068.iccluster.epfl.ch:8042/node/containerlogs/container_e06_1589299642358_3900_01_000001/ebouille\">Link</a></td><td></td></tr><tr><td>9324</td><td>application_1589299642358_3901</td><td>pyspark</td><td>idle</td><td><a target=\"_blank\" href=\"http://iccluster044.iccluster.epfl.ch:8088/proxy/application_1589299642358_3901/\">Link</a></td><td><a target=\"_blank\" href=\"http://iccluster071.iccluster.epfl.ch:8042/node/containerlogs/container_e06_1589299642358_3901_01_000001/ebouille\">Link</a></td><td></td></tr><tr><td>9325</td><td>application_1589299642358_3902</td><td>pyspark</td><td>idle</td><td><a target=\"_blank\" href=\"http://iccluster044.iccluster.epfl.ch:8088/proxy/application_1589299642358_3902/\">Link</a></td><td><a target=\"_blank\" href=\"http://iccluster066.iccluster.epfl.ch:8042/node/containerlogs/container_e06_1589299642358_3902_01_000001/ebouille\">Link</a></td><td></td></tr><tr><td>9326</td><td>application_1589299642358_3903</td><td>pyspark</td><td>idle</td><td><a target=\"_blank\" href=\"http://iccluster044.iccluster.epfl.ch:8088/proxy/application_1589299642358_3903/\">Link</a></td><td><a target=\"_blank\" href=\"http://iccluster066.iccluster.epfl.ch:8042/node/containerlogs/container_e06_1589299642358_3903_01_000001/ebouille\">Link</a></td><td></td></tr><tr><td>9332</td><td>application_1589299642358_3910</td><td>pyspark</td><td>idle</td><td><a target=\"_blank\" href=\"http://iccluster044.iccluster.epfl.ch:8088/proxy/application_1589299642358_3910/\">Link</a></td><td><a target=\"_blank\" href=\"http://iccluster066.iccluster.epfl.ch:8042/node/containerlogs/container_e06_1589299642358_3910_01_000001/ebouille\">Link</a></td><td></td></tr><tr><td>9333</td><td>application_1589299642358_3912</td><td>pyspark</td><td>idle</td><td><a target=\"_blank\" href=\"http://iccluster044.iccluster.epfl.ch:8088/proxy/application_1589299642358_3912/\">Link</a></td><td><a target=\"_blank\" href=\"http://iccluster071.iccluster.epfl.ch:8042/node/containerlogs/container_e06_1589299642358_3912_01_000001/ebouille\">Link</a></td><td></td></tr><tr><td>9334</td><td>application_1589299642358_3913</td><td>pyspark</td><td>idle</td><td><a target=\"_blank\" href=\"http://iccluster044.iccluster.epfl.ch:8088/proxy/application_1589299642358_3913/\">Link</a></td><td><a target=\"_blank\" href=\"http://iccluster071.iccluster.epfl.ch:8042/node/containerlogs/container_e06_1589299642358_3913_01_000001/ebouille\">Link</a></td><td></td></tr><tr><td>9335</td><td>application_1589299642358_3914</td><td>pyspark</td><td>idle</td><td><a target=\"_blank\" href=\"http://iccluster044.iccluster.epfl.ch:8088/proxy/application_1589299642358_3914/\">Link</a></td><td><a target=\"_blank\" href=\"http://iccluster067.iccluster.epfl.ch:8042/node/containerlogs/container_e06_1589299642358_3914_01_000001/ebouille\">Link</a></td><td></td></tr><tr><td>9336</td><td>application_1589299642358_3915</td><td>pyspark</td><td>idle</td><td><a target=\"_blank\" href=\"http://iccluster044.iccluster.epfl.ch:8088/proxy/application_1589299642358_3915/\">Link</a></td><td><a target=\"_blank\" href=\"http://iccluster070.iccluster.epfl.ch:8042/node/containerlogs/container_e06_1589299642358_3915_01_000001/ebouille\">Link</a></td><td></td></tr><tr><td>9338</td><td>application_1589299642358_3917</td><td>pyspark</td><td>idle</td><td><a target=\"_blank\" href=\"http://iccluster044.iccluster.epfl.ch:8088/proxy/application_1589299642358_3917/\">Link</a></td><td><a target=\"_blank\" href=\"http://iccluster068.iccluster.epfl.ch:8042/node/containerlogs/container_e06_1589299642358_3917_01_000001/ebouille\">Link</a></td><td></td></tr><tr><td>9339</td><td>application_1589299642358_3918</td><td>pyspark</td><td>idle</td><td><a target=\"_blank\" href=\"http://iccluster044.iccluster.epfl.ch:8088/proxy/application_1589299642358_3918/\">Link</a></td><td><a target=\"_blank\" href=\"http://iccluster065.iccluster.epfl.ch:8042/node/containerlogs/container_e06_1589299642358_3918_01_000001/ebouille\">Link</a></td><td></td></tr><tr><td>9341</td><td>application_1589299642358_3920</td><td>pyspark</td><td>idle</td><td><a target=\"_blank\" href=\"http://iccluster044.iccluster.epfl.ch:8088/proxy/application_1589299642358_3920/\">Link</a></td><td><a target=\"_blank\" href=\"http://iccluster068.iccluster.epfl.ch:8042/node/containerlogs/container_e06_1589299642358_3920_01_000001/ebouille\">Link</a></td><td></td></tr><tr><td>9345</td><td>application_1589299642358_3925</td><td>pyspark</td><td>idle</td><td><a target=\"_blank\" href=\"http://iccluster044.iccluster.epfl.ch:8088/proxy/application_1589299642358_3925/\">Link</a></td><td><a target=\"_blank\" href=\"http://iccluster067.iccluster.epfl.ch:8042/node/containerlogs/container_e06_1589299642358_3925_01_000001/ebouille\">Link</a></td><td></td></tr><tr><td>9346</td><td>application_1589299642358_3926</td><td>pyspark</td><td>idle</td><td><a target=\"_blank\" href=\"http://iccluster044.iccluster.epfl.ch:8088/proxy/application_1589299642358_3926/\">Link</a></td><td><a target=\"_blank\" href=\"http://iccluster069.iccluster.epfl.ch:8042/node/containerlogs/container_e06_1589299642358_3926_01_000001/ebouille\">Link</a></td><td></td></tr><tr><td>9347</td><td>application_1589299642358_3927</td><td>pyspark</td><td>idle</td><td><a target=\"_blank\" href=\"http://iccluster044.iccluster.epfl.ch:8088/proxy/application_1589299642358_3927/\">Link</a></td><td><a target=\"_blank\" href=\"http://iccluster069.iccluster.epfl.ch:8042/node/containerlogs/container_e06_1589299642358_3927_01_000001/ebouille\">Link</a></td><td></td></tr><tr><td>9350</td><td>application_1589299642358_3930</td><td>pyspark</td><td>idle</td><td><a target=\"_blank\" href=\"http://iccluster044.iccluster.epfl.ch:8088/proxy/application_1589299642358_3930/\">Link</a></td><td><a target=\"_blank\" href=\"http://iccluster069.iccluster.epfl.ch:8042/node/containerlogs/container_e06_1589299642358_3930_01_000001/ebouille\">Link</a></td><td></td></tr><tr><td>9352</td><td>application_1589299642358_3932</td><td>pyspark</td><td>idle</td><td><a target=\"_blank\" href=\"http://iccluster044.iccluster.epfl.ch:8088/proxy/application_1589299642358_3932/\">Link</a></td><td><a target=\"_blank\" href=\"http://iccluster066.iccluster.epfl.ch:8042/node/containerlogs/container_e06_1589299642358_3932_01_000001/ebouille\">Link</a></td><td></td></tr><tr><td>9353</td><td>application_1589299642358_3933</td><td>pyspark</td><td>idle</td><td><a target=\"_blank\" href=\"http://iccluster044.iccluster.epfl.ch:8088/proxy/application_1589299642358_3933/\">Link</a></td><td><a target=\"_blank\" href=\"http://iccluster067.iccluster.epfl.ch:8042/node/containerlogs/container_e06_1589299642358_3933_01_000001/ebouille\">Link</a></td><td></td></tr><tr><td>9354</td><td>application_1589299642358_3934</td><td>pyspark</td><td>idle</td><td><a target=\"_blank\" href=\"http://iccluster044.iccluster.epfl.ch:8088/proxy/application_1589299642358_3934/\">Link</a></td><td><a target=\"_blank\" href=\"http://iccluster069.iccluster.epfl.ch:8042/node/containerlogs/container_e06_1589299642358_3934_01_000001/ebouille\">Link</a></td><td></td></tr><tr><td>9355</td><td>application_1589299642358_3935</td><td>pyspark</td><td>idle</td><td><a target=\"_blank\" href=\"http://iccluster044.iccluster.epfl.ch:8088/proxy/application_1589299642358_3935/\">Link</a></td><td><a target=\"_blank\" href=\"http://iccluster070.iccluster.epfl.ch:8042/node/containerlogs/container_e06_1589299642358_3935_01_000001/ebouille\">Link</a></td><td></td></tr><tr><td>9356</td><td>application_1589299642358_3936</td><td>pyspark</td><td>idle</td><td><a target=\"_blank\" href=\"http://iccluster044.iccluster.epfl.ch:8088/proxy/application_1589299642358_3936/\">Link</a></td><td><a target=\"_blank\" href=\"http://iccluster069.iccluster.epfl.ch:8042/node/containerlogs/container_e06_1589299642358_3936_01_000001/ebouille\">Link</a></td><td></td></tr></table>"
      ],
      "text/plain": [
       "<IPython.core.display.HTML object>"
      ]
     },
     "metadata": {},
     "output_type": "display_data"
    }
   ],
   "source": [
    "%%configure\n",
    "{\"pyFiles\": [\"/user/gottraux/dijkstra_algorithms.py\"],\n",
    " \"conf\": {\n",
    "    \"spark.app.name\": \"dslab-group_final\"\n",
    "}}"
   ]
  },
  {
   "cell_type": "markdown",
   "metadata": {},
   "source": [
    "### Imports and helper functions:"
   ]
  },
  {
   "cell_type": "code",
   "execution_count": 2,
   "metadata": {},
   "outputs": [
    {
     "name": "stdout",
     "output_type": "stream",
     "text": [
      "Starting Spark application\n"
     ]
    },
    {
     "data": {
      "text/html": [
       "<table>\n",
       "<tr><th>ID</th><th>YARN Application ID</th><th>Kind</th><th>State</th><th>Spark UI</th><th>Driver log</th><th>Current session?</th></tr><tr><td>9358</td><td>application_1589299642358_3938</td><td>pyspark</td><td>idle</td><td><a target=\"_blank\" href=\"http://iccluster044.iccluster.epfl.ch:8088/proxy/application_1589299642358_3938/\">Link</a></td><td><a target=\"_blank\" href=\"http://iccluster068.iccluster.epfl.ch:8042/node/containerlogs/container_e06_1589299642358_3938_01_000001/ebouille\">Link</a></td><td>✔</td></tr></table>"
      ],
      "text/plain": [
       "<IPython.core.display.HTML object>"
      ]
     },
     "metadata": {},
     "output_type": "display_data"
    },
    {
     "data": {
      "application/vnd.jupyter.widget-view+json": {
       "model_id": "",
       "version_major": 2,
       "version_minor": 0
      },
      "text/plain": [
       "FloatProgress(value=0.0, bar_style='info', description='Progress:', layout=Layout(height='25px', width='50%'),…"
      ]
     },
     "metadata": {},
     "output_type": "display_data"
    },
    {
     "name": "stdout",
     "output_type": "stream",
     "text": [
      "SparkSession available as 'spark'.\n"
     ]
    },
    {
     "data": {
      "application/vnd.jupyter.widget-view+json": {
       "model_id": "",
       "version_major": 2,
       "version_minor": 0
      },
      "text/plain": [
       "FloatProgress(value=0.0, bar_style='info', description='Progress:', layout=Layout(height='25px', width='50%'),…"
      ]
     },
     "metadata": {},
     "output_type": "display_data"
    }
   ],
   "source": [
    "import pickle\n",
    "import json\n",
    "import time\n",
    "import networkx as nx\n",
    "import pandas as pd\n",
    "from pyspark.sql.functions import col\n",
    "\n",
    "\"\"\"\n",
    "To load (or reload) into hdfs, need to update cell above and restart kernel\n",
    "\n",
    "hdfs dfs -rm /user/${JUPYTERHUB_USER}/dijkstra_algorithms.py 2>/dev/null\n",
    "hdfs dfs -copyFromLocal notebooks/dijkstra_algorithms.py /user/${JUPYTERHUB_USER}/\n",
    "\"\"\"\n",
    "from dijkstra_algorithms import *\n",
    "\n",
    "MAX_TRIP_DURATION = 2 #duration in hour \n",
    "\n",
    "days_dict = {0: 'monday', 1: 'tuesday', 2: 'wednesday', 3: 'thursday', 4: 'friday'}\n",
    "def day_trips(*day_ids):\n",
    "    \"\"\"\n",
    "    day_trips: gives the trip_ids that operate on certain days\n",
    "    input: a variable number of day ids\n",
    "    output:s spark dataframe with trip_ids\n",
    "    \n",
    "    \"\"\"\n",
    "    days = [days_dict[day_id] for day_id in day_ids]\n",
    "    where_clause = \" and \".join(days)\n",
    "\n",
    "    day_services = calendar.where(where_clause).select('service_id')\n",
    "    return day_services.join(trips, on='service_id').select('trip_id')"
   ]
  },
  {
   "cell_type": "markdown",
   "metadata": {},
   "source": [
    "Set which home will be used to load the data"
   ]
  },
  {
   "cell_type": "code",
   "execution_count": 3,
   "metadata": {},
   "outputs": [],
   "source": [
    "%%local\n",
    "import os\n",
    "import pandas as pd\n",
    "username = 'liseli'"
   ]
  },
  {
   "cell_type": "code",
   "execution_count": 4,
   "metadata": {},
   "outputs": [
    {
     "data": {
      "application/vnd.jupyter.widget-view+json": {
       "model_id": "",
       "version_major": 2,
       "version_minor": 0
      },
      "text/plain": [
       "FloatProgress(value=0.0, bar_style='info', description='Progress:', layout=Layout(height='25px', width='50%'),…"
      ]
     },
     "metadata": {},
     "output_type": "display_data"
    },
    {
     "name": "stdout",
     "output_type": "stream",
     "text": [
      "Successfully passed 'username' as 'username' to Spark kernel"
     ]
    }
   ],
   "source": [
    "%%send_to_spark -i username -t str -n username"
   ]
  },
  {
   "cell_type": "markdown",
   "metadata": {},
   "source": [
    "## Load graph data"
   ]
  },
  {
   "cell_type": "code",
   "execution_count": 5,
   "metadata": {},
   "outputs": [
    {
     "data": {
      "application/vnd.jupyter.widget-view+json": {
       "model_id": "",
       "version_major": 2,
       "version_minor": 0
      },
      "text/plain": [
       "FloatProgress(value=0.0, bar_style='info', description='Progress:', layout=Layout(height='25px', width='50%'),…"
      ]
     },
     "metadata": {},
     "output_type": "display_data"
    }
   ],
   "source": [
    "def convertToMinute(s):\n",
    "    h, m = s.split(':')\n",
    "    h,m = int(h), int(m)\n",
    "    \n",
    "    return h*60+m"
   ]
  },
  {
   "cell_type": "code",
   "execution_count": 6,
   "metadata": {},
   "outputs": [
    {
     "data": {
      "application/vnd.jupyter.widget-view+json": {
       "model_id": "",
       "version_major": 2,
       "version_minor": 0
      },
      "text/plain": [
       "FloatProgress(value=0.0, bar_style='info', description='Progress:', layout=Layout(height='25px', width='50%'),…"
      ]
     },
     "metadata": {},
     "output_type": "display_data"
    }
   ],
   "source": [
    "trips = spark.read.format('orc').load('/data/sbb/timetables/orc/trips/000000_0')\n",
    "calendar = spark.read.format('orc').load('/data/sbb/timetables/orc/calendar/000000_0')\n",
    "\n",
    "nodes_df = spark.read.orc(\"/user/{}/nodes.orc\".format(username))\n",
    "edges_df = spark.read.orc(\"/user/{}/edges_with_mean_and_std_sec.orc\".format(username))\n",
    "\n",
    "# reverse edges:\n",
    "edges_df = edges_df.withColumnRenamed('stop_id', 'temp').withColumnRenamed('next_stop', 'stop_id').withColumnRenamed('temp', 'next_stop')"
   ]
  },
  {
   "cell_type": "code",
   "execution_count": 7,
   "metadata": {},
   "outputs": [
    {
     "data": {
      "application/vnd.jupyter.widget-view+json": {
       "model_id": "",
       "version_major": 2,
       "version_minor": 0
      },
      "text/plain": [
       "FloatProgress(value=0.0, bar_style='info', description='Progress:', layout=Layout(height='25px', width='50%'),…"
      ]
     },
     "metadata": {},
     "output_type": "display_data"
    }
   ],
   "source": [
    "nodes = nodes_df.rdd.map(lambda r: (r[0], {'name': r['stop_name'],\n",
    "                                              'lat': r['stop_lat'],\n",
    "                                              'lon': r['stop_lon']})).collect()"
   ]
  },
  {
   "cell_type": "code",
   "execution_count": 8,
   "metadata": {},
   "outputs": [],
   "source": [
    "%%local\n",
    "walking_times = pd.read_pickle('walking_edges.pickle')"
   ]
  },
  {
   "cell_type": "code",
   "execution_count": 9,
   "metadata": {},
   "outputs": [
    {
     "data": {
      "application/vnd.jupyter.widget-view+json": {
       "model_id": "",
       "version_major": 2,
       "version_minor": 0
      },
      "text/plain": [
       "FloatProgress(value=0.0, bar_style='info', description='Progress:', layout=Layout(height='25px', width='50%'),…"
      ]
     },
     "metadata": {},
     "output_type": "display_data"
    },
    {
     "name": "stdout",
     "output_type": "stream",
     "text": [
      "Successfully passed 'walking_times' as 'walking_times' to Spark kernel"
     ]
    }
   ],
   "source": [
    "%send_to_spark -i walking_times -t df -m 20000"
   ]
  },
  {
   "cell_type": "code",
   "execution_count": 10,
   "metadata": {},
   "outputs": [
    {
     "data": {
      "application/vnd.jupyter.widget-view+json": {
       "model_id": "",
       "version_major": 2,
       "version_minor": 0
      },
      "text/plain": [
       "FloatProgress(value=0.0, bar_style='info', description='Progress:', layout=Layout(height='25px', width='50%'),…"
      ]
     },
     "metadata": {},
     "output_type": "display_data"
    }
   ],
   "source": [
    "# reverse edges for walking edges also:\n",
    "walking_times = (walking_times.withColumnRenamed('source', 'temp').withColumnRenamed('target', 'source').withColumnRenamed('temp', 'target'))\n",
    "\n",
    "edges_walking = walking_times.toPandas()\n",
    "edges_walking['attrs'] = edges_walking.apply(lambda x: {'time': -1, 'duration': x['walk_duration']}, axis=1)\n",
    "edges_walking = list(edges_walking[['source', 'target', 'attrs']].to_numpy())"
   ]
  },
  {
   "cell_type": "markdown",
   "metadata": {},
   "source": [
    "## Choose time of arrival"
   ]
  },
  {
   "cell_type": "code",
   "execution_count": 11,
   "metadata": {},
   "outputs": [
    {
     "data": {
      "application/vnd.jupyter.widget-view+json": {
       "model_id": "",
       "version_major": 2,
       "version_minor": 0
      },
      "text/plain": [
       "FloatProgress(value=0.0, bar_style='info', description='Progress:', layout=Layout(height='25px', width='50%'),…"
      ]
     },
     "metadata": {},
     "output_type": "display_data"
    }
   ],
   "source": [
    "day_id, arrival_hour, arrival_minute = 4, 12, 30"
   ]
  },
  {
   "cell_type": "markdown",
   "metadata": {},
   "source": [
    "## Create graph"
   ]
  },
  {
   "cell_type": "code",
   "execution_count": 12,
   "metadata": {},
   "outputs": [
    {
     "data": {
      "application/vnd.jupyter.widget-view+json": {
       "model_id": "",
       "version_major": 2,
       "version_minor": 0
      },
      "text/plain": [
       "FloatProgress(value=0.0, bar_style='info', description='Progress:', layout=Layout(height='25px', width='50%'),…"
      ]
     },
     "metadata": {},
     "output_type": "display_data"
    }
   ],
   "source": [
    "def create_edges_for_trip(edges_df, day_id, arrival_time):\n",
    "    \"\"\"\n",
    "    create_edges_for_trip: constructs edges (and thus trips) that exist in a window of two hours before a given input time\n",
    "    @input:\n",
    "    - edges_df: df from which we construct the edges\n",
    "    - day_id: id of week-day (e.g. wednesday is day id 2, see dictionnary above)\n",
    "    - hour, minute: time at which we want to arrive somewhere (e.g. 11:30)\n",
    "    @output: data frame of selected edges\n",
    "    \"\"\"\n",
    "    #select only the trips that occur on that day:\n",
    "    edges_df= edges_df.join(day_trips(day_id), on='trip_id')\n",
    "    \n",
    "    min_dep_time = arrival_time - 60*MAX_TRIP_DURATION\n",
    "    \n",
    "    #keep only those in a window of two hours:\n",
    "    edges_df = edges_df.filter((col('departure_time') > min_dep_time) & \n",
    "                                            (col('arrival_time') <= arrival_time))\n",
    "    \n",
    "    edges = edges_df.rdd.map(lambda r: (r['stop_id'], r['next_stop'], {'duration': r['trip_duration'],\n",
    "                                                                       'time': float(r['departure_time']),\n",
    "                                                                       'trip_id': r['trip_id'],\n",
    "                                                                       'mean': r['mean'],\n",
    "                                                                       'std': r['std'],\n",
    "                                                                       'transport': r['train_type'], \n",
    "                                                                      'p_90':r['p_90'],\n",
    "                                                                       'p_91':r['p_91'],\n",
    "                                                                       'p_92':r['p_92'],\n",
    "                                                                       'p_93':r['p_93'],\n",
    "                                                                       'p_94':r['p_94'],\n",
    "                                                                       'p_95':r['p_95'],\n",
    "                                                                       'p_96':r['p_96'],\n",
    "                                                                       'p_97':r['p_97'],\n",
    "                                                                       'p_98':r['p_98'],\n",
    "                                                                       'p_99':r['p_99']})).collect()\n",
    "    \n",
    "    return edges + edges_walking"
   ]
  },
  {
   "cell_type": "code",
   "execution_count": 13,
   "metadata": {},
   "outputs": [
    {
     "data": {
      "application/vnd.jupyter.widget-view+json": {
       "model_id": "",
       "version_major": 2,
       "version_minor": 0
      },
      "text/plain": [
       "FloatProgress(value=0.0, bar_style='info', description='Progress:', layout=Layout(height='25px', width='50%'),…"
      ]
     },
     "metadata": {},
     "output_type": "display_data"
    }
   ],
   "source": [
    "edges = create_edges_for_trip(edges_df, day_id, arrival_hour*60+arrival_minute)"
   ]
  },
  {
   "cell_type": "code",
   "execution_count": 14,
   "metadata": {},
   "outputs": [
    {
     "data": {
      "application/vnd.jupyter.widget-view+json": {
       "model_id": "",
       "version_major": 2,
       "version_minor": 0
      },
      "text/plain": [
       "FloatProgress(value=0.0, bar_style='info', description='Progress:', layout=Layout(height='25px', width='50%'),…"
      ]
     },
     "metadata": {},
     "output_type": "display_data"
    },
    {
     "name": "stdout",
     "output_type": "stream",
     "text": [
      "18 nodes removed"
     ]
    }
   ],
   "source": [
    "graph = nx.MultiDiGraph()\n",
    "graph.add_nodes_from(nodes)\n",
    "graph.add_edges_from(edges)\n",
    "\n",
    "old_number_of_nodes = graph.number_of_nodes()\n",
    "# Remove unreachable nodes\n",
    "dists, paths = normal_dijkstra(graph, '8503000')\n",
    "not_reachable = set(graph.nodes) - set(dists.keys())\n",
    "_ = graph.remove_nodes_from(list(not_reachable))\n",
    "print('{} nodes removed'.format(old_number_of_nodes - graph.number_of_nodes()))\n",
    "\n",
    "# Temp for problem of name's encoding\n",
    "import unicodedata\n",
    "nodes_data = graph.nodes(data=True)\n",
    "for n in graph.nodes:\n",
    "    nodes_data[n]['name'] = unicodedata.normalize('NFKD', nodes_data[n]['name']).encode('ascii','ignore')"
   ]
  },
  {
   "cell_type": "markdown",
   "metadata": {},
   "source": [
    "## dijkstra:"
   ]
  },
  {
   "cell_type": "code",
   "execution_count": 33,
   "metadata": {},
   "outputs": [
    {
     "data": {
      "application/vnd.jupyter.widget-view+json": {
       "model_id": "",
       "version_major": 2,
       "version_minor": 0
      },
      "text/plain": [
       "FloatProgress(value=0.0, bar_style='info', description='Progress:', layout=Layout(height='25px', width='50%'),…"
      ]
     },
     "metadata": {},
     "output_type": "display_data"
    },
    {
     "name": "stdout",
     "output_type": "stream",
     "text": [
      "True"
     ]
    }
   ],
   "source": [
    "confidence_dict = {'0.90':'p_90','0.91':'p_91','0.92':'p_92','0.93':'p_93','0.94':'p_94','0.95':'p_95',\n",
    "                       '0.96':'p_96','0.97':'p_97','0.98':'p_98','0.99':'p_99'}\n",
    "'0.90' in confidence_dict"
   ]
  },
  {
   "cell_type": "code",
   "execution_count": null,
   "metadata": {},
   "outputs": [],
   "source": []
  },
  {
   "cell_type": "code",
   "execution_count": 50,
   "metadata": {},
   "outputs": [
    {
     "data": {
      "application/vnd.jupyter.widget-view+json": {
       "model_id": "",
       "version_major": 2,
       "version_minor": 0
      },
      "text/plain": [
       "FloatProgress(value=0.0, bar_style='info', description='Progress:', layout=Layout(height='25px', width='50%'),…"
      ]
     },
     "metadata": {},
     "output_type": "display_data"
    }
   ],
   "source": [
    "def dijkstra_reversed(G, first_source, arrival_time, last_target, confidence=None, \n",
    "                       confidence_step=0.01, durations_dicts=None):\n",
    "    G = G.copy()\n",
    "    departure_time = -arrival_time\n",
    "    \n",
    "    confidence_dict = {'0.90':'p_90','0.91':'p_91','0.92':'p_92','0.93':'p_93','0.94':'p_94','0.95':'p_95',\n",
    "                       '0.96':'p_96','0.97':'p_97','0.98':'p_98','0.99':'p_99'}\n",
    "\n",
    "    # inverse direction \n",
    "    temp = first_source\n",
    "    first_source = last_target\n",
    "    last_target = temp\n",
    "        \n",
    "    if not G.is_directed():\n",
    "        raise ValueError('Input graph is not directed while it should be.')\n",
    "\n",
    "    G_succ = G.succ \n",
    "        \n",
    "    # paths stores the nodes in dijkstra's shortest path\n",
    "    paths = {first_source: [first_source]}\n",
    "    # stores the edges in dijkstra's shortest path\n",
    "    e_paths = {first_source: []}\n",
    "        \n",
    "    # dictionary of final distances to nodes\n",
    "    dist = {}  \n",
    "        \n",
    "    # dictionnary of whether it's the first time a node is visited\n",
    "    seen = {first_source: departure_time}\n",
    "\n",
    "    # use heapq with (distance,label) tuples\n",
    "    push = heappush\n",
    "    pop = heappop\n",
    "    c = count()\n",
    "    fringe = []  \n",
    "        \n",
    "    # push the source as the first node on the heap\n",
    "    push(fringe, (departure_time, next(c), first_source))\n",
    "    # while heap not empty\n",
    "    while True:\n",
    "        while fringe:\n",
    "            # take the node to look at: \n",
    "            (d, _, source) = pop(fringe)\n",
    "\n",
    "             # check if node has already been looked at and has a final shortest distance: \n",
    "            if source in dist:\n",
    "                  continue  # already searched this node so go to another\n",
    "\n",
    "            # take the distance to the node from the heap \n",
    "            # source starts with distance = departure_time\n",
    "            dist[source] = d\n",
    "\n",
    "            #stop if the source is the last_target. \n",
    "            if source == last_target:\n",
    "                break\n",
    "\n",
    "            # Look at all direct descendents from the source node: \n",
    "            for target, edges in G_succ[source].items():\n",
    "                # Because it's a multigraph, need to look at all edges between two nodes:\n",
    "                for edge_id in edges:  \n",
    "                    \n",
    "                    dep_time_edge = - G.get_edge_data(source, target, edge_id)['time']\n",
    "\n",
    "                    # Get the duration between two nodes:\n",
    "                    duration_cost = G.get_edge_data(source, target, edge_id)['duration']\n",
    "                     \n",
    "                    # Check if walking edge: \n",
    "                    # walking edges have a departure time of -1\n",
    "                    if dep_time_edge == 1:\n",
    "                        walking_edge = True\n",
    "                        current_trip_id = None\n",
    "                        \n",
    "                        # set the departure time to the \n",
    "                        # distance to that node as we can leave immediatly\n",
    "                        dep_time_edge = d + duration_cost                  \n",
    "\n",
    "                    else:\n",
    "                        walking_edge = False\n",
    "                        current_trip_id = G.get_edge_data(source, target, edge_id)['trip_id']\n",
    "\n",
    "\n",
    "                    if duration_cost is None:\n",
    "                            raise ValueError('Edge without a duration.')\n",
    "\n",
    "                    # Add the weight to the current distance to a node\n",
    "\n",
    "                    current_dist = dep_time_edge           \n",
    "                    # take only edges that have a departure time bigger \n",
    "                    # than the time it takes to get to the node\n",
    "\n",
    "                    if dep_time_edge - duration_cost < dist[source]:\n",
    "                            # move on to next edge if it's earlier \n",
    "                        continue\n",
    "\n",
    "                    # Check if edge is feasible (also accoring to confidence)\n",
    "                    # Check if last edge taken was not a walking edge\n",
    "                    # Check if there is at least a path of length 1 to the source node \n",
    "                    # (e.g. that this node is not the original source)\n",
    "                    if len(e_paths[source]) >= 1 and not walking_edge:\n",
    "                        last_edge_source, last_edge_target, last_edge_info = e_paths[source][-1]\n",
    "                        mean = G.get_edge_data(source, target, edge_id)['mean']\n",
    "                        std = G.get_edge_data(source, target, edge_id)['std']\n",
    "                        \n",
    "                        # now compute delay for current edge because in reverse\n",
    "                        if str(confidence) in confidence_dict:\n",
    "                            p = confidence_dict[str(confidence)]\n",
    "                            last_delay = G.get_edge_data(source, target, edge_id)[p]\n",
    "                            if last_delay == None: \n",
    "                                last_delay = 0\n",
    "                        else:\n",
    "                            last_delay = compute_delay_uncertainty(mean, std, confidence)\n",
    "\n",
    "                        # If we make a transport-> walk change\n",
    "                        if last_edge_info['walk']:\n",
    "                            # add delay to departure time of walk as we will leave later\n",
    "                            dep_time_edge -= last_delay\n",
    "                        else:\n",
    "                            # If we make a transport->transport change, check if we have time to change\n",
    "                            # To change we need that the next connection leaves >= 2 min + delay of transport\n",
    "                            # If not we cannot take that edge\n",
    "                            #if current_trip_id != last_edge_info['trip_id']\\\n",
    "                            #and dep_time_edge < dist[source] + 2 + last_delay:\n",
    "                            #   continue\n",
    "                            if current_trip_id != last_edge_info['trip_id'] and dep_time_edge - last_delay - 2 - duration_cost < dist[source]:\n",
    "                                continue                \n",
    "\n",
    "                    # if target has already been visited once and has a final distance:\n",
    "                    if target in dist:\n",
    "                            # if we find a distance smaller than the actual distance in dic\n",
    "                            # raise error because dic distances contains only final distances\n",
    "                            if current_dist < dist[target]:\n",
    "                                raise ValueError('Contradictory paths found:','negative weights?')\n",
    "\n",
    "                    # either node has been seen before or the current distance is smaller than the \n",
    "                    # proposed distance in seen[target]:\n",
    "                    if target not in seen or current_dist < seen[target]:\n",
    "\n",
    "                        # update the seen distance\n",
    "                        seen[target] = current_dist\n",
    "                        # push it onto the heap so that we will look at its descendants later\n",
    "                        push(fringe, (current_dist, next(c), target))\n",
    "\n",
    "                        # update the paths till target:\n",
    "                        if paths is not None:\n",
    "\n",
    "                            edge_dict = G.get_edge_data(source, target, edge_id)\n",
    "\n",
    "                            edge_dict['walk'] = walking_edge\n",
    "                            edge_dict['departure_time'] = dep_time_edge\n",
    "                            e_paths[target] = e_paths[source] + [(source, target, edge_dict)]    \n",
    "        \n",
    "        # If there is no path to the last_target:\n",
    "        if  last_target not in e_paths:\n",
    "            print('Error: No paths to the source')\n",
    "            return pd.DataFrame(columns=['from', 'from_id', 'to', 'to_id', 'duration', \n",
    "                                             'departure_time', 'walk', 'no_change', 'mean_std_null','mean','std'])\n",
    "\n",
    "            \n",
    "        # Construct path's data structure\n",
    "        if paths is not None:\n",
    "            nodes_data = G.nodes(data=True)\n",
    "            arrival_string = minute_to_string(dist[last_target])\n",
    "\n",
    "            #reverse path:\n",
    "            best_path = []\n",
    "            for edge in e_paths[last_target][::-1]: \n",
    "                edge = (edge[1], edge[0], edge[2])\n",
    "                best_path.append(edge)           \n",
    "            num_edges = len(best_path)\n",
    "            departure_string = minute_to_string(-best_path[0][2]['departure_time'])\n",
    "\n",
    "            best_path_df = pd.DataFrame(columns=['from', 'from_id', 'to', 'to_id', 'duration',\n",
    "                                              'departure_time', 'walk', 'no_change', 'mean_std_null', 'mean','std'])\n",
    "            last_edge_info = False\n",
    "            for source, target, edge_info in best_path:\n",
    "                no_change = ('trip_id' in edge_info                                   # We're in a transport\n",
    "                             and last_edge_info and 'trip_id' in last_edge_info       # and last edge also\n",
    "                             and last_edge_info['trip_id'] == edge_info['trip_id'])   # and same trip_id\n",
    "                mean_std_null = 'trip_id' in edge_info and 'mean' not in edge_info or 'std' not in edge_info\n",
    "\n",
    "                if not mean_std_null:\n",
    "                    mean = edge_info['mean']\n",
    "                    std = edge_info['std']\n",
    "                    if  edge_info['mean'] == None or  edge_info['std'] == None: \n",
    "                        mean = edge_info['duration']\n",
    "                        std = 0\n",
    "                if 'mean' not in edge_info or 'std' not in edge_info:\n",
    "                    mean = edge_info['duration']\n",
    "                    std = 0\n",
    "\n",
    "                current_path_dict = {'from': nodes_data[source]['name'],\n",
    "                                     'from_id': source, \n",
    "                                     'to': nodes_data[target]['name'], \n",
    "                                     'to_id': target, \n",
    "                                     'duration': edge_info['duration'], \n",
    "                                     'departure_time': minute_to_string(-edge_info['departure_time']), \n",
    "                                     'walk':edge_info['walk'], \n",
    "                                     'no_change': no_change, \n",
    "                                     'mean_std_null': mean_std_null,\n",
    "                                    'mean':mean,\n",
    "                                    'std':float(std),\n",
    "                                    'transport':edge_info['transport'] if not edge_info['walk'] else 'Walk'}\n",
    "                best_path_df = best_path_df.append(current_path_dict, ignore_index=True)\n",
    "                last_edge_info = edge_info\n",
    "\n",
    "            # Validation: \n",
    "            if confidence != None and not validate_path_(best_path_df, confidence):\n",
    "                # else increase confidence by a confidence step and start again: \n",
    "                confidence += 0.01\n",
    "                print(confidence)\n",
    "                continue\n",
    "                \n",
    "            # If path validated, print it\n",
    "            print('Going from {} ({}) to {} ({}) in {:.2f} minutes, departure at {}, arrival at {}'.format(nodes_data[last_target]['name'],\n",
    "                                                                                          last_target,\n",
    "                                                                                          nodes_data[first_source]['name'],\n",
    "                                                                                          first_source, \n",
    "                                                                                          arrival_time + best_path[0][2]['departure_time'],\n",
    "                                                                                          minute_to_string(-best_path[0][2]['departure_time']),\n",
    "                                                                                            minute_to_string(-best_path[num_edges-1][2]['departure_time']+\n",
    "                                                                                                            best_path[num_edges-1][2]['duration'])))\n",
    "            with pd.option_context('display.max_rows', None, \n",
    "                                   'display.max_columns', None, \n",
    "                                   'display.max_colwidth', 15,\n",
    "                                   'display.expand_frame_repr', False):\n",
    "                    print(best_path_df)\n",
    "            return best_path_df\n",
    "    raise ValueError('Should not be here')\n",
    "    return e_paths[last_target], dist[last_target]"
   ]
  },
  {
   "cell_type": "code",
   "execution_count": 50,
   "metadata": {},
   "outputs": [
    {
     "data": {
      "application/vnd.jupyter.widget-view+json": {
       "model_id": "",
       "version_major": 2,
       "version_minor": 0
      },
      "text/plain": [
       "FloatProgress(value=0.0, bar_style='info', description='Progress:', layout=Layout(height='25px', width='50%'),…"
      ]
     },
     "metadata": {},
     "output_type": "display_data"
    }
   ],
   "source": [
    "def dijkstra_reversed(G, first_source, arrival_time, last_target, confidence=None, \n",
    "                       confidence_step=0.01, durations_dicts=None):\n",
    "    G = G.copy()\n",
    "    departure_time = -arrival_time\n",
    "    \n",
    "    confidence_dict = {'0.90':'p_90','0.91':'p_91','0.92':'p_92','0.93':'p_93','0.94':'p_94','0.95':'p_95',\n",
    "                       '0.96':'p_96','0.97':'p_97','0.98':'p_98','0.99':'p_99'}\n",
    "\n",
    "    # inverse direction \n",
    "    temp = first_source\n",
    "    first_source = last_target\n",
    "    last_target = temp\n",
    "        \n",
    "    if not G.is_directed():\n",
    "        raise ValueError('Input graph is not directed while it should be.')\n",
    "\n",
    "    G_succ = G.succ \n",
    "        \n",
    "    # paths stores the nodes in dijkstra's shortest path\n",
    "    paths = {first_source: [first_source]}\n",
    "    # stores the edges in dijkstra's shortest path\n",
    "    e_paths = {first_source: []}\n",
    "        \n",
    "    # dictionary of final distances to nodes\n",
    "    dist = {}  \n",
    "        \n",
    "    # dictionnary of whether it's the first time a node is visited\n",
    "    seen = {first_source: departure_time}\n",
    "\n",
    "    # use heapq with (distance,label) tuples\n",
    "    push = heappush\n",
    "    pop = heappop\n",
    "    c = count()\n",
    "    fringe = []  \n",
    "        \n",
    "    # push the source as the first node on the heap\n",
    "    push(fringe, (departure_time, next(c), first_source))\n",
    "    # while heap not empty\n",
    "    while True:\n",
    "        while fringe:\n",
    "            # take the node to look at: \n",
    "            (d, _, source) = pop(fringe)\n",
    "\n",
    "             # check if node has already been looked at and has a final shortest distance: \n",
    "            if source in dist:\n",
    "                  continue  # already searched this node so go to another\n",
    "\n",
    "            # take the distance to the node from the heap \n",
    "            # source starts with distance = departure_time\n",
    "            dist[source] = d\n",
    "\n",
    "            #stop if the source is the last_target. \n",
    "            if source == last_target:\n",
    "                break\n",
    "\n",
    "            # Look at all direct descendents from the source node: \n",
    "            for target, edges in G_succ[source].items():\n",
    "                # Because it's a multigraph, need to look at all edges between two nodes:\n",
    "                for edge_id in edges:  \n",
    "                    \n",
    "                    dep_time_edge = - G.get_edge_data(source, target, edge_id)['time']\n",
    "\n",
    "                    # Get the duration between two nodes:\n",
    "                    duration_cost = G.get_edge_data(source, target, edge_id)['duration']\n",
    "                     \n",
    "                    # Check if walking edge: \n",
    "                    # walking edges have a departure time of -1\n",
    "                    if dep_time_edge == 1:\n",
    "                        walking_edge = True\n",
    "                        current_trip_id = None\n",
    "                        \n",
    "                        # set the departure time to the \n",
    "                        # distance to that node as we can leave immediatly\n",
    "                        dep_time_edge = d + duration_cost                  \n",
    "\n",
    "                    else:\n",
    "                        walking_edge = False\n",
    "                        current_trip_id = G.get_edge_data(source, target, edge_id)['trip_id']\n",
    "\n",
    "\n",
    "                    if duration_cost is None:\n",
    "                            raise ValueError('Edge without a duration.')\n",
    "\n",
    "                    # Add the weight to the current distance to a node\n",
    "\n",
    "                    current_dist = dep_time_edge           \n",
    "                    # take only edges that have a departure time bigger \n",
    "                    # than the time it takes to get to the node\n",
    "\n",
    "                    if dep_time_edge - duration_cost < dist[source]:\n",
    "                            # move on to next edge if it's earlier \n",
    "                        continue\n",
    "\n",
    "                    # Check if edge is feasible (also accoring to confidence)\n",
    "                    # Check if last edge taken was not a walking edge\n",
    "                    # Check if there is at least a path of length 1 to the source node \n",
    "                    # (e.g. that this node is not the original source)\n",
    "                    if len(e_paths[source]) >= 1 and not walking_edge:\n",
    "                        last_edge_source, last_edge_target, last_edge_info = e_paths[source][-1]\n",
    "                        mean = G.get_edge_data(source, target, edge_id)['mean']\n",
    "                        std = G.get_edge_data(source, target, edge_id)['std']\n",
    "                        \n",
    "                        # now compute delay for current edge because in reverse\n",
    "                        if str(confidence) in confidence_dict:\n",
    "                            p = confidence_dict[str(confidence)]\n",
    "                            last_delay = G.get_edge_data(source, target, edge_id)[p]\n",
    "                            if last_delay == None: \n",
    "                                last_delay = 0\n",
    "                        else:\n",
    "                            last_delay = compute_delay_uncertainty(mean, std, confidence)\n",
    "\n",
    "                        # If we make a transport-> walk change\n",
    "                        if last_edge_info['walk']:\n",
    "                            # add delay to departure time of walk as we will leave later\n",
    "                            dep_time_edge -= last_delay\n",
    "                        else:\n",
    "                            # If we make a transport->transport change, check if we have time to change\n",
    "                            # To change we need that the next connection leaves >= 2 min + delay of transport\n",
    "                            # If not we cannot take that edge\n",
    "                            #if current_trip_id != last_edge_info['trip_id']\\\n",
    "                            #and dep_time_edge < dist[source] + 2 + last_delay:\n",
    "                            #   continue\n",
    "                            if current_trip_id != last_edge_info['trip_id'] and dep_time_edge - last_delay - 2 - duration_cost < dist[source]:\n",
    "                                continue                \n",
    "\n",
    "                    # if target has already been visited once and has a final distance:\n",
    "                    if target in dist:\n",
    "                            # if we find a distance smaller than the actual distance in dic\n",
    "                            # raise error because dic distances contains only final distances\n",
    "                            if current_dist < dist[target]:\n",
    "                                raise ValueError('Contradictory paths found:','negative weights?')\n",
    "\n",
    "                    # either node has been seen before or the current distance is smaller than the \n",
    "                    # proposed distance in seen[target]:\n",
    "                    if target not in seen or current_dist < seen[target]:\n",
    "\n",
    "                        # update the seen distance\n",
    "                        seen[target] = current_dist\n",
    "                        # push it onto the heap so that we will look at its descendants later\n",
    "                        push(fringe, (current_dist, next(c), target))\n",
    "\n",
    "                        # update the paths till target:\n",
    "                        if paths is not None:\n",
    "\n",
    "                            edge_dict = G.get_edge_data(source, target, edge_id)\n",
    "\n",
    "                            edge_dict['walk'] = walking_edge\n",
    "                            edge_dict['departure_time'] = dep_time_edge\n",
    "                            e_paths[target] = e_paths[source] + [(source, target, edge_dict)]    \n",
    "        \n",
    "        # If there is no path to the last_target:\n",
    "        if  last_target not in e_paths:\n",
    "            print('Error: No paths to the source')\n",
    "            return pd.DataFrame(columns=['from', 'from_id', 'to', 'to_id', 'duration', \n",
    "                                             'departure_time', 'walk', 'no_change', 'mean_std_null','mean','std'])\n",
    "\n",
    "            \n",
    "        # Construct path's data structure\n",
    "        if paths is not None:\n",
    "            nodes_data = G.nodes(data=True)\n",
    "            arrival_string = minute_to_string(dist[last_target])\n",
    "\n",
    "            #reverse path:\n",
    "            best_path = []\n",
    "            for edge in e_paths[last_target][::-1]: \n",
    "                edge = (edge[1], edge[0], edge[2])\n",
    "                best_path.append(edge)           \n",
    "            num_edges = len(best_path)\n",
    "            departure_string = minute_to_string(-best_path[0][2]['departure_time'])\n",
    "\n",
    "            best_path_df = pd.DataFrame(columns=['from', 'from_id', 'to', 'to_id', 'duration',\n",
    "                                              'departure_time', 'walk', 'no_change', 'mean_std_null', 'mean','std'])\n",
    "            last_edge_info = False\n",
    "            for source, target, edge_info in best_path:\n",
    "                no_change = ('trip_id' in edge_info                                   # We're in a transport\n",
    "                             and last_edge_info and 'trip_id' in last_edge_info       # and last edge also\n",
    "                             and last_edge_info['trip_id'] == edge_info['trip_id'])   # and same trip_id\n",
    "                mean_std_null = 'trip_id' in edge_info and 'mean' not in edge_info or 'std' not in edge_info\n",
    "\n",
    "                if not mean_std_null:\n",
    "                    mean = edge_info['mean']\n",
    "                    std = edge_info['std']\n",
    "                    if  edge_info['mean'] == None or  edge_info['std'] == None: \n",
    "                        mean = edge_info['duration']\n",
    "                        std = 0\n",
    "                if 'mean' not in edge_info or 'std' not in edge_info:\n",
    "                    mean = edge_info['duration']\n",
    "                    std = 0\n",
    "\n",
    "                current_path_dict = {'from': nodes_data[source]['name'],\n",
    "                                     'from_id': source, \n",
    "                                     'to': nodes_data[target]['name'], \n",
    "                                     'to_id': target, \n",
    "                                     'duration': edge_info['duration'], \n",
    "                                     'departure_time': minute_to_string(-edge_info['departure_time']), \n",
    "                                     'walk':edge_info['walk'], \n",
    "                                     'no_change': no_change, \n",
    "                                     'mean_std_null': mean_std_null,\n",
    "                                    'mean':mean,\n",
    "                                    'std':float(std),\n",
    "                                    'transport':edge_info['transport'] if not edge_info['walk'] else 'Walk'}\n",
    "                best_path_df = best_path_df.append(current_path_dict, ignore_index=True)\n",
    "                last_edge_info = edge_info\n",
    "\n",
    "            # Validation: \n",
    "            if confidence != None and not validate_path_(best_path_df, confidence):\n",
    "                # else increase confidence by a confidence step and start again: \n",
    "                confidence += 0.01\n",
    "                print(confidence)\n",
    "                continue\n",
    "                \n",
    "            # If path validated, print it\n",
    "            print('Going from {} ({}) to {} ({}) in {:.2f} minutes, departure at {}, arrival at {}'.format(nodes_data[last_target]['name'],\n",
    "                                                                                          last_target,\n",
    "                                                                                          nodes_data[first_source]['name'],\n",
    "                                                                                          first_source, \n",
    "                                                                                          arrival_time + best_path[0][2]['departure_time'],\n",
    "                                                                                          minute_to_string(-best_path[0][2]['departure_time']),\n",
    "                                                                                            minute_to_string(-best_path[num_edges-1][2]['departure_time']+\n",
    "                                                                                                            best_path[num_edges-1][2]['duration'])))\n",
    "            with pd.option_context('display.max_rows', None, \n",
    "                                   'display.max_columns', None, \n",
    "                                   'display.max_colwidth', 15,\n",
    "                                   'display.expand_frame_repr', False):\n",
    "                    print(best_path_df)\n",
    "            return best_path_df\n",
    "    raise ValueError('Should not be here')\n",
    "    return e_paths[last_target], dist[last_target]"
   ]
  },
  {
   "cell_type": "markdown",
   "metadata": {},
   "source": [
    "#### Validation:\n",
    "\n",
    "##### Feasible paths:\n",
    "Create a function that looks through a path to see if it is valid. \n",
    "So it looks for:\n",
    "- missed connections\n",
    "- transfer time of less than 2 minutes between two transports"
   ]
  },
  {
   "cell_type": "code",
   "execution_count": 29,
   "metadata": {},
   "outputs": [
    {
     "data": {
      "application/vnd.jupyter.widget-view+json": {
       "model_id": "",
       "version_major": 2,
       "version_minor": 0
      },
      "text/plain": [
       "FloatProgress(value=0.0, bar_style='info', description='Progress:', layout=Layout(height='25px', width='50%'),…"
      ]
     },
     "metadata": {},
     "output_type": "display_data"
    }
   ],
   "source": [
    "\"\"\"Returns true if there is time to take all edges, and if \n",
    "when chaning from a connection to another you have at least 2 minutes. \"\"\"\n",
    "\n",
    "def is_path_valid(path):\n",
    "    last_target = path['from_id'][len(path['from_id'])-1]\n",
    "    time = convertToMinute(path['departure_time'][0]) + path['duration'][0]\n",
    "    \n",
    "    for i in range(1, len(path['from_id'])):\n",
    "        #in case an edge taken actually left before we got there (only for transport edges, not for walks)\n",
    "        if not path['walk'][i] and convertToMinute(path['departure_time'][i]) < time:\n",
    "            print('You miss this connection. Time is {} while this edge leaves at {} from {} to {}'\\\n",
    "                  .format(minute_to_string(time), path['departure_time'][i], path['from'][i], path['to'][i]))\n",
    "            return False\n",
    "        \n",
    "        #in case of change type transport -> trasnport need 2 minutes transfer:\n",
    "        if not path['no_change'][i] and not path['walk'][i]:\n",
    "            if not path['walk'][i-1]:\n",
    "                if convertToMinute(path['departure_time'][i]) < time + 2:\n",
    "                    print('You do not have time to change to this connection between {} to {} leaving at {}. You arrive at {} and need at least 2 min transfer'\\\n",
    "                          .format(path['from'][i],path['to'][i], path['departure_time'][i], minute_to_string(time)))\n",
    "                    return False\n",
    "        \n",
    "        else: \n",
    "            time = convertToMinute(path['departure_time'][i]) + path['duration'][i]\n",
    "    return True\n",
    "\n",
    "# test of is path valid:\n",
    "#assert(is_path_valid(best_path1))\n",
    "#assert(is_path_valid(best_path2))"
   ]
  },
  {
   "cell_type": "markdown",
   "metadata": {},
   "source": [
    "##### Validate a path:\n",
    "Then for a given path, we sample felays for transfers where we go from a transport -> walk or transport -> transport. \n",
    "\n",
    "For transport 1 -> transport 2: the delay of transport 1 will be added to its trip duration\n",
    "For transport -> walk: the delay of transport will be added to the departure time of walk \n",
    "\n",
    "After modifying these values, we check whether the path is still feasible. We repeat this operation a ceertain number of times and report the percentage of feasible paths. \n",
    "\n",
    "For the moment, delays are sampled from an absolute normal distribution (**?good?**). "
   ]
  },
  {
   "cell_type": "code",
   "execution_count": 51,
   "metadata": {},
   "outputs": [
    {
     "data": {
      "application/vnd.jupyter.widget-view+json": {
       "model_id": "",
       "version_major": 2,
       "version_minor": 0
      },
      "text/plain": [
       "FloatProgress(value=0.0, bar_style='info', description='Progress:', layout=Layout(height='25px', width='50%'),…"
      ]
     },
     "metadata": {},
     "output_type": "display_data"
    }
   ],
   "source": [
    "def validate_path_(path, confidence):\n",
    "    num_tries = 100\n",
    "    num_valids = 0\n",
    "    \n",
    "    for i in range(num_tries):\n",
    "        path_copy = path.copy()\n",
    "        for i in range(len(path['from_id'])):\n",
    "            #only for transfers etiher to other trains or to walking: \n",
    "            if i > 1 and not path['no_change'][i]:\n",
    "                mean = path['mean'][i-1]\n",
    "                std = path['std'][i-1]\n",
    "                #sample a delay:\n",
    "                #delay = compute_delay_uncertainty(mean, std, confidence)\n",
    "                \n",
    "                # calcluate delay for connection of before:\n",
    "                if std != 0:\n",
    "                    delay = np.random.normal(mean, std)\n",
    "                    if delay <0:\n",
    "                        delay = 0\n",
    "                else: delay = 0\n",
    "                \n",
    "                # if its between two transports we just add it to trip duration:\n",
    "                if not path['walk'][i] and not path['walk'][i-1]:\n",
    "                    path_copy['duration'][i-1] += delay\n",
    "                \n",
    "                # transfer from trans to walk:\n",
    "                if not path['walk'][i-1] and path['walk'][i]:\n",
    "                    # if a train to a walk is delayed, the walk needs to leave later:\n",
    "                    #need to leave at the time it takes for the delayed connection to arrive, \n",
    "                    # so if delayed need to start walking later: \n",
    "                    \n",
    "                    #add duration to transp: \n",
    "                    path_copy['duration'][i-1] += delay\n",
    "                    \n",
    "                    #delay the start of walk:\n",
    "                    arrival_of_edge_before = path_copy['duration'][i-1]+convertToMinute(path_copy['departure_time'][i-1])\n",
    "                    \n",
    "                    # need to start later:\n",
    "                    new_dep_time = minute_to_string(arrival_of_edge_before)\n",
    "                    path_copy['departure_time'][i] = new_dep_time\n",
    "        \n",
    "        if is_path_valid(path_copy):\n",
    "            num_valids += 1\n",
    "        perc = num_valids/float(num_tries)\n",
    "    return perc >= confidence"
   ]
  },
  {
   "cell_type": "markdown",
   "metadata": {},
   "source": [
    "## Run Dijkstra reversed algorithm: "
   ]
  },
  {
   "cell_type": "code",
   "execution_count": 52,
   "metadata": {},
   "outputs": [
    {
     "data": {
      "application/vnd.jupyter.widget-view+json": {
       "model_id": "",
       "version_major": 2,
       "version_minor": 0
      },
      "text/plain": [
       "FloatProgress(value=0.0, bar_style='info', description='Progress:', layout=Layout(height='25px', width='50%'),…"
      ]
     },
     "metadata": {},
     "output_type": "display_data"
    },
    {
     "name": "stdout",
     "output_type": "stream",
     "text": [
      "Going from Zurich HB (8503000) to Zurich, Auzelg (8591049) in 25.14 minutes, departure at 12:04, arrival at 12:29\n",
      "             from         from_id              to           to_id  duration departure_time   walk no_change mean_std_null      mean       std transport\n",
      "0       Zurich HB         8503000       Zurich HB  8503000:0:4...  2.135259          12:04   True     False          True  2.135259  0.000000      Walk\n",
      "1       Zurich HB  8503000:0:4...  Zurich Hard...     8503020:0:3  2.000000          12:07  False     False         False  0.339683  1.068958    S-Bahn\n",
      "2  Zurich Hard...     8503020:0:3  Zurich Oerl...     8503006:0:8  5.000000          12:09  False      True         False  5.000000  0.000000    S-Bahn\n",
      "3  Zurich Oerl...     8503006:0:8      Glattbrugg     8503310:0:3  2.000000          12:15  False      True         False  2.000000  0.000000    S-Bahn\n",
      "4      Glattbrugg     8503310:0:3  Glattbrugg,...         8590620  3.063448          12:19   True     False          True  3.063448  0.000000      Walk\n",
      "5  Glattbrugg,...         8590620  Glattbrugg,...         8590626  1.000000          12:23  False     False         False  0.639793  1.403833      Tram\n",
      "6  Glattbrugg,...         8590626  Glattpark, ...         8591830  2.000000          12:24  False      True         False  0.829374  1.322940      Tram\n",
      "7  Glattpark, ...         8591830  Zurich, Fer...         8591128  1.000000          12:26  False      True         False  0.891561  1.418701      Tram\n",
      "8  Zurich, Fer...         8591128  Zurich, Auzelg         8591049  2.000000          12:27  False      True         False  0.956600  1.359039      Tram"
     ]
    }
   ],
   "source": [
    "# Test Tao 1: \n",
    "\"\"\"\n",
    "Route 1: HB -> Auszelg\n",
    "20.TA.26-9-A-j19-1.2.H: 8503000:0:41/42 at 12:07:00 ~ 8503310:0:3 at 12:17:00\n",
    "Walking: 8503310:0:3 ~ 8590620\n",
    "168.TA.26-12-A-j19-1.2.H: 8590620 at 12:23:00 ~ 8591049 at 12:29:00\n",
    "\"\"\"\n",
    "best_path1 = dijkstra_reversed(graph, '8503000', arrival_hour*60+arrival_minute, last_target='8591049', confidence=0.99)"
   ]
  },
  {
   "cell_type": "code",
   "execution_count": 53,
   "metadata": {},
   "outputs": [
    {
     "data": {
      "application/vnd.jupyter.widget-view+json": {
       "model_id": "",
       "version_major": 2,
       "version_minor": 0
      },
      "text/plain": [
       "FloatProgress(value=0.0, bar_style='info', description='Progress:', layout=Layout(height='25px', width='50%'),…"
      ]
     },
     "metadata": {},
     "output_type": "display_data"
    },
    {
     "name": "stdout",
     "output_type": "stream",
     "text": [
      "Going from Zurich, Triemli (8503610) to Zurich Altstetten, Bahnhof N (8591057) in 22.00 minutes, departure at 12:08, arrival at 12:30\n",
      "             from  from_id              to    to_id  duration departure_time   walk no_change mean_std_null      mean       std transport\n",
      "0  Zurich, Tri...  8503610  Zurich, In ...  8591214  2.000000          12:08  False     False         False  1.470458  2.517784       Bus\n",
      "1  Zurich, In ...  8591214  Zurich, Gol...  8591163  1.000000          12:10  False      True         False  1.338457  1.940935       Bus\n",
      "2  Zurich, Gol...  8591163  Zurich, Alb...  8591036  1.000000          12:11  False      True         False  1.284314  2.041064       Bus\n",
      "3  Zurich, Alb...  8591036  Zurich, Alb...  8591037  1.000000          12:12  False      True         False  1.276941  2.026404       Bus\n",
      "4  Zurich, Alb...  8591037  Zurich, Unt...  8591408  1.000000          12:13  False      True         False  1.053628  1.640792       Bus\n",
      "5  Zurich, Unt...  8591408  Zurich, Rau...  8591311  2.000000          12:14  False      True         False  1.184472  1.532399       Bus\n",
      "6  Zurich, Rau...  8591311  Zurich, Lin...  8591258  2.000000          12:16  False      True         False  1.080137  1.420565       Bus\n",
      "7  Zurich, Lin...  8591258  Zurich, Bri...  8591097  0.000000          12:21  False      True         False  0.983224  1.457860       Bus\n",
      "8  Zurich, Bri...  8591097  Zurich Alts...  8591057  8.167871          12:21   True     False          True  8.167871  0.000000      Walk"
     ]
    }
   ],
   "source": [
    "# Test 2: \n",
    "\"\"\"\n",
    "Route 2:\n",
    "Zurich, Triemli (8503610) to Zurich Altstetten, Bahnhof N (8591057)\n",
    "\"\"\"\n",
    "#From HB zu Auszelg:\n",
    "best_path1 = dijkstra_reversed(graph, '8503610', arrival_hour*60+arrival_minute, last_target='8591057', confidence=0.98)"
   ]
  },
  {
   "cell_type": "markdown",
   "metadata": {},
   "source": [
    "# Visualisation"
   ]
  },
  {
   "cell_type": "code",
   "execution_count": 54,
   "metadata": {},
   "outputs": [],
   "source": [
    "%%local\n",
    "import ipywidgets as widgets\n",
    "import fuzzy_pandas as fpd\n",
    "import time\n",
    "\n",
    "def search_station(station):\n",
    "    search = pd.DataFrame([station], columns=['station'])\n",
    "    matches = fpd.fuzzy_merge(search, stations_name, left_on='station', right_on='stop_name',\n",
    "                              ignore_case=True, ignore_nonalpha=True, ignore_nonlatin=True, ignore_order_words=True,\n",
    "                              keep='match', threshold=0.8, method='jaro')\n",
    "    return matches['stop_name'].to_list()\n",
    "\n",
    "def search_station_departure(sender):\n",
    "    phrase = depart_station.value\n",
    "    depart_proposals.options = search_station(phrase)\n",
    "    \n",
    "def search_station_arrival(sender):\n",
    "    phrase = arrive_station.value\n",
    "    arrive_proposals.options = search_station(phrase)\n",
    "    \n",
    "no_station_selected = \"None selected\"\n",
    "\n",
    "def select_station_departure(sender):\n",
    "    if(sender['name'] == 'label'):\n",
    "        if(sender['new'] == None):\n",
    "            selected_depart_station.value = no_station_selected\n",
    "        else:\n",
    "            selected_depart_station.value = sender['new']\n",
    "            \n",
    "def select_station_arrival(sender):\n",
    "    if(sender['name'] == 'label'):\n",
    "        if(sender['new'] == None):\n",
    "            selected_arrival_station.value = no_station_selected\n",
    "        else:\n",
    "            selected_arrival_station.value = sender['new']\n",
    "            \n",
    "def find_route_button(button):\n",
    "    # Parse arguments\n",
    "    depart_station_str = selected_depart_station.value\n",
    "    if depart_station_str == no_station_selected:\n",
    "        report_error(\"No departure station selected\")\n",
    "        return\n",
    "    \n",
    "    arrive_station_str = selected_arrival_station.value\n",
    "    if arrive_station_str == no_station_selected:\n",
    "        report_error(\"No arrival station selected\")\n",
    "        return\n",
    "    \n",
    "    date = date_picker.value\n",
    "    if(date == None):\n",
    "        report_error(\"No date selected\")\n",
    "        return\n",
    "    \n",
    "    if(date.weekday() > 4):\n",
    "        report_error(\"Date is a weekend day, please select a week day\")\n",
    "        return\n",
    "    \n",
    "    hour_str = hour_picker.value\n",
    "    \n",
    "    if hour_str == None or hour_str == \"\":\n",
    "        report_error(\"No hour selected\")\n",
    "        return\n",
    "    \n",
    "    hour_str = hour_str.split(':')\n",
    "    hour = -1\n",
    "    minute = -1\n",
    "    \n",
    "    try:\n",
    "        if(len(hour_str) != 2):\n",
    "            raise Error\n",
    "        hour = int(hour_str[0])\n",
    "        minute = int(hour_str[1])        \n",
    "    except:\n",
    "        report_error(\"Invalid hour format, use HH:MM\")\n",
    "        return\n",
    "    \n",
    "    if(hour not in range(8,21)):\n",
    "        report_error(\"Invalid hour, valid range: [8,20]\")\n",
    "        return\n",
    "            \n",
    "    if(minute not in range(0,60)):\n",
    "        report_error(\"Invalid minute, valid range: [0,59]\")\n",
    "        return\n",
    "        \n",
    "    confidence = confidence_picker.value\n",
    "        \n",
    "    report_error(None)\n",
    "    \n",
    "    \n",
    "    # Show progress bar\n",
    "    results.children = []\n",
    "    progress_bar.layout = widgets.Layout(display='block')\n",
    "    \n",
    "    # Send variables to spark\n",
    "    # Convert to str for 'send_to_spark'\n",
    "    date_str = date.strftime(\"%Y-%m-%d\")\n",
    "    hour_str = str(hour)\n",
    "    minute_str = str(minute)\n",
    "    confidence_str = str(confidence)\n",
    "    get_ipython().push(['depart_station_str', 'arrive_station_str', 'date_str', 'hour_str', 'minute_str', 'confidence_str'])\n",
    "    get_ipython().run_cell_magic('send_to_spark', ' -i depart_station_str -t str -n depart_station_str', ' ')\n",
    "    get_ipython().run_cell_magic('send_to_spark', ' -i arrive_station_str -t str -n arrive_station_str', ' ')\n",
    "    get_ipython().run_cell_magic('send_to_spark', ' -i date_str -t str -n date_str', ' ')\n",
    "    get_ipython().run_cell_magic('send_to_spark', ' -i hour_str -t str -n hour_str', ' ')\n",
    "    get_ipython().run_cell_magic('send_to_spark', ' -i minute_str -t str -n minute_str', ' ')\n",
    "    get_ipython().run_cell_magic('send_to_spark', ' -i confidence_str -t str -n confidence_str', ' ')\n",
    "\n",
    "    # Run algorithm\n",
    "    get_ipython().run_cell_magic('spark', '', \"\"\"\n",
    "    result = get_result_path(depart_station_str, arrive_station_str, date_str, hour_str, minute_str, confidence_str)\n",
    "    \"\"\")\n",
    "    \n",
    "    # Retrive results from spark\n",
    "    get_ipython().run_cell_magic('spark', '-o result', ' ')\n",
    "    \n",
    "    # Display path\n",
    "    progress_bar.layout = widgets.Layout(display='none')\n",
    "    display_path(result)\n",
    "    \n",
    "def display_path(path):\n",
    "    stops = []\n",
    "    \n",
    "    for index, row in path.iterrows():\n",
    "        start = row['from']\n",
    "        end = row['to']\n",
    "        duration = row['duration']\n",
    "        departure_time = row['departure_time'].strftime(\"%H:%M\")\n",
    "        walk = row['walk']\n",
    "        transport = row['transport']\n",
    "        \n",
    "        message =  f\"<p style='font-size: 20px; padding-bottom:10px;'>{transport}, {start} <b>&rarr;</b> {end}, {duration:.1f} minutes</p>\" if walk\\\n",
    "                    else f\"<p style='font-size: 20px; padding-bottom:10px;'>{transport}, {departure_time}: {start} <b>&rarr;</b> {end}, {duration:.1f} minutes</p>\"\n",
    "        \n",
    "        stops.append(widgets.HTML(value=message))\n",
    "        \n",
    "    results.children = stops\n",
    "    \n",
    "def report_error(error_message):\n",
    "    if error_message == None:\n",
    "        error.value = \"\"\n",
    "    else:\n",
    "        error.value = \"<b style='color:red;'>Error: \" + error_message  + \"</b>\""
   ]
  },
  {
   "cell_type": "code",
   "execution_count": 55,
   "metadata": {},
   "outputs": [
    {
     "data": {
      "application/vnd.jupyter.widget-view+json": {
       "model_id": "",
       "version_major": 2,
       "version_minor": 0
      },
      "text/plain": [
       "FloatProgress(value=0.0, bar_style='info', description='Progress:', layout=Layout(height='25px', width='50%'),…"
      ]
     },
     "metadata": {},
     "output_type": "display_data"
    }
   ],
   "source": [
    "def get_result_path(start_str, end_str, date_str, hour_str, minute_str, confidence_str):\n",
    "    day_id = time.strptime(date_str, \"%Y-%m-%d\").tm_wday\n",
    "    \n",
    "    arrival_hour = int(hour_str)\n",
    "    arrival_minute = int(minute_str)\n",
    "    arrival_time = arrival_hour*60+arrival_minute\n",
    "    departure_time = arrival_time - MAX_TRIP_DURATION*60\n",
    "    \n",
    "    confidence = int(confidence_str) / 100.0\n",
    "    \n",
    "    print(\"Parsed arguments\")\n",
    "    \n",
    "    source = nodes_df.where(col('stop_name') == start_str).take(1)[0][0][:7]\n",
    "    target = nodes_df.where(col('stop_name') == end_str).take(1)[0][0][:7]\n",
    "    \n",
    "    print(\"Found ids\")\n",
    "    \n",
    "    # Put in function\n",
    "    edges = create_edges_for_trip(edges_df, day_id, arrival_time)\n",
    "    graph = nx.MultiDiGraph()\n",
    "    graph.add_nodes_from(nodes)\n",
    "    graph.add_edges_from(edges)\n",
    "    \n",
    "    print(\"Created graph\")\n",
    "\n",
    "    old_number_of_nodes = graph.number_of_nodes()\n",
    "    # Remove unreachable nodes\n",
    "    dists, paths = normal_dijkstra(graph, '8503000')\n",
    "    not_reachable = set(graph.nodes) - set(dists.keys())\n",
    "    _ = graph.remove_nodes_from(list(not_reachable))\n",
    "    print('{} nodes removed'.format(old_number_of_nodes - graph.number_of_nodes()))\n",
    "\n",
    "    # Temp for problem of name's encoding\n",
    "    import unicodedata\n",
    "    nodes_data = graph.nodes(data=True)\n",
    "    for n in graph.nodes:\n",
    "        nodes_data[n]['name'] = unicodedata.normalize('NFKD', nodes_data[n]['name']).encode('ascii','ignore')\n",
    "    \n",
    "    \n",
    "    print(\"Ran on cluster !\")\n",
    "    print(\"From {} to {} on {} at {}:{} for confidence {}\".format(start_str, end_str, date_str, hour_str, minute_str, confidence_str))\n",
    "    \n",
    "    path = dijkstra_reversed(graph, source, arrival_time, last_target=target, confidence=confidence)\n",
    "    return spark.createDataFrame(path)\n",
    "\n",
    "stations_name = nodes_df.select('stop_name').distinct()"
   ]
  },
  {
   "cell_type": "code",
   "execution_count": 56,
   "metadata": {},
   "outputs": [
    {
     "data": {
      "application/vnd.jupyter.widget-view+json": {
       "model_id": "",
       "version_major": 2,
       "version_minor": 0
      },
      "text/plain": [
       "FloatProgress(value=0.0, bar_style='info', description='Progress:', layout=Layout(height='25px', width='50%'),…"
      ]
     },
     "metadata": {},
     "output_type": "display_data"
    },
    {
     "data": {
      "application/vnd.jupyter.widget-view+json": {
       "model_id": "",
       "version_major": 2,
       "version_minor": 0
      },
      "text/plain": [
       "FloatProgress(value=0.0, bar_style='info', description='Progress:', layout=Layout(height='25px', width='50%'),…"
      ]
     },
     "metadata": {},
     "output_type": "display_data"
    }
   ],
   "source": [
    "%%spark -o stations_name"
   ]
  },
  {
   "cell_type": "code",
   "execution_count": 57,
   "metadata": {},
   "outputs": [
    {
     "data": {
      "application/vnd.jupyter.widget-view+json": {
       "model_id": "b77948224ef34703b2b25c5b78f41ac5",
       "version_major": 2,
       "version_minor": 0
      },
      "text/plain": [
       "VBox(children=(HBox(children=(Text(value='', description='Search departure station', layout=Layout(width='40%'…"
      ]
     },
     "metadata": {},
     "output_type": "display_data"
    }
   ],
   "source": [
    "%%local\n",
    "style = {'description_width': 'initial'}\n",
    "\n",
    "# Search station\n",
    "depart_station = widgets.Text(description = 'Search departure station',\n",
    "                              layout=widgets.Layout(width='40%'),\n",
    "                              style=style)\n",
    "depart_station.observe(search_station_departure)\n",
    "arrive_station = widgets.Text(description = 'Search arrival station',\n",
    "                              layout=widgets.Layout(width='40%'),\n",
    "                              style=style)\n",
    "arrive_station.observe(search_station_arrival)\n",
    "\n",
    "\n",
    "# Proposals\n",
    "depart_proposals = widgets.Select(description = 'Found stations',\n",
    "                                  layout=widgets.Layout(width='40%', height='200px'),\n",
    "                                  style=style)\n",
    "depart_proposals.observe(select_station_departure)\n",
    "arrive_proposals = widgets.Select(description = 'Found stations',\n",
    "                                  layout=widgets.Layout(width='40%', height='200px'),\n",
    "                                  style=style)\n",
    "arrive_proposals.observe(select_station_arrival)\n",
    "\n",
    "\n",
    "# Stations\n",
    "selected_depart_station = widgets.Label(value = no_station_selected, style=style)\n",
    "selected_box_depart_station = widgets.HBox([widgets.Label(value = \"Selected depart station: \", style=style),\n",
    "                                             selected_depart_station], layout=widgets.Layout(width='40%'))\n",
    "selected_arrival_station = widgets.Label(value = no_station_selected, style=style)\n",
    "selected_box_arrival_station = widgets.HBox([widgets.Label(value = \"Selected arrival station: \", style=style),\n",
    "                                             selected_arrival_station], layout=widgets.Layout(width='40%'))\n",
    "\n",
    "\n",
    "\n",
    "# Options\n",
    "date_picker = widgets.DatePicker(\n",
    "                    description='Pick a Date',\n",
    "                    disabled=False,\n",
    "                    layout=widgets.Layout(width='20%')\n",
    "                )\n",
    "hour_picker = widgets.Text(description = 'Arrival time',\n",
    "                            placeholder='HH:MM',\n",
    "                            layout=widgets.Layout(width='20%'),\n",
    "                            style=style\n",
    "                          )\n",
    "confidence_picker = widgets.IntSlider(\n",
    "            value=95,\n",
    "            min=90,\n",
    "            max=99,\n",
    "            step=1,\n",
    "            description='Confidence:',\n",
    "            disabled=False,\n",
    "            continuous_update=False,\n",
    "            orientation='horizontal',\n",
    "            readout=True,\n",
    "            readout_format='d',\n",
    "            layout=widgets.Layout(width='25%'),\n",
    "            style=style\n",
    "        )\n",
    "search_button = widgets.Button(\n",
    "            description='Find route',\n",
    "            disabled=False,\n",
    "            button_style='', # 'success', 'info', 'warning', 'danger' or ''\n",
    "            tooltip='Find route',\n",
    "            icon='check', # (FontAwesome names without the `fa-` prefix)\n",
    "            layout=widgets.Layout(width='15%')\n",
    "        )\n",
    "search_button.on_click(find_route_button)\n",
    "\n",
    "\n",
    "# Error\n",
    "error = widgets.HTML(value=\"\")\n",
    "\n",
    "\n",
    "padding = widgets.HTML(value=\"\", layout=widgets.Layout(height='50px'))\n",
    "\n",
    "# Progress bar\n",
    "progress_bar = widgets.HTML(value=\"Finding best route...\", layout=widgets.Layout(display='none'))\n",
    "\n",
    "# Result\n",
    "results = widgets.VBox([])\n",
    "\n",
    "stations = widgets.HBox([depart_station, arrive_station])\n",
    "proposals = widgets.HBox([depart_proposals, arrive_proposals])\n",
    "selected_stations = widgets.HBox([selected_box_depart_station, selected_box_arrival_station])\n",
    "options = widgets.HBox([date_picker, hour_picker, confidence_picker, search_button])\n",
    "layout = widgets.VBox([stations, proposals, selected_stations, options, error, padding, progress_bar, results])\n",
    "\n",
    "layout"
   ]
  },
  {
   "cell_type": "code",
   "execution_count": 16,
   "metadata": {},
   "outputs": [
    {
     "data": {
      "application/vnd.jupyter.widget-view+json": {
       "model_id": "",
       "version_major": 2,
       "version_minor": 0
      },
      "text/plain": [
       "FloatProgress(value=0.0, bar_style='info', description='Progress:', layout=Layout(height='25px', width='50%'),…"
      ]
     },
     "metadata": {},
     "output_type": "display_data"
    },
    {
     "name": "stdout",
     "output_type": "stream",
     "text": [
      "(u'8580301', u'8573205:0:F', {'p_98': 6.659109497070313, 'p_99': 7.446565246582031, 'p_90': 4.428464253743489, 'p_91': 4.599485270182291, 'p_92': 4.785276285807291, 'p_93': 4.989563496907552, 'p_94': 5.217720031738281, 'p_95': 5.477934265136719, 'p_96': 5.78365224202474, 'p_97': 6.159493509928385, 'duration': 0.0, 'trip_id': u'190.TA.26-765-j19-1.2.H', 'transport': u'Bus', 'std': 2.8886983771885952, 'time': 691.0, 'mean': 0.7264481554620645})"
     ]
    }
   ],
   "source": [
    "list(graph.edges(data=True))[1]"
   ]
  }
 ],
 "metadata": {
  "kernelspec": {
   "display_name": "PySpark",
   "language": "",
   "name": "pysparkkernel"
  },
  "language_info": {
   "codemirror_mode": {
    "name": "python",
    "version": 3
   },
   "mimetype": "text/x-python",
   "name": "pyspark",
   "pygments_lexer": "python3"
  }
 },
 "nbformat": 4,
 "nbformat_minor": 4
}
